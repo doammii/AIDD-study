{
  "cells": [
    {
      "cell_type": "markdown",
      "metadata": {
        "id": "view-in-github",
        "colab_type": "text"
      },
      "source": [
        "<a href=\"https://colab.research.google.com/github/StillWork/AIDD-LAIDD/blob/main/z7_Autoencoders.ipynb\" target=\"_parent\"><img src=\"https://colab.research.google.com/assets/colab-badge.svg\" alt=\"Open In Colab\"/></a>"
      ]
    },
    {
      "cell_type": "markdown",
      "metadata": {
        "id": "3OExwW_DfRmy"
      },
      "source": [
        "# 오토인코더\n",
        "- 이미지, 사람, 상품, 분자 등 어떤 객체(object)를 표현하는 신호를 적은 크기의 정보량으로 압축한 후 다시 재구성하는 모델\n",
        "- 입력 자신을 재구성하므로 오토인코더(autoencoder)라고 한다\n",
        "- 입력 신호를 작은 크기의 압축된 벡터로 표현하면 이를 이용하여 distrete하게 표현되던 객체를 연속공간의 벡터 값들로 표현할 수 있게 된다\n",
        "- 이를 잠재 벡터 (latent vector) 또는 임베딩 벡터라고 한다\n",
        "- 오토인코더는 잠재 벡터를 얻는 편리한 방법중 하나이다\n",
        " - 잠재 벡터를 얻는 방법은 매우 다양하며 대표적인 것이 단어를 임베딩 벡터로 표현한 word2vec이다\n",
        " - word2vec을 만들때는 입력 문장에서 가린 단어를 예측하는 훈련을 시킨다\n",
        "\n",
        "<img src=\"https://github.com/StillWork/image/blob/main/%E1%84%89%E1%85%B3%E1%84%8F%E1%85%B3%E1%84%85%E1%85%B5%E1%86%AB%E1%84%89%E1%85%A3%E1%86%BA%202022-11-27%20%E1%84%8B%E1%85%A9%E1%84%8C%E1%85%A5%E1%86%AB%208.18.39.png?raw=1\" width=700>\n",
        "\n",
        "\n",
        "- 어떤 객체를 임베딩 \"벡터\"로 표현하면 얻는 장점은 다음과 같다\n",
        " - 벡터로 표현되면 샘플간의 거리를 쉽게 계산할 수 있고 유사한 샘플, 거리가 먼 샘플을 쉽게 찾아낼 수 있다. 또한 클러스터링도 쉽게 구현할 수 있다\n",
        " - 벡터 공간상에서는 방향을 계산할 수 있다\n",
        " - 경사하강법 기반의(즉 gradient 미분에 기반한) 연속형 탐색이 가능해진다. 바로 옆의 벡터값을 갖는 샘플은 성격이 비슷할 것으로 추정할 수 있다\n",
        "- 신약개발에 활용\n",
        " - 분자를 잠재 공간에서 표현하면 분자간 interpolation이 가능하고, 원하는 특성을 갖는 분자를 찾거나 생성할 수 있다\n",
        "\n"
      ]
    },
    {
      "cell_type": "markdown",
      "source": [
        "## 예제\n",
        "- MNIST 이미지 재구성하는 데 오토인코더를 사용하는 예를 보이겠다\n",
        "- [참고블로그](https://idiotdeveloper.com/introduction-to-autoencoders/)\n",
        "\n",
        "<img src=\"https://github.com/StillWork/image/blob/main/%E1%84%89%E1%85%B3%E1%84%8F%E1%85%B3%E1%84%85%E1%85%B5%E1%86%AB%E1%84%89%E1%85%A3%E1%86%BA%202022-11-27%20%E1%84%8B%E1%85%A9%E1%84%8C%E1%85%A5%E1%86%AB%2012.00.33.png?raw=1\" width=700>"
      ],
      "metadata": {
        "id": "sgUdtfRVd0F8"
      }
    },
    {
      "cell_type": "markdown",
      "source": [
        "- 인코더와 디코더로 MLP를 사용하겠다\n",
        "\n",
        "<img src=\"https://github.com/StillWork/image/blob/main/%E1%84%89%E1%85%B3%E1%84%8F%E1%85%B3%E1%84%85%E1%85%B5%E1%86%AB%E1%84%89%E1%85%A3%E1%86%BA%202022-11-27%20%E1%84%8B%E1%85%A9%E1%84%8C%E1%85%A5%E1%86%AB%2012.00.59.png?raw=1\" width=700>"
      ],
      "metadata": {
        "id": "OWZq4AuyedWn"
      }
    },
    {
      "cell_type": "markdown",
      "metadata": {
        "id": "UrhT_Nu9O91y"
      },
      "source": [
        "# import"
      ]
    },
    {
      "cell_type": "code",
      "execution_count": 30,
      "metadata": {
        "id": "pvYYDY5MfRm2"
      },
      "outputs": [],
      "source": [
        "import keras\n",
        "import numpy as np\n",
        "import matplotlib.pyplot as plt\n",
        "%matplotlib inline\n",
        "%config InlineBackend.figure_format = 'retina'\n",
        "\n",
        "from keras.datasets import mnist\n",
        "from keras.models import Model\n",
        "from keras.layers import Input, add\n",
        "from keras.layers.core import Dense, Dropout, Activation, Flatten, Reshape\n",
        "from keras import regularizers\n",
        "from keras.regularizers import l2\n",
        "from keras.layers.convolutional import Conv2D, MaxPooling2D, UpSampling2D, ZeroPadding2D\n",
        "from keras.utils import np_utils"
      ]
    },
    {
      "cell_type": "markdown",
      "metadata": {
        "id": "YKf1HBACfRm8"
      },
      "source": [
        "# 데이터\n",
        "- 입력 이미지를 재구성하므로 입력 이미지를 레이블로 사용할 수 있다. 별도의 레이블이 필요없다"
      ]
    },
    {
      "cell_type": "code",
      "execution_count": 31,
      "metadata": {
        "id": "X9xtZnDHfRm9"
      },
      "outputs": [],
      "source": [
        "(X_train, _), (X_test, _) = mnist.load_data()"
      ]
    },
    {
      "cell_type": "code",
      "execution_count": 32,
      "metadata": {
        "colab": {
          "base_uri": "https://localhost:8080/"
        },
        "id": "GobsF2csiP-7",
        "outputId": "dcd9647a-8da9-42da-ed9f-039e74ddb069"
      },
      "outputs": [
        {
          "output_type": "execute_result",
          "data": {
            "text/plain": [
              "((60000, 28, 28), (10000, 28, 28))"
            ]
          },
          "metadata": {},
          "execution_count": 32
        }
      ],
      "source": [
        "X_train.shape, X_test.shape"
      ]
    },
    {
      "cell_type": "markdown",
      "metadata": {
        "id": "yL1F4n8MfRnA"
      },
      "source": [
        "## 데이터 전처리\n",
        "- 스케일링과 flat화\n",
        "- MLP 모델은 입력으로 차원이 1인, 벡터만 받을 수 있다"
      ]
    },
    {
      "cell_type": "code",
      "execution_count": 33,
      "metadata": {
        "id": "lGC8B-RrfRnB"
      },
      "outputs": [],
      "source": [
        "X_train = X_train.astype(\"float32\")/255.\n",
        "X_test = X_test.astype(\"float32\")/255."
      ]
    },
    {
      "cell_type": "code",
      "execution_count": 34,
      "metadata": {
        "id": "T_Am_SgqfRnF"
      },
      "outputs": [],
      "source": [
        "X_train_flat = X_train.reshape(-1, 28*28)\n",
        "X_test_flat = X_test.reshape(-1, 28*28)"
      ]
    },
    {
      "cell_type": "markdown",
      "metadata": {
        "id": "a5Ylf8-MfRnK"
      },
      "source": [
        "# 오코인코더 모델\n",
        "- 1개의 히든 계층만 있는 단순한 모델을 사용하겠다"
      ]
    },
    {
      "cell_type": "code",
      "execution_count": 35,
      "metadata": {
        "id": "06aJTsDyfRnL"
      },
      "outputs": [],
      "source": [
        "input_size = 784\n",
        "hidden_size = 64\n",
        "output_size = 784"
      ]
    },
    {
      "cell_type": "code",
      "execution_count": 36,
      "metadata": {
        "id": "RTSADHJtfRnO"
      },
      "outputs": [],
      "source": [
        "x = Input(shape=(input_size,))\n",
        "h = Dense(hidden_size, activation='relu')(x)\n",
        "r = Dense(output_size, activation='sigmoid')(h)\n",
        "\n",
        "autoencoder = Model(inputs=x, outputs=r)\n",
        "autoencoder.compile(optimizer='adam', loss='mse')"
      ]
    },
    {
      "cell_type": "code",
      "execution_count": 37,
      "metadata": {
        "colab": {
          "base_uri": "https://localhost:8080/"
        },
        "id": "aJcZ4HF4hamI",
        "outputId": "31791184-95ea-4632-f9c1-1dd388dc74be"
      },
      "outputs": [
        {
          "output_type": "stream",
          "name": "stdout",
          "text": [
            "Model: \"model_8\"\n",
            "_________________________________________________________________\n",
            " Layer (type)                Output Shape              Param #   \n",
            "=================================================================\n",
            " input_3 (InputLayer)        [(None, 784)]             0         \n",
            "                                                                 \n",
            " dense_4 (Dense)             (None, 64)                50240     \n",
            "                                                                 \n",
            " dense_5 (Dense)             (None, 784)               50960     \n",
            "                                                                 \n",
            "=================================================================\n",
            "Total params: 101,200\n",
            "Trainable params: 101,200\n",
            "Non-trainable params: 0\n",
            "_________________________________________________________________\n"
          ]
        }
      ],
      "source": [
        "autoencoder.summary()"
      ]
    },
    {
      "cell_type": "markdown",
      "metadata": {
        "id": "AbFqzKnGfRnU"
      },
      "source": [
        "# 오토인코더 학습"
      ]
    },
    {
      "cell_type": "code",
      "execution_count": 38,
      "metadata": {
        "colab": {
          "base_uri": "https://localhost:8080/"
        },
        "id": "8Cw3-c5kfRnV",
        "outputId": "6117cd04-f483-4a0e-aaa2-293e18f1aa92"
      },
      "outputs": [
        {
          "output_type": "stream",
          "name": "stdout",
          "text": [
            "Epoch 1/5\n",
            "1875/1875 [==============================] - 5s 2ms/step - loss: 0.0241 - val_loss: 0.0093\n",
            "Epoch 2/5\n",
            "1875/1875 [==============================] - 4s 2ms/step - loss: 0.0069 - val_loss: 0.0053\n",
            "Epoch 3/5\n",
            "1875/1875 [==============================] - 4s 2ms/step - loss: 0.0050 - val_loss: 0.0046\n",
            "Epoch 4/5\n",
            "1875/1875 [==============================] - 4s 2ms/step - loss: 0.0046 - val_loss: 0.0043\n",
            "Epoch 5/5\n",
            "1875/1875 [==============================] - 4s 2ms/step - loss: 0.0044 - val_loss: 0.0041\n"
          ]
        }
      ],
      "source": [
        "epochs = 5\n",
        "batch_size = 32\n",
        "\n",
        "history = autoencoder.fit(X_train_flat, X_train_flat, batch_size=batch_size, \n",
        "        epochs=epochs, verbose=1, validation_data=(X_test_flat, X_test_flat))"
      ]
    },
    {
      "cell_type": "markdown",
      "metadata": {
        "id": "WteBCwEsPUet"
      },
      "source": [
        "## 벡터값 시각화"
      ]
    },
    {
      "cell_type": "code",
      "execution_count": 39,
      "metadata": {
        "colab": {
          "base_uri": "https://localhost:8080/",
          "height": 742
        },
        "id": "_uTwPAMLfRnX",
        "outputId": "ed31f894-7368-44ce-c563-3fe468d593fb"
      },
      "outputs": [
        {
          "output_type": "stream",
          "name": "stdout",
          "text": [
            "313/313 [==============================] - 0s 1ms/step\n",
            "[[4.1701193e+00 3.6986637e+00 5.6516266e+00 1.4825027e+00 6.1419926e+00\n",
            "  1.0278418e+01 5.3484612e+00 4.8412108e+00 2.2199733e+00 4.0114737e+00\n",
            "  2.1102986e+00 5.2467427e+00 4.1976662e+00 4.1027441e+00 5.7524929e+00\n",
            "  3.0941346e+00 4.6421213e+00 1.0337757e+00 2.3004062e+00 5.3536777e+00\n",
            "  4.7181344e+00 0.0000000e+00 4.9701853e+00 8.7531061e+00 3.3529878e+00\n",
            "  6.0694370e+00 2.8860986e+00 2.0106406e+00 4.1598964e+00 1.6179757e+00\n",
            "  5.5461197e+00 3.3162100e+00 3.1934605e+00 4.8360982e+00 5.0320582e+00\n",
            "  7.1188040e+00 2.5923324e+00 5.9784327e+00 5.2227926e+00 5.7445564e+00\n",
            "  1.3407201e+00 1.0594855e+01 4.7992954e+00 1.6306545e+00 6.1546092e+00\n",
            "  8.8677669e-01 5.8988013e+00 7.7391672e+00 3.2582636e+00 0.0000000e+00\n",
            "  2.3473754e+00 1.9720602e+00 4.6950512e+00 7.3266578e-01 8.9947981e-01\n",
            "  2.4849205e+00 7.3185868e+00 3.9798393e+00 8.6328735e+00 4.9207993e+00\n",
            "  5.5188437e+00 4.0842352e+00 3.0166476e+00 2.2805152e+00]\n",
            " [4.2853322e+00 1.4177799e-02 3.6174700e+00 4.0650511e+00 5.3746300e+00\n",
            "  5.3338170e-01 9.2537146e+00 1.4632304e+00 1.1130843e+01 5.8793106e+00\n",
            "  3.6345177e+00 7.0396981e+00 4.8452301e+00 6.6234264e+00 0.0000000e+00\n",
            "  9.5348892e+00 4.3157430e+00 7.5241327e+00 3.2885611e+00 9.0725269e+00\n",
            "  4.9901142e+00 7.0292749e+00 7.5242262e+00 1.1273197e+01 3.7851591e+00\n",
            "  1.6139177e+01 6.0608616e+00 5.8386493e+00 8.9454079e+00 8.1204405e+00\n",
            "  4.7250319e+00 3.2202494e+00 2.6739039e+00 8.8107033e+00 4.9987779e+00\n",
            "  8.9434290e+00 4.8015709e+00 8.3044739e+00 3.2613649e+00 0.0000000e+00\n",
            "  9.1736526e+00 5.0880189e+00 3.2597139e+00 1.3507100e+01 7.5443110e+00\n",
            "  2.4967635e+00 7.1996880e+00 5.2088127e+00 8.6582403e+00 5.0475302e+00\n",
            "  6.2186708e+00 2.7347131e+00 9.6441069e+00 7.3568082e+00 7.7641802e+00\n",
            "  4.1242990e+00 6.6299706e+00 3.4523735e+00 7.3458796e+00 0.0000000e+00\n",
            "  0.0000000e+00 7.1594672e+00 3.3075650e+00 7.0336370e+00]]\n"
          ]
        },
        {
          "output_type": "display_data",
          "data": {
            "text/plain": [
              "<Figure size 864x432 with 10 Axes>"
            ],
            "image/png": "[encoded data removed]"
          },
          "metadata": {
            "image/png": {
              "width": 687,
              "height": 244
            },
            "needs_background": "light"
          }
        }
      ],
      "source": [
        "img_encoder = Model(x, h)\n",
        "encoded_imgs = img_encoder.predict(X_test_flat)\n",
        "\n",
        "# 잠재 벡터값 보기\n",
        "print(encoded_imgs[:2])\n",
        "\n",
        "# 그림을 그릴 개수 \n",
        "n = 10\n",
        "\n",
        "plt.figure(figsize=(12, 6))\n",
        "for i in range(n):\n",
        "    ax = plt.subplot(1, n, i+1)\n",
        "    plt.imshow(encoded_imgs[i].reshape(16, 4))\n",
        "    plt.gray()\n",
        "    ax.get_xaxis().set_visible(False)\n",
        "    ax.get_yaxis().set_visible(False)\n",
        "plt.show()"
      ]
    },
    {
      "cell_type": "markdown",
      "metadata": {
        "id": "52Pw8IkufRnd"
      },
      "source": [
        "# 원본과 재구성된 이미지 비교"
      ]
    },
    {
      "cell_type": "code",
      "execution_count": 40,
      "metadata": {
        "colab": {
          "base_uri": "https://localhost:8080/"
        },
        "id": "iwgnHtm2fRna",
        "outputId": "40a8a9b5-43f0-4536-f2fb-466da08126ff"
      },
      "outputs": [
        {
          "output_type": "stream",
          "name": "stdout",
          "text": [
            "313/313 [==============================] - 0s 1ms/step\n"
          ]
        }
      ],
      "source": [
        "decoded_imgs = autoencoder.predict(X_test_flat)"
      ]
    },
    {
      "cell_type": "code",
      "execution_count": 41,
      "metadata": {
        "colab": {
          "base_uri": "https://localhost:8080/",
          "height": 248
        },
        "id": "ZynQlx9PfRnf",
        "outputId": "21c0d463-5f2e-4aeb-f8bd-5cb65846f8b8"
      },
      "outputs": [
        {
          "output_type": "display_data",
          "data": {
            "text/plain": [
              "<Figure size 1440x288 with 20 Axes>"
            ],
            "image/png": "[encoded data removed]"
          },
          "metadata": {
            "image/png": {
              "width": 1133,
              "height": 231
            },
            "needs_background": "light"
          }
        }
      ],
      "source": [
        "n = 10\n",
        "plt.figure(figsize=(20, 4))\n",
        "for i in range(n):\n",
        "    # 원본 이미지\n",
        "    ax = plt.subplot(2, n, i+1)\n",
        "    plt.imshow(X_test[i].reshape(28, 28))\n",
        "    plt.gray()\n",
        "    ax.get_xaxis().set_visible(False)\n",
        "    ax.get_yaxis().set_visible(False)\n",
        "\n",
        "    \n",
        "    # 재구성된 이미지\n",
        "    ax = plt.subplot(2, n, i+n+1)\n",
        "    plt.imshow(decoded_imgs[i].reshape(28, 28))\n",
        "    plt.gray()\n",
        "    ax.get_xaxis().set_visible(False)\n",
        "    ax.get_yaxis().set_visible(False)\n",
        "    \n",
        "plt.show()"
      ]
    },
    {
      "cell_type": "code",
      "source": [],
      "metadata": {
        "id": "NkH8-deZWVeu"
      },
      "execution_count": 41,
      "outputs": []
    }
  ],
  "metadata": {
    "accelerator": "GPU",
    "colab": {
      "provenance": [],
      "toc_visible": true,
      "include_colab_link": true
    },
    "gpuClass": "standard",
    "kernelspec": {
      "display_name": "Python 3",
      "language": "python",
      "name": "python3"
    },
    "language_info": {
      "codemirror_mode": {
        "name": "ipython",
        "version": 3
      },
      "file_extension": ".py",
      "mimetype": "text/x-python",
      "name": "python",
      "nbconvert_exporter": "python",
      "pygments_lexer": "ipython3",
      "version": "3.8.8"
    },
    "toc": {
      "base_numbering": 1,
      "nav_menu": {},
      "number_sections": false,
      "sideBar": true,
      "skip_h1_title": false,
      "title_cell": "Table of Contents",
      "title_sidebar": "Contents",
      "toc_cell": false,
      "toc_position": {},
      "toc_section_display": true,
      "toc_window_display": true
    }
  },
  "nbformat": 4,
  "nbformat_minor": 0
}