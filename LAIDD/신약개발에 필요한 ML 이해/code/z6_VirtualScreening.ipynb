{
  "cells": [
    {
      "cell_type": "markdown",
      "metadata": {
        "id": "view-in-github",
        "colab_type": "text"
      },
      "source": [
        "<a href=\"https://colab.research.google.com/github/StillWork/AIDD-LAIDD/blob/main/z6_VirtualScreening.ipynb\" target=\"_parent\"><img src=\"https://colab.research.google.com/assets/colab-badge.svg\" alt=\"Open In Colab\"/></a>"
      ]
    },
    {
      "cell_type": "markdown",
      "metadata": {
        "id": "FJpHthE60TBJ"
      },
      "source": [
        "# 가상 스크리닝\n",
        "\n",
        "\n",
        "- 어떤 조건을 만족하는 분자를 찾아내는 작업을 실험을 수행하지 않고 머신러닝 모델로 찾는 것을 말한다\n",
        "- 여기서는 예제로, ERK2 단백질을 억제하는 분자를 선별하는 모델을 만든다\n",
        " - Extracellular signal-regulated kinase (다수의 생화학적 신호에 관여하고 세포의 증식 분화 전사조절에 관여)\n",
        " - 비소세포성 폐암 non-small cell lung cancer과 흑색종(피부암)에 대해 임상시험중\n",
        "\n",
        "- 그래프 컨볼류션 모델을 사용한다\n",
        "- DUD-E 데이터베이스에서 활성 및 비활성 분자 데이터를 다운받아 사용한다"
      ]
    },
    {
      "cell_type": "markdown",
      "metadata": {
        "id": "2OpzBVDCDT3t"
      },
      "source": [
        "# import"
      ]
    },
    {
      "cell_type": "code",
      "execution_count": null,
      "metadata": {
        "colab": {
          "base_uri": "https://localhost:8080/"
        },
        "id": "bd95Jgdy2As-",
        "outputId": "9331bfa5-8a18-41df-e998-4c5553759459"
      },
      "outputs": [
        {
          "output_type": "stream",
          "name": "stdout",
          "text": [
            "Looking in indexes: https://pypi.org/simple, https://us-python.pkg.dev/colab-wheels/public/simple/\n",
            "Collecting DeepChem\n",
            "  Downloading deepchem-2.6.1-py3-none-any.whl (608 kB)\n",
            "\u001b[K     |████████████████████████████████| 608 kB 7.5 MB/s \n",
            "\u001b[?25hRequirement already satisfied: numpy>=1.21 in /usr/local/lib/python3.7/dist-packages (from DeepChem) (1.21.6)\n",
            "Requirement already satisfied: joblib in /usr/local/lib/python3.7/dist-packages (from DeepChem) (1.2.0)\n",
            "Requirement already satisfied: scikit-learn in /usr/local/lib/python3.7/dist-packages (from DeepChem) (1.0.2)\n",
            "Requirement already satisfied: pandas in /usr/local/lib/python3.7/dist-packages (from DeepChem) (1.3.5)\n",
            "Collecting rdkit-pypi\n",
            "  Downloading rdkit_pypi-2022.9.2-cp37-cp37m-manylinux_2_17_x86_64.manylinux2014_x86_64.whl (29.1 MB)\n",
            "\u001b[K     |████████████████████████████████| 29.1 MB 80.9 MB/s \n",
            "\u001b[?25hRequirement already satisfied: scipy in /usr/local/lib/python3.7/dist-packages (from DeepChem) (1.7.3)\n",
            "Requirement already satisfied: pytz>=2017.3 in /usr/local/lib/python3.7/dist-packages (from pandas->DeepChem) (2022.6)\n",
            "Requirement already satisfied: python-dateutil>=2.7.3 in /usr/local/lib/python3.7/dist-packages (from pandas->DeepChem) (2.8.2)\n",
            "Requirement already satisfied: six>=1.5 in /usr/local/lib/python3.7/dist-packages (from python-dateutil>=2.7.3->pandas->DeepChem) (1.15.0)\n",
            "Requirement already satisfied: Pillow in /usr/local/lib/python3.7/dist-packages (from rdkit-pypi->DeepChem) (7.1.2)\n",
            "Requirement already satisfied: threadpoolctl>=2.0.0 in /usr/local/lib/python3.7/dist-packages (from scikit-learn->DeepChem) (3.1.0)\n",
            "Installing collected packages: rdkit-pypi, DeepChem\n",
            "Successfully installed DeepChem-2.6.1 rdkit-pypi-2022.9.2\n"
          ]
        }
      ],
      "source": [
        "!pip install DeepChem"
      ]
    },
    {
      "cell_type": "code",
      "execution_count": null,
      "metadata": {
        "id": "UGcjm8HGz4yT"
      },
      "outputs": [],
      "source": [
        "import deepchem as dc\n",
        "from rdkit import Chem\n",
        "from rdkit.Chem import AllChem\n",
        "from rdkit.Chem import Draw\n",
        "from rdkit.Chem.Draw import IPythonConsole\n",
        "from rdkit.Chem import PandasTools\n",
        "from rdkit.Chem import Descriptors\n",
        "from rdkit.Chem import rdmolops\n",
        "from rdkit import DataStructs\n",
        "from rdkit.ML.Cluster import Butina\n",
        "from rdkit.Chem import rdMolDescriptors as rdmd\n",
        "from deepchem.models import GraphConvModel\n"
      ]
    },
    {
      "cell_type": "code",
      "execution_count": null,
      "metadata": {
        "id": "WtF6y49KFIN4"
      },
      "outputs": [],
      "source": [
        "import numpy as np\n",
        "import pandas as pd\n",
        "import sys\n",
        "import seaborn as sns\n",
        "%config InlineBackend.figure_format = 'retina'\n",
        "from tqdm.auto import tqdm"
      ]
    },
    {
      "cell_type": "code",
      "execution_count": null,
      "metadata": {
        "id": "j8gfrBZaOG6V"
      },
      "outputs": [],
      "source": [
        "import warnings\n",
        "warnings.filterwarnings(\"ignore\")"
      ]
    },
    {
      "cell_type": "markdown",
      "metadata": {
        "id": "PzA-0qesDcZS"
      },
      "source": [
        "# 데이터\n",
        "\n",
        "- 활성 및 비활성 데이터를 다운로드 받는다\n",
        "- 분자 데이터는 SMILES 형식이다. 이를 데이터프레임에 불러온다\n",
        "- AddMoleculeColumnToFrame()를 사용해 SMILES에 해당하는 Mol 객체를 데이터프레임에 추가할 수 있다"
      ]
    },
    {
      "cell_type": "code",
      "execution_count": null,
      "metadata": {
        "colab": {
          "base_uri": "https://localhost:8080/",
          "height": 161
        },
        "id": "CPqIv1_8z4yU",
        "outputId": "f3338d82-2444-4f33-8ff2-ab58fb83595a"
      },
      "outputs": [
        {
          "output_type": "stream",
          "name": "stdout",
          "text": [
            "(79, 3)\n"
          ]
        },
        {
          "output_type": "execute_result",
          "data": {
            "text/plain": [
              "                                                   0       1             2\n",
              "0  Cn1ccnc1Sc2ccc(cc2Cl)Nc3c4cc(c(cc4ncc3C#N)OCCC...  168691  CHEMBL318804\n",
              "1  C[C@@]12[C@@H]([C@@H](CC(O1)n3c4ccccc4c5c3c6n2...   86358     CHEMBL162\n",
              "2  Cc1cnc(nc1c2cc([nH]c2)C(=O)N[C@H](CO)c3cccc(c3...  575087  CHEMBL576683"
            ],
            "text/html": [
              "\n",
              "  <div id=\"df-eb48c845-9a19-4bea-9f53-25194649e687\">\n",
              "    <div class=\"colab-df-container\">\n",
              "      <div>\n",
              "<style scoped>\n",
              "    .dataframe tbody tr th:only-of-type {\n",
              "        vertical-align: middle;\n",
              "    }\n",
              "\n",
              "    .dataframe tbody tr th {\n",
              "        vertical-align: top;\n",
              "    }\n",
              "\n",
              "    .dataframe thead th {\n",
              "        text-align: right;\n",
              "    }\n",
              "</style>\n",
              "<table border=\"1\" class=\"dataframe\">\n",
              "  <thead>\n",
              "    <tr style=\"text-align: right;\">\n",
              "      <th></th>\n",
              "      <th>0</th>\n",
              "      <th>1</th>\n",
              "      <th>2</th>\n",
              "    </tr>\n",
              "  </thead>\n",
              "  <tbody>\n",
              "    <tr>\n",
              "      <th>0</th>\n",
              "      <td>Cn1ccnc1Sc2ccc(cc2Cl)Nc3c4cc(c(cc4ncc3C#N)OCCC...</td>\n",
              "      <td>168691</td>\n",
              "      <td>CHEMBL318804</td>\n",
              "    </tr>\n",
              "    <tr>\n",
              "      <th>1</th>\n",
              "      <td>C[C@@]12[C@@H]([C@@H](CC(O1)n3c4ccccc4c5c3c6n2...</td>\n",
              "      <td>86358</td>\n",
              "      <td>CHEMBL162</td>\n",
              "    </tr>\n",
              "    <tr>\n",
              "      <th>2</th>\n",
              "      <td>Cc1cnc(nc1c2cc([nH]c2)C(=O)N[C@H](CO)c3cccc(c3...</td>\n",
              "      <td>575087</td>\n",
              "      <td>CHEMBL576683</td>\n",
              "    </tr>\n",
              "  </tbody>\n",
              "</table>\n",
              "</div>\n",
              "      <button class=\"colab-df-convert\" onclick=\"convertToInteractive('df-eb48c845-9a19-4bea-9f53-25194649e687')\"\n",
              "              title=\"Convert this dataframe to an interactive table.\"\n",
              "              style=\"display:none;\">\n",
              "        \n",
              "  <svg xmlns=\"http://www.w3.org/2000/svg\" height=\"24px\"viewBox=\"0 0 24 24\"\n",
              "       width=\"24px\">\n",
              "    <path d=\"M0 0h24v24H0V0z\" fill=\"none\"/>\n",
              "    <path d=\"M18.56 5.44l.94 2.06.94-2.06 2.06-.94-2.06-.94-.94-2.06-.94 2.06-2.06.94zm-11 1L8.5 8.5l.94-2.06 2.06-.94-2.06-.94L8.5 2.5l-.94 2.06-2.06.94zm10 10l.94 2.06.94-2.06 2.06-.94-2.06-.94-.94-2.06-.94 2.06-2.06.94z\"/><path d=\"M17.41 7.96l-1.37-1.37c-.4-.4-.92-.59-1.43-.59-.52 0-1.04.2-1.43.59L10.3 9.45l-7.72 7.72c-.78.78-.78 2.05 0 2.83L4 21.41c.39.39.9.59 1.41.59.51 0 1.02-.2 1.41-.59l7.78-7.78 2.81-2.81c.8-.78.8-2.07 0-2.86zM5.41 20L4 18.59l7.72-7.72 1.47 1.35L5.41 20z\"/>\n",
              "  </svg>\n",
              "      </button>\n",
              "      \n",
              "  <style>\n",
              "    .colab-df-container {\n",
              "      display:flex;\n",
              "      flex-wrap:wrap;\n",
              "      gap: 12px;\n",
              "    }\n",
              "\n",
              "    .colab-df-convert {\n",
              "      background-color: #E8F0FE;\n",
              "      border: none;\n",
              "      border-radius: 50%;\n",
              "      cursor: pointer;\n",
              "      display: none;\n",
              "      fill: #1967D2;\n",
              "      height: 32px;\n",
              "      padding: 0 0 0 0;\n",
              "      width: 32px;\n",
              "    }\n",
              "\n",
              "    .colab-df-convert:hover {\n",
              "      background-color: #E2EBFA;\n",
              "      box-shadow: 0px 1px 2px rgba(60, 64, 67, 0.3), 0px 1px 3px 1px rgba(60, 64, 67, 0.15);\n",
              "      fill: #174EA6;\n",
              "    }\n",
              "\n",
              "    [theme=dark] .colab-df-convert {\n",
              "      background-color: #3B4455;\n",
              "      fill: #D2E3FC;\n",
              "    }\n",
              "\n",
              "    [theme=dark] .colab-df-convert:hover {\n",
              "      background-color: #434B5C;\n",
              "      box-shadow: 0px 1px 3px 1px rgba(0, 0, 0, 0.15);\n",
              "      filter: drop-shadow(0px 1px 2px rgba(0, 0, 0, 0.3));\n",
              "      fill: #FFFFFF;\n",
              "    }\n",
              "  </style>\n",
              "\n",
              "      <script>\n",
              "        const buttonEl =\n",
              "          document.querySelector('#df-eb48c845-9a19-4bea-9f53-25194649e687 button.colab-df-convert');\n",
              "        buttonEl.style.display =\n",
              "          google.colab.kernel.accessAllowed ? 'block' : 'none';\n",
              "\n",
              "        async function convertToInteractive(key) {\n",
              "          const element = document.querySelector('#df-eb48c845-9a19-4bea-9f53-25194649e687');\n",
              "          const dataTable =\n",
              "            await google.colab.kernel.invokeFunction('convertToInteractive',\n",
              "                                                     [key], {});\n",
              "          if (!dataTable) return;\n",
              "\n",
              "          const docLinkHtml = 'Like what you see? Visit the ' +\n",
              "            '<a target=\"_blank\" href=https://colab.research.google.com/notebooks/data_table.ipynb>data table notebook</a>'\n",
              "            + ' to learn more about interactive tables.';\n",
              "          element.innerHTML = '';\n",
              "          dataTable['output_type'] = 'display_data';\n",
              "          await google.colab.output.renderOutput(dataTable, element);\n",
              "          const docLink = document.createElement('div');\n",
              "          docLink.innerHTML = docLinkHtml;\n",
              "          element.appendChild(docLink);\n",
              "        }\n",
              "      </script>\n",
              "    </div>\n",
              "  </div>\n",
              "  "
            ]
          },
          "metadata": {},
          "execution_count": 5
        }
      ],
      "source": [
        "active_df = pd.read_csv(\"https://raw.githubusercontent.com/deepchem/DeepLearningLifeSciences/master/Chapter11/mk01/actives_final.ism\",\n",
        "                        header=None,sep=\" \")\n",
        "print(active_df.shape)\n",
        "active_df[:3]"
      ]
    },
    {
      "cell_type": "code",
      "execution_count": null,
      "metadata": {
        "id": "H_-k5gyHsoeM"
      },
      "outputs": [],
      "source": [
        "active_rows, active_cols = active_df.shape\n",
        "active_df.columns = [\"SMILES\",\"ID\",\"ChEMBL_ID\"]\n",
        "active_df[\"label\"] = [\"Active\"]*active_rows\n",
        "PandasTools.AddMoleculeColumnToFrame(active_df,\"SMILES\",\"Mol\")"
      ]
    },
    {
      "cell_type": "code",
      "execution_count": null,
      "metadata": {
        "colab": {
          "base_uri": "https://localhost:8080/",
          "height": 239
        },
        "id": "Q_1JyOPgs8A-",
        "outputId": "4a92a1f0-7942-4d97-baf8-9589aec5a54c"
      },
      "outputs": [
        {
          "output_type": "execute_result",
          "data": {
            "text/plain": [
              "                                              SMILES      ID     ChEMBL_ID  \\\n",
              "0  Cn1ccnc1Sc2ccc(cc2Cl)Nc3c4cc(c(cc4ncc3C#N)OCCC...  168691  CHEMBL318804   \n",
              "1  C[C@@]12[C@@H]([C@@H](CC(O1)n3c4ccccc4c5c3c6n2...   86358     CHEMBL162   \n",
              "2  Cc1cnc(nc1c2cc([nH]c2)C(=O)N[C@H](CO)c3cccc(c3...  575087  CHEMBL576683   \n",
              "\n",
              "    label                                               Mol  \n",
              "0  Active  <rdkit.Chem.rdchem.Mol object at 0x7fab8b8e6090>  \n",
              "1  Active  <rdkit.Chem.rdchem.Mol object at 0x7fab8b8e6030>  \n",
              "2  Active  <rdkit.Chem.rdchem.Mol object at 0x7fab8b8e60f0>  "
            ],
            "text/html": [
              "\n",
              "  <div id=\"df-45d93436-083e-49c1-b88a-a97a7890c903\">\n",
              "    <div class=\"colab-df-container\">\n",
              "      <div>\n",
              "<style scoped>\n",
              "    .dataframe tbody tr th:only-of-type {\n",
              "        vertical-align: middle;\n",
              "    }\n",
              "\n",
              "    .dataframe tbody tr th {\n",
              "        vertical-align: top;\n",
              "    }\n",
              "\n",
              "    .dataframe thead th {\n",
              "        text-align: right;\n",
              "    }\n",
              "</style>\n",
              "<table border=\"1\" class=\"dataframe\">\n",
              "  <thead>\n",
              "    <tr style=\"text-align: right;\">\n",
              "      <th></th>\n",
              "      <th>SMILES</th>\n",
              "      <th>ID</th>\n",
              "      <th>ChEMBL_ID</th>\n",
              "      <th>label</th>\n",
              "      <th>Mol</th>\n",
              "    </tr>\n",
              "  </thead>\n",
              "  <tbody>\n",
              "    <tr>\n",
              "      <th>0</th>\n",
              "      <td>Cn1ccnc1Sc2ccc(cc2Cl)Nc3c4cc(c(cc4ncc3C#N)OCCC...</td>\n",
              "      <td>168691</td>\n",
              "      <td>CHEMBL318804</td>\n",
              "      <td>Active</td>\n",
              "      <td>&lt;rdkit.Chem.rdchem.Mol object at 0x7fab8b8e6090&gt;</td>\n",
              "    </tr>\n",
              "    <tr>\n",
              "      <th>1</th>\n",
              "      <td>C[C@@]12[C@@H]([C@@H](CC(O1)n3c4ccccc4c5c3c6n2...</td>\n",
              "      <td>86358</td>\n",
              "      <td>CHEMBL162</td>\n",
              "      <td>Active</td>\n",
              "      <td>&lt;rdkit.Chem.rdchem.Mol object at 0x7fab8b8e6030&gt;</td>\n",
              "    </tr>\n",
              "    <tr>\n",
              "      <th>2</th>\n",
              "      <td>Cc1cnc(nc1c2cc([nH]c2)C(=O)N[C@H](CO)c3cccc(c3...</td>\n",
              "      <td>575087</td>\n",
              "      <td>CHEMBL576683</td>\n",
              "      <td>Active</td>\n",
              "      <td>&lt;rdkit.Chem.rdchem.Mol object at 0x7fab8b8e60f0&gt;</td>\n",
              "    </tr>\n",
              "  </tbody>\n",
              "</table>\n",
              "</div>\n",
              "      <button class=\"colab-df-convert\" onclick=\"convertToInteractive('df-45d93436-083e-49c1-b88a-a97a7890c903')\"\n",
              "              title=\"Convert this dataframe to an interactive table.\"\n",
              "              style=\"display:none;\">\n",
              "        \n",
              "  <svg xmlns=\"http://www.w3.org/2000/svg\" height=\"24px\"viewBox=\"0 0 24 24\"\n",
              "       width=\"24px\">\n",
              "    <path d=\"M0 0h24v24H0V0z\" fill=\"none\"/>\n",
              "    <path d=\"M18.56 5.44l.94 2.06.94-2.06 2.06-.94-2.06-.94-.94-2.06-.94 2.06-2.06.94zm-11 1L8.5 8.5l.94-2.06 2.06-.94-2.06-.94L8.5 2.5l-.94 2.06-2.06.94zm10 10l.94 2.06.94-2.06 2.06-.94-2.06-.94-.94-2.06-.94 2.06-2.06.94z\"/><path d=\"M17.41 7.96l-1.37-1.37c-.4-.4-.92-.59-1.43-.59-.52 0-1.04.2-1.43.59L10.3 9.45l-7.72 7.72c-.78.78-.78 2.05 0 2.83L4 21.41c.39.39.9.59 1.41.59.51 0 1.02-.2 1.41-.59l7.78-7.78 2.81-2.81c.8-.78.8-2.07 0-2.86zM5.41 20L4 18.59l7.72-7.72 1.47 1.35L5.41 20z\"/>\n",
              "  </svg>\n",
              "      </button>\n",
              "      \n",
              "  <style>\n",
              "    .colab-df-container {\n",
              "      display:flex;\n",
              "      flex-wrap:wrap;\n",
              "      gap: 12px;\n",
              "    }\n",
              "\n",
              "    .colab-df-convert {\n",
              "      background-color: #E8F0FE;\n",
              "      border: none;\n",
              "      border-radius: 50%;\n",
              "      cursor: pointer;\n",
              "      display: none;\n",
              "      fill: #1967D2;\n",
              "      height: 32px;\n",
              "      padding: 0 0 0 0;\n",
              "      width: 32px;\n",
              "    }\n",
              "\n",
              "    .colab-df-convert:hover {\n",
              "      background-color: #E2EBFA;\n",
              "      box-shadow: 0px 1px 2px rgba(60, 64, 67, 0.3), 0px 1px 3px 1px rgba(60, 64, 67, 0.15);\n",
              "      fill: #174EA6;\n",
              "    }\n",
              "\n",
              "    [theme=dark] .colab-df-convert {\n",
              "      background-color: #3B4455;\n",
              "      fill: #D2E3FC;\n",
              "    }\n",
              "\n",
              "    [theme=dark] .colab-df-convert:hover {\n",
              "      background-color: #434B5C;\n",
              "      box-shadow: 0px 1px 3px 1px rgba(0, 0, 0, 0.15);\n",
              "      filter: drop-shadow(0px 1px 2px rgba(0, 0, 0, 0.3));\n",
              "      fill: #FFFFFF;\n",
              "    }\n",
              "  </style>\n",
              "\n",
              "      <script>\n",
              "        const buttonEl =\n",
              "          document.querySelector('#df-45d93436-083e-49c1-b88a-a97a7890c903 button.colab-df-convert');\n",
              "        buttonEl.style.display =\n",
              "          google.colab.kernel.accessAllowed ? 'block' : 'none';\n",
              "\n",
              "        async function convertToInteractive(key) {\n",
              "          const element = document.querySelector('#df-45d93436-083e-49c1-b88a-a97a7890c903');\n",
              "          const dataTable =\n",
              "            await google.colab.kernel.invokeFunction('convertToInteractive',\n",
              "                                                     [key], {});\n",
              "          if (!dataTable) return;\n",
              "\n",
              "          const docLinkHtml = 'Like what you see? Visit the ' +\n",
              "            '<a target=\"_blank\" href=https://colab.research.google.com/notebooks/data_table.ipynb>data table notebook</a>'\n",
              "            + ' to learn more about interactive tables.';\n",
              "          element.innerHTML = '';\n",
              "          dataTable['output_type'] = 'display_data';\n",
              "          await google.colab.output.renderOutput(dataTable, element);\n",
              "          const docLink = document.createElement('div');\n",
              "          docLink.innerHTML = docLinkHtml;\n",
              "          element.appendChild(docLink);\n",
              "        }\n",
              "      </script>\n",
              "    </div>\n",
              "  </div>\n",
              "  "
            ]
          },
          "metadata": {},
          "execution_count": 7
        }
      ],
      "source": [
        "active_df[:3]"
      ]
    },
    {
      "cell_type": "markdown",
      "metadata": {
        "id": "m5xtBXHRz4yU"
      },
      "source": [
        "## 특성값 추가\n",
        "- 분자량 molecular weight \n",
        "- 분배 계수 partition coefficeint(LogP)\n",
        "- 전하 charge (양인지 음인지)"
      ]
    },
    {
      "cell_type": "code",
      "execution_count": null,
      "metadata": {
        "id": "IqjKaT8Ez4yU"
      },
      "outputs": [],
      "source": [
        "def add_property_columns_to_df(df_in):\n",
        "    df_in[\"mw\"] = [Descriptors.MolWt(mol) for mol in df_in.Mol]\n",
        "    df_in[\"logP\"] = [Descriptors.MolLogP(mol) for mol in df_in.Mol]\n",
        "    df_in[\"charge\"] = [rdmolops.GetFormalCharge(mol) for mol in df_in.Mol]"
      ]
    },
    {
      "cell_type": "code",
      "execution_count": null,
      "metadata": {
        "colab": {
          "base_uri": "https://localhost:8080/",
          "height": 444
        },
        "id": "hS4OpyOiz4yV",
        "outputId": "770874d4-efdb-4f0a-eb77-ad91dc030fd4"
      },
      "outputs": [
        {
          "output_type": "execute_result",
          "data": {
            "text/plain": [
              "                                              SMILES      ID     ChEMBL_ID  \\\n",
              "0  Cn1ccnc1Sc2ccc(cc2Cl)Nc3c4cc(c(cc4ncc3C#N)OCCC...  168691  CHEMBL318804   \n",
              "1  C[C@@]12[C@@H]([C@@H](CC(O1)n3c4ccccc4c5c3c6n2...   86358     CHEMBL162   \n",
              "2  Cc1cnc(nc1c2cc([nH]c2)C(=O)N[C@H](CO)c3cccc(c3...  575087  CHEMBL576683   \n",
              "3  Cc1cnc(nc1c2cc([nH]c2)C(=O)N[C@H](CO)c3cccc(c3...  575065  CHEMBL571484   \n",
              "4  Cc1cnc(nc1c2cc([nH]c2)C(=O)N[C@H](CO)c3cccc(c3...  575047  CHEMBL568937   \n",
              "\n",
              "    label                                               Mol       mw     logP  \\\n",
              "0  Active  <rdkit.Chem.rdchem.Mol object at 0x7fab8b8e6090>  565.099  5.49788   \n",
              "1  Active  <rdkit.Chem.rdchem.Mol object at 0x7fab8b8e6030>  466.541  4.35400   \n",
              "2  Active  <rdkit.Chem.rdchem.Mol object at 0x7fab8b8e60f0>  527.915  4.96202   \n",
              "3  Active  <rdkit.Chem.rdchem.Mol object at 0x7fab8b8e6210>  491.935  4.36922   \n",
              "4  Active  <rdkit.Chem.rdchem.Mol object at 0x7fab8b8e61b0>  487.991  5.12922   \n",
              "\n",
              "   charge  \n",
              "0       0  \n",
              "1       0  \n",
              "2       0  \n",
              "3       0  \n",
              "4       0  "
            ],
            "text/html": [
              "\n",
              "  <div id=\"df-4601e498-1d9c-4f42-aa9b-c86f28ec4641\">\n",
              "    <div class=\"colab-df-container\">\n",
              "      <div>\n",
              "<style scoped>\n",
              "    .dataframe tbody tr th:only-of-type {\n",
              "        vertical-align: middle;\n",
              "    }\n",
              "\n",
              "    .dataframe tbody tr th {\n",
              "        vertical-align: top;\n",
              "    }\n",
              "\n",
              "    .dataframe thead th {\n",
              "        text-align: right;\n",
              "    }\n",
              "</style>\n",
              "<table border=\"1\" class=\"dataframe\">\n",
              "  <thead>\n",
              "    <tr style=\"text-align: right;\">\n",
              "      <th></th>\n",
              "      <th>SMILES</th>\n",
              "      <th>ID</th>\n",
              "      <th>ChEMBL_ID</th>\n",
              "      <th>label</th>\n",
              "      <th>Mol</th>\n",
              "      <th>mw</th>\n",
              "      <th>logP</th>\n",
              "      <th>charge</th>\n",
              "    </tr>\n",
              "  </thead>\n",
              "  <tbody>\n",
              "    <tr>\n",
              "      <th>0</th>\n",
              "      <td>Cn1ccnc1Sc2ccc(cc2Cl)Nc3c4cc(c(cc4ncc3C#N)OCCC...</td>\n",
              "      <td>168691</td>\n",
              "      <td>CHEMBL318804</td>\n",
              "      <td>Active</td>\n",
              "      <td>&lt;rdkit.Chem.rdchem.Mol object at 0x7fab8b8e6090&gt;</td>\n",
              "      <td>565.099</td>\n",
              "      <td>5.49788</td>\n",
              "      <td>0</td>\n",
              "    </tr>\n",
              "    <tr>\n",
              "      <th>1</th>\n",
              "      <td>C[C@@]12[C@@H]([C@@H](CC(O1)n3c4ccccc4c5c3c6n2...</td>\n",
              "      <td>86358</td>\n",
              "      <td>CHEMBL162</td>\n",
              "      <td>Active</td>\n",
              "      <td>&lt;rdkit.Chem.rdchem.Mol object at 0x7fab8b8e6030&gt;</td>\n",
              "      <td>466.541</td>\n",
              "      <td>4.35400</td>\n",
              "      <td>0</td>\n",
              "    </tr>\n",
              "    <tr>\n",
              "      <th>2</th>\n",
              "      <td>Cc1cnc(nc1c2cc([nH]c2)C(=O)N[C@H](CO)c3cccc(c3...</td>\n",
              "      <td>575087</td>\n",
              "      <td>CHEMBL576683</td>\n",
              "      <td>Active</td>\n",
              "      <td>&lt;rdkit.Chem.rdchem.Mol object at 0x7fab8b8e60f0&gt;</td>\n",
              "      <td>527.915</td>\n",
              "      <td>4.96202</td>\n",
              "      <td>0</td>\n",
              "    </tr>\n",
              "    <tr>\n",
              "      <th>3</th>\n",
              "      <td>Cc1cnc(nc1c2cc([nH]c2)C(=O)N[C@H](CO)c3cccc(c3...</td>\n",
              "      <td>575065</td>\n",
              "      <td>CHEMBL571484</td>\n",
              "      <td>Active</td>\n",
              "      <td>&lt;rdkit.Chem.rdchem.Mol object at 0x7fab8b8e6210&gt;</td>\n",
              "      <td>491.935</td>\n",
              "      <td>4.36922</td>\n",
              "      <td>0</td>\n",
              "    </tr>\n",
              "    <tr>\n",
              "      <th>4</th>\n",
              "      <td>Cc1cnc(nc1c2cc([nH]c2)C(=O)N[C@H](CO)c3cccc(c3...</td>\n",
              "      <td>575047</td>\n",
              "      <td>CHEMBL568937</td>\n",
              "      <td>Active</td>\n",
              "      <td>&lt;rdkit.Chem.rdchem.Mol object at 0x7fab8b8e61b0&gt;</td>\n",
              "      <td>487.991</td>\n",
              "      <td>5.12922</td>\n",
              "      <td>0</td>\n",
              "    </tr>\n",
              "  </tbody>\n",
              "</table>\n",
              "</div>\n",
              "      <button class=\"colab-df-convert\" onclick=\"convertToInteractive('df-4601e498-1d9c-4f42-aa9b-c86f28ec4641')\"\n",
              "              title=\"Convert this dataframe to an interactive table.\"\n",
              "              style=\"display:none;\">\n",
              "        \n",
              "  <svg xmlns=\"http://www.w3.org/2000/svg\" height=\"24px\"viewBox=\"0 0 24 24\"\n",
              "       width=\"24px\">\n",
              "    <path d=\"M0 0h24v24H0V0z\" fill=\"none\"/>\n",
              "    <path d=\"M18.56 5.44l.94 2.06.94-2.06 2.06-.94-2.06-.94-.94-2.06-.94 2.06-2.06.94zm-11 1L8.5 8.5l.94-2.06 2.06-.94-2.06-.94L8.5 2.5l-.94 2.06-2.06.94zm10 10l.94 2.06.94-2.06 2.06-.94-2.06-.94-.94-2.06-.94 2.06-2.06.94z\"/><path d=\"M17.41 7.96l-1.37-1.37c-.4-.4-.92-.59-1.43-.59-.52 0-1.04.2-1.43.59L10.3 9.45l-7.72 7.72c-.78.78-.78 2.05 0 2.83L4 21.41c.39.39.9.59 1.41.59.51 0 1.02-.2 1.41-.59l7.78-7.78 2.81-2.81c.8-.78.8-2.07 0-2.86zM5.41 20L4 18.59l7.72-7.72 1.47 1.35L5.41 20z\"/>\n",
              "  </svg>\n",
              "      </button>\n",
              "      \n",
              "  <style>\n",
              "    .colab-df-container {\n",
              "      display:flex;\n",
              "      flex-wrap:wrap;\n",
              "      gap: 12px;\n",
              "    }\n",
              "\n",
              "    .colab-df-convert {\n",
              "      background-color: #E8F0FE;\n",
              "      border: none;\n",
              "      border-radius: 50%;\n",
              "      cursor: pointer;\n",
              "      display: none;\n",
              "      fill: #1967D2;\n",
              "      height: 32px;\n",
              "      padding: 0 0 0 0;\n",
              "      width: 32px;\n",
              "    }\n",
              "\n",
              "    .colab-df-convert:hover {\n",
              "      background-color: #E2EBFA;\n",
              "      box-shadow: 0px 1px 2px rgba(60, 64, 67, 0.3), 0px 1px 3px 1px rgba(60, 64, 67, 0.15);\n",
              "      fill: #174EA6;\n",
              "    }\n",
              "\n",
              "    [theme=dark] .colab-df-convert {\n",
              "      background-color: #3B4455;\n",
              "      fill: #D2E3FC;\n",
              "    }\n",
              "\n",
              "    [theme=dark] .colab-df-convert:hover {\n",
              "      background-color: #434B5C;\n",
              "      box-shadow: 0px 1px 3px 1px rgba(0, 0, 0, 0.15);\n",
              "      filter: drop-shadow(0px 1px 2px rgba(0, 0, 0, 0.3));\n",
              "      fill: #FFFFFF;\n",
              "    }\n",
              "  </style>\n",
              "\n",
              "      <script>\n",
              "        const buttonEl =\n",
              "          document.querySelector('#df-4601e498-1d9c-4f42-aa9b-c86f28ec4641 button.colab-df-convert');\n",
              "        buttonEl.style.display =\n",
              "          google.colab.kernel.accessAllowed ? 'block' : 'none';\n",
              "\n",
              "        async function convertToInteractive(key) {\n",
              "          const element = document.querySelector('#df-4601e498-1d9c-4f42-aa9b-c86f28ec4641');\n",
              "          const dataTable =\n",
              "            await google.colab.kernel.invokeFunction('convertToInteractive',\n",
              "                                                     [key], {});\n",
              "          if (!dataTable) return;\n",
              "\n",
              "          const docLinkHtml = 'Like what you see? Visit the ' +\n",
              "            '<a target=\"_blank\" href=https://colab.research.google.com/notebooks/data_table.ipynb>data table notebook</a>'\n",
              "            + ' to learn more about interactive tables.';\n",
              "          element.innerHTML = '';\n",
              "          dataTable['output_type'] = 'display_data';\n",
              "          await google.colab.output.renderOutput(dataTable, element);\n",
              "          const docLink = document.createElement('div');\n",
              "          docLink.innerHTML = docLinkHtml;\n",
              "          element.appendChild(docLink);\n",
              "        }\n",
              "      </script>\n",
              "    </div>\n",
              "  </div>\n",
              "  "
            ]
          },
          "metadata": {},
          "execution_count": 9
        }
      ],
      "source": [
        "add_property_columns_to_df(active_df)\n",
        "active_df.head()"
      ]
    },
    {
      "cell_type": "markdown",
      "metadata": {
        "id": "zjnUULUtz4yW"
      },
      "source": [
        "## 비활성화 데이터"
      ]
    },
    {
      "cell_type": "code",
      "execution_count": null,
      "metadata": {
        "id": "YI5vDzKfz4yX"
      },
      "outputs": [],
      "source": [
        "decoy_df = pd.read_csv(\"https://raw.githubusercontent.com/deepchem/DeepLearningLifeSciences/master/Chapter11/mk01/decoys_final.ism\",\n",
        "                       header=None,sep=\" \")\n",
        "decoy_df.columns = [\"SMILES\",\"ID\"]\n",
        "decoy_rows, decoy_cols = decoy_df.shape\n",
        "decoy_df[\"label\"] = [\"Decoy\"]*decoy_rows\n",
        "PandasTools.AddMoleculeColumnToFrame(decoy_df,\"SMILES\",\"Mol\")\n",
        "add_property_columns_to_df(decoy_df)"
      ]
    },
    {
      "cell_type": "markdown",
      "metadata": {
        "id": "3r8nfyuPEfAX"
      },
      "source": [
        "- 데이터를 합친다"
      ]
    },
    {
      "cell_type": "code",
      "execution_count": null,
      "metadata": {
        "id": "0OrArJbcz4yX",
        "outputId": "0f281a1c-5082-46b5-e7d1-7c7e737aff30",
        "colab": {
          "base_uri": "https://localhost:8080/"
        }
      },
      "outputs": [
        {
          "output_type": "execute_result",
          "data": {
            "text/plain": [
              "(4629, 8)"
            ]
          },
          "metadata": {},
          "execution_count": 11
        }
      ],
      "source": [
        "tmp_df = active_df.append(decoy_df)\n",
        "tmp_df.shape"
      ]
    },
    {
      "cell_type": "markdown",
      "metadata": {
        "id": "KxfG36Osz4yX"
      },
      "source": [
        "## 데이터 탐색 \n",
        "\n",
        "- violin plot"
      ]
    },
    {
      "cell_type": "code",
      "execution_count": null,
      "metadata": {
        "colab": {
          "base_uri": "https://localhost:8080/",
          "height": 278
        },
        "id": "B0NyoEDmz4yX",
        "outputId": "4cd62ae4-6de6-4239-b3ab-afcf89af5723"
      },
      "outputs": [
        {
          "output_type": "display_data",
          "data": {
            "text/plain": [
              "<Figure size 432x288 with 1 Axes>"
            ],
            "image/png": "[encoded data removed]"
          },
          "metadata": {
            "image/png": {
              "width": 388,
              "height": 261
            },
            "needs_background": "light"
          }
        }
      ],
      "source": [
        "sns.violinplot(x=tmp_df[\"label\"],y=tmp_df[\"mw\"]);"
      ]
    },
    {
      "cell_type": "markdown",
      "metadata": {
        "id": "FzLVdAN5z4yX"
      },
      "source": [
        "- 위 그래프를 보면 분자량 분포는 비슷하다\n",
        "- 400mw 이하의 분자들이 비활성 분자 데이터셋에 좀 더 많이 들어 있다"
      ]
    },
    {
      "cell_type": "code",
      "execution_count": null,
      "metadata": {
        "colab": {
          "base_uri": "https://localhost:8080/",
          "height": 278
        },
        "id": "MCGBGDW8z4yY",
        "outputId": "beed4d0d-55eb-4ecf-f2ec-3358e2bd6539"
      },
      "outputs": [
        {
          "output_type": "display_data",
          "data": {
            "text/plain": [
              "<Figure size 432x288 with 1 Axes>"
            ],
            "image/png": "[encoded data removed]"
          },
          "metadata": {
            "image/png": {
              "width": 384,
              "height": 261
            },
            "needs_background": "light"
          }
        }
      ],
      "source": [
        "sns.violinplot(x=tmp_df[\"label\"],y=tmp_df[\"logP\"]);"
      ]
    },
    {
      "cell_type": "code",
      "execution_count": null,
      "metadata": {
        "colab": {
          "base_uri": "https://localhost:8080/",
          "height": 278
        },
        "id": "M2cvDR9mz4yY",
        "outputId": "0a9eaf12-d6e1-4174-87b1-edd3b9f28652"
      },
      "outputs": [
        {
          "output_type": "display_data",
          "data": {
            "text/plain": [
              "<Figure size 432x288 with 1 Axes>"
            ],
            "image/png": "[encoded data removed]"
          },
          "metadata": {
            "image/png": {
              "width": 394,
              "height": 261
            },
            "needs_background": "light"
          }
        }
      ],
      "source": [
        "sns.violinplot(x=tmp_df[\"label\"],y=tmp_df[\"charge\"]);"
      ]
    },
    {
      "cell_type": "markdown",
      "metadata": {
        "id": "EnY2ge1Ez4yY"
      },
      "source": [
        "- 활성 분자는 모두 중성이다\n",
        "- 비활성 분자는 일부 +1과 -1이 있다"
      ]
    },
    {
      "cell_type": "code",
      "execution_count": null,
      "metadata": {
        "id": "nsxlupqbz4yY",
        "outputId": "1f39977a-2b41-402a-e9bd-8342c0273fc9",
        "colab": {
          "base_uri": "https://localhost:8080/"
        }
      },
      "outputs": [
        {
          "output_type": "execute_result",
          "data": {
            "text/plain": [
              "0.16175824175824177"
            ]
          },
          "metadata": {},
          "execution_count": 15
        }
      ],
      "source": [
        "charged = decoy_df[decoy_df[\"charge\"] != 0]\n",
        "charged.shape[0]/decoy_df.shape[0]"
      ]
    },
    {
      "cell_type": "markdown",
      "metadata": {
        "id": "fNEBUWSuz4yZ"
      },
      "source": [
        "- 비활성 분자의 16%가 전하를 띠고 있다\n",
        "- 전하 차이에 의해 머신러닝 모델이 바이어스가 생기게 되므로, 비활성 분자의 화학 구조를 수정하여 전하를 제거하겠다\n",
        "- 아래는 이를 위한 함수 정의이다"
      ]
    },
    {
      "cell_type": "code",
      "execution_count": null,
      "metadata": {
        "id": "YebLfFHFDkdk"
      },
      "outputs": [],
      "source": [
        "def _InitialiseNeutralisationReactions():\n",
        "    patts= (\n",
        "        # Imidazoles\n",
        "        ('[n+;H]','n'),\n",
        "        # Amines\n",
        "        ('[N+;!H0]','N'),\n",
        "        # Carboxylic acids and alcohols\n",
        "        ('[$([O-]);!$([O-][#7])]','O'),\n",
        "        # Thiols\n",
        "        ('[S-;X1]','S'),\n",
        "        # Sulfonamides\n",
        "        ('[$([N-;X2]S(=O)=O)]','N'),\n",
        "        # Enamines\n",
        "        ('[$([N-;X2][C,N]=C)]','N'),\n",
        "        # Tetrazoles\n",
        "        ('[n-]','[nH]'),\n",
        "        # Sulfoxides\n",
        "        ('[$([S-]=O)]','S'),\n",
        "        # Amides\n",
        "        ('[$([N-]C=O)]','N'),\n",
        "        )\n",
        "    return [(Chem.MolFromSmarts(x),Chem.MolFromSmiles(y,False)) for x,y in patts]\n",
        "\n",
        "_reactions=None\n",
        "\n",
        "def NeutraliseCharges(smiles, reactions=None):\n",
        "    global _reactions\n",
        "    if reactions is None:\n",
        "        if _reactions is None:\n",
        "            _reactions=_InitialiseNeutralisationReactions()\n",
        "        reactions=_reactions\n",
        "    mol = Chem.MolFromSmiles(smiles)\n",
        "    replaced = False\n",
        "    for i,(reactant, product) in enumerate(reactions):\n",
        "        while mol.HasSubstructMatch(reactant):\n",
        "            replaced = True\n",
        "            rms = AllChem.ReplaceSubstructs(mol, reactant, product)\n",
        "            mol = rms[0]\n",
        "    if replaced:\n",
        "        return (Chem.MolToSmiles(mol,True), True)\n",
        "    else:\n",
        "        return (smiles, False)"
      ]
    },
    {
      "cell_type": "code",
      "execution_count": null,
      "metadata": {
        "id": "v9zT1W4lz4yZ"
      },
      "outputs": [],
      "source": [
        "revised_decoy_df = decoy_df[[\"SMILES\",\"ID\",\"label\"]].copy()"
      ]
    },
    {
      "cell_type": "markdown",
      "metadata": {
        "id": "HjqjW_sSz4yZ"
      },
      "source": [
        "- 중성화된 SMILES는 첫 번째 컬럼에 들어 있다"
      ]
    },
    {
      "cell_type": "code",
      "execution_count": null,
      "metadata": {
        "id": "kmCa_bK0z4yZ"
      },
      "outputs": [],
      "source": [
        "revised_decoy_df[\"SMILES\"] = [NeutraliseCharges(x)[0] for x in revised_decoy_df[\"SMILES\"]]\n"
      ]
    },
    {
      "cell_type": "code",
      "execution_count": null,
      "metadata": {
        "colab": {
          "base_uri": "https://localhost:8080/"
        },
        "id": "biGul6sTuVXT",
        "outputId": "5365aa2b-be99-4b3a-d561-380c4654b27b"
      },
      "outputs": [
        {
          "output_type": "execute_result",
          "data": {
            "text/plain": [
              "(4550, 3)"
            ]
          },
          "metadata": {},
          "execution_count": 19
        }
      ],
      "source": [
        "revised_decoy_df.shape"
      ]
    },
    {
      "cell_type": "markdown",
      "metadata": {
        "id": "RJAuMomNz4yZ"
      },
      "source": [
        "- 특성을 다시 계산한다\n",
        "- 전하를 띤 샘플의 수가 감소했다"
      ]
    },
    {
      "cell_type": "code",
      "execution_count": null,
      "metadata": {
        "id": "HO9X1SmLz4yZ"
      },
      "outputs": [],
      "source": [
        "PandasTools.AddMoleculeColumnToFrame(revised_decoy_df,\"SMILES\",\"Mol\")\n",
        "add_property_columns_to_df(revised_decoy_df)"
      ]
    },
    {
      "cell_type": "code",
      "execution_count": null,
      "metadata": {
        "id": "7pcGOamBz4yZ"
      },
      "outputs": [],
      "source": [
        "new_tmp_df = active_df.append(revised_decoy_df)"
      ]
    },
    {
      "cell_type": "code",
      "execution_count": null,
      "metadata": {
        "colab": {
          "base_uri": "https://localhost:8080/",
          "height": 296
        },
        "id": "i1HO5iHNz4yZ",
        "outputId": "10b5c3cc-4f38-4d3c-ac54-bc6257f7df9a"
      },
      "outputs": [
        {
          "output_type": "execute_result",
          "data": {
            "text/plain": [
              "<matplotlib.axes._subplots.AxesSubplot at 0x7fab8c394e90>"
            ]
          },
          "metadata": {},
          "execution_count": 22
        },
        {
          "output_type": "display_data",
          "data": {
            "text/plain": [
              "<Figure size 432x288 with 1 Axes>"
            ],
            "image/png": "[encoded data removed]"
          },
          "metadata": {
            "image/png": {
              "width": 400,
              "height": 261
            },
            "needs_background": "light"
          }
        }
      ],
      "source": [
        "sns.violinplot(x=new_tmp_df[\"label\"],y=new_tmp_df[\"charge\"])"
      ]
    },
    {
      "cell_type": "code",
      "execution_count": null,
      "metadata": {
        "colab": {
          "base_uri": "https://localhost:8080/"
        },
        "id": "2F5f08LRz4yZ",
        "outputId": "36c85da0-0d4c-4f31-b425-dee0b4e10e5d"
      },
      "outputs": [
        {
          "output_type": "execute_result",
          "data": {
            "text/plain": [
              "0.0026373626373626374"
            ]
          },
          "metadata": {},
          "execution_count": 23
        }
      ],
      "source": [
        "charged = revised_decoy_df[revised_decoy_df[\"charge\"] != 0]\n",
        "charged.shape[0]/revised_decoy_df.shape[0]"
      ]
    },
    {
      "cell_type": "markdown",
      "metadata": {
        "id": "kmoGr0jtz4ya"
      },
      "source": [
        "- 활성을 1로 비활성을 0으로 인코딩한다"
      ]
    },
    {
      "cell_type": "code",
      "execution_count": null,
      "metadata": {
        "colab": {
          "base_uri": "https://localhost:8080/",
          "height": 206
        },
        "id": "VVc_Gm_Uz4ya",
        "outputId": "ffe83a52-f8c3-411d-940f-5a38b632641d"
      },
      "outputs": [
        {
          "output_type": "execute_result",
          "data": {
            "text/plain": [
              "                                              SMILES      ID  is_active\n",
              "0  Cn1ccnc1Sc2ccc(cc2Cl)Nc3c4cc(c(cc4ncc3C#N)OCCC...  168691          1\n",
              "1  C[C@@]12[C@@H]([C@@H](CC(O1)n3c4ccccc4c5c3c6n2...   86358          1\n",
              "2  Cc1cnc(nc1c2cc([nH]c2)C(=O)N[C@H](CO)c3cccc(c3...  575087          1\n",
              "3  Cc1cnc(nc1c2cc([nH]c2)C(=O)N[C@H](CO)c3cccc(c3...  575065          1\n",
              "4  Cc1cnc(nc1c2cc([nH]c2)C(=O)N[C@H](CO)c3cccc(c3...  575047          1"
            ],
            "text/html": [
              "\n",
              "  <div id=\"df-1f1e4eb3-4365-4860-8d99-9bd9f689f510\">\n",
              "    <div class=\"colab-df-container\">\n",
              "      <div>\n",
              "<style scoped>\n",
              "    .dataframe tbody tr th:only-of-type {\n",
              "        vertical-align: middle;\n",
              "    }\n",
              "\n",
              "    .dataframe tbody tr th {\n",
              "        vertical-align: top;\n",
              "    }\n",
              "\n",
              "    .dataframe thead th {\n",
              "        text-align: right;\n",
              "    }\n",
              "</style>\n",
              "<table border=\"1\" class=\"dataframe\">\n",
              "  <thead>\n",
              "    <tr style=\"text-align: right;\">\n",
              "      <th></th>\n",
              "      <th>SMILES</th>\n",
              "      <th>ID</th>\n",
              "      <th>is_active</th>\n",
              "    </tr>\n",
              "  </thead>\n",
              "  <tbody>\n",
              "    <tr>\n",
              "      <th>0</th>\n",
              "      <td>Cn1ccnc1Sc2ccc(cc2Cl)Nc3c4cc(c(cc4ncc3C#N)OCCC...</td>\n",
              "      <td>168691</td>\n",
              "      <td>1</td>\n",
              "    </tr>\n",
              "    <tr>\n",
              "      <th>1</th>\n",
              "      <td>C[C@@]12[C@@H]([C@@H](CC(O1)n3c4ccccc4c5c3c6n2...</td>\n",
              "      <td>86358</td>\n",
              "      <td>1</td>\n",
              "    </tr>\n",
              "    <tr>\n",
              "      <th>2</th>\n",
              "      <td>Cc1cnc(nc1c2cc([nH]c2)C(=O)N[C@H](CO)c3cccc(c3...</td>\n",
              "      <td>575087</td>\n",
              "      <td>1</td>\n",
              "    </tr>\n",
              "    <tr>\n",
              "      <th>3</th>\n",
              "      <td>Cc1cnc(nc1c2cc([nH]c2)C(=O)N[C@H](CO)c3cccc(c3...</td>\n",
              "      <td>575065</td>\n",
              "      <td>1</td>\n",
              "    </tr>\n",
              "    <tr>\n",
              "      <th>4</th>\n",
              "      <td>Cc1cnc(nc1c2cc([nH]c2)C(=O)N[C@H](CO)c3cccc(c3...</td>\n",
              "      <td>575047</td>\n",
              "      <td>1</td>\n",
              "    </tr>\n",
              "  </tbody>\n",
              "</table>\n",
              "</div>\n",
              "      <button class=\"colab-df-convert\" onclick=\"convertToInteractive('df-1f1e4eb3-4365-4860-8d99-9bd9f689f510')\"\n",
              "              title=\"Convert this dataframe to an interactive table.\"\n",
              "              style=\"display:none;\">\n",
              "        \n",
              "  <svg xmlns=\"http://www.w3.org/2000/svg\" height=\"24px\"viewBox=\"0 0 24 24\"\n",
              "       width=\"24px\">\n",
              "    <path d=\"M0 0h24v24H0V0z\" fill=\"none\"/>\n",
              "    <path d=\"M18.56 5.44l.94 2.06.94-2.06 2.06-.94-2.06-.94-.94-2.06-.94 2.06-2.06.94zm-11 1L8.5 8.5l.94-2.06 2.06-.94-2.06-.94L8.5 2.5l-.94 2.06-2.06.94zm10 10l.94 2.06.94-2.06 2.06-.94-2.06-.94-.94-2.06-.94 2.06-2.06.94z\"/><path d=\"M17.41 7.96l-1.37-1.37c-.4-.4-.92-.59-1.43-.59-.52 0-1.04.2-1.43.59L10.3 9.45l-7.72 7.72c-.78.78-.78 2.05 0 2.83L4 21.41c.39.39.9.59 1.41.59.51 0 1.02-.2 1.41-.59l7.78-7.78 2.81-2.81c.8-.78.8-2.07 0-2.86zM5.41 20L4 18.59l7.72-7.72 1.47 1.35L5.41 20z\"/>\n",
              "  </svg>\n",
              "      </button>\n",
              "      \n",
              "  <style>\n",
              "    .colab-df-container {\n",
              "      display:flex;\n",
              "      flex-wrap:wrap;\n",
              "      gap: 12px;\n",
              "    }\n",
              "\n",
              "    .colab-df-convert {\n",
              "      background-color: #E8F0FE;\n",
              "      border: none;\n",
              "      border-radius: 50%;\n",
              "      cursor: pointer;\n",
              "      display: none;\n",
              "      fill: #1967D2;\n",
              "      height: 32px;\n",
              "      padding: 0 0 0 0;\n",
              "      width: 32px;\n",
              "    }\n",
              "\n",
              "    .colab-df-convert:hover {\n",
              "      background-color: #E2EBFA;\n",
              "      box-shadow: 0px 1px 2px rgba(60, 64, 67, 0.3), 0px 1px 3px 1px rgba(60, 64, 67, 0.15);\n",
              "      fill: #174EA6;\n",
              "    }\n",
              "\n",
              "    [theme=dark] .colab-df-convert {\n",
              "      background-color: #3B4455;\n",
              "      fill: #D2E3FC;\n",
              "    }\n",
              "\n",
              "    [theme=dark] .colab-df-convert:hover {\n",
              "      background-color: #434B5C;\n",
              "      box-shadow: 0px 1px 3px 1px rgba(0, 0, 0, 0.15);\n",
              "      filter: drop-shadow(0px 1px 2px rgba(0, 0, 0, 0.3));\n",
              "      fill: #FFFFFF;\n",
              "    }\n",
              "  </style>\n",
              "\n",
              "      <script>\n",
              "        const buttonEl =\n",
              "          document.querySelector('#df-1f1e4eb3-4365-4860-8d99-9bd9f689f510 button.colab-df-convert');\n",
              "        buttonEl.style.display =\n",
              "          google.colab.kernel.accessAllowed ? 'block' : 'none';\n",
              "\n",
              "        async function convertToInteractive(key) {\n",
              "          const element = document.querySelector('#df-1f1e4eb3-4365-4860-8d99-9bd9f689f510');\n",
              "          const dataTable =\n",
              "            await google.colab.kernel.invokeFunction('convertToInteractive',\n",
              "                                                     [key], {});\n",
              "          if (!dataTable) return;\n",
              "\n",
              "          const docLinkHtml = 'Like what you see? Visit the ' +\n",
              "            '<a target=\"_blank\" href=https://colab.research.google.com/notebooks/data_table.ipynb>data table notebook</a>'\n",
              "            + ' to learn more about interactive tables.';\n",
              "          element.innerHTML = '';\n",
              "          dataTable['output_type'] = 'display_data';\n",
              "          await google.colab.output.renderOutput(dataTable, element);\n",
              "          const docLink = document.createElement('div');\n",
              "          docLink.innerHTML = docLinkHtml;\n",
              "          element.appendChild(docLink);\n",
              "        }\n",
              "      </script>\n",
              "    </div>\n",
              "  </div>\n",
              "  "
            ]
          },
          "metadata": {},
          "execution_count": 24
        }
      ],
      "source": [
        "active_df[\"is_active\"] = [1] * active_df.shape[0]\n",
        "revised_decoy_df[\"is_active\"] = [0] * revised_decoy_df.shape[0]\n",
        "combined_df = active_df.append(revised_decoy_df)[[\"SMILES\",\"ID\",\"is_active\"]]\n",
        "combined_df.head()"
      ]
    },
    {
      "cell_type": "code",
      "execution_count": null,
      "metadata": {
        "id": "1NDR_A5oz4ya"
      },
      "outputs": [],
      "source": [
        "# 파일로 저장해둔다\n",
        "combined_df.to_csv(\"dude_erk1_mk01.csv\")"
      ]
    },
    {
      "cell_type": "markdown",
      "metadata": {
        "id": "1V7obXblHUP6"
      },
      "source": [
        "# 분류 모델\n",
        "\n",
        "- GCN 모델을 사용한다"
      ]
    },
    {
      "cell_type": "markdown",
      "metadata": {
        "id": "ee8fkz1pIStN"
      },
      "source": [
        "##  그래프 컨볼류션 모델 생성"
      ]
    },
    {
      "cell_type": "code",
      "execution_count": null,
      "metadata": {
        "id": "_ZB9-hFQHhph"
      },
      "outputs": [],
      "source": [
        "def generate_graph_conv_model():\n",
        "    batch_size = 128\n",
        "    model = GraphConvModel(1, batch_size=batch_size, \n",
        "             mode='classification', model_dir=\"./model_dir\")\n",
        "    return model"
      ]
    },
    {
      "cell_type": "code",
      "execution_count": null,
      "metadata": {
        "id": "cxvt5XBkHsiK"
      },
      "outputs": [],
      "source": [
        "dataset_file = \"dude_erk1_mk01.csv\"\n",
        "tasks = [\"is_active\"]\n",
        "featurizer = dc.feat.ConvMolFeaturizer()\n",
        "loader = dc.data.CSVLoader(tasks=tasks, feature_field=\"SMILES\", featurizer=featurizer)\n",
        "dataset = loader.create_dataset(dataset_file, shard_size=8192)"
      ]
    },
    {
      "cell_type": "markdown",
      "metadata": {
        "id": "jC8aDynkIz89"
      },
      "source": [
        "- RandomSplitter() 사용\n",
        "- 화학 구조를 기반으로 데이터셋을 나누는 ScaffoleSplit(), 데이터를 군집화 한 후에 데이터셋을 분리하는 ButinaSplitter()도 있다\n",
        "- 불균형 데이터에 대한 성능 평가시에는 매튜 상관계수 Matthews Correlarions Coefficients(MCC)를 사용한다\n",
        " - +1이면 완벽한 예측, 0이면 랜덤 예측, -1이면 완전히 반대되는 예측을 의미한다"
      ]
    },
    {
      "cell_type": "code",
      "execution_count": null,
      "metadata": {
        "id": "bIgIxmECICLd"
      },
      "outputs": [],
      "source": [
        "splitter = dc.splits.RandomSplitter()\n",
        "metrics = [dc.metrics.Metric(dc.metrics.matthews_corrcoef, np.mean)]"
      ]
    },
    {
      "cell_type": "code",
      "execution_count": null,
      "metadata": {
        "colab": {
          "base_uri": "https://localhost:8080/",
          "height": 105,
          "referenced_widgets": [
            "69917f925dcb4e8fa51a037b403424de",
            "42bd2d917b09425ba1f35f0e302d7d9b",
            "2cdc365ea35a4a67a16388452f377a68",
            "f50c0790088042adb65808e86d832bfb",
            "4f57af545b2244d9955212a659ebbad2",
            "506456fdaa974c9182d554a7e7171db7",
            "05f61e1edb294166885db907050c291f",
            "ec07d33ce1ef4a7b979b88bde05340dc",
            "4fd0096a5f284655a0865e380d54c60b",
            "f4abae7c930c480ea87a50cc2ed727eb",
            "82924a2d86244af780e21a3c2b99f8f1"
          ]
        },
        "collapsed": true,
        "id": "TfsZNqMbKlGv",
        "outputId": "9fd82ac1-00b9-4e45-9a06-f58e601a6a96"
      },
      "outputs": [
        {
          "output_type": "display_data",
          "data": {
            "text/plain": [
              "  0%|          | 0/5 [00:00<?, ?it/s]"
            ],
            "application/vnd.jupyter.widget-view+json": {
              "version_major": 2,
              "version_minor": 0,
              "model_id": "69917f925dcb4e8fa51a037b403424de"
            }
          },
          "metadata": {}
        },
        {
          "output_type": "stream",
          "name": "stdout",
          "text": [
            "[0.6982350009824251, 0.7794841600758525, 0.8490398650233931, 0.8549621258262696, 0.47318078220939563]\n",
            "[0.6147334478929444, 1.0, 0.8641283031407085, 0.7047972264664374, 0.6261968846083608]\n"
          ]
        }
      ],
      "source": [
        "training_score_list = []\n",
        "validation_score_list = []\n",
        "transformers = []\n",
        "cv_folds = 5\n",
        "for i in tqdm(range(0,cv_folds)):\n",
        "    model = generate_graph_conv_model()\n",
        "    train_dataset, valid_dataset, test_dataset = splitter.train_valid_test_split(dataset)\n",
        "    model.fit(train_dataset)\n",
        "    train_scores = model.evaluate(train_dataset, metrics, transformers)\n",
        "    training_score_list.append(train_scores[\"mean-matthews_corrcoef\"])\n",
        "    validation_scores = model.evaluate(valid_dataset, metrics, transformers)\n",
        "    validation_score_list.append(validation_scores[\"mean-matthews_corrcoef\"])\n",
        "print(training_score_list)\n",
        "print(validation_score_list)"
      ]
    },
    {
      "cell_type": "code",
      "execution_count": null,
      "metadata": {
        "colab": {
          "base_uri": "https://localhost:8080/"
        },
        "id": "x8WbOOLY3Njt",
        "outputId": "06baeff3-ab0b-4188-e6b1-5ac108c13690"
      },
      "outputs": [
        {
          "output_type": "execute_result",
          "data": {
            "text/plain": [
              "(0.7309803868234671, 0.7619711724216902)"
            ]
          },
          "metadata": {},
          "execution_count": 30
        }
      ],
      "source": [
        "np.array(training_score_list).mean(), np.array(validation_score_list).mean()"
      ]
    },
    {
      "cell_type": "code",
      "execution_count": null,
      "metadata": {
        "colab": {
          "base_uri": "https://localhost:8080/",
          "height": 265
        },
        "id": "q-Y7amrZNMzi",
        "outputId": "18e4f169-b9c1-46bd-b70a-4006ae9470a0"
      },
      "outputs": [
        {
          "output_type": "display_data",
          "data": {
            "text/plain": [
              "<Figure size 432x288 with 1 Axes>"
            ],
            "image/png": "[encoded data removed]"
          },
          "metadata": {
            "image/png": {
              "width": 372,
              "height": 248
            },
            "needs_background": "light"
          }
        }
      ],
      "source": [
        "sns.boxplot(x=[\"training\"]*cv_folds+[\"validation\"]*cv_folds,y=training_score_list+validation_score_list);"
      ]
    },
    {
      "cell_type": "markdown",
      "metadata": {
        "id": "TIH_hSwPN-jt"
      },
      "source": [
        "## 검증 데이터 분류 예측"
      ]
    },
    {
      "cell_type": "code",
      "execution_count": null,
      "metadata": {
        "id": "n6h8HG-fNSCZ"
      },
      "outputs": [],
      "source": [
        "pred = [x.flatten() for x in model.predict(valid_dataset)]\n",
        "pred[:3]"
      ]
    },
    {
      "cell_type": "code",
      "source": [],
      "metadata": {
        "collapsed": true,
        "id": "ozL5mruKiYoJ",
        "outputId": "7d0d0a1e-9c89-417d-a12d-a8eb5a9a9cfc",
        "colab": {
          "base_uri": "https://localhost:8080/"
        }
      },
      "execution_count": null,
      "outputs": [
        {
          "output_type": "execute_result",
          "data": {
            "text/plain": [
              "[array([9.9921668e-01, 7.8330707e-04], dtype=float32),\n",
              " array([9.9980456e-01, 1.9542595e-04], dtype=float32),\n",
              " array([9.9942756e-01, 5.7242432e-04], dtype=float32)]"
            ]
          },
          "metadata": {},
          "execution_count": 37
        }
      ]
    },
    {
      "cell_type": "code",
      "execution_count": null,
      "metadata": {
        "colab": {
          "base_uri": "https://localhost:8080/",
          "height": 206
        },
        "id": "sfNkHHqfNkSe",
        "outputId": "c208ed51-60c3-47cd-d8dc-de3e44ebf497"
      },
      "outputs": [
        {
          "output_type": "execute_result",
          "data": {
            "text/plain": [
              "        neg       pos  active  \\\n",
              "0  0.999217  0.000783       0   \n",
              "1  0.999805  0.000195       0   \n",
              "2  0.999428  0.000572       0   \n",
              "3  0.995072  0.004928       0   \n",
              "4  0.999108  0.000892       0   \n",
              "\n",
              "                                              SMILES  \n",
              "0  c1cc(ccc1n2c(cc(=O)nc2SCC(=O)Nc3c(c4c(s3)CCCCC...  \n",
              "1         c1cc(ccc1CC(=O)NC(=O)NNc2ccc(c(c2)Cl)Cl)Br  \n",
              "2            Cc1c(sc2c1c(nc(n2)CSc3nnc(s3)NC(C)C)N)C  \n",
              "3  c1ccc(cc1)NC(=O)Nc2ccc(cc2)S(=O)(=O)c3ccc(cc3)...  \n",
              "4          c1cc(ccc1CSc2nnc(n2N)N/N=C/c3ccc(cc3)F)Cl  "
            ],
            "text/html": [
              "\n",
              "  <div id=\"df-43210ec9-8423-491f-a0d0-996ca28f325f\">\n",
              "    <div class=\"colab-df-container\">\n",
              "      <div>\n",
              "<style scoped>\n",
              "    .dataframe tbody tr th:only-of-type {\n",
              "        vertical-align: middle;\n",
              "    }\n",
              "\n",
              "    .dataframe tbody tr th {\n",
              "        vertical-align: top;\n",
              "    }\n",
              "\n",
              "    .dataframe thead th {\n",
              "        text-align: right;\n",
              "    }\n",
              "</style>\n",
              "<table border=\"1\" class=\"dataframe\">\n",
              "  <thead>\n",
              "    <tr style=\"text-align: right;\">\n",
              "      <th></th>\n",
              "      <th>neg</th>\n",
              "      <th>pos</th>\n",
              "      <th>active</th>\n",
              "      <th>SMILES</th>\n",
              "    </tr>\n",
              "  </thead>\n",
              "  <tbody>\n",
              "    <tr>\n",
              "      <th>0</th>\n",
              "      <td>0.999217</td>\n",
              "      <td>0.000783</td>\n",
              "      <td>0</td>\n",
              "      <td>c1cc(ccc1n2c(cc(=O)nc2SCC(=O)Nc3c(c4c(s3)CCCCC...</td>\n",
              "    </tr>\n",
              "    <tr>\n",
              "      <th>1</th>\n",
              "      <td>0.999805</td>\n",
              "      <td>0.000195</td>\n",
              "      <td>0</td>\n",
              "      <td>c1cc(ccc1CC(=O)NC(=O)NNc2ccc(c(c2)Cl)Cl)Br</td>\n",
              "    </tr>\n",
              "    <tr>\n",
              "      <th>2</th>\n",
              "      <td>0.999428</td>\n",
              "      <td>0.000572</td>\n",
              "      <td>0</td>\n",
              "      <td>Cc1c(sc2c1c(nc(n2)CSc3nnc(s3)NC(C)C)N)C</td>\n",
              "    </tr>\n",
              "    <tr>\n",
              "      <th>3</th>\n",
              "      <td>0.995072</td>\n",
              "      <td>0.004928</td>\n",
              "      <td>0</td>\n",
              "      <td>c1ccc(cc1)NC(=O)Nc2ccc(cc2)S(=O)(=O)c3ccc(cc3)...</td>\n",
              "    </tr>\n",
              "    <tr>\n",
              "      <th>4</th>\n",
              "      <td>0.999108</td>\n",
              "      <td>0.000892</td>\n",
              "      <td>0</td>\n",
              "      <td>c1cc(ccc1CSc2nnc(n2N)N/N=C/c3ccc(cc3)F)Cl</td>\n",
              "    </tr>\n",
              "  </tbody>\n",
              "</table>\n",
              "</div>\n",
              "      <button class=\"colab-df-convert\" onclick=\"convertToInteractive('df-43210ec9-8423-491f-a0d0-996ca28f325f')\"\n",
              "              title=\"Convert this dataframe to an interactive table.\"\n",
              "              style=\"display:none;\">\n",
              "        \n",
              "  <svg xmlns=\"http://www.w3.org/2000/svg\" height=\"24px\"viewBox=\"0 0 24 24\"\n",
              "       width=\"24px\">\n",
              "    <path d=\"M0 0h24v24H0V0z\" fill=\"none\"/>\n",
              "    <path d=\"M18.56 5.44l.94 2.06.94-2.06 2.06-.94-2.06-.94-.94-2.06-.94 2.06-2.06.94zm-11 1L8.5 8.5l.94-2.06 2.06-.94-2.06-.94L8.5 2.5l-.94 2.06-2.06.94zm10 10l.94 2.06.94-2.06 2.06-.94-2.06-.94-.94-2.06-.94 2.06-2.06.94z\"/><path d=\"M17.41 7.96l-1.37-1.37c-.4-.4-.92-.59-1.43-.59-.52 0-1.04.2-1.43.59L10.3 9.45l-7.72 7.72c-.78.78-.78 2.05 0 2.83L4 21.41c.39.39.9.59 1.41.59.51 0 1.02-.2 1.41-.59l7.78-7.78 2.81-2.81c.8-.78.8-2.07 0-2.86zM5.41 20L4 18.59l7.72-7.72 1.47 1.35L5.41 20z\"/>\n",
              "  </svg>\n",
              "      </button>\n",
              "      \n",
              "  <style>\n",
              "    .colab-df-container {\n",
              "      display:flex;\n",
              "      flex-wrap:wrap;\n",
              "      gap: 12px;\n",
              "    }\n",
              "\n",
              "    .colab-df-convert {\n",
              "      background-color: #E8F0FE;\n",
              "      border: none;\n",
              "      border-radius: 50%;\n",
              "      cursor: pointer;\n",
              "      display: none;\n",
              "      fill: #1967D2;\n",
              "      height: 32px;\n",
              "      padding: 0 0 0 0;\n",
              "      width: 32px;\n",
              "    }\n",
              "\n",
              "    .colab-df-convert:hover {\n",
              "      background-color: #E2EBFA;\n",
              "      box-shadow: 0px 1px 2px rgba(60, 64, 67, 0.3), 0px 1px 3px 1px rgba(60, 64, 67, 0.15);\n",
              "      fill: #174EA6;\n",
              "    }\n",
              "\n",
              "    [theme=dark] .colab-df-convert {\n",
              "      background-color: #3B4455;\n",
              "      fill: #D2E3FC;\n",
              "    }\n",
              "\n",
              "    [theme=dark] .colab-df-convert:hover {\n",
              "      background-color: #434B5C;\n",
              "      box-shadow: 0px 1px 3px 1px rgba(0, 0, 0, 0.15);\n",
              "      filter: drop-shadow(0px 1px 2px rgba(0, 0, 0, 0.3));\n",
              "      fill: #FFFFFF;\n",
              "    }\n",
              "  </style>\n",
              "\n",
              "      <script>\n",
              "        const buttonEl =\n",
              "          document.querySelector('#df-43210ec9-8423-491f-a0d0-996ca28f325f button.colab-df-convert');\n",
              "        buttonEl.style.display =\n",
              "          google.colab.kernel.accessAllowed ? 'block' : 'none';\n",
              "\n",
              "        async function convertToInteractive(key) {\n",
              "          const element = document.querySelector('#df-43210ec9-8423-491f-a0d0-996ca28f325f');\n",
              "          const dataTable =\n",
              "            await google.colab.kernel.invokeFunction('convertToInteractive',\n",
              "                                                     [key], {});\n",
              "          if (!dataTable) return;\n",
              "\n",
              "          const docLinkHtml = 'Like what you see? Visit the ' +\n",
              "            '<a target=\"_blank\" href=https://colab.research.google.com/notebooks/data_table.ipynb>data table notebook</a>'\n",
              "            + ' to learn more about interactive tables.';\n",
              "          element.innerHTML = '';\n",
              "          dataTable['output_type'] = 'display_data';\n",
              "          await google.colab.output.renderOutput(dataTable, element);\n",
              "          const docLink = document.createElement('div');\n",
              "          docLink.innerHTML = docLinkHtml;\n",
              "          element.appendChild(docLink);\n",
              "        }\n",
              "      </script>\n",
              "    </div>\n",
              "  </div>\n",
              "  "
            ]
          },
          "metadata": {},
          "execution_count": 38
        }
      ],
      "source": [
        "pred_df = pd.DataFrame(pred,columns=[\"neg\",\"pos\"])\n",
        "pred_df[\"active\"] = [int(x) for x in valid_dataset.y]\n",
        "pred_df[\"SMILES\"] = valid_dataset.ids\n",
        "pred_df.head()"
      ]
    },
    {
      "cell_type": "code",
      "execution_count": null,
      "metadata": {
        "colab": {
          "base_uri": "https://localhost:8080/",
          "height": 206
        },
        "id": "TQO35DukNoVP",
        "outputId": "18a0e2cd-ca6d-44ac-9f40-2f8722f77e3a"
      },
      "outputs": [
        {
          "output_type": "execute_result",
          "data": {
            "text/plain": [
              "          neg       pos  active  \\\n",
              "264  0.232414  0.767586       1   \n",
              "82   0.242111  0.757889       1   \n",
              "357  0.270964  0.729036       1   \n",
              "362  0.272562  0.727438       1   \n",
              "239  0.302663  0.697337       1   \n",
              "\n",
              "                                                SMILES  \n",
              "264  c1cc(cc(c1)Cl)c2cn[nH]c2c3cc([nH]c3)C(=O)NC(CO...  \n",
              "82   c1cc(cc(c1)Cl)c2cn[nH]c2c3cc([nH]c3)C(=O)NCCc4...  \n",
              "357  c1ccc(cc1)CNC(=O)c2cc(c[nH]2)c3c(cn[nH]3)c4ccc...  \n",
              "362  c1cc(cc(c1)Cl)c2cn[nH]c2c3cc([nH]c3)C(=O)NC(CO...  \n",
              "239  C[C@@H](c1ccccc1)NC(=O)c2cc(c[nH]2)c3c(cn[nH]3...  "
            ],
            "text/html": [
              "\n",
              "  <div id=\"df-ef693d32-d610-4ace-b273-92dde77aaaad\">\n",
              "    <div class=\"colab-df-container\">\n",
              "      <div>\n",
              "<style scoped>\n",
              "    .dataframe tbody tr th:only-of-type {\n",
              "        vertical-align: middle;\n",
              "    }\n",
              "\n",
              "    .dataframe tbody tr th {\n",
              "        vertical-align: top;\n",
              "    }\n",
              "\n",
              "    .dataframe thead th {\n",
              "        text-align: right;\n",
              "    }\n",
              "</style>\n",
              "<table border=\"1\" class=\"dataframe\">\n",
              "  <thead>\n",
              "    <tr style=\"text-align: right;\">\n",
              "      <th></th>\n",
              "      <th>neg</th>\n",
              "      <th>pos</th>\n",
              "      <th>active</th>\n",
              "      <th>SMILES</th>\n",
              "    </tr>\n",
              "  </thead>\n",
              "  <tbody>\n",
              "    <tr>\n",
              "      <th>264</th>\n",
              "      <td>0.232414</td>\n",
              "      <td>0.767586</td>\n",
              "      <td>1</td>\n",
              "      <td>c1cc(cc(c1)Cl)c2cn[nH]c2c3cc([nH]c3)C(=O)NC(CO...</td>\n",
              "    </tr>\n",
              "    <tr>\n",
              "      <th>82</th>\n",
              "      <td>0.242111</td>\n",
              "      <td>0.757889</td>\n",
              "      <td>1</td>\n",
              "      <td>c1cc(cc(c1)Cl)c2cn[nH]c2c3cc([nH]c3)C(=O)NCCc4...</td>\n",
              "    </tr>\n",
              "    <tr>\n",
              "      <th>357</th>\n",
              "      <td>0.270964</td>\n",
              "      <td>0.729036</td>\n",
              "      <td>1</td>\n",
              "      <td>c1ccc(cc1)CNC(=O)c2cc(c[nH]2)c3c(cn[nH]3)c4ccc...</td>\n",
              "    </tr>\n",
              "    <tr>\n",
              "      <th>362</th>\n",
              "      <td>0.272562</td>\n",
              "      <td>0.727438</td>\n",
              "      <td>1</td>\n",
              "      <td>c1cc(cc(c1)Cl)c2cn[nH]c2c3cc([nH]c3)C(=O)NC(CO...</td>\n",
              "    </tr>\n",
              "    <tr>\n",
              "      <th>239</th>\n",
              "      <td>0.302663</td>\n",
              "      <td>0.697337</td>\n",
              "      <td>1</td>\n",
              "      <td>C[C@@H](c1ccccc1)NC(=O)c2cc(c[nH]2)c3c(cn[nH]3...</td>\n",
              "    </tr>\n",
              "  </tbody>\n",
              "</table>\n",
              "</div>\n",
              "      <button class=\"colab-df-convert\" onclick=\"convertToInteractive('df-ef693d32-d610-4ace-b273-92dde77aaaad')\"\n",
              "              title=\"Convert this dataframe to an interactive table.\"\n",
              "              style=\"display:none;\">\n",
              "        \n",
              "  <svg xmlns=\"http://www.w3.org/2000/svg\" height=\"24px\"viewBox=\"0 0 24 24\"\n",
              "       width=\"24px\">\n",
              "    <path d=\"M0 0h24v24H0V0z\" fill=\"none\"/>\n",
              "    <path d=\"M18.56 5.44l.94 2.06.94-2.06 2.06-.94-2.06-.94-.94-2.06-.94 2.06-2.06.94zm-11 1L8.5 8.5l.94-2.06 2.06-.94-2.06-.94L8.5 2.5l-.94 2.06-2.06.94zm10 10l.94 2.06.94-2.06 2.06-.94-2.06-.94-.94-2.06-.94 2.06-2.06.94z\"/><path d=\"M17.41 7.96l-1.37-1.37c-.4-.4-.92-.59-1.43-.59-.52 0-1.04.2-1.43.59L10.3 9.45l-7.72 7.72c-.78.78-.78 2.05 0 2.83L4 21.41c.39.39.9.59 1.41.59.51 0 1.02-.2 1.41-.59l7.78-7.78 2.81-2.81c.8-.78.8-2.07 0-2.86zM5.41 20L4 18.59l7.72-7.72 1.47 1.35L5.41 20z\"/>\n",
              "  </svg>\n",
              "      </button>\n",
              "      \n",
              "  <style>\n",
              "    .colab-df-container {\n",
              "      display:flex;\n",
              "      flex-wrap:wrap;\n",
              "      gap: 12px;\n",
              "    }\n",
              "\n",
              "    .colab-df-convert {\n",
              "      background-color: #E8F0FE;\n",
              "      border: none;\n",
              "      border-radius: 50%;\n",
              "      cursor: pointer;\n",
              "      display: none;\n",
              "      fill: #1967D2;\n",
              "      height: 32px;\n",
              "      padding: 0 0 0 0;\n",
              "      width: 32px;\n",
              "    }\n",
              "\n",
              "    .colab-df-convert:hover {\n",
              "      background-color: #E2EBFA;\n",
              "      box-shadow: 0px 1px 2px rgba(60, 64, 67, 0.3), 0px 1px 3px 1px rgba(60, 64, 67, 0.15);\n",
              "      fill: #174EA6;\n",
              "    }\n",
              "\n",
              "    [theme=dark] .colab-df-convert {\n",
              "      background-color: #3B4455;\n",
              "      fill: #D2E3FC;\n",
              "    }\n",
              "\n",
              "    [theme=dark] .colab-df-convert:hover {\n",
              "      background-color: #434B5C;\n",
              "      box-shadow: 0px 1px 3px 1px rgba(0, 0, 0, 0.15);\n",
              "      filter: drop-shadow(0px 1px 2px rgba(0, 0, 0, 0.3));\n",
              "      fill: #FFFFFF;\n",
              "    }\n",
              "  </style>\n",
              "\n",
              "      <script>\n",
              "        const buttonEl =\n",
              "          document.querySelector('#df-ef693d32-d610-4ace-b273-92dde77aaaad button.colab-df-convert');\n",
              "        buttonEl.style.display =\n",
              "          google.colab.kernel.accessAllowed ? 'block' : 'none';\n",
              "\n",
              "        async function convertToInteractive(key) {\n",
              "          const element = document.querySelector('#df-ef693d32-d610-4ace-b273-92dde77aaaad');\n",
              "          const dataTable =\n",
              "            await google.colab.kernel.invokeFunction('convertToInteractive',\n",
              "                                                     [key], {});\n",
              "          if (!dataTable) return;\n",
              "\n",
              "          const docLinkHtml = 'Like what you see? Visit the ' +\n",
              "            '<a target=\"_blank\" href=https://colab.research.google.com/notebooks/data_table.ipynb>data table notebook</a>'\n",
              "            + ' to learn more about interactive tables.';\n",
              "          element.innerHTML = '';\n",
              "          dataTable['output_type'] = 'display_data';\n",
              "          await google.colab.output.renderOutput(dataTable, element);\n",
              "          const docLink = document.createElement('div');\n",
              "          docLink.innerHTML = docLinkHtml;\n",
              "          element.appendChild(docLink);\n",
              "        }\n",
              "      </script>\n",
              "    </div>\n",
              "  </div>\n",
              "  "
            ]
          },
          "metadata": {},
          "execution_count": 39
        }
      ],
      "source": [
        "pred_df.sort_values(\"pos\",ascending=False).head(5)"
      ]
    },
    {
      "cell_type": "code",
      "execution_count": null,
      "metadata": {
        "colab": {
          "base_uri": "https://localhost:8080/",
          "height": 296
        },
        "id": "PKH1XjfD1X3c",
        "outputId": "75705251-d3fd-4aef-a329-c18c04236dc3"
      },
      "outputs": [
        {
          "data": {
            "text/plain": [
              "<matplotlib.axes._subplots.AxesSubplot at 0x7fe2333c0d50>"
            ]
          },
          "execution_count": 38,
          "metadata": {},
          "output_type": "execute_result"
        },
        {
          "data": {
            "image/png": "[encoded data removed]",
            "text/plain": [
              "<Figure size 432x288 with 1 Axes>"
            ]
          },
          "metadata": {
            "image/png": {
              "height": 261,
              "width": 385
            },
            "needs_background": "light"
          },
          "output_type": "display_data"
        }
      ],
      "source": [
        "sns.boxplot(x=pred_df.active,y=pred_df.pos)"
      ]
    },
    {
      "cell_type": "markdown",
      "metadata": {
        "id": "-XhDRA1o2q0E"
      },
      "source": [
        "- 위 그래프를 보면 활성 분자와 비활성 분자를 잘 구분하고 있는 것을 알 수 있다\n",
        "- False Negative 샘플 찾기"
      ]
    },
    {
      "cell_type": "code",
      "execution_count": null,
      "metadata": {
        "id": "ac4wexF92kbu"
      },
      "outputs": [],
      "source": [
        "false_negative_df = pred_df.query(\"active == 1 & pos < 0.5\").copy()"
      ]
    },
    {
      "cell_type": "code",
      "execution_count": null,
      "metadata": {
        "colab": {
          "base_uri": "https://localhost:8080/",
          "height": 1000
        },
        "id": "CG6W5TXT4Gwq",
        "outputId": "35acc757-7962-4db0-9e91-e065ea36b70e"
      },
      "outputs": [
        {
          "output_type": "execute_result",
          "data": {
            "text/plain": [
              "          neg       pos  active  \\\n",
              "26   0.993612  0.006388       1   \n",
              "96   0.784231  0.215769       1   \n",
              "236  0.971477  0.028523       1   \n",
              "253  0.996628  0.003372       1   \n",
              "269  0.983469  0.016531       1   \n",
              "289  0.900560  0.099440       1   \n",
              "331  0.790411  0.209589       1   \n",
              "333  0.996626  0.003374       1   \n",
              "433  0.799228  0.200772       1   \n",
              "\n",
              "                                                SMILES  \\\n",
              "26   CCCCNC(=O)N1Cc2c(n[nH]c2NC(=O)Cc3ccc(cc3)N4CCC...   \n",
              "96   CCc1ccccc1Nc2ncc(c(n2)c3cc([nH]c3)C(=O)N[C@H](...   \n",
              "236          c1c[nH]c2c1/C(=C\\3/C(=O)N=C(N3)N)/CCNC2=O   \n",
              "253  c1c(c2c(ncnc2n1[C@H]3[C@@H]([C@@H]([C@H](O3)CO...   \n",
              "269  CNC(=O)Nc1ccc(cn1)CNc2c(cnn2C)C(=O)Nc3ccc(cc3)...   \n",
              "289       c1ccc(cc1)c2c(c3ccccn3n2)c4cc5c(n[nH]c5nn4)N   \n",
              "331  Cc1cccc(c1C)Nc2ncc(c(n2)c3cc([nH]c3)C(=O)N[C@H...   \n",
              "333  CCCCNC(=O)N1Cc2c(n[nH]c2NC(=O)[C@@H](C)c3ccc4c...   \n",
              "433  CCc1ccccc1Nc2ncc(c(n2)c3cc([nH]c3)C(=O)N[C@H](...   \n",
              "\n",
              "                                                  Mol  \n",
              "26   <rdkit.Chem.rdchem.Mol object at 0x7fab8aa2b990>  \n",
              "96   <rdkit.Chem.rdchem.Mol object at 0x7fab8aa2b750>  \n",
              "236  <rdkit.Chem.rdchem.Mol object at 0x7fab8aa2b3f0>  \n",
              "253  <rdkit.Chem.rdchem.Mol object at 0x7fab8aa2bbd0>  \n",
              "269  <rdkit.Chem.rdchem.Mol object at 0x7fab8aa2b8d0>  \n",
              "289  <rdkit.Chem.rdchem.Mol object at 0x7fab8aa2bd50>  \n",
              "331  <rdkit.Chem.rdchem.Mol object at 0x7fab8aa2bf90>  \n",
              "333  <rdkit.Chem.rdchem.Mol object at 0x7fab8aa2b690>  \n",
              "433  <rdkit.Chem.rdchem.Mol object at 0x7fab8aa2b390>  "
            ],
            "text/html": [
              "\n",
              "  <div id=\"df-4e685dc3-6aac-48c9-8756-fd6c2b3525f1\">\n",
              "    <div class=\"colab-df-container\">\n",
              "      <div>\n",
              "<style scoped>\n",
              "    .dataframe tbody tr th:only-of-type {\n",
              "        vertical-align: middle;\n",
              "    }\n",
              "\n",
              "    .dataframe tbody tr th {\n",
              "        vertical-align: top;\n",
              "    }\n",
              "\n",
              "    .dataframe thead th {\n",
              "        text-align: right;\n",
              "    }\n",
              "</style>\n",
              "<table border=\"1\" class=\"dataframe\">\n",
              "  <thead>\n",
              "    <tr style=\"text-align: right;\">\n",
              "      <th></th>\n",
              "      <th>neg</th>\n",
              "      <th>pos</th>\n",
              "      <th>active</th>\n",
              "      <th>SMILES</th>\n",
              "      <th>Mol</th>\n",
              "    </tr>\n",
              "  </thead>\n",
              "  <tbody>\n",
              "    <tr>\n",
              "      <th>26</th>\n",
              "      <td>0.993612</td>\n",
              "      <td>0.006388</td>\n",
              "      <td>1</td>\n",
              "      <td>CCCCNC(=O)N1Cc2c(n[nH]c2NC(=O)Cc3ccc(cc3)N4CCC...</td>\n",
              "      <td style=\"text-align: center;\"><div style=\"width: 200px; height: 200px\" data-content=\"rdkit/molecule\"><img src=\"data:image/png;base64,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\" alt=\"Mol\"/></div></td>\n",
              "    </tr>\n",
              "    <tr>\n",
              "      <th>96</th>\n",
              "      <td>0.784231</td>\n",
              "      <td>0.215769</td>\n",
              "      <td>1</td>\n",
              "      <td>CCc1ccccc1Nc2ncc(c(n2)c3cc([nH]c3)C(=O)N[C@H](...</td>\n",
              "      <td style=\"text-align: center;\"><div style=\"width: 200px; height: 200px\" data-content=\"rdkit/molecule\"><img src=\"data:image/png;base64,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\" alt=\"Mol\"/></div></td>\n",
              "    </tr>\n",
              "    <tr>\n",
              "      <th>236</th>\n",
              "      <td>0.971477</td>\n",
              "      <td>0.028523</td>\n",
              "      <td>1</td>\n",
              "      <td>c1c[nH]c2c1/C(=C\\3/C(=O)N=C(N3)N)/CCNC2=O</td>\n",
              "      <td style=\"text-align: center;\"><div style=\"width: 200px; height: 200px\" data-content=\"rdkit/molecule\"><img src=\"data:image/png;base64,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\" alt=\"Mol\"/></div></td>\n",
              "    </tr>\n",
              "    <tr>\n",
              "      <th>253</th>\n",
              "      <td>0.996628</td>\n",
              "      <td>0.003372</td>\n",
              "      <td>1</td>\n",
              "      <td>c1c(c2c(ncnc2n1[C@H]3[C@@H]([C@@H]([C@H](O3)CO...</td>\n",
              "      <td style=\"text-align: center;\"><div style=\"width: 200px; height: 200px\" data-content=\"rdkit/molecule\"><img src=\"data:image/png;base64,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\" alt=\"Mol\"/></div></td>\n",
              "    </tr>\n",
              "    <tr>\n",
              "      <th>269</th>\n",
              "      <td>0.983469</td>\n",
              "      <td>0.016531</td>\n",
              "      <td>1</td>\n",
              "      <td>CNC(=O)Nc1ccc(cn1)CNc2c(cnn2C)C(=O)Nc3ccc(cc3)...</td>\n",
              "      <td style=\"text-align: center;\"><div style=\"width: 200px; height: 200px\" data-content=\"rdkit/molecule\"><img src=\"data:image/png;base64,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\" alt=\"Mol\"/></div></td>\n",
              "    </tr>\n",
              "    <tr>\n",
              "      <th>289</th>\n",
              "      <td>0.900560</td>\n",
              "      <td>0.099440</td>\n",
              "      <td>1</td>\n",
              "      <td>c1ccc(cc1)c2c(c3ccccn3n2)c4cc5c(n[nH]c5nn4)N</td>\n",
              "      <td style=\"text-align: center;\"><div style=\"width: 200px; height: 200px\" data-content=\"rdkit/molecule\"><img src=\"data:image/png;base64,iVBORw0KGgoAAAANSUhEUgAAAMgAAADICAIAAAAiOjnJAAAABmJLR0QA/wD/AP+gvaeTAAAgAElEQVR4nO2de1xU1drHfzMMAyh3QyVFERQUVEiN8lZZ1MnSBHW8lFhWTmnlKTvnzOubSnnBsc7boaNlk7fM1MJrqFmO5YU07xcEuQioXFUIgUHuM8/7xxq24wUYZmbPOLi/H/+Y2bP3etY4P5717LXXeh4REUFAwNKIbd0BgbaJICwBXhCEJcALgrAEeEEQlgAvCMIS4AVBWAK8IAhLgBcEYQnwgiAsAV4QhCXAC4KwBHhBEJYALwjCEuAFQVgCvCAIS4AXBGEJ8IIgLAFeEIQlwAuCsAR4QRCWAC8IwhLgBUFYArwgCEuAFwRhCfCCICwBXhCEJcALD66wbt68qVQqf/zxR51OZ+u+tEFED2BSkMzMzDVr1qxcubK0tBRAaGjokSNH3N3dbd2vNsUDJKzq6uotW7asWrUqKSmJfWtXV9fq6mqtVtuvX7/t27cHBgbauo9tCHoASE1NVSgUHTp0YF/Zzc0tJiZGrVYTUUZGRmhoKAB3d/cdO3bYuqdth7YsrPLycpVKNXToUO6vaODAgSqVSqPREFFNTU1NTQ0RaTSacePGARCJRAqFQqvV2rrjbYG2KayTJ0/K5XJXV1emJ09PT7lcfvbsWfZpWlqaQqHw8fFZs2YNO6LT6ZRKpVgsBjB69OiysjLb9b2N0KaEVVpaqlKp+vfvz/QkFouHDh2qUqlu3rxJRBqNZtWqVYMHD+Yc2Jtvvml4+c8//+zl5QUgODg4LS3NRl+ijdAWhKXVatVqdUxMjIuLC1OMr6+vQqHIyspiJzAH5ubmxj718PCQy+WnTp26u6mLFy/27dtXCLnMx76FVVBQoFQqe/TowbmoyMjIhISEuro6IiorK1OpVI888sgdMVZlZWUzbQohl0WwV2Gp1epOnTo5ODgwxQQGBsbFxRUWFrJPmYtq164d+9TLy0sulycnJxvZuBBymY+9CsvT0xOARCKRyWRqtVqn0xFRUVGRUqns2bPnPR1YazEMuS5cuGDpb9DGsUthFRcXM91cvHiRGmMsmUzm6OjIJNWlSxeFQpGTk2OmIcOQa/v27Zbo+4OCXQrr2LFjAMLDw9nb5557julJKpWOHz9+z549FgyMNBrN+PHjhZCrtdilsL777jsAEydOZG/j4+ODgoKUSuW1a9f4MMdCLhbPjRo1Sgi5jMEuhTV37lwA8+fPZ29NC6Fay549e1jIFRQUJIRcLWKXy2YyMjIABAcHs7dcaMUrzz///PHjx/v27ZuZmRkRETF//nwrGLVjbK1sU2Bz6ydPnrS+aY1GM3bsWPZfd+bMGet3wF6wP4+l0+mysrIA9OrVy/rWXV1dN2/e3L59ewDffvut9TtgL9ifsPLy8qqqqnx9fa28NO+7775bsGBBenq6WCz29/cHEBUVZc0O2BcSW3eg1dwRYFmNDRs27N27d8CAAUFBQTk5OSKRaODAgVbugx1hfx7LVsLi7Obm5lZXVz/88MPcU22Bu7E/YWVmZsLqwqqurs7Ly3N0dPT392cKCwoKsmYH7A77E5ZNPFZWVpZOpwsMDHR0dLSVy7Qv7FVYVnYYhmKyicu0O+xMWNXV1fn5+VKplN2XWQ1DYQkeyxjsTFiZmZlsSJJIrHo/a+gmhRjLGOxMWDa/JayqqiooKJBKpd27d7dyH+wLOxOWreIbzi5zmT179rSyy7Q77ExYNvFY165dKysr8/Ly8vHxEQIsI7FLYVk5vjF0k8ItoZHYmbAuXrwIq/+ud98SCpF7i9iTsK5evVpWVubt7f3QQw9Z0+7dt4SCx2oRexLWHT9qRUVFUVGRle3axGXaI/YkrP379wPo1q0bACJ6/fXXBw0a9Oeff/JtlxNWUVFReXm5t7c3l7hGoCnsSViHDh0CcPjwYQAajaakpKSwsHDEiBErV67kz2h9ff2lS5fEYnHPnj1Z5N67d2/+zLUZ7ElYM2bMAJCfnz9lyhSJRLJv3z6FQlFbWyuXy9966626ujo+jObk5NTX13fv3t3Z2VkIsIzHnoQlk8ni4uI8PDw2bNgwZMiQvLw8pVK5cePGdu3affPNN0OGDMnNzbW4UcP5BeGW0HjsSVgA5syZc/z48T59+pw7d+7RRx9Vq9WTJ08+fPiwv7//qVOnBg0adODAActaFNY1mIitd3OYQkVFBVtv7uDgoFQqdTpdSUlJZGQkAIlEolQqLWjrhx9++Nvf/rZhwwYiYts3UlNTLdh+W8UuhUW3J4SZNGlSZWVlQ0ODQqFgfy0xMTFVVVWWtVhXV+fo6Ojg4FBdXW3Zltsk9iosxs6dOz08PACEhYVlZ2cTEQu5AAwcOPDKlSsWtLVp0yYAfn5+FmyzDWPfwiKijIyMkJAQAN7e3nv37iWiM2fOsFRsPj4++/fvN7P9GzduqFSqsLAwAL6+vkJqECOxe2ERUUVFRXR0tGVDLq1Wu2/fvkmTJjk5ObHhtXPnziNGjGCpQaKioioqKiz+RdoSbUFYdHvINXHiRHNCrsLCQqVSyRUTuCN72y+//MKlBhGi+GZoI8Ji7Nq1i2X669+/Pwu5Nm3axEKuAQMGNB9y3Z29rWvXrgqF4tKlS3ecmZWV1a9fPwBubm7btm3j7+vYNW1KWHR7yPXrr78S0enTp9nOi2efffael+Tm5iqVSvYIEoBUKpXJZImJiQ0NDU1Z0Wg0MpkMQja2pmlrwqJ7hVzFxcXjxo3jsnMzampqEhISIiMjRSIRk1RwcLDx2dt0Ol18fDxboPziiy/euHGDn2+j59gxys/Xv87Lo9u/yv1IGxQW3SvkMvyUq0zB9OTs7GyYIbdV7N+/n7XTq1cvXkOuiAgaPJiYZ/zqK/roI/5MWYa2KSyGYch14cKFqqoq5qK4pw4DBw6Mj4//66+/zLFy5coVlh3Ezc1t69atlur8HURE0Isv0tdfEwnCuh9IS0tjq1xEIhG3r8bT0/Pdd9/lSuuYT3V19dSpU3kNuSIi6NQpCgiga9cEYd0fVFRUBAQEMEmFhYW1WJnCZFQqFdPuCy+8YJGQq6yMtm2jt9+m5GSKiKArV+irr2jqVEFY9w1arfbgwYNsXp5XDhw40LFjRxZypaSkmNCCVksnT5JSSZGRJJUSQADFxemFpdVSRAS9+qogrAeP3NzcQYMGsZBry5YtRl515QqtXEkyGXl768UEkKMjPfEELVpEqal6YRHRiRPk6CgI64HEyJCrsrJy9+7ds2bNCgkJ6dDhOqennj1p5kzasYO4h0YaDb39NnHTIAsWUGOhxfsXQVh8oVKp2CS+Ycil0+lOnz6tVCqffvpp7ikkgGee2RAdTStWUHb2rRZSUvRjopMT7dx5W+O7d9Mzz9D9vH5HEBaPcCFXQEBAXFzcK6+8wt4yHBwcHnvssXnz5iUlJdXX17NLCgpo7VqaPJl8fG6NiQ4O9Nlnt5qtq6M+fQigOXNs872MQRAWv7CQSywWs9latkpCJpOtW7eOmz+rqqr69ddfP/zww+jog5yYAPL3p+nTacsWKi29s9mjR8nBgSQSOn7c2t/ISARh8Y5Go2FPjeLj4w0rAmdnZ6tUKplMxiXJfeKJ99q1o8hIUiqpxeoIs2cTQP36UW0tv/03DUFYvFNRUQHA1dWVvT1w4MC0adO6dOnCjYlisXjAgAFz5sw5ePCY8Sq5eZN69SKAYmN56rhZCMLincLCQgCdOnVib+Pj45meOnbsKJPJVCpVQUGBaS0fPkxiMUkkdK/y1jZGyB7GOzdv3gTg6urK3o4ZM6a+vv65555jFYHMYcgQzJyJ5cvx+us4cQJWqVVlNLZWdtvnzJkzAMLCwvhovLKSAgMJoMWL+WjedOxsw6o9UllZCQOPZVnat8fKlRCJsGABUlP5sGAigrB4hw2FrGAYH4wYgenTUVuLN96AVsuTkVbTnLAuXQKR/nVFBUpKbvtUp0NODhoa9G+vXUN1NR89tHt49ViMzz5Dt244dgz/+Q9/RlpHc8J6/PFbWtmyBQsX3vZpZSUCA/HFF/q377yDo0f56KHdYwVhubtj9WqIRJg7F2lp/NlpBWYNhX5+WLMGPKR4aVPwPRQyIiPx6qt46SU0rri2MS0IKy0NqalITUVh4T0+dXbG/PmYNYuXnrUZrOCxGCtX4v/+D3PnorRUf2TRoluvrUwL81hffAEHBwC4eBH3LPs4cSJWrkRiIg9daytYx2MBkEhQUoLvv4dOh2++AYCtWzF1Kry9+bZ8r840//HXX6NdOwBYswbnzt37nOXLMXYsGncOC9yJ1TwWY9gwpKTg8GEMHWodg/em1THWjRvYtw9lZbeO9O6NqCjs3WvJbrUlmLCs4LEYIhG++ALvvIP6ev2RBQvw/fc4fhzl5dbpAtC8xwoIQONaD3h4wMcHRFi6FE8+ialTsXEj/Pz0n86di3374OLCc2ftkzse6ViBRx/F4MFYvhwA/voLsbG3PvLyQkAAQkIQGoqAAAQEIDQUzs6W70NzwjJMdD1unP6FUgkAq1bB1RW//aY/WF+PadNuzWkJGGLloZCxeDEGD0ZtLcRizJuHzEz9vxs3cOoUTp26debTTx+4fPmNgICAgICAkJCQ0NDQgICAHj16cBvETcOUh9CrVmHChNuOfPMN/vUvREVh2DBzOtM2sYmwvL3xP/+D11+HlxcWLNAfJEJenl5hGRnIyEBmJmpqzuTk5OTk5Bhe7unpGRQU1Lt3bxcXF4VCwfKNtQoRcZPrRqDT4aOP4OSE0aPxyCO3Bspr1+DnByLk5sLXt7V9aOMMHjz46NGjR44cGTx4MH9WdDqkpsLXFydOYORIACDCunUYPx7NS7quri4/Pz81NfXChQtMYSkpKVevXmWfSqVSR0fHq1evtvoPo1WPrGtrKSFB/++OXCxjxxJAFs0r20bo27cvgOTkZF6tzJ9PUqnFdu9cv3790KFDq1atkkqlAFatWtXaFiy2bObnnwmggABqfWaNNg5LopSTk8OfiZ9+IrGYHBxozx4Lt8yWJY4cObK1F1pMWFotde9OAJmd9bOtwWqVGZkdyQTS08nDg4DbdvKYz/nz5wsLC2/cuNGuXTuxWHz58uVWXW6xZTNiMV57DQBWr7ZUk20Ew+mGwsLCsLCwpUuXXr9+3SKNazQYOxbl5Rg7Fh9+aJEmAWDBggX9+vVbvny5p6dndHS0Tqdbu3Zt65qwoMZzc8nBgZyd77Fd6YGloaEBgFgsZsm3PvvsM/bfLpVKo6Ojf/rpJ5ba1DR0On1o278/WTbRSVJSEoDOnTvX19f//vvvALp27dpMisO7sfDS5OefJ4CWLbNsq3ZMaWkpABcXF5Zdt7a2NjEx0TDTqbe3t1wuP336tAmNz59PAHl785Lgj2XcTExM1Ol0rCTHntZEcBYW1pYtBNCLL/KbN9FeuHjx4vDhwz08PMRisbu7e0xMDJc3sKioKD4+Pjw8nBs6QkJClErl9evXjWycBexiMf38My+d//e//w1gzJgxRLRkyRIA48aNM/5yCwurtpaGDHkXwPH7douuVaivr1+yZImzszOAjh07Gm7ICQ4OjouLy8vLY2empKQoFAquGLFUKh01ahSX/bsp0tLSnnhigqdn6aef8vUVSkpKnJycJBJJQUHB1atXHR0dJRJJUVGRkZdbfpfOP/7xDwBvvfWWxVs2gcOHD3fv3t3Hx+fVV1+1eHWdpjh//vyjjz7KhCKTydhW+vT09NjY2O7du7PjYrF46NChXBa4mpoaNkRyaQc7d+48a9asM2fO3N1+eXk5S1M4ffoHvE7usMzQixcvJiJWFetTo4VseWFlZGSIRCJXV1fb1m7QarVffPEFS/LO8PX1jY+P51Ve9fX1SqWSpZHp3r373aneWDb5mJgYrmMeHh6GQ2R+fr5SqTQs4hoREfHll1/W1NSwFnQ63bhx4wD079+fp9SEHL/88guAHj16aLXaXbt2AQgKCjIyBTAv+wqHDx8OYPXq1Xw0bgzZ2dlPPfUU+2GefvrpOXPmcC6kY8eOSqWSD3mdO3eOZbkViURyubz5vytWomeowZqp4ODg2NhYbrro5MmTs2bNYsWnO3XqxI2MsbGxALy8vLL4T8mt1WrZ7O5vv/2m1WpZKvxDhw4Zcy0vwvr2228BDBkyhI/Gm0er1apUKrb4qXPnzoZpjNVqNU/yqqurUyqV7OlHjx499u3bZ/y1Fy5cUCgUnTt35obIyMjIdevW3bx5k4iqqqo2bNjAPVFJTExkiWt+5iliv4tPPvkEwOTJk4lo3rx5AKZOnWrMhbwIq6qqiuXBNi0Pp8mkpqY+9thjXHBTUlLCjqekpOzatYu9tri8zpw5w27umKPSaDQmNNLQ0MCGSJfGRW2enp5yuTwpKYk7JyMjg9XQW7p0qTkdbhV5eXkODg5SqbS4uJgVXXdxcSk1YqKSry32rDD47NmzeWr/DgyDG19f3x07dhh+OmbMGABhYWEJCQksRLCIvKqrqxUKBasHFhgYaH4JO7rXENmnTx+lUpmVlRUaGgqAzYObb8h4XnjhBQDx8fFE9OyzzwL48ssvW7yKL2GdO3cOQIcOHbiokz/Onz/P8smKRKKYmJi7/54+//zzTp06cbHw7t272XG1Ws0uNEFeR44cYSG2WCyWy+UWj6PPnTv3/vvvcxkAWd62fv36meYRzWHr1q0A+vbtS0Q//vgju29o8Soek4KwAeK1117jb0A0DG78/f3VanVTZ9bU1KhUKt/GxWJ3eK9WyauqqopzVKGhoceOHbP8F2uEDZEymczd3d3JySkhIYE/W01RX1/P/t+OHj1aW1vLSrycbCkxHI/CGjJkyMMPP8z9YCwXVLZh9lbzOHfu3IABA4y8C2PcvHkzPj6ek1d4eHhr5ZWUlBQUFARAIpEoFAor+GPGv/71LwCvv/66dczdAav8+OabbxLR7NmzAcyYMaP5S/gS1u7duwE4OTlFRUVx8mIEBAS8+eabmzZtMnkliaGjCggI+P3331t1+R3yevzxxxMTE9lHarV6YOP+yU6dOimVSq60+M2bNxUKBTcknThxwrTOm0Z2drZIJGrfvn15ebk17TKysrK4ucm0tDSRSOTh4cHuW5uCF2GVl5f7+flxER8Z5Nv0vn33ZEBAgFwuT0hIMOZGg/Hnn3+y56MsuDE55mhKXjqdLjExkZNX165d4+Pjd+7cySbNHR0dFQpFrS3yfo4YMQKASqWyvmkievLJJwGsXLmSiIYMGQLg22+/beZ8XoQ1c+ZMFibfvdBCq9WmpKQwkbm7u3MKc3BwGDhwoEKhUKvV1U3kLzcMbgIDAw8cOGB+VysrK5uS17Zt21iNcTbwARg0aBDfK4yb4fvvv2f/qzaxvn79evb/Q0Rr1qwBMGzYsGbOt7ywjh49KhaLJRLJmTNn6uvrJ0+e/Mcff9zzzPr6+pMnTyqVysjISMNs+hKJhBMZ5xsOHz7M7sIkEsmsWbOa98OthcmLm6UcPHgwJ6+tW7f6+Pi4uLhMmzaNy8ZuE2pqatiz6ns+QOSb6upqVgz77Nmz3DxlMyUaLb66oZZNt8ybN4+IPv30UzbetfiTaDSa3bt3z549Ozw8nEuJDsDDw+Oll14aOXKkFYKbysrKpUuXcgUyhw0bxmQ9ceJEABs3buTJrvHMmjULwHvvvWcT6++++66Li8v69euJ6OWXXwYwdOjQpk62sLDYk6ygoKDq6upLly6xRys776jX0RLFxcWJiYkKhYILdPz9/R0cHKxzF8Z5r0mTJrEjcrkcwIoVK/g23SLJyckAPD09LeuwjeTq1atc7ZZJkyaxgKSpky0prLS0NCcnJ5FIdOjQIZ1Ox2ZpY2JizGkzNzd3ypQpACZOnGipfhqDRqPh1h7985//BKC8P7a2RUREAPj+++9t2IfMzEwWH0dFRTV1jsU2U+h0UCj8QkPfl8vlw4cPX7t2rVqt7tChA1uIaDJ+fn7PPfccGsPnvXv3xsXFnT592jKdbhpXV1cu5GJP6MqtmVKjad544w0Aq223ZaWysjI6OrqiomL06NFsUv7eWErFy5YRQF26UFlZTXFxMQszLfKH9dNPPwEYNWoUEb399tsw7lmVBVm2bBmAmTNnWtNoU2g0Gjc3N5FIlJmZaX3rOp2Orf7r3bt38zNqlvFYhYWYOxcAli2Dh4fTu+++W1JS8vzzz7/yyivmN27oMGziPNgd0H3isVxdXSdMmECN9/xWZvHixZs3b/by8tq5c6fhbNHdWEZYM2eivBzjxyM6Grt2aQsLX3Bzc1+xYoVFGre5sO6roRCNo+HatWvruRRYVmHv3r0ff/yxWCxev359z549WzjbfPe4aRMB5OFB+flUUUF+fgTQihUW26hz6dIlAN27dyeir776CsDbb79tqcaN4eDBg2hpPtDKsN0Z27dvt5rFzMxM5rkXG1cDw1yPVVqK998HgM8+Q5cumDMHeXl49FFMn+5pZsscgse6m9deew1WDOErKyvHjh1bVlYWFRU1Z84co64xU8ivvUYAPfkk6XR09Ki+GJVJuy+bpKGhQSQSicVibkm/CTkqzOHyZc2gQT8//XRLFQStSElJibOzs4ODQ25uLt+2jA/YDTFLWPv3k0hETk504QLV1lJoKAE0d645Td4blvigvLycbf228mr60lL9WH9fwaYoFy5cyLehRYsWAXB3d79w4YLxV5klrPh4cnSkuDgiothYAigoiJcK2KxsZG5uLpt6Dg0NtbyNpmloIJGIxGJqohy9bVCr1QD8/f21fHZr7969Dg4OYrGY2zRgJK0T1uXL9Ouvt97u2EEpKVRXR+np5OxMIhH99lur2jMWtk7m/PnzV65cAdC1a1dezDSNmxsBZIulUE2i0+kCAwMBcLsX6+rqmloYYho5OTls/9miRYtae23rhLVuHYlEdPCg/q23t/5FQgK1b09yeWutGwtLsvjHH3+UlZUBcHNz48tSE3TtSgBduWJlsy2wcOFCGDzs+uOPPwD4+vpGRkbK5XKlUpmYmJidnW2aS9NoNCwX4ZgxY0zYvtFqYb30EvXvry9wzQmLiC5dorKy1lo3lpEjRwLYvXu3VqsVi8UikahVKXXMh4WPtluLdW8KCwslEolUKmWpRDZv3ux4ryqr7dq1Cw8PnzBhwty5czds2HDixIkWY3CdTjdhwgQAwcHBpq1ZbXXW5N69ERiIf/8b//u/tx33929tS62Au+EXi8VsgaxGo2HTKtbBwwOAVRPwG4Ovr+/IkSN37tz53//+d+HChePHj4+Kirp06VJ6enpGRkZmZmZmZmZ6evq1a9fOnj179uzZO64NDg4OCgpi2ZGDgoJ69uzJpeBesmRJQkKCm5vb9u3bm59hbwpT0nF//DEGDMDLL5twqYkwYbFx0NPTs6Kiory8XBAWACasuLi4CxcuPPXUU0wrL7744ujRo7lzysvLs7KyWEZklh05IyOjqKioqKjowIED7BypVFpVVcVW56rV6vnz54vF4o0bN/bp08e0jpkiLHd3LFwIhcI0i6ZwH8yRAvelsKZNm7Zo0aLCwsJt27Zt27aNHZRKpV27duWqAQQEBPTr12+gQZEtIsrNzeVcWmZmJgCmqsuXL0+ePFmr1S5cuHDUqFEmd8zEKvaTJ2P1ausVihWE1RTOzs4pKSnLly9nk6WZmZkZGRmFhYXMP7H5ZEbHjh3ZkMcNf0899RRbM8dRWVk5evTov/76a8yYMR999JE5HWudsPz9bxUNWL5cX/6ksrKFFPXmc7ewygzLRPGPTIbgYBvX02oKLy8vlq6DQ6PRGHojprbr16+z7O3caRKJpEePHr1792YDqKurq1KpTElJCQ4OXrdunZklT8x9pLNxI/n48H67xLaIvPzyy9S42pqtvLYOUVHEzQ6uWHHbTJ4dUVpampSUpFKpFAqFTCYLCQlhY98dSCSS9PR0882ZOBRy7NqF4mJER+PYMXToYGZjTWLboTApCVlZeOIJuLnh4kVeamVZAS8vr2HDhg0zqHZUW1t78eJFzqXt3Lmzffv2H3zwQXBwsPnmzBXW6tXIysLx44iOxr59kErN79I9sLKwMjLwySdYuRKsxqBEgqlTERuLzz/nz6YNcHJy6tu3L5sFtTjmLptxdsaOHejSBUlJlkxgfweGYvLy8vLy8rqnGzcfrRafforwcGzahCVLbh3/+9+xdy9unwkSaBbzR1MiOnmSXFwIoK+/tkh7d3L58mUA3bp146X1RlJSKCKCAAJIJqO//tIf79SJiOjAARoyhN5/n9au5bUXbQTLLE0eOBAqFQC89x4ap9wsSXZ2NoCSkpKCggLLtw40NGDpUgwciOPH8fDD+OknJCRAq8UHH6C6Wn/Ok0+iWzehrLrRWFCk//gHAdShA1kqVVFZWZlKpXrkkUcAiMVilrNQLpfn5+dbxgARESUn06BBBJBIRHK5fgnDDz+Qjw8BpFDoPRYRFRWRh4fgsYzCksLSamnUKAIoLMys0i46nW7//v1TpkxxbrwB69ix4/Tp01966SW20d7Z2XnWrFkFBQVmdriujpRKkkoJoB49iOWkvXqVxo3TD4jDh1Nm5q3VHESUnExmm30gsPAW+4oK/UKA6GhTlsWxQiDcfQpLIZyQkMClBklNTY2JiWGRu5ne6+xZeuSRW46KZUNKSKCHHiKA3N0pPv7+WtlnX1g+20x2tv63iY019pKGBtq1iyZMqOIepPv5+RkmPb+DlJQUc+RVXU2xseToqK/cydK2FRVRVJTeUf3tb/fd0iu7g5f8WL/+Sg4O9NBD1JgPu0ny80mpJH9//S86bNirzEUZkzAoOTl5/PjxbHB85pndf/87FRa23LcjR6hPHwJILCa5XD9kJySQt7d+YbtKJRSJtQB8pYpcv56ysigr69aPfeMGXbqkf11bSz/+SM8+S2KxXlLBwfTpp2RC7sjk5ORJk17t0EEHkIsLvf8+NV9H6LHHCKCQEDp6lIiooMprBawAAAKhSURBVIBGj9b34YUXqLF0koC58Jjcloiioig4mFjqoR07aNo0Sk8nhYI6dtT/ls7OJJORWm2uk0hJoZgYvUydnEgubzLEPn+ePvqIampIpyOVSr+Y3dOTbJSBsc3Cu7AiI/XbeJiwIiP1kgoJIaWy5bGyVZw/f295FRdTcbH+nJoaKiyknBx65hl9T0aNEm70LA/vwlKrqVcvys7WC2vHDpoxg1pKEm4WZ89SdDSJRARQu3b04Yf03nvk56e/7zt1iiIjadgwAqhTJ9q8mceePMhYLD9WU7Rvj0WL8N57+rdjxuCrr2CwmNHyhIVh2zYkJ0MmQ3U1cnMBoFs3fPLJrXOWLUNMDFJSMH48jz15kOFdWAAmTEB9PfbssYKpW/Tti4QEnD6NxYsBYMYM/PILkpP1n4aH47vv0FjWVMDyWENYAJYvx/r11jF1G+Hh6NULABwd8Z//YMYMENmgGw8g/AorMFC/ajkoCB9/jMa6tbYhMhJ+ftiwwZZ9eHDgV1i9e6Ox6hYmTECLybr45vPP8d13Nu7DAwK/wlq7Fteu6V9fuYKNG3m11iQdOugd58MP45NP0FiGQoBHzF2abBfExt56/c47eOcd23XlgYF3YcXHg5V6yMvj25TAfQTvwho8GD16AMD581Cr+bYmcL/Au7Aeewz9+gGAo6MgrAcIK81jCTxo8Cus6dNvTTf4+2PKFF6tCdxHiEiYihbgAWEoFOAFQVgCvCAIS4AXBGEJ8IIgLAFeEIQlwAuCsAR4QRCWAC8IwhLgBUFYArwgCEuAFwRhCfCCICwBXhCEJcALgrAEeEEQlgAvCMIS4AVBWAK8IAhLgBcEYQnwgiAsAV4QhCXAC4KwBHhBEJYALwjCEuAFQVgCvCAIS4AXBGEJ8ML/Ayit90DCle1nAAAB3XpUWHRyZGtpdFBLTCByZGtpdCAyMDIyLjA5LjEAAHice79v7T0GIOBlgABGIJYEYlkgbmBkc8gA0szMWBkaIAYLPhl0Go9hUAY7RC0zjMaiF9VQhAYLEM3IjCkBpRnAJjAycTMwZjAxMiUwMWcwMbMksLACKTYFNvYEdo4MJg7OBE6uDCYu7gRungwmHt4EXr4Edn4FfoEMJgHBBEGhBCHhDCZhkQQR0QRRsQQx8QwmIQkFVoYEPrYMJl6OBHH+BFHBDCYRVjYGVhZmJkY2Ti5uHl4OVj5eDnY2NgFBUTFxflYhQVERYXEzRkhgg4Gkmi3XgYN8LQ4gzuIE5/2CfVPB7HuuF+3KDPLBbE0vGzstNwEwe5vD7P2i/bfsQWyHhRIHzIw1weJ83Wvt/25ZARb/fGiJ/aQ9FvtA7CtWOg4yuab7QewSS38H1wNsB0DsB4LTHeJURMHsbexbHT67TQGrSetY7OAiUWIHYjeoZTi81nkLZk8NNXa4NP822Pzs07y26TsbwOpvmS3fv+DQKrBdO48qH6gJgpjzIqThwK2t7mC2qemsA7NOMIHtymgqP6Dx1wfMzpKVO9DxTxPMnj91wv7nTKFgdv/737Z/DRXAbIsrEw/I3pMF2ysGAFtTf6zMfpokAAACY3pUWHRNT0wgcmRraXQgMjAyMi4wOS4xAAB4nH1VW47bMAz8zyl0gQh8i/rcJIuiKNYB2rR36H/vj5J2E2kBoXZESMaYrxk6p5LX99u333/K66Lb6VQK/OfXey+/GABOHyU35fL+5etWro+3y/PJ9f5ze/wopIV6vBP3Z+zb4/7xfILlWs5UUXt3KlKRzAELVNiv8SolEGozxs4BtMbaaQHkAEIV8MZWuDZuzLzAyY5DZ2+tUCUV8hVOMzBWQupIBWuDJsvAdpTCLi4UHk246aqUFkCsrOpguUEHWkX2HUfeMHp+zlxBoC2APYARryN03JsEbt0WQAxyoifEzaPb2XdQcV0hkxipjaDzjmQGliUymdFqGmlidgrVBZdI3pGIUUY8jjScm6yAUrZI0yg4TqAY05LDCLNF5dG/0GVyE7HXoW1nO0ow9EwSQE19hWwH3wzGtncz5KO47KYfjAeRXfhf6c1WDGFSdJYKCGy6cxQyj6cLoUPUFFBH713TPwhLX/WJMKFcPYaBJXcE1JeaIzpylRaM715NDQ1WUE6vUUy4MkuvHJMBK8lTEhXCJIboULYCGNbx9ahKQyaazYzg1lbh37fbpy/E8c243Lfb+GZILBpfBonFY/4l1xjzvHVMcxyKjZlNZ21MZhyKjwGUWH2MmcTCeZokDeI0NZIGaZoOSYM8TYGkQZnkLmlQJ11jREab9CtpsE06lTTokxwlDfZJdZKGZnFJGsJJQ5KGaJKKpCGeFCFpSCbicfesE8GS7Xyd94x19JbaUeUrO8p809GrSupH5FFTimGmPs/Pv5rYn/4CYFBAVIpCyv4AAAEzelRYdFNNSUxFUyByZGtpdCAyMDIyLjA5LjEAAHicJZA7bsQwDESvknIXkAWSw5+wF0iVCwSp1PsEe/iQWhWW/TAeDudn8/17f/9t2bz346ondp0b9+b+6sPP+5av9+PSaRbsg6aze4xXEWKCj4tmJDGvw7LuSyYptAFmegCjXoRkWSGZGmTWKrcyO8gsl46LJ1tGu/ME+ccdgLWMJkGdI1tHZF6Mp2RIqzhJqf4s18W0TixKXyWq2YjMnshknUtnCC00Acp1vKzCRGc/EVSaMJPWwoJEaNu4BKyIOqSWqllJwoNn1D/caWD9UnfFkY7MiV5IpphKNlHKqMUwA93Mq4M6uNLorK5snULY1soiLJ4HIDW1fFwRdgoSlnWGU/RONUtAVVTXSaCPqDQWXT8kMZ7vfxcFaGdNVeW8AAAAAElFTkSuQmCC\" alt=\"Mol\"/></div></td>\n",
              "    </tr>\n",
              "    <tr>\n",
              "      <th>331</th>\n",
              "      <td>0.790411</td>\n",
              "      <td>0.209589</td>\n",
              "      <td>1</td>\n",
              "      <td>Cc1cccc(c1C)Nc2ncc(c(n2)c3cc([nH]c3)C(=O)N[C@H...</td>\n",
              "      <td style=\"text-align: center;\"><div style=\"width: 200px; height: 200px\" data-content=\"rdkit/molecule\"><img src=\"data:image/png;base64,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\" alt=\"Mol\"/></div></td>\n",
              "    </tr>\n",
              "    <tr>\n",
              "      <th>333</th>\n",
              "      <td>0.996626</td>\n",
              "      <td>0.003374</td>\n",
              "      <td>1</td>\n",
              "      <td>CCCCNC(=O)N1Cc2c(n[nH]c2NC(=O)[C@@H](C)c3ccc4c...</td>\n",
              "      <td style=\"text-align: center;\"><div style=\"width: 200px; height: 200px\" data-content=\"rdkit/molecule\"><img src=\"data:image/png;base64,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\" alt=\"Mol\"/></div></td>\n",
              "    </tr>\n",
              "    <tr>\n",
              "      <th>433</th>\n",
              "      <td>0.799228</td>\n",
              "      <td>0.200772</td>\n",
              "      <td>1</td>\n",
              "      <td>CCc1ccccc1Nc2ncc(c(n2)c3cc([nH]c3)C(=O)N[C@H](...</td>\n",
              "      <td style=\"text-align: center;\"><div style=\"width: 200px; height: 200px\" data-content=\"rdkit/molecule\"><img src=\"data:image/png;base64,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\" alt=\"Mol\"/></div></td>\n",
              "    </tr>\n",
              "  </tbody>\n",
              "</table>\n",
              "</div>\n",
              "      <button class=\"colab-df-convert\" onclick=\"convertToInteractive('df-4e685dc3-6aac-48c9-8756-fd6c2b3525f1')\"\n",
              "              title=\"Convert this dataframe to an interactive table.\"\n",
              "              style=\"display:none;\">\n",
              "        \n",
              "  <svg xmlns=\"http://www.w3.org/2000/svg\" height=\"24px\"viewBox=\"0 0 24 24\"\n",
              "       width=\"24px\">\n",
              "    <path d=\"M0 0h24v24H0V0z\" fill=\"none\"/>\n",
              "    <path d=\"M18.56 5.44l.94 2.06.94-2.06 2.06-.94-2.06-.94-.94-2.06-.94 2.06-2.06.94zm-11 1L8.5 8.5l.94-2.06 2.06-.94-2.06-.94L8.5 2.5l-.94 2.06-2.06.94zm10 10l.94 2.06.94-2.06 2.06-.94-2.06-.94-.94-2.06-.94 2.06-2.06.94z\"/><path d=\"M17.41 7.96l-1.37-1.37c-.4-.4-.92-.59-1.43-.59-.52 0-1.04.2-1.43.59L10.3 9.45l-7.72 7.72c-.78.78-.78 2.05 0 2.83L4 21.41c.39.39.9.59 1.41.59.51 0 1.02-.2 1.41-.59l7.78-7.78 2.81-2.81c.8-.78.8-2.07 0-2.86zM5.41 20L4 18.59l7.72-7.72 1.47 1.35L5.41 20z\"/>\n",
              "  </svg>\n",
              "      </button>\n",
              "      \n",
              "  <style>\n",
              "    .colab-df-container {\n",
              "      display:flex;\n",
              "      flex-wrap:wrap;\n",
              "      gap: 12px;\n",
              "    }\n",
              "\n",
              "    .colab-df-convert {\n",
              "      background-color: #E8F0FE;\n",
              "      border: none;\n",
              "      border-radius: 50%;\n",
              "      cursor: pointer;\n",
              "      display: none;\n",
              "      fill: #1967D2;\n",
              "      height: 32px;\n",
              "      padding: 0 0 0 0;\n",
              "      width: 32px;\n",
              "    }\n",
              "\n",
              "    .colab-df-convert:hover {\n",
              "      background-color: #E2EBFA;\n",
              "      box-shadow: 0px 1px 2px rgba(60, 64, 67, 0.3), 0px 1px 3px 1px rgba(60, 64, 67, 0.15);\n",
              "      fill: #174EA6;\n",
              "    }\n",
              "\n",
              "    [theme=dark] .colab-df-convert {\n",
              "      background-color: #3B4455;\n",
              "      fill: #D2E3FC;\n",
              "    }\n",
              "\n",
              "    [theme=dark] .colab-df-convert:hover {\n",
              "      background-color: #434B5C;\n",
              "      box-shadow: 0px 1px 3px 1px rgba(0, 0, 0, 0.15);\n",
              "      filter: drop-shadow(0px 1px 2px rgba(0, 0, 0, 0.3));\n",
              "      fill: #FFFFFF;\n",
              "    }\n",
              "  </style>\n",
              "\n",
              "      <script>\n",
              "        const buttonEl =\n",
              "          document.querySelector('#df-4e685dc3-6aac-48c9-8756-fd6c2b3525f1 button.colab-df-convert');\n",
              "        buttonEl.style.display =\n",
              "          google.colab.kernel.accessAllowed ? 'block' : 'none';\n",
              "\n",
              "        async function convertToInteractive(key) {\n",
              "          const element = document.querySelector('#df-4e685dc3-6aac-48c9-8756-fd6c2b3525f1');\n",
              "          const dataTable =\n",
              "            await google.colab.kernel.invokeFunction('convertToInteractive',\n",
              "                                                     [key], {});\n",
              "          if (!dataTable) return;\n",
              "\n",
              "          const docLinkHtml = 'Like what you see? Visit the ' +\n",
              "            '<a target=\"_blank\" href=https://colab.research.google.com/notebooks/data_table.ipynb>data table notebook</a>'\n",
              "            + ' to learn more about interactive tables.';\n",
              "          element.innerHTML = '';\n",
              "          dataTable['output_type'] = 'display_data';\n",
              "          await google.colab.output.renderOutput(dataTable, element);\n",
              "          const docLink = document.createElement('div');\n",
              "          docLink.innerHTML = docLinkHtml;\n",
              "          element.appendChild(docLink);\n",
              "        }\n",
              "      </script>\n",
              "    </div>\n",
              "  </div>\n",
              "  "
            ]
          },
          "metadata": {},
          "execution_count": 41
        }
      ],
      "source": [
        "PandasTools.AddMoleculeColumnToFrame(false_negative_df,\"SMILES\",\"Mol\")\n",
        "false_negative_df"
      ]
    },
    {
      "cell_type": "markdown",
      "metadata": {
        "id": "MoBBTdBA7dfL"
      },
      "source": [
        "- False Positive 샘플 찾기"
      ]
    },
    {
      "cell_type": "code",
      "execution_count": null,
      "metadata": {
        "colab": {
          "base_uri": "https://localhost:8080/",
          "height": 49
        },
        "id": "hqgI9dbe4N51",
        "outputId": "86fd2329-2d71-4a9d-969a-d0de80b210eb"
      },
      "outputs": [
        {
          "output_type": "execute_result",
          "data": {
            "text/plain": [
              "Empty DataFrame\n",
              "Columns: [neg, pos, active, SMILES, Mol]\n",
              "Index: []"
            ],
            "text/html": [
              "\n",
              "  <div id=\"df-a54db31d-8ba8-48ff-ab56-6888ca5dc993\">\n",
              "    <div class=\"colab-df-container\">\n",
              "      <div>\n",
              "<style scoped>\n",
              "    .dataframe tbody tr th:only-of-type {\n",
              "        vertical-align: middle;\n",
              "    }\n",
              "\n",
              "    .dataframe tbody tr th {\n",
              "        vertical-align: top;\n",
              "    }\n",
              "\n",
              "    .dataframe thead th {\n",
              "        text-align: right;\n",
              "    }\n",
              "</style>\n",
              "<table border=\"1\" class=\"dataframe\">\n",
              "  <thead>\n",
              "    <tr style=\"text-align: right;\">\n",
              "      <th></th>\n",
              "      <th>neg</th>\n",
              "      <th>pos</th>\n",
              "      <th>active</th>\n",
              "      <th>SMILES</th>\n",
              "      <th>Mol</th>\n",
              "    </tr>\n",
              "  </thead>\n",
              "  <tbody>\n",
              "  </tbody>\n",
              "</table>\n",
              "</div>\n",
              "      <button class=\"colab-df-convert\" onclick=\"convertToInteractive('df-a54db31d-8ba8-48ff-ab56-6888ca5dc993')\"\n",
              "              title=\"Convert this dataframe to an interactive table.\"\n",
              "              style=\"display:none;\">\n",
              "        \n",
              "  <svg xmlns=\"http://www.w3.org/2000/svg\" height=\"24px\"viewBox=\"0 0 24 24\"\n",
              "       width=\"24px\">\n",
              "    <path d=\"M0 0h24v24H0V0z\" fill=\"none\"/>\n",
              "    <path d=\"M18.56 5.44l.94 2.06.94-2.06 2.06-.94-2.06-.94-.94-2.06-.94 2.06-2.06.94zm-11 1L8.5 8.5l.94-2.06 2.06-.94-2.06-.94L8.5 2.5l-.94 2.06-2.06.94zm10 10l.94 2.06.94-2.06 2.06-.94-2.06-.94-.94-2.06-.94 2.06-2.06.94z\"/><path d=\"M17.41 7.96l-1.37-1.37c-.4-.4-.92-.59-1.43-.59-.52 0-1.04.2-1.43.59L10.3 9.45l-7.72 7.72c-.78.78-.78 2.05 0 2.83L4 21.41c.39.39.9.59 1.41.59.51 0 1.02-.2 1.41-.59l7.78-7.78 2.81-2.81c.8-.78.8-2.07 0-2.86zM5.41 20L4 18.59l7.72-7.72 1.47 1.35L5.41 20z\"/>\n",
              "  </svg>\n",
              "      </button>\n",
              "      \n",
              "  <style>\n",
              "    .colab-df-container {\n",
              "      display:flex;\n",
              "      flex-wrap:wrap;\n",
              "      gap: 12px;\n",
              "    }\n",
              "\n",
              "    .colab-df-convert {\n",
              "      background-color: #E8F0FE;\n",
              "      border: none;\n",
              "      border-radius: 50%;\n",
              "      cursor: pointer;\n",
              "      display: none;\n",
              "      fill: #1967D2;\n",
              "      height: 32px;\n",
              "      padding: 0 0 0 0;\n",
              "      width: 32px;\n",
              "    }\n",
              "\n",
              "    .colab-df-convert:hover {\n",
              "      background-color: #E2EBFA;\n",
              "      box-shadow: 0px 1px 2px rgba(60, 64, 67, 0.3), 0px 1px 3px 1px rgba(60, 64, 67, 0.15);\n",
              "      fill: #174EA6;\n",
              "    }\n",
              "\n",
              "    [theme=dark] .colab-df-convert {\n",
              "      background-color: #3B4455;\n",
              "      fill: #D2E3FC;\n",
              "    }\n",
              "\n",
              "    [theme=dark] .colab-df-convert:hover {\n",
              "      background-color: #434B5C;\n",
              "      box-shadow: 0px 1px 3px 1px rgba(0, 0, 0, 0.15);\n",
              "      filter: drop-shadow(0px 1px 2px rgba(0, 0, 0, 0.3));\n",
              "      fill: #FFFFFF;\n",
              "    }\n",
              "  </style>\n",
              "\n",
              "      <script>\n",
              "        const buttonEl =\n",
              "          document.querySelector('#df-a54db31d-8ba8-48ff-ab56-6888ca5dc993 button.colab-df-convert');\n",
              "        buttonEl.style.display =\n",
              "          google.colab.kernel.accessAllowed ? 'block' : 'none';\n",
              "\n",
              "        async function convertToInteractive(key) {\n",
              "          const element = document.querySelector('#df-a54db31d-8ba8-48ff-ab56-6888ca5dc993');\n",
              "          const dataTable =\n",
              "            await google.colab.kernel.invokeFunction('convertToInteractive',\n",
              "                                                     [key], {});\n",
              "          if (!dataTable) return;\n",
              "\n",
              "          const docLinkHtml = 'Like what you see? Visit the ' +\n",
              "            '<a target=\"_blank\" href=https://colab.research.google.com/notebooks/data_table.ipynb>data table notebook</a>'\n",
              "            + ' to learn more about interactive tables.';\n",
              "          element.innerHTML = '';\n",
              "          dataTable['output_type'] = 'display_data';\n",
              "          await google.colab.output.renderOutput(dataTable, element);\n",
              "          const docLink = document.createElement('div');\n",
              "          docLink.innerHTML = docLinkHtml;\n",
              "          element.appendChild(docLink);\n",
              "        }\n",
              "      </script>\n",
              "    </div>\n",
              "  </div>\n",
              "  "
            ]
          },
          "metadata": {},
          "execution_count": 42
        }
      ],
      "source": [
        "false_positive_df = pred_df.query(\"active == 0 & pos > 0.5\").copy()\n",
        "PandasTools.AddMoleculeColumnToFrame(false_positive_df,\"SMILES\",\"Mol\")\n",
        "false_positive_df"
      ]
    },
    {
      "cell_type": "markdown",
      "metadata": {
        "id": "A0LlQnRs7yyb"
      },
      "source": [
        "## 모든 데이터로 학습\n",
        "- 모델의 성능을 향상시키기 위해서"
      ]
    },
    {
      "cell_type": "code",
      "execution_count": null,
      "metadata": {
        "colab": {
          "base_uri": "https://localhost:8080/"
        },
        "id": "HNwLHqXI4Zqc",
        "outputId": "0e9ac41b-e46c-45cb-b81f-e4df6128407d"
      },
      "outputs": [
        {
          "output_type": "execute_result",
          "data": {
            "text/plain": [
              "0.0009138560543457667"
            ]
          },
          "metadata": {},
          "execution_count": 43
        }
      ],
      "source": [
        "model.fit(dataset)"
      ]
    },
    {
      "cell_type": "markdown",
      "metadata": {
        "id": "RyY-78pg9Tki"
      },
      "source": [
        "- 앞에서 ERK2 단백질의 활성을 억제하는 분자를 예측하는 모델을 만들었다. 여기에 새로운 데이터셋을 사용하여 분자의 활성을 예측해보겠다\n",
        " - ZINC 데이터베이스의 일부를 사용하겠다"
      ]
    },
    {
      "cell_type": "markdown",
      "metadata": {
        "id": "1Erm6SkqLhtF"
      },
      "source": [
        "## rd_filters 적용\n",
        "\n",
        "- Pat Walters가 만든 스크립트로 잠재적으로 문제가 있는 분자를 걸러낸다\n",
        "- 생물학적 분석이 어려운 분자들을 제거하기 위해서 rd_filters.py를 사용\n",
        "- [rd_filters github](https://github.com/PatWalters/rd_filters)"
      ]
    },
    {
      "cell_type": "code",
      "execution_count": null,
      "metadata": {
        "colab": {
          "base_uri": "https://localhost:8080/"
        },
        "id": "AmEvCrJ6KyOn",
        "outputId": "6d0654e3-3d11-4855-881d-bf67d014308f"
      },
      "outputs": [
        {
          "output_type": "stream",
          "name": "stdout",
          "text": [
            "Looking in indexes: https://pypi.org/simple, https://us-python.pkg.dev/colab-wheels/public/simple/\n",
            "Collecting git+https://github.com/PatWalters/rd_filters.git\n",
            "  Cloning https://github.com/PatWalters/rd_filters.git to /tmp/pip-req-build-2yys73tp\n",
            "  Running command git clone -q https://github.com/PatWalters/rd_filters.git /tmp/pip-req-build-2yys73tp\n",
            "Requirement already satisfied: pandas in /usr/local/lib/python3.7/dist-packages (from rd-filters==0.1) (1.3.5)\n",
            "Collecting docopt\n",
            "  Downloading docopt-0.6.2.tar.gz (25 kB)\n",
            "Requirement already satisfied: python-dateutil>=2.7.3 in /usr/local/lib/python3.7/dist-packages (from pandas->rd-filters==0.1) (2.8.2)\n",
            "Requirement already satisfied: numpy>=1.17.3 in /usr/local/lib/python3.7/dist-packages (from pandas->rd-filters==0.1) (1.21.6)\n",
            "Requirement already satisfied: pytz>=2017.3 in /usr/local/lib/python3.7/dist-packages (from pandas->rd-filters==0.1) (2022.6)\n",
            "Requirement already satisfied: six>=1.5 in /usr/local/lib/python3.7/dist-packages (from python-dateutil>=2.7.3->pandas->rd-filters==0.1) (1.15.0)\n",
            "Building wheels for collected packages: rd-filters, docopt\n",
            "  Building wheel for rd-filters (setup.py) ... \u001b[?25l\u001b[?25hdone\n",
            "  Created wheel for rd-filters: filename=rd_filters-0.1-py3-none-any.whl size=33802 sha256=26edb5036d4260ed7693ea60884667c9d26b3921da17c552a5b8b3887c869f7b\n",
            "  Stored in directory: /tmp/pip-ephem-wheel-cache-pikzr6xc/wheels/18/23/0c/f8d3c66d34f5ee86ae3992e1fdd45c94223ee21fcde6f01192\n",
            "  Building wheel for docopt (setup.py) ... \u001b[?25l\u001b[?25hdone\n",
            "  Created wheel for docopt: filename=docopt-0.6.2-py2.py3-none-any.whl size=13723 sha256=03772225fb08e0d4a8f0b9b0ef9f2a81281d7573bf0dc7b42886bc6100b6f2cc\n",
            "  Stored in directory: /root/.cache/pip/wheels/72/b0/3f/1d95f96ff986c7dfffe46ce2be4062f38ebd04b506c77c81b9\n",
            "Successfully built rd-filters docopt\n",
            "Installing collected packages: docopt, rd-filters\n",
            "Successfully installed docopt-0.6.2 rd-filters-0.1\n"
          ]
        }
      ],
      "source": [
        "# 현재 폴더에 해당 git 설치\n",
        "!pip install git+https://github.com/PatWalters/rd_filters.git"
      ]
    },
    {
      "cell_type": "code",
      "execution_count": null,
      "metadata": {
        "colab": {
          "base_uri": "https://localhost:8080/"
        },
        "id": "dmDMMg-QLMnq",
        "outputId": "cc7f16a8-d0dd-43d3-9ca2-0f5a86836d22"
      },
      "outputs": [
        {
          "output_type": "stream",
          "name": "stdout",
          "text": [
            "Usage:\n",
            "rd_filters filter --in INPUT_FILE --prefix PREFIX [--rules RULES_FILE_NAME] [--alerts ALERT_FILE_NAME][--np NUM_CORES]\n",
            "rd_filters template --out TEMPLATE_FILE [--rules RULES_FILE_NAME]\n",
            "\n",
            "Options:\n",
            "--in INPUT_FILE input file name\n",
            "--prefix PREFIX prefix for output file names\n",
            "--rules RULES_FILE_NAME name of the rules JSON file\n",
            "--alerts ALERTS_FILE_NAME name of the structural alerts file\n",
            "--np NUM_CORES the number of cpu cores to use (default is all)\n",
            "--out TEMPLATE_FILE parameter template file name\n"
          ]
        }
      ],
      "source": [
        "# 사용법 안내\n",
        "!rd_filters -h"
      ]
    },
    {
      "cell_type": "markdown",
      "metadata": {
        "id": "5h-S2TaggHm9"
      },
      "source": [
        "## Zink 데이터에 필터 적용"
      ]
    },
    {
      "cell_type": "code",
      "execution_count": null,
      "metadata": {
        "colab": {
          "base_uri": "https://localhost:8080/"
        },
        "id": "5tyWlKSfLq3T",
        "outputId": "84e8d22d-dff9-4274-9266-92f247893e01"
      },
      "outputs": [
        {
          "output_type": "stream",
          "name": "stdout",
          "text": [
            "  % Total    % Received % Xferd  Average Speed   Time    Time     Time  Current\n",
            "                                 Dload  Upload   Total   Spent    Left  Speed\n",
            "100 6159k  100 6159k    0     0  12.0M      0 --:--:-- --:--:-- --:--:-- 12.0M\n"
          ]
        }
      ],
      "source": [
        "!curl -o zinc_100k.smi https://raw.githubusercontent.com/deepchem/DeepLearningLifeSciences/master/Chapter11/zinc_100k.smi"
      ]
    },
    {
      "cell_type": "markdown",
      "metadata": {
        "id": "BxFDHLnp2XVe"
      },
      "source": [
        "- 필터 수행\n",
        " - 필터 수행 결과 68.4%가 통과하였다\n",
        " - 생물학적 분석이 어려운 화합물을 제거\n",
        " - 필터 결과는 zinc.csv에 저장된다. 필터를 통과한 SMILES 정보는 zinc.smi에 저장된다"
      ]
    },
    {
      "cell_type": "code",
      "execution_count": null,
      "metadata": {
        "colab": {
          "base_uri": "https://localhost:8080/"
        },
        "id": "uLWjkw-SLRRe",
        "outputId": "bfcbdf7b-c5c5-4bde-8d0a-963210f59b21"
      },
      "outputs": [
        {
          "output_type": "stream",
          "name": "stdout",
          "text": [
            "using 2 cores\n",
            "Using alerts from Inpharmatica\n",
            "Wrote SMILES for molecules passing filters to zinc.smi\n",
            "Wrote detailed data to zinc.csv\n",
            "68410 of 100000 passed filters 68.4%\n",
            "Elapsed time 77.59 seconds\n"
          ]
        }
      ],
      "source": [
        "!rd_filters filter --in zinc_100k.smi --prefix zinc"
      ]
    },
    {
      "cell_type": "markdown",
      "metadata": {
        "id": "9vXJTqI11XR7"
      },
      "source": [
        "## 필터 결과\n",
        "\n",
        "- zinc.csv의 내용\n",
        " - SMILES 문자열, \n",
        " - 분자의 이름(NAME), \n",
        " - 필터를 통과하지 못한 이유(FILTER), \n",
        " - 분자량(MW, 500보다 크면 통과하지 못한다), \n",
        " - 옥탄올/물 분배계수(LogP, 5보다 크면 통과하지 못한다)\n",
        " - 수소결합의 공여체수 (HBD)"
      ]
    },
    {
      "cell_type": "code",
      "execution_count": null,
      "metadata": {
        "colab": {
          "base_uri": "https://localhost:8080/",
          "height": 357
        },
        "id": "5rXNaXVzLoet",
        "outputId": "28cdb138-5180-42d2-ee08-3d94abaefb19"
      },
      "outputs": [
        {
          "output_type": "execute_result",
          "data": {
            "text/plain": [
              "                                              SMILES              NAME  \\\n",
              "0        CN(CCO)C[C@@H](O)Cn1cnc2c1c(=O)n(C)c(=O)n2C  ZINC000000000843   \n",
              "1  O=c1[nH]c(=O)n([C@@H]2C[C@@H](O)[C@H](CO)O2)cc1Br  ZINC000000001063   \n",
              "2            Cn1c2ncn(CC(=O)N3CCOCC3)c2c(=O)n(C)c1=O  ZINC000000003942   \n",
              "3        CN1C(=O)C[C@H](N2CCN(C(=O)CN3CCCC3)CC2)C1=O  ZINC000000036436   \n",
              "4  CC(=O)NC[C@H](O)[C@H]1O[C@H]2OC(C)(C)O[C@H]2[C...  ZINC000000041101   \n",
              "\n",
              "                    FILTER       MW    LogP  HBD  HBA    TPSA  Rot  \n",
              "0  Filter82_pyridinium > 0  311.342 -2.2813    2    9  105.52    6  \n",
              "1        Filter9_metal > 0  307.100 -1.0602    3    6  104.55    2  \n",
              "2  Filter82_pyridinium > 0  307.310 -1.7075    0    8   91.36    2  \n",
              "3                       OK  308.382 -1.0163    0    5   64.17    3  \n",
              "4                       OK  302.327 -1.1355    3    6  106.12    4  "
            ],
            "text/html": [
              "\n",
              "  <div id=\"df-cf57189f-2d64-4a6b-840c-509750c1a83e\">\n",
              "    <div class=\"colab-df-container\">\n",
              "      <div>\n",
              "<style scoped>\n",
              "    .dataframe tbody tr th:only-of-type {\n",
              "        vertical-align: middle;\n",
              "    }\n",
              "\n",
              "    .dataframe tbody tr th {\n",
              "        vertical-align: top;\n",
              "    }\n",
              "\n",
              "    .dataframe thead th {\n",
              "        text-align: right;\n",
              "    }\n",
              "</style>\n",
              "<table border=\"1\" class=\"dataframe\">\n",
              "  <thead>\n",
              "    <tr style=\"text-align: right;\">\n",
              "      <th></th>\n",
              "      <th>SMILES</th>\n",
              "      <th>NAME</th>\n",
              "      <th>FILTER</th>\n",
              "      <th>MW</th>\n",
              "      <th>LogP</th>\n",
              "      <th>HBD</th>\n",
              "      <th>HBA</th>\n",
              "      <th>TPSA</th>\n",
              "      <th>Rot</th>\n",
              "    </tr>\n",
              "  </thead>\n",
              "  <tbody>\n",
              "    <tr>\n",
              "      <th>0</th>\n",
              "      <td>CN(CCO)C[C@@H](O)Cn1cnc2c1c(=O)n(C)c(=O)n2C</td>\n",
              "      <td>ZINC000000000843</td>\n",
              "      <td>Filter82_pyridinium &gt; 0</td>\n",
              "      <td>311.342</td>\n",
              "      <td>-2.2813</td>\n",
              "      <td>2</td>\n",
              "      <td>9</td>\n",
              "      <td>105.52</td>\n",
              "      <td>6</td>\n",
              "    </tr>\n",
              "    <tr>\n",
              "      <th>1</th>\n",
              "      <td>O=c1[nH]c(=O)n([C@@H]2C[C@@H](O)[C@H](CO)O2)cc1Br</td>\n",
              "      <td>ZINC000000001063</td>\n",
              "      <td>Filter9_metal &gt; 0</td>\n",
              "      <td>307.100</td>\n",
              "      <td>-1.0602</td>\n",
              "      <td>3</td>\n",
              "      <td>6</td>\n",
              "      <td>104.55</td>\n",
              "      <td>2</td>\n",
              "    </tr>\n",
              "    <tr>\n",
              "      <th>2</th>\n",
              "      <td>Cn1c2ncn(CC(=O)N3CCOCC3)c2c(=O)n(C)c1=O</td>\n",
              "      <td>ZINC000000003942</td>\n",
              "      <td>Filter82_pyridinium &gt; 0</td>\n",
              "      <td>307.310</td>\n",
              "      <td>-1.7075</td>\n",
              "      <td>0</td>\n",
              "      <td>8</td>\n",
              "      <td>91.36</td>\n",
              "      <td>2</td>\n",
              "    </tr>\n",
              "    <tr>\n",
              "      <th>3</th>\n",
              "      <td>CN1C(=O)C[C@H](N2CCN(C(=O)CN3CCCC3)CC2)C1=O</td>\n",
              "      <td>ZINC000000036436</td>\n",
              "      <td>OK</td>\n",
              "      <td>308.382</td>\n",
              "      <td>-1.0163</td>\n",
              "      <td>0</td>\n",
              "      <td>5</td>\n",
              "      <td>64.17</td>\n",
              "      <td>3</td>\n",
              "    </tr>\n",
              "    <tr>\n",
              "      <th>4</th>\n",
              "      <td>CC(=O)NC[C@H](O)[C@H]1O[C@H]2OC(C)(C)O[C@H]2[C...</td>\n",
              "      <td>ZINC000000041101</td>\n",
              "      <td>OK</td>\n",
              "      <td>302.327</td>\n",
              "      <td>-1.1355</td>\n",
              "      <td>3</td>\n",
              "      <td>6</td>\n",
              "      <td>106.12</td>\n",
              "      <td>4</td>\n",
              "    </tr>\n",
              "  </tbody>\n",
              "</table>\n",
              "</div>\n",
              "      <button class=\"colab-df-convert\" onclick=\"convertToInteractive('df-cf57189f-2d64-4a6b-840c-509750c1a83e')\"\n",
              "              title=\"Convert this dataframe to an interactive table.\"\n",
              "              style=\"display:none;\">\n",
              "        \n",
              "  <svg xmlns=\"http://www.w3.org/2000/svg\" height=\"24px\"viewBox=\"0 0 24 24\"\n",
              "       width=\"24px\">\n",
              "    <path d=\"M0 0h24v24H0V0z\" fill=\"none\"/>\n",
              "    <path d=\"M18.56 5.44l.94 2.06.94-2.06 2.06-.94-2.06-.94-.94-2.06-.94 2.06-2.06.94zm-11 1L8.5 8.5l.94-2.06 2.06-.94-2.06-.94L8.5 2.5l-.94 2.06-2.06.94zm10 10l.94 2.06.94-2.06 2.06-.94-2.06-.94-.94-2.06-.94 2.06-2.06.94z\"/><path d=\"M17.41 7.96l-1.37-1.37c-.4-.4-.92-.59-1.43-.59-.52 0-1.04.2-1.43.59L10.3 9.45l-7.72 7.72c-.78.78-.78 2.05 0 2.83L4 21.41c.39.39.9.59 1.41.59.51 0 1.02-.2 1.41-.59l7.78-7.78 2.81-2.81c.8-.78.8-2.07 0-2.86zM5.41 20L4 18.59l7.72-7.72 1.47 1.35L5.41 20z\"/>\n",
              "  </svg>\n",
              "      </button>\n",
              "      \n",
              "  <style>\n",
              "    .colab-df-container {\n",
              "      display:flex;\n",
              "      flex-wrap:wrap;\n",
              "      gap: 12px;\n",
              "    }\n",
              "\n",
              "    .colab-df-convert {\n",
              "      background-color: #E8F0FE;\n",
              "      border: none;\n",
              "      border-radius: 50%;\n",
              "      cursor: pointer;\n",
              "      display: none;\n",
              "      fill: #1967D2;\n",
              "      height: 32px;\n",
              "      padding: 0 0 0 0;\n",
              "      width: 32px;\n",
              "    }\n",
              "\n",
              "    .colab-df-convert:hover {\n",
              "      background-color: #E2EBFA;\n",
              "      box-shadow: 0px 1px 2px rgba(60, 64, 67, 0.3), 0px 1px 3px 1px rgba(60, 64, 67, 0.15);\n",
              "      fill: #174EA6;\n",
              "    }\n",
              "\n",
              "    [theme=dark] .colab-df-convert {\n",
              "      background-color: #3B4455;\n",
              "      fill: #D2E3FC;\n",
              "    }\n",
              "\n",
              "    [theme=dark] .colab-df-convert:hover {\n",
              "      background-color: #434B5C;\n",
              "      box-shadow: 0px 1px 3px 1px rgba(0, 0, 0, 0.15);\n",
              "      filter: drop-shadow(0px 1px 2px rgba(0, 0, 0, 0.3));\n",
              "      fill: #FFFFFF;\n",
              "    }\n",
              "  </style>\n",
              "\n",
              "      <script>\n",
              "        const buttonEl =\n",
              "          document.querySelector('#df-cf57189f-2d64-4a6b-840c-509750c1a83e button.colab-df-convert');\n",
              "        buttonEl.style.display =\n",
              "          google.colab.kernel.accessAllowed ? 'block' : 'none';\n",
              "\n",
              "        async function convertToInteractive(key) {\n",
              "          const element = document.querySelector('#df-cf57189f-2d64-4a6b-840c-509750c1a83e');\n",
              "          const dataTable =\n",
              "            await google.colab.kernel.invokeFunction('convertToInteractive',\n",
              "                                                     [key], {});\n",
              "          if (!dataTable) return;\n",
              "\n",
              "          const docLinkHtml = 'Like what you see? Visit the ' +\n",
              "            '<a target=\"_blank\" href=https://colab.research.google.com/notebooks/data_table.ipynb>data table notebook</a>'\n",
              "            + ' to learn more about interactive tables.';\n",
              "          element.innerHTML = '';\n",
              "          dataTable['output_type'] = 'display_data';\n",
              "          await google.colab.output.renderOutput(dataTable, element);\n",
              "          const docLink = document.createElement('div');\n",
              "          docLink.innerHTML = docLinkHtml;\n",
              "          element.appendChild(docLink);\n",
              "        }\n",
              "      </script>\n",
              "    </div>\n",
              "  </div>\n",
              "  "
            ]
          },
          "metadata": {},
          "execution_count": 48
        }
      ],
      "source": [
        "df = pd.read_csv(\"zinc.csv\")\n",
        "df.head()"
      ]
    },
    {
      "cell_type": "markdown",
      "metadata": {
        "id": "qQEK-Wo22kv7"
      },
      "source": [
        "- FILTER의 경우의 수를 파악하기 위해서 collection의 Counter를 사용한다\n",
        " - 통과한 수(OK)는 69148이다\n",
        " - 1,2 디카르보닐 구조를 포하여 통과하지 못한 경우는 19330이다 (이는 아미노산 셀린 또는 시스테인과 공유결합을 형성하는 것으로 알려져 있다)\n",
        " - filter_collection.CSV 파일을 보면 1,2디카르보닐 구조를 의미하는 SMARTS 문자열'*C(=O)C(=O)*'를 확인할 수 있다."
      ]
    },
    {
      "cell_type": "code",
      "execution_count": null,
      "metadata": {
        "colab": {
          "base_uri": "https://localhost:8080/",
          "height": 206
        },
        "id": "uw1dquNdMBTB",
        "outputId": "45fa4ce9-3a04-4126-fc55-55ea9fbb809d"
      },
      "outputs": [
        {
          "output_type": "execute_result",
          "data": {
            "text/plain": [
              "                           Rule  Count\n",
              "2                            OK  69148\n",
              "7    Filter41_12_dicarbonyl > 0  19330\n",
              "0       Filter82_pyridinium > 0   7713\n",
              "11     Filter93_acetyl_urea > 0   1541\n",
              "12  Filter78_bicyclic_Imide > 0    825"
            ],
            "text/html": [
              "\n",
              "  <div id=\"df-eb4947cf-d5e4-484c-aeed-922d64bd4ec7\">\n",
              "    <div class=\"colab-df-container\">\n",
              "      <div>\n",
              "<style scoped>\n",
              "    .dataframe tbody tr th:only-of-type {\n",
              "        vertical-align: middle;\n",
              "    }\n",
              "\n",
              "    .dataframe tbody tr th {\n",
              "        vertical-align: top;\n",
              "    }\n",
              "\n",
              "    .dataframe thead th {\n",
              "        text-align: right;\n",
              "    }\n",
              "</style>\n",
              "<table border=\"1\" class=\"dataframe\">\n",
              "  <thead>\n",
              "    <tr style=\"text-align: right;\">\n",
              "      <th></th>\n",
              "      <th>Rule</th>\n",
              "      <th>Count</th>\n",
              "    </tr>\n",
              "  </thead>\n",
              "  <tbody>\n",
              "    <tr>\n",
              "      <th>2</th>\n",
              "      <td>OK</td>\n",
              "      <td>69148</td>\n",
              "    </tr>\n",
              "    <tr>\n",
              "      <th>7</th>\n",
              "      <td>Filter41_12_dicarbonyl &gt; 0</td>\n",
              "      <td>19330</td>\n",
              "    </tr>\n",
              "    <tr>\n",
              "      <th>0</th>\n",
              "      <td>Filter82_pyridinium &gt; 0</td>\n",
              "      <td>7713</td>\n",
              "    </tr>\n",
              "    <tr>\n",
              "      <th>11</th>\n",
              "      <td>Filter93_acetyl_urea &gt; 0</td>\n",
              "      <td>1541</td>\n",
              "    </tr>\n",
              "    <tr>\n",
              "      <th>12</th>\n",
              "      <td>Filter78_bicyclic_Imide &gt; 0</td>\n",
              "      <td>825</td>\n",
              "    </tr>\n",
              "  </tbody>\n",
              "</table>\n",
              "</div>\n",
              "      <button class=\"colab-df-convert\" onclick=\"convertToInteractive('df-eb4947cf-d5e4-484c-aeed-922d64bd4ec7')\"\n",
              "              title=\"Convert this dataframe to an interactive table.\"\n",
              "              style=\"display:none;\">\n",
              "        \n",
              "  <svg xmlns=\"http://www.w3.org/2000/svg\" height=\"24px\"viewBox=\"0 0 24 24\"\n",
              "       width=\"24px\">\n",
              "    <path d=\"M0 0h24v24H0V0z\" fill=\"none\"/>\n",
              "    <path d=\"M18.56 5.44l.94 2.06.94-2.06 2.06-.94-2.06-.94-.94-2.06-.94 2.06-2.06.94zm-11 1L8.5 8.5l.94-2.06 2.06-.94-2.06-.94L8.5 2.5l-.94 2.06-2.06.94zm10 10l.94 2.06.94-2.06 2.06-.94-2.06-.94-.94-2.06-.94 2.06-2.06.94z\"/><path d=\"M17.41 7.96l-1.37-1.37c-.4-.4-.92-.59-1.43-.59-.52 0-1.04.2-1.43.59L10.3 9.45l-7.72 7.72c-.78.78-.78 2.05 0 2.83L4 21.41c.39.39.9.59 1.41.59.51 0 1.02-.2 1.41-.59l7.78-7.78 2.81-2.81c.8-.78.8-2.07 0-2.86zM5.41 20L4 18.59l7.72-7.72 1.47 1.35L5.41 20z\"/>\n",
              "  </svg>\n",
              "      </button>\n",
              "      \n",
              "  <style>\n",
              "    .colab-df-container {\n",
              "      display:flex;\n",
              "      flex-wrap:wrap;\n",
              "      gap: 12px;\n",
              "    }\n",
              "\n",
              "    .colab-df-convert {\n",
              "      background-color: #E8F0FE;\n",
              "      border: none;\n",
              "      border-radius: 50%;\n",
              "      cursor: pointer;\n",
              "      display: none;\n",
              "      fill: #1967D2;\n",
              "      height: 32px;\n",
              "      padding: 0 0 0 0;\n",
              "      width: 32px;\n",
              "    }\n",
              "\n",
              "    .colab-df-convert:hover {\n",
              "      background-color: #E2EBFA;\n",
              "      box-shadow: 0px 1px 2px rgba(60, 64, 67, 0.3), 0px 1px 3px 1px rgba(60, 64, 67, 0.15);\n",
              "      fill: #174EA6;\n",
              "    }\n",
              "\n",
              "    [theme=dark] .colab-df-convert {\n",
              "      background-color: #3B4455;\n",
              "      fill: #D2E3FC;\n",
              "    }\n",
              "\n",
              "    [theme=dark] .colab-df-convert:hover {\n",
              "      background-color: #434B5C;\n",
              "      box-shadow: 0px 1px 3px 1px rgba(0, 0, 0, 0.15);\n",
              "      filter: drop-shadow(0px 1px 2px rgba(0, 0, 0, 0.3));\n",
              "      fill: #FFFFFF;\n",
              "    }\n",
              "  </style>\n",
              "\n",
              "      <script>\n",
              "        const buttonEl =\n",
              "          document.querySelector('#df-eb4947cf-d5e4-484c-aeed-922d64bd4ec7 button.colab-df-convert');\n",
              "        buttonEl.style.display =\n",
              "          google.colab.kernel.accessAllowed ? 'block' : 'none';\n",
              "\n",
              "        async function convertToInteractive(key) {\n",
              "          const element = document.querySelector('#df-eb4947cf-d5e4-484c-aeed-922d64bd4ec7');\n",
              "          const dataTable =\n",
              "            await google.colab.kernel.invokeFunction('convertToInteractive',\n",
              "                                                     [key], {});\n",
              "          if (!dataTable) return;\n",
              "\n",
              "          const docLinkHtml = 'Like what you see? Visit the ' +\n",
              "            '<a target=\"_blank\" href=https://colab.research.google.com/notebooks/data_table.ipynb>data table notebook</a>'\n",
              "            + ' to learn more about interactive tables.';\n",
              "          element.innerHTML = '';\n",
              "          dataTable['output_type'] = 'display_data';\n",
              "          await google.colab.output.renderOutput(dataTable, element);\n",
              "          const docLink = document.createElement('div');\n",
              "          docLink.innerHTML = docLinkHtml;\n",
              "          element.appendChild(docLink);\n",
              "        }\n",
              "      </script>\n",
              "    </div>\n",
              "  </div>\n",
              "  "
            ]
          },
          "metadata": {},
          "execution_count": 49
        }
      ],
      "source": [
        "from collections import Counter\n",
        "count_list = list(Counter(df.FILTER).items())\n",
        "count_df = pd.DataFrame(count_list,columns=[\"Rule\",\"Count\"])\n",
        "count_df.sort_values(\"Count\",inplace=True,ascending=False)\n",
        "count_df.head()"
      ]
    },
    {
      "cell_type": "code",
      "execution_count": null,
      "metadata": {
        "colab": {
          "base_uri": "https://localhost:8080/",
          "height": 167
        },
        "id": "HLqVhkPIMIs_",
        "outputId": "bcd195cc-3734-42e3-bb8a-19b64ad9665f"
      },
      "outputs": [
        {
          "output_type": "execute_result",
          "data": {
            "text/plain": [
              "<rdkit.Chem.rdchem.Mol at 0x7fab0589d270>"
            ],
            "image/png": "[encoded data removed]"
          },
          "metadata": {},
          "execution_count": 57
        }
      ],
      "source": [
        "dicarbonyl = Chem.MolFromSmarts('*C(=O)C(=O)*')\n",
        "dicarbonyl"
      ]
    },
    {
      "cell_type": "code",
      "source": [
        "smiles_list = df[df.FILTER == \"Filter41_12_dicarbonyl > 0\"].SMILES[:10]\n",
        "mol_list = [Chem.MolFromSmiles(x) for x in smiles_list]\n",
        "match_list = [mol.GetSubstructMatch(dicarbonyl) for mol in mol_list]\n",
        "Draw.MolsToGridImage(mol_list,highlightAtomLists=match_list,molsPerRow=5)"
      ],
      "metadata": {
        "id": "_TZYYMeFqr-t",
        "outputId": "1d68bc55-57af-4cae-8ddc-eb1e01dee871",
        "colab": {
          "base_uri": "https://localhost:8080/",
          "height": 349
        }
      },
      "execution_count": null,
      "outputs": [
        {
          "output_type": "execute_result",
          "data": {
            "image/png": "[encoded data removed]",
            "text/plain": [
              "<IPython.core.display.Image object>"
            ]
          },
          "metadata": {},
          "execution_count": 58
        }
      ]
    },
    {
      "cell_type": "markdown",
      "metadata": {
        "id": "AIp-NTayFEqJ"
      },
      "source": [
        "# 모델 사용하기\n",
        "- GCN 모델을 불러오고, 피처화기를 만든후, 분자 데이터를 피처화 한다\n",
        "- 예측값을 확인하고 가장 높은 점수를 얻은 화학구조를 확인한다\n",
        "- 분자 데이터를 CSV로 저장한다"
      ]
    },
    {
      "cell_type": "code",
      "execution_count": null,
      "metadata": {
        "id": "JaVT22MaFhTM"
      },
      "outputs": [],
      "source": [
        "# 저장된 모델 불러오기\n",
        "# model = dc.models.GraphConvModel(1, batch_size=128, \n",
        "#           mode='classification',model_dir=\"model_dir\")\n",
        "# model.restore()"
      ]
    },
    {
      "cell_type": "code",
      "execution_count": null,
      "metadata": {
        "colab": {
          "base_uri": "https://localhost:8080/",
          "height": 206
        },
        "id": "iSsUjS2_Ft45",
        "outputId": "add5a5ab-8e77-41ce-8919-e4aa51f893d9"
      },
      "outputs": [
        {
          "output_type": "execute_result",
          "data": {
            "text/plain": [
              "                                              SMILES              Name  Val\n",
              "0        CN(CCO)C[C@@H](O)Cn1cnc2c1c(=O)n(C)c(=O)n2C  ZINC000000000843    0\n",
              "1  O=c1[nH]c(=O)n([C@@H]2C[C@@H](O)[C@H](CO)O2)cc1Br  ZINC000000001063    0\n",
              "2            Cn1c2ncn(CC(=O)N3CCOCC3)c2c(=O)n(C)c1=O  ZINC000000003942    0\n",
              "3        CN1C(=O)C[C@H](N2CCN(C(=O)CN3CCCC3)CC2)C1=O  ZINC000000036436    0\n",
              "4  CC(=O)NC[C@H](O)[C@H]1O[C@H]2OC(C)(C)O[C@H]2[C...  ZINC000000041101    0"
            ],
            "text/html": [
              "\n",
              "  <div id=\"df-746f929e-0cee-44b8-b829-cc309df8928c\">\n",
              "    <div class=\"colab-df-container\">\n",
              "      <div>\n",
              "<style scoped>\n",
              "    .dataframe tbody tr th:only-of-type {\n",
              "        vertical-align: middle;\n",
              "    }\n",
              "\n",
              "    .dataframe tbody tr th {\n",
              "        vertical-align: top;\n",
              "    }\n",
              "\n",
              "    .dataframe thead th {\n",
              "        text-align: right;\n",
              "    }\n",
              "</style>\n",
              "<table border=\"1\" class=\"dataframe\">\n",
              "  <thead>\n",
              "    <tr style=\"text-align: right;\">\n",
              "      <th></th>\n",
              "      <th>SMILES</th>\n",
              "      <th>Name</th>\n",
              "      <th>Val</th>\n",
              "    </tr>\n",
              "  </thead>\n",
              "  <tbody>\n",
              "    <tr>\n",
              "      <th>0</th>\n",
              "      <td>CN(CCO)C[C@@H](O)Cn1cnc2c1c(=O)n(C)c(=O)n2C</td>\n",
              "      <td>ZINC000000000843</td>\n",
              "      <td>0</td>\n",
              "    </tr>\n",
              "    <tr>\n",
              "      <th>1</th>\n",
              "      <td>O=c1[nH]c(=O)n([C@@H]2C[C@@H](O)[C@H](CO)O2)cc1Br</td>\n",
              "      <td>ZINC000000001063</td>\n",
              "      <td>0</td>\n",
              "    </tr>\n",
              "    <tr>\n",
              "      <th>2</th>\n",
              "      <td>Cn1c2ncn(CC(=O)N3CCOCC3)c2c(=O)n(C)c1=O</td>\n",
              "      <td>ZINC000000003942</td>\n",
              "      <td>0</td>\n",
              "    </tr>\n",
              "    <tr>\n",
              "      <th>3</th>\n",
              "      <td>CN1C(=O)C[C@H](N2CCN(C(=O)CN3CCCC3)CC2)C1=O</td>\n",
              "      <td>ZINC000000036436</td>\n",
              "      <td>0</td>\n",
              "    </tr>\n",
              "    <tr>\n",
              "      <th>4</th>\n",
              "      <td>CC(=O)NC[C@H](O)[C@H]1O[C@H]2OC(C)(C)O[C@H]2[C...</td>\n",
              "      <td>ZINC000000041101</td>\n",
              "      <td>0</td>\n",
              "    </tr>\n",
              "  </tbody>\n",
              "</table>\n",
              "</div>\n",
              "      <button class=\"colab-df-convert\" onclick=\"convertToInteractive('df-746f929e-0cee-44b8-b829-cc309df8928c')\"\n",
              "              title=\"Convert this dataframe to an interactive table.\"\n",
              "              style=\"display:none;\">\n",
              "        \n",
              "  <svg xmlns=\"http://www.w3.org/2000/svg\" height=\"24px\"viewBox=\"0 0 24 24\"\n",
              "       width=\"24px\">\n",
              "    <path d=\"M0 0h24v24H0V0z\" fill=\"none\"/>\n",
              "    <path d=\"M18.56 5.44l.94 2.06.94-2.06 2.06-.94-2.06-.94-.94-2.06-.94 2.06-2.06.94zm-11 1L8.5 8.5l.94-2.06 2.06-.94-2.06-.94L8.5 2.5l-.94 2.06-2.06.94zm10 10l.94 2.06.94-2.06 2.06-.94-2.06-.94-.94-2.06-.94 2.06-2.06.94z\"/><path d=\"M17.41 7.96l-1.37-1.37c-.4-.4-.92-.59-1.43-.59-.52 0-1.04.2-1.43.59L10.3 9.45l-7.72 7.72c-.78.78-.78 2.05 0 2.83L4 21.41c.39.39.9.59 1.41.59.51 0 1.02-.2 1.41-.59l7.78-7.78 2.81-2.81c.8-.78.8-2.07 0-2.86zM5.41 20L4 18.59l7.72-7.72 1.47 1.35L5.41 20z\"/>\n",
              "  </svg>\n",
              "      </button>\n",
              "      \n",
              "  <style>\n",
              "    .colab-df-container {\n",
              "      display:flex;\n",
              "      flex-wrap:wrap;\n",
              "      gap: 12px;\n",
              "    }\n",
              "\n",
              "    .colab-df-convert {\n",
              "      background-color: #E8F0FE;\n",
              "      border: none;\n",
              "      border-radius: 50%;\n",
              "      cursor: pointer;\n",
              "      display: none;\n",
              "      fill: #1967D2;\n",
              "      height: 32px;\n",
              "      padding: 0 0 0 0;\n",
              "      width: 32px;\n",
              "    }\n",
              "\n",
              "    .colab-df-convert:hover {\n",
              "      background-color: #E2EBFA;\n",
              "      box-shadow: 0px 1px 2px rgba(60, 64, 67, 0.3), 0px 1px 3px 1px rgba(60, 64, 67, 0.15);\n",
              "      fill: #174EA6;\n",
              "    }\n",
              "\n",
              "    [theme=dark] .colab-df-convert {\n",
              "      background-color: #3B4455;\n",
              "      fill: #D2E3FC;\n",
              "    }\n",
              "\n",
              "    [theme=dark] .colab-df-convert:hover {\n",
              "      background-color: #434B5C;\n",
              "      box-shadow: 0px 1px 3px 1px rgba(0, 0, 0, 0.15);\n",
              "      filter: drop-shadow(0px 1px 2px rgba(0, 0, 0, 0.3));\n",
              "      fill: #FFFFFF;\n",
              "    }\n",
              "  </style>\n",
              "\n",
              "      <script>\n",
              "        const buttonEl =\n",
              "          document.querySelector('#df-746f929e-0cee-44b8-b829-cc309df8928c button.colab-df-convert');\n",
              "        buttonEl.style.display =\n",
              "          google.colab.kernel.accessAllowed ? 'block' : 'none';\n",
              "\n",
              "        async function convertToInteractive(key) {\n",
              "          const element = document.querySelector('#df-746f929e-0cee-44b8-b829-cc309df8928c');\n",
              "          const dataTable =\n",
              "            await google.colab.kernel.invokeFunction('convertToInteractive',\n",
              "                                                     [key], {});\n",
              "          if (!dataTable) return;\n",
              "\n",
              "          const docLinkHtml = 'Like what you see? Visit the ' +\n",
              "            '<a target=\"_blank\" href=https://colab.research.google.com/notebooks/data_table.ipynb>data table notebook</a>'\n",
              "            + ' to learn more about interactive tables.';\n",
              "          element.innerHTML = '';\n",
              "          dataTable['output_type'] = 'display_data';\n",
              "          await google.colab.output.renderOutput(dataTable, element);\n",
              "          const docLink = document.createElement('div');\n",
              "          docLink.innerHTML = docLinkHtml;\n",
              "          element.appendChild(docLink);\n",
              "        }\n",
              "      </script>\n",
              "    </div>\n",
              "  </div>\n",
              "  "
            ]
          },
          "metadata": {},
          "execution_count": 59
        }
      ],
      "source": [
        "df = pd.read_csv(\"zinc_100k.smi\",sep=\" \",header=None)\n",
        "df.columns=[\"SMILES\",\"Name\"]\n",
        "rows,cols = df.shape\n",
        "df[\"Val\"] = [0] * rows # 피처화를 위한 빈 자리\n",
        "df.head()"
      ]
    },
    {
      "cell_type": "code",
      "execution_count": null,
      "metadata": {
        "id": "J_VKtsqoF3ax"
      },
      "outputs": [],
      "source": [
        "infile_name = \"zinc_filtered.csv\"\n",
        "df.to_csv(infile_name,index=False)"
      ]
    },
    {
      "cell_type": "markdown",
      "metadata": {
        "id": "oDXtw2sBHohF"
      },
      "source": [
        "- CSV 파일을 읽어온다\n",
        "- dataset을 만든후 모델을 사용하기 위해서 피처화를 수행한다\n",
        " - ConvMolFeaturizer 사용\n",
        "- 시간이 오래걸린다 (7분)"
      ]
    },
    {
      "cell_type": "code",
      "execution_count": null,
      "metadata": {
        "id": "i32zwV_DF9Sy"
      },
      "outputs": [],
      "source": [
        "loader = dc.data.CSVLoader(tasks=['Val'], feature_field=\"SMILES\", featurizer=featurizer)\n",
        "dataset = loader.create_dataset(infile_name, shard_size=8192)\n",
        "pred = model.predict(dataset)"
      ]
    },
    {
      "cell_type": "markdown",
      "metadata": {
        "id": "HGGxDSX6H6J9"
      },
      "source": [
        "- 활성화와 비활성화를 구분하기 위해서 점수를 시각화 한다\n",
        "- SMILES와 예측값이 있는 데이터프레임을 합친다\n",
        "- 예측값이 높은 분자를 살펴본다\n",
        " - 아래 그림에서 0.3 이상을 선택하겠다"
      ]
    },
    {
      "cell_type": "code",
      "execution_count": null,
      "metadata": {
        "colab": {
          "base_uri": "https://localhost:8080/",
          "height": 386
        },
        "id": "lMnBaFNPGEFH",
        "outputId": "ddf3f5a7-9cce-48f7-f386-f69b7ffdadfd"
      },
      "outputs": [
        {
          "output_type": "execute_result",
          "data": {
            "text/plain": [
              "<seaborn.axisgrid.FacetGrid at 0x7fab8aac5bd0>"
            ]
          },
          "metadata": {},
          "execution_count": 62
        },
        {
          "output_type": "display_data",
          "data": {
            "text/plain": [
              "<Figure size 360x360 with 1 Axes>"
            ],
            "image/png": "[encoded data removed]"
          },
          "metadata": {
            "image/png": {
              "width": 352,
              "height": 351
            },
            "needs_background": "light"
          }
        }
      ],
      "source": [
        "pred_df = pd.DataFrame([x.flatten() for x in pred],columns=[\"Neg\",\"Pos\"])\n",
        "sns.displot(x=pred_df.Pos,kind=\"kde\",rug=True)\n"
      ]
    },
    {
      "cell_type": "code",
      "execution_count": null,
      "metadata": {
        "id": "aRE_GxpTGJxf"
      },
      "outputs": [],
      "source": [
        "combo_df = df.join(pred_df,how=\"outer\")\n",
        "combo_df.sort_values(\"Pos\",inplace=True,ascending=False)"
      ]
    },
    {
      "cell_type": "code",
      "execution_count": null,
      "metadata": {
        "collapsed": true,
        "id": "33dg10-TGO_l",
        "outputId": "2748bd82-4c01-4f31-8549-c583185a3fbc",
        "colab": {
          "base_uri": "https://localhost:8080/",
          "height": 372
        }
      },
      "outputs": [
        {
          "output_type": "execute_result",
          "data": {
            "text/plain": [
              "                                                  SMILES              Name  \\\n",
              "68347                 CNc1ncnc2cc(C(=O)NCC(=O)NCCO)ccc21  ZINC000612418484   \n",
              "11052              O=C(NCCN1CCNC(=O)C1)c1cc2c(O)ncnc2cn1  ZINC000275344580   \n",
              "154    Cn1nc(N)c2cn([C@@H]3O[C@H](CO)[C@@H](O)[C@H]3O...  ZINC000003808299   \n",
              "2354   Cn1nc(N)c2cn([C@@H]3O[C@H](CO)[C@H](O)[C@@H]3O...  ZINC000013783254   \n",
              "2597   Cn1nc(N)c2cn([C@H]3O[C@@H](CO)[C@H](O)[C@@H]3O...  ZINC000105259533   \n",
              "\n",
              "       Val       Neg       Pos  \\\n",
              "68347    0  0.076565  0.923435   \n",
              "11052    0  0.148631  0.851369   \n",
              "154      0  0.256714  0.743286   \n",
              "2354     0  0.256714  0.743286   \n",
              "2597     0  0.256714  0.743286   \n",
              "\n",
              "                                                    Mol  \n",
              "68347  <rdkit.Chem.rdchem.Mol object at 0x7fab8b07f810>  \n",
              "11052  <rdkit.Chem.rdchem.Mol object at 0x7faad6312f30>  \n",
              "154    <rdkit.Chem.rdchem.Mol object at 0x7faad6312e70>  \n",
              "2354   <rdkit.Chem.rdchem.Mol object at 0x7faad6312990>  \n",
              "2597   <rdkit.Chem.rdchem.Mol object at 0x7faad6312930>  "
            ],
            "text/html": [
              "\n",
              "  <div id=\"df-93b1083f-dba9-4ed0-aee9-fa2afcc1ab74\">\n",
              "    <div class=\"colab-df-container\">\n",
              "      <div>\n",
              "<style scoped>\n",
              "    .dataframe tbody tr th:only-of-type {\n",
              "        vertical-align: middle;\n",
              "    }\n",
              "\n",
              "    .dataframe tbody tr th {\n",
              "        vertical-align: top;\n",
              "    }\n",
              "\n",
              "    .dataframe thead th {\n",
              "        text-align: right;\n",
              "    }\n",
              "</style>\n",
              "<table border=\"1\" class=\"dataframe\">\n",
              "  <thead>\n",
              "    <tr style=\"text-align: right;\">\n",
              "      <th></th>\n",
              "      <th>SMILES</th>\n",
              "      <th>Name</th>\n",
              "      <th>Val</th>\n",
              "      <th>Neg</th>\n",
              "      <th>Pos</th>\n",
              "      <th>Mol</th>\n",
              "    </tr>\n",
              "  </thead>\n",
              "  <tbody>\n",
              "    <tr>\n",
              "      <th>68347</th>\n",
              "      <td>CNc1ncnc2cc(C(=O)NCC(=O)NCCO)ccc21</td>\n",
              "      <td>ZINC000612418484</td>\n",
              "      <td>0</td>\n",
              "      <td>0.076565</td>\n",
              "      <td>0.923435</td>\n",
              "      <td>&lt;rdkit.Chem.rdchem.Mol object at 0x7fab8b07f810&gt;</td>\n",
              "    </tr>\n",
              "    <tr>\n",
              "      <th>11052</th>\n",
              "      <td>O=C(NCCN1CCNC(=O)C1)c1cc2c(O)ncnc2cn1</td>\n",
              "      <td>ZINC000275344580</td>\n",
              "      <td>0</td>\n",
              "      <td>0.148631</td>\n",
              "      <td>0.851369</td>\n",
              "      <td>&lt;rdkit.Chem.rdchem.Mol object at 0x7faad6312f30&gt;</td>\n",
              "    </tr>\n",
              "    <tr>\n",
              "      <th>154</th>\n",
              "      <td>Cn1nc(N)c2cn([C@@H]3O[C@H](CO)[C@@H](O)[C@H]3O...</td>\n",
              "      <td>ZINC000003808299</td>\n",
              "      <td>0</td>\n",
              "      <td>0.256714</td>\n",
              "      <td>0.743286</td>\n",
              "      <td>&lt;rdkit.Chem.rdchem.Mol object at 0x7faad6312e70&gt;</td>\n",
              "    </tr>\n",
              "    <tr>\n",
              "      <th>2354</th>\n",
              "      <td>Cn1nc(N)c2cn([C@@H]3O[C@H](CO)[C@H](O)[C@@H]3O...</td>\n",
              "      <td>ZINC000013783254</td>\n",
              "      <td>0</td>\n",
              "      <td>0.256714</td>\n",
              "      <td>0.743286</td>\n",
              "      <td>&lt;rdkit.Chem.rdchem.Mol object at 0x7faad6312990&gt;</td>\n",
              "    </tr>\n",
              "    <tr>\n",
              "      <th>2597</th>\n",
              "      <td>Cn1nc(N)c2cn([C@H]3O[C@@H](CO)[C@H](O)[C@@H]3O...</td>\n",
              "      <td>ZINC000105259533</td>\n",
              "      <td>0</td>\n",
              "      <td>0.256714</td>\n",
              "      <td>0.743286</td>\n",
              "      <td>&lt;rdkit.Chem.rdchem.Mol object at 0x7faad6312930&gt;</td>\n",
              "    </tr>\n",
              "  </tbody>\n",
              "</table>\n",
              "</div>\n",
              "      <button class=\"colab-df-convert\" onclick=\"convertToInteractive('df-93b1083f-dba9-4ed0-aee9-fa2afcc1ab74')\"\n",
              "              title=\"Convert this dataframe to an interactive table.\"\n",
              "              style=\"display:none;\">\n",
              "        \n",
              "  <svg xmlns=\"http://www.w3.org/2000/svg\" height=\"24px\"viewBox=\"0 0 24 24\"\n",
              "       width=\"24px\">\n",
              "    <path d=\"M0 0h24v24H0V0z\" fill=\"none\"/>\n",
              "    <path d=\"M18.56 5.44l.94 2.06.94-2.06 2.06-.94-2.06-.94-.94-2.06-.94 2.06-2.06.94zm-11 1L8.5 8.5l.94-2.06 2.06-.94-2.06-.94L8.5 2.5l-.94 2.06-2.06.94zm10 10l.94 2.06.94-2.06 2.06-.94-2.06-.94-.94-2.06-.94 2.06-2.06.94z\"/><path d=\"M17.41 7.96l-1.37-1.37c-.4-.4-.92-.59-1.43-.59-.52 0-1.04.2-1.43.59L10.3 9.45l-7.72 7.72c-.78.78-.78 2.05 0 2.83L4 21.41c.39.39.9.59 1.41.59.51 0 1.02-.2 1.41-.59l7.78-7.78 2.81-2.81c.8-.78.8-2.07 0-2.86zM5.41 20L4 18.59l7.72-7.72 1.47 1.35L5.41 20z\"/>\n",
              "  </svg>\n",
              "      </button>\n",
              "      \n",
              "  <style>\n",
              "    .colab-df-container {\n",
              "      display:flex;\n",
              "      flex-wrap:wrap;\n",
              "      gap: 12px;\n",
              "    }\n",
              "\n",
              "    .colab-df-convert {\n",
              "      background-color: #E8F0FE;\n",
              "      border: none;\n",
              "      border-radius: 50%;\n",
              "      cursor: pointer;\n",
              "      display: none;\n",
              "      fill: #1967D2;\n",
              "      height: 32px;\n",
              "      padding: 0 0 0 0;\n",
              "      width: 32px;\n",
              "    }\n",
              "\n",
              "    .colab-df-convert:hover {\n",
              "      background-color: #E2EBFA;\n",
              "      box-shadow: 0px 1px 2px rgba(60, 64, 67, 0.3), 0px 1px 3px 1px rgba(60, 64, 67, 0.15);\n",
              "      fill: #174EA6;\n",
              "    }\n",
              "\n",
              "    [theme=dark] .colab-df-convert {\n",
              "      background-color: #3B4455;\n",
              "      fill: #D2E3FC;\n",
              "    }\n",
              "\n",
              "    [theme=dark] .colab-df-convert:hover {\n",
              "      background-color: #434B5C;\n",
              "      box-shadow: 0px 1px 3px 1px rgba(0, 0, 0, 0.15);\n",
              "      filter: drop-shadow(0px 1px 2px rgba(0, 0, 0, 0.3));\n",
              "      fill: #FFFFFF;\n",
              "    }\n",
              "  </style>\n",
              "\n",
              "      <script>\n",
              "        const buttonEl =\n",
              "          document.querySelector('#df-93b1083f-dba9-4ed0-aee9-fa2afcc1ab74 button.colab-df-convert');\n",
              "        buttonEl.style.display =\n",
              "          google.colab.kernel.accessAllowed ? 'block' : 'none';\n",
              "\n",
              "        async function convertToInteractive(key) {\n",
              "          const element = document.querySelector('#df-93b1083f-dba9-4ed0-aee9-fa2afcc1ab74');\n",
              "          const dataTable =\n",
              "            await google.colab.kernel.invokeFunction('convertToInteractive',\n",
              "                                                     [key], {});\n",
              "          if (!dataTable) return;\n",
              "\n",
              "          const docLinkHtml = 'Like what you see? Visit the ' +\n",
              "            '<a target=\"_blank\" href=https://colab.research.google.com/notebooks/data_table.ipynb>data table notebook</a>'\n",
              "            + ' to learn more about interactive tables.';\n",
              "          element.innerHTML = '';\n",
              "          dataTable['output_type'] = 'display_data';\n",
              "          await google.colab.output.renderOutput(dataTable, element);\n",
              "          const docLink = document.createElement('div');\n",
              "          docLink.innerHTML = docLinkHtml;\n",
              "          element.appendChild(docLink);\n",
              "        }\n",
              "      </script>\n",
              "    </div>\n",
              "  </div>\n",
              "  "
            ]
          },
          "metadata": {},
          "execution_count": 64
        }
      ],
      "source": [
        "PandasTools.AddMoleculeColumnToFrame(combo_df,\"SMILES\",\"Mol\")\n",
        "combo_df.head()"
      ]
    },
    {
      "cell_type": "code",
      "execution_count": null,
      "metadata": {
        "colab": {
          "base_uri": "https://localhost:8080/",
          "height": 349
        },
        "id": "KdPlhNsjGS16",
        "outputId": "e5ef7041-e36a-49d7-a2ec-97289e0867a9"
      },
      "outputs": [
        {
          "output_type": "execute_result",
          "data": {
            "image/png": "[encoded data removed]",
            "text/plain": [
              "<IPython.core.display.Image object>"
            ]
          },
          "metadata": {},
          "execution_count": 67
        }
      ],
      "source": [
        "Draw.MolsToGridImage(combo_df.Mol[:10],molsPerRow=5,legends=[\"%.2f\" % x for x in combo_df.Pos[:10]])\n"
      ]
    },
    {
      "cell_type": "markdown",
      "metadata": {
        "id": "yAZVrUJGITTy"
      },
      "source": [
        "- 예측값이 높는 분자들의 모양이 비슷한 것을 알 수 있다\n",
        "- 중복되는 것을 피하기 위해서 군집화를 수행한다\n",
        " - 화학적 유사성을 사용하는 Butina 군집화를 사용하겠다\n",
        " - 군집화를 하려면 기준값을 주어야 한다 (아래에서 Tanimoto 유사도 > 0.35)"
      ]
    },
    {
      "cell_type": "code",
      "execution_count": null,
      "metadata": {
        "id": "ORtV-sBeGZ6A"
      },
      "outputs": [],
      "source": [
        "def butina_cluster(mol_list,cutoff=0.35):\n",
        "    fp_list = [rdmd.GetMorganFingerprintAsBitVect(m, 3, nBits=2048) for m in mol_list]\n",
        "    dists = []\n",
        "    nfps = len(fp_list)\n",
        "    for i in range(1,nfps):\n",
        "        sims = DataStructs.BulkTanimotoSimilarity(fp_list[i],fp_list[:i])\n",
        "        dists.extend([1-x for x in sims])\n",
        "    mol_clusters = Butina.ClusterData(dists,nfps,cutoff,isDistData=True)\n",
        "    cluster_id_list = [0]*nfps\n",
        "    for idx,cluster in enumerate(mol_clusters,1):\n",
        "        for member in cluster:\n",
        "            cluster_id_list[member] = idx\n",
        "    return cluster_id_list"
      ]
    },
    {
      "cell_type": "code",
      "execution_count": null,
      "metadata": {
        "colab": {
          "base_uri": "https://localhost:8080/",
          "height": 444
        },
        "id": "fHc2FoN-GchK",
        "outputId": "6f553813-7757-4baa-d9a8-0f65cbba4ace"
      },
      "outputs": [
        {
          "output_type": "execute_result",
          "data": {
            "text/plain": [
              "                                                  SMILES              Name  \\\n",
              "68347                 CNc1ncnc2cc(C(=O)NCC(=O)NCCO)ccc21  ZINC000612418484   \n",
              "11052              O=C(NCCN1CCNC(=O)C1)c1cc2c(O)ncnc2cn1  ZINC000275344580   \n",
              "154    Cn1nc(N)c2cn([C@@H]3O[C@H](CO)[C@@H](O)[C@H]3O...  ZINC000003808299   \n",
              "2354   Cn1nc(N)c2cn([C@@H]3O[C@H](CO)[C@H](O)[C@@H]3O...  ZINC000013783254   \n",
              "2597   Cn1nc(N)c2cn([C@H]3O[C@@H](CO)[C@H](O)[C@@H]3O...  ZINC000105259533   \n",
              "\n",
              "       Val       Neg       Pos  \\\n",
              "68347    0  0.076565  0.923435   \n",
              "11052    0  0.148631  0.851369   \n",
              "154      0  0.256714  0.743286   \n",
              "2354     0  0.256714  0.743286   \n",
              "2597     0  0.256714  0.743286   \n",
              "\n",
              "                                                    Mol  Cluster  \n",
              "68347  <rdkit.Chem.rdchem.Mol object at 0x7fab8b07f810>       45  \n",
              "11052  <rdkit.Chem.rdchem.Mol object at 0x7faad6312f30>       44  \n",
              "154    <rdkit.Chem.rdchem.Mol object at 0x7faad6312e70>        3  \n",
              "2354   <rdkit.Chem.rdchem.Mol object at 0x7faad6312990>        3  \n",
              "2597   <rdkit.Chem.rdchem.Mol object at 0x7faad6312930>        3  "
            ],
            "text/html": [
              "\n",
              "  <div id=\"df-682af89a-ec18-4ebe-97cf-49572c021ef2\">\n",
              "    <div class=\"colab-df-container\">\n",
              "      <div>\n",
              "<style scoped>\n",
              "    .dataframe tbody tr th:only-of-type {\n",
              "        vertical-align: middle;\n",
              "    }\n",
              "\n",
              "    .dataframe tbody tr th {\n",
              "        vertical-align: top;\n",
              "    }\n",
              "\n",
              "    .dataframe thead th {\n",
              "        text-align: right;\n",
              "    }\n",
              "</style>\n",
              "<table border=\"1\" class=\"dataframe\">\n",
              "  <thead>\n",
              "    <tr style=\"text-align: right;\">\n",
              "      <th></th>\n",
              "      <th>SMILES</th>\n",
              "      <th>Name</th>\n",
              "      <th>Val</th>\n",
              "      <th>Neg</th>\n",
              "      <th>Pos</th>\n",
              "      <th>Mol</th>\n",
              "      <th>Cluster</th>\n",
              "    </tr>\n",
              "  </thead>\n",
              "  <tbody>\n",
              "    <tr>\n",
              "      <th>68347</th>\n",
              "      <td>CNc1ncnc2cc(C(=O)NCC(=O)NCCO)ccc21</td>\n",
              "      <td>ZINC000612418484</td>\n",
              "      <td>0</td>\n",
              "      <td>0.076565</td>\n",
              "      <td>0.923435</td>\n",
              "      <td>&lt;rdkit.Chem.rdchem.Mol object at 0x7fab8b07f810&gt;</td>\n",
              "      <td>45</td>\n",
              "    </tr>\n",
              "    <tr>\n",
              "      <th>11052</th>\n",
              "      <td>O=C(NCCN1CCNC(=O)C1)c1cc2c(O)ncnc2cn1</td>\n",
              "      <td>ZINC000275344580</td>\n",
              "      <td>0</td>\n",
              "      <td>0.148631</td>\n",
              "      <td>0.851369</td>\n",
              "      <td>&lt;rdkit.Chem.rdchem.Mol object at 0x7faad6312f30&gt;</td>\n",
              "      <td>44</td>\n",
              "    </tr>\n",
              "    <tr>\n",
              "      <th>154</th>\n",
              "      <td>Cn1nc(N)c2cn([C@@H]3O[C@H](CO)[C@@H](O)[C@H]3O...</td>\n",
              "      <td>ZINC000003808299</td>\n",
              "      <td>0</td>\n",
              "      <td>0.256714</td>\n",
              "      <td>0.743286</td>\n",
              "      <td>&lt;rdkit.Chem.rdchem.Mol object at 0x7faad6312e70&gt;</td>\n",
              "      <td>3</td>\n",
              "    </tr>\n",
              "    <tr>\n",
              "      <th>2354</th>\n",
              "      <td>Cn1nc(N)c2cn([C@@H]3O[C@H](CO)[C@H](O)[C@@H]3O...</td>\n",
              "      <td>ZINC000013783254</td>\n",
              "      <td>0</td>\n",
              "      <td>0.256714</td>\n",
              "      <td>0.743286</td>\n",
              "      <td>&lt;rdkit.Chem.rdchem.Mol object at 0x7faad6312990&gt;</td>\n",
              "      <td>3</td>\n",
              "    </tr>\n",
              "    <tr>\n",
              "      <th>2597</th>\n",
              "      <td>Cn1nc(N)c2cn([C@H]3O[C@@H](CO)[C@H](O)[C@@H]3O...</td>\n",
              "      <td>ZINC000105259533</td>\n",
              "      <td>0</td>\n",
              "      <td>0.256714</td>\n",
              "      <td>0.743286</td>\n",
              "      <td>&lt;rdkit.Chem.rdchem.Mol object at 0x7faad6312930&gt;</td>\n",
              "      <td>3</td>\n",
              "    </tr>\n",
              "  </tbody>\n",
              "</table>\n",
              "</div>\n",
              "      <button class=\"colab-df-convert\" onclick=\"convertToInteractive('df-682af89a-ec18-4ebe-97cf-49572c021ef2')\"\n",
              "              title=\"Convert this dataframe to an interactive table.\"\n",
              "              style=\"display:none;\">\n",
              "        \n",
              "  <svg xmlns=\"http://www.w3.org/2000/svg\" height=\"24px\"viewBox=\"0 0 24 24\"\n",
              "       width=\"24px\">\n",
              "    <path d=\"M0 0h24v24H0V0z\" fill=\"none\"/>\n",
              "    <path d=\"M18.56 5.44l.94 2.06.94-2.06 2.06-.94-2.06-.94-.94-2.06-.94 2.06-2.06.94zm-11 1L8.5 8.5l.94-2.06 2.06-.94-2.06-.94L8.5 2.5l-.94 2.06-2.06.94zm10 10l.94 2.06.94-2.06 2.06-.94-2.06-.94-.94-2.06-.94 2.06-2.06.94z\"/><path d=\"M17.41 7.96l-1.37-1.37c-.4-.4-.92-.59-1.43-.59-.52 0-1.04.2-1.43.59L10.3 9.45l-7.72 7.72c-.78.78-.78 2.05 0 2.83L4 21.41c.39.39.9.59 1.41.59.51 0 1.02-.2 1.41-.59l7.78-7.78 2.81-2.81c.8-.78.8-2.07 0-2.86zM5.41 20L4 18.59l7.72-7.72 1.47 1.35L5.41 20z\"/>\n",
              "  </svg>\n",
              "      </button>\n",
              "      \n",
              "  <style>\n",
              "    .colab-df-container {\n",
              "      display:flex;\n",
              "      flex-wrap:wrap;\n",
              "      gap: 12px;\n",
              "    }\n",
              "\n",
              "    .colab-df-convert {\n",
              "      background-color: #E8F0FE;\n",
              "      border: none;\n",
              "      border-radius: 50%;\n",
              "      cursor: pointer;\n",
              "      display: none;\n",
              "      fill: #1967D2;\n",
              "      height: 32px;\n",
              "      padding: 0 0 0 0;\n",
              "      width: 32px;\n",
              "    }\n",
              "\n",
              "    .colab-df-convert:hover {\n",
              "      background-color: #E2EBFA;\n",
              "      box-shadow: 0px 1px 2px rgba(60, 64, 67, 0.3), 0px 1px 3px 1px rgba(60, 64, 67, 0.15);\n",
              "      fill: #174EA6;\n",
              "    }\n",
              "\n",
              "    [theme=dark] .colab-df-convert {\n",
              "      background-color: #3B4455;\n",
              "      fill: #D2E3FC;\n",
              "    }\n",
              "\n",
              "    [theme=dark] .colab-df-convert:hover {\n",
              "      background-color: #434B5C;\n",
              "      box-shadow: 0px 1px 3px 1px rgba(0, 0, 0, 0.15);\n",
              "      filter: drop-shadow(0px 1px 2px rgba(0, 0, 0, 0.3));\n",
              "      fill: #FFFFFF;\n",
              "    }\n",
              "  </style>\n",
              "\n",
              "      <script>\n",
              "        const buttonEl =\n",
              "          document.querySelector('#df-682af89a-ec18-4ebe-97cf-49572c021ef2 button.colab-df-convert');\n",
              "        buttonEl.style.display =\n",
              "          google.colab.kernel.accessAllowed ? 'block' : 'none';\n",
              "\n",
              "        async function convertToInteractive(key) {\n",
              "          const element = document.querySelector('#df-682af89a-ec18-4ebe-97cf-49572c021ef2');\n",
              "          const dataTable =\n",
              "            await google.colab.kernel.invokeFunction('convertToInteractive',\n",
              "                                                     [key], {});\n",
              "          if (!dataTable) return;\n",
              "\n",
              "          const docLinkHtml = 'Like what you see? Visit the ' +\n",
              "            '<a target=\"_blank\" href=https://colab.research.google.com/notebooks/data_table.ipynb>data table notebook</a>'\n",
              "            + ' to learn more about interactive tables.';\n",
              "          element.innerHTML = '';\n",
              "          dataTable['output_type'] = 'display_data';\n",
              "          await google.colab.output.renderOutput(dataTable, element);\n",
              "          const docLink = document.createElement('div');\n",
              "          docLink.innerHTML = docLinkHtml;\n",
              "          element.appendChild(docLink);\n",
              "        }\n",
              "      </script>\n",
              "    </div>\n",
              "  </div>\n",
              "  "
            ]
          },
          "metadata": {},
          "execution_count": 71
        }
      ],
      "source": [
        "best_100_df = combo_df.head(100).copy()\n",
        "best_100_df[\"Cluster\"] = butina_cluster(best_100_df.Mol)\n",
        "best_100_df[:5]"
      ]
    },
    {
      "cell_type": "code",
      "execution_count": null,
      "metadata": {
        "colab": {
          "base_uri": "https://localhost:8080/"
        },
        "id": "M-fIqQtgGh9E",
        "outputId": "ca90f576-f34c-4dcd-e32b-f0fcc935f199"
      },
      "outputs": [
        {
          "output_type": "execute_result",
          "data": {
            "text/plain": [
              "(45, 7)"
            ]
          },
          "metadata": {},
          "execution_count": 72
        }
      ],
      "source": [
        "len(best_100_df.Cluster.unique())\n",
        "best_cluster_rep_df = best_100_df.drop_duplicates(\"Cluster\")\n",
        "best_cluster_rep_df.shape"
      ]
    },
    {
      "cell_type": "markdown",
      "metadata": {
        "id": "Uw4RMOGhgHm_"
      },
      "source": [
        "- 결과를 파일로 저장하기"
      ]
    },
    {
      "cell_type": "code",
      "execution_count": null,
      "metadata": {
        "id": "EWzpTHO2GnzB"
      },
      "outputs": [],
      "source": [
        "best_cluster_rep_df.to_csv(\"best_cluster_represenatives.csv\")"
      ]
    }
  ],
  "metadata": {
    "accelerator": "GPU",
    "colab": {
      "provenance": [],
      "toc_visible": true,
      "collapsed_sections": [
        "KxfG36Osz4yX",
        "ee8fkz1pIStN",
        "TIH_hSwPN-jt",
        "A0LlQnRs7yyb",
        "1Erm6SkqLhtF",
        "5h-S2TaggHm9",
        "9vXJTqI11XR7"
      ],
      "include_colab_link": true
    },
    "kernelspec": {
      "display_name": "Python 3",
      "language": "python",
      "name": "python3"
    },
    "language_info": {
      "codemirror_mode": {
        "name": "ipython",
        "version": 3
      },
      "file_extension": ".py",
      "mimetype": "text/x-python",
      "name": "python",
      "nbconvert_exporter": "python",
      "pygments_lexer": "ipython3",
      "version": "3.8.8"
    },
    "toc": {
      "base_numbering": 1,
      "nav_menu": {},
      "number_sections": false,
      "sideBar": true,
      "skip_h1_title": false,
      "title_cell": "Table of Contents",
      "title_sidebar": "Contents",
      "toc_cell": false,
      "toc_position": {},
      "toc_section_display": true,
      "toc_window_display": true
    },
    "widgets": {
      "application/vnd.jupyter.widget-state+json": {
        "69917f925dcb4e8fa51a037b403424de": {
          "model_module": "@jupyter-widgets/controls",
          "model_name": "HBoxModel",
          "model_module_version": "1.5.0",
          "state": {
            "_dom_classes": [],
            "_model_module": "@jupyter-widgets/controls",
            "_model_module_version": "1.5.0",
            "_model_name": "HBoxModel",
            "_view_count": null,
            "_view_module": "@jupyter-widgets/controls",
            "_view_module_version": "1.5.0",
            "_view_name": "HBoxView",
            "box_style": "",
            "children": [
              "IPY_MODEL_42bd2d917b09425ba1f35f0e302d7d9b",
              "IPY_MODEL_2cdc365ea35a4a67a16388452f377a68",
              "IPY_MODEL_f50c0790088042adb65808e86d832bfb"
            ],
            "layout": "IPY_MODEL_4f57af545b2244d9955212a659ebbad2"
          }
        },
        "42bd2d917b09425ba1f35f0e302d7d9b": {
          "model_module": "@jupyter-widgets/controls",
          "model_name": "HTMLModel",
          "model_module_version": "1.5.0",
          "state": {
            "_dom_classes": [],
            "_model_module": "@jupyter-widgets/controls",
            "_model_module_version": "1.5.0",
            "_model_name": "HTMLModel",
            "_view_count": null,
            "_view_module": "@jupyter-widgets/controls",
            "_view_module_version": "1.5.0",
            "_view_name": "HTMLView",
            "description": "",
            "description_tooltip": null,
            "layout": "IPY_MODEL_506456fdaa974c9182d554a7e7171db7",
            "placeholder": "​",
            "style": "IPY_MODEL_05f61e1edb294166885db907050c291f",
            "value": "100%"
          }
        },
        "2cdc365ea35a4a67a16388452f377a68": {
          "model_module": "@jupyter-widgets/controls",
          "model_name": "FloatProgressModel",
          "model_module_version": "1.5.0",
          "state": {
            "_dom_classes": [],
            "_model_module": "@jupyter-widgets/controls",
            "_model_module_version": "1.5.0",
            "_model_name": "FloatProgressModel",
            "_view_count": null,
            "_view_module": "@jupyter-widgets/controls",
            "_view_module_version": "1.5.0",
            "_view_name": "ProgressView",
            "bar_style": "success",
            "description": "",
            "description_tooltip": null,
            "layout": "IPY_MODEL_ec07d33ce1ef4a7b979b88bde05340dc",
            "max": 5,
            "min": 0,
            "orientation": "horizontal",
            "style": "IPY_MODEL_4fd0096a5f284655a0865e380d54c60b",
            "value": 5
          }
        },
        "f50c0790088042adb65808e86d832bfb": {
          "model_module": "@jupyter-widgets/controls",
          "model_name": "HTMLModel",
          "model_module_version": "1.5.0",
          "state": {
            "_dom_classes": [],
            "_model_module": "@jupyter-widgets/controls",
            "_model_module_version": "1.5.0",
            "_model_name": "HTMLModel",
            "_view_count": null,
            "_view_module": "@jupyter-widgets/controls",
            "_view_module_version": "1.5.0",
            "_view_name": "HTMLView",
            "description": "",
            "description_tooltip": null,
            "layout": "IPY_MODEL_f4abae7c930c480ea87a50cc2ed727eb",
            "placeholder": "​",
            "style": "IPY_MODEL_82924a2d86244af780e21a3c2b99f8f1",
            "value": " 5/5 [01:33&lt;00:00, 17.50s/it]"
          }
        },
        "4f57af545b2244d9955212a659ebbad2": {
          "model_module": "@jupyter-widgets/base",
          "model_name": "LayoutModel",
          "model_module_version": "1.2.0",
          "state": {
            "_model_module": "@jupyter-widgets/base",
            "_model_module_version": "1.2.0",
            "_model_name": "LayoutModel",
            "_view_count": null,
            "_view_module": "@jupyter-widgets/base",
            "_view_module_version": "1.2.0",
            "_view_name": "LayoutView",
            "align_content": null,
            "align_items": null,
            "align_self": null,
            "border": null,
            "bottom": null,
            "display": null,
            "flex": null,
            "flex_flow": null,
            "grid_area": null,
            "grid_auto_columns": null,
            "grid_auto_flow": null,
            "grid_auto_rows": null,
            "grid_column": null,
            "grid_gap": null,
            "grid_row": null,
            "grid_template_areas": null,
            "grid_template_columns": null,
            "grid_template_rows": null,
            "height": null,
            "justify_content": null,
            "justify_items": null,
            "left": null,
            "margin": null,
            "max_height": null,
            "max_width": null,
            "min_height": null,
            "min_width": null,
            "object_fit": null,
            "object_position": null,
            "order": null,
            "overflow": null,
            "overflow_x": null,
            "overflow_y": null,
            "padding": null,
            "right": null,
            "top": null,
            "visibility": null,
            "width": null
          }
        },
        "506456fdaa974c9182d554a7e7171db7": {
          "model_module": "@jupyter-widgets/base",
          "model_name": "LayoutModel",
          "model_module_version": "1.2.0",
          "state": {
            "_model_module": "@jupyter-widgets/base",
            "_model_module_version": "1.2.0",
            "_model_name": "LayoutModel",
            "_view_count": null,
            "_view_module": "@jupyter-widgets/base",
            "_view_module_version": "1.2.0",
            "_view_name": "LayoutView",
            "align_content": null,
            "align_items": null,
            "align_self": null,
            "border": null,
            "bottom": null,
            "display": null,
            "flex": null,
            "flex_flow": null,
            "grid_area": null,
            "grid_auto_columns": null,
            "grid_auto_flow": null,
            "grid_auto_rows": null,
            "grid_column": null,
            "grid_gap": null,
            "grid_row": null,
            "grid_template_areas": null,
            "grid_template_columns": null,
            "grid_template_rows": null,
            "height": null,
            "justify_content": null,
            "justify_items": null,
            "left": null,
            "margin": null,
            "max_height": null,
            "max_width": null,
            "min_height": null,
            "min_width": null,
            "object_fit": null,
            "object_position": null,
            "order": null,
            "overflow": null,
            "overflow_x": null,
            "overflow_y": null,
            "padding": null,
            "right": null,
            "top": null,
            "visibility": null,
            "width": null
          }
        },
        "05f61e1edb294166885db907050c291f": {
          "model_module": "@jupyter-widgets/controls",
          "model_name": "DescriptionStyleModel",
          "model_module_version": "1.5.0",
          "state": {
            "_model_module": "@jupyter-widgets/controls",
            "_model_module_version": "1.5.0",
            "_model_name": "DescriptionStyleModel",
            "_view_count": null,
            "_view_module": "@jupyter-widgets/base",
            "_view_module_version": "1.2.0",
            "_view_name": "StyleView",
            "description_width": ""
          }
        },
        "ec07d33ce1ef4a7b979b88bde05340dc": {
          "model_module": "@jupyter-widgets/base",
          "model_name": "LayoutModel",
          "model_module_version": "1.2.0",
          "state": {
            "_model_module": "@jupyter-widgets/base",
            "_model_module_version": "1.2.0",
            "_model_name": "LayoutModel",
            "_view_count": null,
            "_view_module": "@jupyter-widgets/base",
            "_view_module_version": "1.2.0",
            "_view_name": "LayoutView",
            "align_content": null,
            "align_items": null,
            "align_self": null,
            "border": null,
            "bottom": null,
            "display": null,
            "flex": null,
            "flex_flow": null,
            "grid_area": null,
            "grid_auto_columns": null,
            "grid_auto_flow": null,
            "grid_auto_rows": null,
            "grid_column": null,
            "grid_gap": null,
            "grid_row": null,
            "grid_template_areas": null,
            "grid_template_columns": null,
            "grid_template_rows": null,
            "height": null,
            "justify_content": null,
            "justify_items": null,
            "left": null,
            "margin": null,
            "max_height": null,
            "max_width": null,
            "min_height": null,
            "min_width": null,
            "object_fit": null,
            "object_position": null,
            "order": null,
            "overflow": null,
            "overflow_x": null,
            "overflow_y": null,
            "padding": null,
            "right": null,
            "top": null,
            "visibility": null,
            "width": null
          }
        },
        "4fd0096a5f284655a0865e380d54c60b": {
          "model_module": "@jupyter-widgets/controls",
          "model_name": "ProgressStyleModel",
          "model_module_version": "1.5.0",
          "state": {
            "_model_module": "@jupyter-widgets/controls",
            "_model_module_version": "1.5.0",
            "_model_name": "ProgressStyleModel",
            "_view_count": null,
            "_view_module": "@jupyter-widgets/base",
            "_view_module_version": "1.2.0",
            "_view_name": "StyleView",
            "bar_color": null,
            "description_width": ""
          }
        },
        "f4abae7c930c480ea87a50cc2ed727eb": {
          "model_module": "@jupyter-widgets/base",
          "model_name": "LayoutModel",
          "model_module_version": "1.2.0",
          "state": {
            "_model_module": "@jupyter-widgets/base",
            "_model_module_version": "1.2.0",
            "_model_name": "LayoutModel",
            "_view_count": null,
            "_view_module": "@jupyter-widgets/base",
            "_view_module_version": "1.2.0",
            "_view_name": "LayoutView",
            "align_content": null,
            "align_items": null,
            "align_self": null,
            "border": null,
            "bottom": null,
            "display": null,
            "flex": null,
            "flex_flow": null,
            "grid_area": null,
            "grid_auto_columns": null,
            "grid_auto_flow": null,
            "grid_auto_rows": null,
            "grid_column": null,
            "grid_gap": null,
            "grid_row": null,
            "grid_template_areas": null,
            "grid_template_columns": null,
            "grid_template_rows": null,
            "height": null,
            "justify_content": null,
            "justify_items": null,
            "left": null,
            "margin": null,
            "max_height": null,
            "max_width": null,
            "min_height": null,
            "min_width": null,
            "object_fit": null,
            "object_position": null,
            "order": null,
            "overflow": null,
            "overflow_x": null,
            "overflow_y": null,
            "padding": null,
            "right": null,
            "top": null,
            "visibility": null,
            "width": null
          }
        },
        "82924a2d86244af780e21a3c2b99f8f1": {
          "model_module": "@jupyter-widgets/controls",
          "model_name": "DescriptionStyleModel",
          "model_module_version": "1.5.0",
          "state": {
            "_model_module": "@jupyter-widgets/controls",
            "_model_module_version": "1.5.0",
            "_model_name": "DescriptionStyleModel",
            "_view_count": null,
            "_view_module": "@jupyter-widgets/base",
            "_view_module_version": "1.2.0",
            "_view_name": "StyleView",
            "description_width": ""
          }
        }
      }
    }
  },
  "nbformat": 4,
  "nbformat_minor": 0
}