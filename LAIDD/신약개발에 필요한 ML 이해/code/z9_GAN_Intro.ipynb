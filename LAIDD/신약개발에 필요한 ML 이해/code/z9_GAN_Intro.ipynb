{
  "cells": [
    {
      "cell_type": "markdown",
      "metadata": {
        "id": "view-in-github",
        "colab_type": "text"
      },
      "source": [
        "<a href=\"https://colab.research.google.com/github/StillWork/AIDD-LAIDD/blob/main/z9_GAN_Intro.ipynb\" target=\"_parent\"><img src=\"https://colab.research.google.com/assets/colab-badge.svg\" alt=\"Open In Colab\"/></a>"
      ]
    },
    {
      "cell_type": "markdown",
      "metadata": {
        "id": "nB3zO8_Q1FAQ"
      },
      "source": [
        "# GAN 이해\n",
        "\n",
        "- Generative Adversarial Network\n",
        "- Generator와 Discriminator가 경쟁적으로 학습하면서 서로 성능을 개선하는 것\n"
      ]
    },
    {
      "cell_type": "markdown",
      "metadata": {
        "id": "_PGI_Rvgr0bo"
      },
      "source": [
        "- GAN 개념 \n",
        "\n",
        " <img src=\"https://github.com/StillWork/image/blob/main/%E1%84%89%E1%85%B3%E1%84%8F%E1%85%B3%E1%84%85%E1%85%B5%E1%86%AB%E1%84%89%E1%85%A3%E1%86%BA%202022-11-20%20%E1%84%8B%E1%85%A9%E1%84%92%E1%85%AE%2011.42.33.png?raw=1\" width=\"600\" align=\"left\">. "
      ]
    },
    {
      "cell_type": "markdown",
      "source": [
        "- GAN의 최종 목적은 새로운 데이터를 생성하는 것임\n",
        "- 응용\n",
        " - 예술품 창작(CAN)\n",
        " - 일부 지워진 이미지 복원(Image completion)\n",
        "\n",
        "- 스타일 트랜스퍼(cycleGAN)\n",
        " \n",
        "<img src=\"https://github.com/StillWork/image/blob/main/%E1%84%89%E1%85%B3%E1%84%8F%E1%85%B3%E1%84%85%E1%85%B5%E1%86%AB%E1%84%89%E1%85%A3%E1%86%BA%202022-11-27%20%E1%84%8B%E1%85%A9%E1%84%8C%E1%85%A5%E1%86%AB%2011.13.26.png?raw=1\" width=700>\n",
        "\n",
        "- 고품질의 이미지 생성(BigGAN)\n",
        "- 흑백 사진에 컬러채색\n",
        " \n",
        "<img src=\"https://github.com/StillWork/image/blob/main/%E1%84%89%E1%85%B3%E1%84%8F%E1%85%B3%E1%84%85%E1%85%B5%E1%86%AB%E1%84%89%E1%85%A3%E1%86%BA%202022-11-27%20%E1%84%8B%E1%85%A9%E1%84%8C%E1%85%A5%E1%86%AB%2011.13.05.png?raw=1\" width=600>\n",
        "\n",
        "- 잠재공간 (latent space) 연산으로 새로운 이미지 생성\n",
        "\n",
        "<img src=\"https://github.com/StillWork/image/blob/main/%E1%84%89%E1%85%B3%E1%84%8F%E1%85%B3%E1%84%85%E1%85%B5%E1%86%AB%E1%84%89%E1%85%A3%E1%86%BA%202022-11-27%20%E1%84%8B%E1%85%A9%E1%84%8C%E1%85%A5%E1%86%AB%2011.15.15.png?raw=1\" width=700>\n"
      ],
      "metadata": {
        "id": "Ae1zFHk236ef"
      }
    },
    {
      "cell_type": "markdown",
      "metadata": {
        "id": "90hbcHq9hqoC"
      },
      "source": [
        "## 예제\n",
        "\n",
        "- GAN을 이용하여 MNIST 이미지 생성 예시\n",
        "- Wasserstein GAN 사용\n",
        "- 참고 [GAN 개념 소개](https://towardsdatascience.com/fundamentals-of-generative-adversarial-networks-b7ca8c34f0bc)"
      ]
    },
    {
      "cell_type": "markdown",
      "metadata": {
        "id": "Hkcl7Woo2tIW"
      },
      "source": [
        "# Import"
      ]
    },
    {
      "cell_type": "code",
      "execution_count": 1,
      "metadata": {
        "colab": {
          "base_uri": "https://localhost:8080/"
        },
        "id": "cyXeZ5zTFkah",
        "outputId": "e14fcf05-3e71-4fea-d889-a6801fd73f41"
      },
      "outputs": [
        {
          "output_type": "stream",
          "name": "stdout",
          "text": [
            "Looking in indexes: https://pypi.org/simple, https://us-python.pkg.dev/colab-wheels/public/simple/\n",
            "Collecting deepchem\n",
            "  Downloading deepchem-2.6.1-py3-none-any.whl (608 kB)\n",
            "\u001b[K     |████████████████████████████████| 608 kB 20.5 MB/s \n",
            "\u001b[?25hCollecting rdkit-pypi\n",
            "  Downloading rdkit_pypi-2022.9.2-cp37-cp37m-manylinux_2_17_x86_64.manylinux2014_x86_64.whl (29.1 MB)\n",
            "\u001b[K     |████████████████████████████████| 29.1 MB 26.9 MB/s \n",
            "\u001b[?25hRequirement already satisfied: scikit-learn in /usr/local/lib/python3.7/dist-packages (from deepchem) (1.0.2)\n",
            "Requirement already satisfied: scipy in /usr/local/lib/python3.7/dist-packages (from deepchem) (1.7.3)\n",
            "Requirement already satisfied: joblib in /usr/local/lib/python3.7/dist-packages (from deepchem) (1.2.0)\n",
            "Requirement already satisfied: numpy>=1.21 in /usr/local/lib/python3.7/dist-packages (from deepchem) (1.21.6)\n",
            "Requirement already satisfied: pandas in /usr/local/lib/python3.7/dist-packages (from deepchem) (1.3.5)\n",
            "Requirement already satisfied: pytz>=2017.3 in /usr/local/lib/python3.7/dist-packages (from pandas->deepchem) (2022.6)\n",
            "Requirement already satisfied: python-dateutil>=2.7.3 in /usr/local/lib/python3.7/dist-packages (from pandas->deepchem) (2.8.2)\n",
            "Requirement already satisfied: six>=1.5 in /usr/local/lib/python3.7/dist-packages (from python-dateutil>=2.7.3->pandas->deepchem) (1.15.0)\n",
            "Requirement already satisfied: Pillow in /usr/local/lib/python3.7/dist-packages (from rdkit-pypi->deepchem) (7.1.2)\n",
            "Requirement already satisfied: threadpoolctl>=2.0.0 in /usr/local/lib/python3.7/dist-packages (from scikit-learn->deepchem) (3.1.0)\n",
            "Installing collected packages: rdkit-pypi, deepchem\n",
            "Successfully installed deepchem-2.6.1 rdkit-pypi-2022.9.2\n"
          ]
        }
      ],
      "source": [
        "!pip install deepchem"
      ]
    },
    {
      "cell_type": "code",
      "execution_count": 2,
      "metadata": {
        "id": "23zZTDoar0b7"
      },
      "outputs": [],
      "source": [
        "import numpy as np\n",
        "import deepchem as dc\n",
        "import tensorflow as tf\n",
        "from deepchem.models.optimizers import ExponentialDecay\n",
        "from tensorflow.keras.layers import Conv2D, Conv2DTranspose, Dense, Reshape\n",
        "import matplotlib.pyplot as plt\n",
        "import matplotlib.gridspec as gridspec\n",
        "%matplotlib inline\n",
        "%config InlineBackend.figure_format = 'retina'"
      ]
    },
    {
      "cell_type": "markdown",
      "metadata": {
        "id": "vjc280PQ3RkA"
      },
      "source": [
        "## MNIST 이미지 데이터"
      ]
    },
    {
      "cell_type": "code",
      "execution_count": 3,
      "metadata": {
        "colab": {
          "base_uri": "https://localhost:8080/"
        },
        "id": "ivx8czdI2r7i",
        "outputId": "5a6799c9-327a-4db2-a1cb-67c0f922373a"
      },
      "outputs": [
        {
          "output_type": "stream",
          "name": "stdout",
          "text": [
            "Downloading data from https://storage.googleapis.com/tensorflow/tf-keras-datasets/mnist.npz\n",
            "11490434/11490434 [==============================] - 2s 0us/step\n"
          ]
        }
      ],
      "source": [
        "mnist = tf.keras.datasets.mnist.load_data(path='mnist.npz')"
      ]
    },
    {
      "cell_type": "code",
      "execution_count": 4,
      "metadata": {
        "colab": {
          "base_uri": "https://localhost:8080/"
        },
        "id": "JQTUUYGL21wZ",
        "outputId": "844870ba-4eaf-4dc9-cc81-7a86e6b4e08d"
      },
      "outputs": [
        {
          "output_type": "execute_result",
          "data": {
            "text/plain": [
              "(60000, 28, 28)"
            ]
          },
          "metadata": {},
          "execution_count": 4
        }
      ],
      "source": [
        "mnist[0][0].shape"
      ]
    },
    {
      "cell_type": "markdown",
      "source": [
        "## 데이터 변환\n",
        "- 스케일링\n",
        "- 4차원 어레이로 재구성\n",
        "- ndarray에서 dataset 구성"
      ],
      "metadata": {
        "id": "TkBQ8jVV6qbh"
      }
    },
    {
      "cell_type": "code",
      "execution_count": 5,
      "metadata": {
        "colab": {
          "base_uri": "https://localhost:8080/"
        },
        "id": "B09yBVok2pDU",
        "outputId": "847c3aac-a8e2-4c3b-fd2f-7099151e9621"
      },
      "outputs": [
        {
          "output_type": "execute_result",
          "data": {
            "text/plain": [
              "<NumpyDataset X.shape: (60000, 28, 28, 1), y.shape: (60000, 1), w.shape: (60000, 1), task_names: [0]>"
            ]
          },
          "metadata": {},
          "execution_count": 5
        }
      ],
      "source": [
        "images = mnist[0][0].reshape((-1, 28, 28, 1))/255\n",
        "dataset = dc.data.NumpyDataset(images)\n",
        "dataset"
      ]
    },
    {
      "cell_type": "markdown",
      "metadata": {
        "id": "qijPRZXOr0cI"
      },
      "source": [
        "- 샘플 이미지 보기\n"
      ]
    },
    {
      "cell_type": "code",
      "execution_count": 8,
      "metadata": {
        "colab": {
          "base_uri": "https://localhost:8080/",
          "height": 306
        },
        "id": "mmhulNHor0cK",
        "outputId": "4a0defd9-ec6a-4694-d046-94d72f66f9da"
      },
      "outputs": [
        {
          "output_type": "display_data",
          "data": {
            "text/plain": [
              "<Figure size 360x360 with 16 Axes>"
            ],
            "image/png": "[encoded data removed]"
          },
          "metadata": {
            "image/png": {
              "width": 295,
              "height": 289
            }
          }
        }
      ],
      "source": [
        "def plot_digits(im):\n",
        "  plt.figure(figsize=(5, 5))\n",
        "  grid = gridspec.GridSpec(4, 4, wspace=0.05, hspace=0.05)\n",
        "  for i, g in enumerate(grid):\n",
        "    ax = plt.subplot(g)\n",
        "    ax.set_xticks([])\n",
        "    ax.set_yticks([])\n",
        "    ax.imshow(im[i,:,:,0], cmap='gray')\n",
        "\n",
        "plot_digits(images[:16])"
      ]
    },
    {
      "cell_type": "markdown",
      "metadata": {
        "id": "usTDnACA4D3b"
      },
      "source": [
        "# GAN 구현"
      ]
    },
    {
      "cell_type": "markdown",
      "metadata": {
        "id": "rVeSdnNJr0cV"
      },
      "source": [
        "- GAN은 다음과 같이 두개의 코드로 구성된다\n",
        "\n",
        "- 생성자\n",
        " - 랜덤 신호를 입력으로 받고, 훈련 데이터에 있는 MNIST를 닮은 출력을 생성한다\n",
        "- 판별자 \n",
        " - 생성자가 만든 (가짜) 출력 이미지와 (실제) 훈련 이미지를 입력으로 받아 가짜 이미지와 실제 이미지를 구분하는 작업을 수행한다\n",
        "\n",
        "- Wasserstein GAN (WGAN)을 사용\n",
        "- 생성자는 Dense망을 사용하여 입력 노이지를 7x7 크기의 이미지로 바꾸며 8개의 채널을 사용한다\n",
        " - 두 번의 컨볼류션 계층을 수행하며 각각 업샘플링을 하여 14x14 그리고 28x28 크기의 이미지로 변형한다\n",
        " \n",
        "- 판별자는 위의 작업의 역순의 작업을 수행한다\n",
        " - 두 번의 컨볼류션 계층을 수행하며 각각 1/2 다운 샘플링을 하여 14x14 그리고 7x7 크기의 피처맵을 만든다\n",
        " - 이후 전결합망(dense)을 통과하여 단일값을 갖는 출력을 생성한다\n",
        "- WGAN에서는 softmax 대신 softplus 활성함수를 사용하여 (0~1) 사이의 값이 아닌, 임의의 크기를 갖는 값을 출력한다\n",
        " - (분류) 확률을 얻는 것이 아니라 거리(distance)를 예측한다 \n",
        " - WGAN에서는 실제 이미지일 확률을 예측하는 것이 아니라, 훈련 이미지의 분포와 생성 이미지의 분포 사이의 \"거리\"를 나타낸다\n",
        " - 이 거리 값을 생성자를 훈련시키는데 손실함수로 사용하여 학습 속도를 개선했다"
      ]
    },
    {
      "cell_type": "markdown",
      "metadata": {
        "id": "Fl3tluVvnYI2"
      },
      "source": [
        "## GAN 클래스 정의"
      ]
    },
    {
      "cell_type": "code",
      "execution_count": 9,
      "metadata": {
        "id": "8zLMNX5Xr0cW",
        "scrolled": true
      },
      "outputs": [],
      "source": [
        "class DigitGAN(dc.models.WGAN):\n",
        "\n",
        "  def get_noise_input_shape(self):\n",
        "    return (10,)\n",
        "\n",
        "  def get_data_input_shapes(self):\n",
        "    return [(28, 28, 1)]\n",
        "\n",
        "  def create_generator(self):\n",
        "    return tf.keras.Sequential([\n",
        "        Dense(7*7*8, activation=tf.nn.relu),\n",
        "        Reshape((7, 7, 8)),\n",
        "        Conv2DTranspose(filters=16, kernel_size=5, strides=2, activation=tf.nn.relu, padding='same'),\n",
        "        Conv2DTranspose(filters=1, kernel_size=5, strides=2, activation=tf.sigmoid, padding='same')\n",
        "    ])\n",
        "\n",
        "  # softplus 사용\n",
        "  def create_discriminator(self):\n",
        "    return tf.keras.Sequential([\n",
        "        Conv2D(filters=32, kernel_size=5, strides=2, activation=tf.nn.leaky_relu, padding='same'),\n",
        "        Conv2D(filters=64, kernel_size=5, strides=2, activation=tf.nn.leaky_relu, padding='same'),\n",
        "        Dense(1, activation=tf.math.softplus)\n",
        "    ])\n",
        "\n",
        "gan = DigitGAN(learning_rate=ExponentialDecay(0.001, 0.9, 5000), model_dir = 'gan')"
      ]
    },
    {
      "cell_type": "markdown",
      "metadata": {
        "id": "69GHTt_2r0cb"
      },
      "source": [
        "# 모델 학습\n",
        "\n",
        "- 이미지 생성자는 dataset에서 데이터를 가지고 오며 epoch는 100으로 설정했다\n",
        "\n",
        "- 일반적인 GAN을 구현할 때는 생성자와 판별자를 훈련시키는데 서로 너무 큰 실력 차이가 나지 않도록 세심하게 주의를 해야 한다\n",
        "- 실력(성능)의 차이가 너무 크면 균형있게 두개의 모델을 학습시키기가 어렵기 때문이다\n",
        "\n",
        "- WGAN에서는 이러한 문제를 피할 수 있는데, 판별자의 성능이 좋아지면 이에 비례한 손실함수(거리)를 알려주고 이를 통해 생성자가 학습을 더 잘 할 수 있게 한다\n",
        "- `generator_steps=0.2`로 설정하였다. 이는 판별자가 5회 학습하면 생성자가 1회 학습하는 비율인데, 이렇게 하여 학습 속도를 높이고 더 나은 성능을 얻도록 한다"
      ]
    },
    {
      "cell_type": "markdown",
      "metadata": {
        "id": "Jlyl33QdYiGW"
      },
      "source": [
        "## softmax와 softplus"
      ]
    },
    {
      "cell_type": "code",
      "execution_count": 10,
      "metadata": {
        "colab": {
          "base_uri": "https://localhost:8080/",
          "height": 286
        },
        "id": "sW-d60NGXkZ5",
        "outputId": "81dd9f08-e51d-44ad-dd29-064fea3ea847"
      },
      "outputs": [
        {
          "output_type": "execute_result",
          "data": {
            "text/plain": [
              "(-0.1, 3.0)"
            ]
          },
          "metadata": {},
          "execution_count": 10
        },
        {
          "output_type": "display_data",
          "data": {
            "text/plain": [
              "<Figure size 432x288 with 1 Axes>"
            ],
            "image/png": "[encoded data removed]"
          },
          "metadata": {
            "image/png": {
              "width": 372,
              "height": 252
            },
            "needs_background": "light"
          }
        }
      ],
      "source": [
        "fig = plt.figure(figsize=(6,4))\n",
        "ax = fig.add_subplot(111)\n",
        "\n",
        "x = np.arange(-6, 6, 0.01)\n",
        "\n",
        "def sigmoid(x): # 시그모이드(Sigmoid, S-커브), Logistic Regression\n",
        "    return 1 / (1 + np.exp(-x)) \n",
        "ax.plot(x, sigmoid(x), color='r', linestyle='-', label=\"Sigmoid\")\n",
        "\n",
        "def softplus_func(x): # SoftPlus 함수\n",
        "    return np.log( 1 + np.exp(x) )\n",
        "ax.plot(x, softplus_func(x), color='b', linestyle='-', label=\"SoftPlus\")\n",
        "\n",
        "ax.grid()\n",
        "ax.legend()\n",
        "plt.ylim(-0.1, 3)"
      ]
    },
    {
      "cell_type": "markdown",
      "metadata": {
        "id": "gtpHKZGHZWRb"
      },
      "source": [
        "## 데이터 읽기\n",
        "\n",
        "- 배치단위로 읽는다\n",
        "- iterbatches() 함수 사용"
      ]
    },
    {
      "cell_type": "code",
      "execution_count": 11,
      "metadata": {
        "id": "lP7x5ZT1r0cc"
      },
      "outputs": [],
      "source": [
        "def iterbatches(epochs):\n",
        "  for i in range(epochs):\n",
        "    for batch in dataset.iterbatches(batch_size=gan.batch_size):\n",
        "      yield {gan.data_inputs[0]: batch[0]}"
      ]
    },
    {
      "cell_type": "code",
      "execution_count": 12,
      "metadata": {
        "colab": {
          "base_uri": "https://localhost:8080/",
          "height": 364
        },
        "outputId": "73cfcde3-6018-4d6a-a54a-a43a33030dca",
        "id": "v7HFmVp11FAU"
      },
      "outputs": [
        {
          "output_type": "error",
          "ename": "KeyboardInterrupt",
          "evalue": "ignored",
          "traceback": [
            "\u001b[0;31m---------------------------------------------------------------------------\u001b[0m",
            "\u001b[0;31mKeyboardInterrupt\u001b[0m                         Traceback (most recent call last)",
            "\u001b[0;32m<ipython-input-12-8f50d0f95044>\u001b[0m in \u001b[0;36m<module>\u001b[0;34m\u001b[0m\n\u001b[0;32m----> 1\u001b[0;31m \u001b[0mgan\u001b[0m\u001b[0;34m.\u001b[0m\u001b[0mfit_gan\u001b[0m\u001b[0;34m(\u001b[0m\u001b[0miterbatches\u001b[0m\u001b[0;34m(\u001b[0m\u001b[0;36m100\u001b[0m\u001b[0;34m)\u001b[0m\u001b[0;34m,\u001b[0m \u001b[0mgenerator_steps\u001b[0m\u001b[0;34m=\u001b[0m\u001b[0;36m0.2\u001b[0m\u001b[0;34m,\u001b[0m \u001b[0mcheckpoint_interval\u001b[0m\u001b[0;34m=\u001b[0m\u001b[0;36m5000\u001b[0m\u001b[0;34m)\u001b[0m\u001b[0;34m\u001b[0m\u001b[0;34m\u001b[0m\u001b[0m\n\u001b[0m",
            "\u001b[0;32m/usr/local/lib/python3.7/dist-packages/deepchem/models/gan.py\u001b[0m in \u001b[0;36mfit_gan\u001b[0;34m(self, batches, generator_steps, max_checkpoints_to_keep, checkpoint_interval, restore)\u001b[0m\n\u001b[1;32m    354\u001b[0m           \u001b[0mloss\u001b[0m\u001b[0;34m=\u001b[0m\u001b[0mself\u001b[0m\u001b[0;34m.\u001b[0m\u001b[0mdiscrim_loss_fn\u001b[0m\u001b[0;34m,\u001b[0m\u001b[0;34m\u001b[0m\u001b[0;34m\u001b[0m\u001b[0m\n\u001b[1;32m    355\u001b[0m           \u001b[0mcheckpoint_interval\u001b[0m\u001b[0;34m=\u001b[0m\u001b[0;36m0\u001b[0m\u001b[0;34m,\u001b[0m\u001b[0;34m\u001b[0m\u001b[0;34m\u001b[0m\u001b[0m\n\u001b[0;32m--> 356\u001b[0;31m           restore=restore)\n\u001b[0m\u001b[1;32m    357\u001b[0m       \u001b[0mrestore\u001b[0m \u001b[0;34m=\u001b[0m \u001b[0;32mFalse\u001b[0m\u001b[0;34m\u001b[0m\u001b[0;34m\u001b[0m\u001b[0m\n\u001b[1;32m    358\u001b[0m       \u001b[0mdiscrim_average_steps\u001b[0m \u001b[0;34m+=\u001b[0m \u001b[0;36m1\u001b[0m\u001b[0;34m\u001b[0m\u001b[0;34m\u001b[0m\u001b[0m\n",
            "\u001b[0;32m/usr/local/lib/python3.7/dist-packages/deepchem/models/keras_model.py\u001b[0m in \u001b[0;36mfit_generator\u001b[0;34m(self, generator, max_checkpoints_to_keep, checkpoint_interval, restore, variables, loss, callbacks, all_losses)\u001b[0m\n\u001b[1;32m    422\u001b[0m \u001b[0;34m\u001b[0m\u001b[0m\n\u001b[1;32m    423\u001b[0m       \u001b[0mzero_grads\u001b[0m \u001b[0;34m=\u001b[0m \u001b[0;34m[\u001b[0m\u001b[0mtf\u001b[0m\u001b[0;34m.\u001b[0m\u001b[0mzeros\u001b[0m\u001b[0;34m(\u001b[0m\u001b[0mv\u001b[0m\u001b[0;34m.\u001b[0m\u001b[0mshape\u001b[0m\u001b[0;34m)\u001b[0m \u001b[0;32mfor\u001b[0m \u001b[0mv\u001b[0m \u001b[0;32min\u001b[0m \u001b[0mvariables\u001b[0m\u001b[0;34m]\u001b[0m\u001b[0;34m\u001b[0m\u001b[0;34m\u001b[0m\u001b[0m\n\u001b[0;32m--> 424\u001b[0;31m       \u001b[0mself\u001b[0m\u001b[0;34m.\u001b[0m\u001b[0m_tf_optimizer\u001b[0m\u001b[0;34m.\u001b[0m\u001b[0mapply_gradients\u001b[0m\u001b[0;34m(\u001b[0m\u001b[0mzip\u001b[0m\u001b[0;34m(\u001b[0m\u001b[0mzero_grads\u001b[0m\u001b[0;34m,\u001b[0m \u001b[0mvariables\u001b[0m\u001b[0;34m)\u001b[0m\u001b[0;34m)\u001b[0m\u001b[0;34m\u001b[0m\u001b[0;34m\u001b[0m\u001b[0m\n\u001b[0m\u001b[1;32m    425\u001b[0m     \u001b[0;32mif\u001b[0m \u001b[0mvar_key\u001b[0m \u001b[0;32mnot\u001b[0m \u001b[0;32min\u001b[0m \u001b[0mself\u001b[0m\u001b[0;34m.\u001b[0m\u001b[0m_gradient_fn_for_vars\u001b[0m\u001b[0;34m:\u001b[0m\u001b[0;34m\u001b[0m\u001b[0;34m\u001b[0m\u001b[0m\n\u001b[1;32m    426\u001b[0m       \u001b[0mself\u001b[0m\u001b[0;34m.\u001b[0m\u001b[0m_gradient_fn_for_vars\u001b[0m\u001b[0;34m[\u001b[0m\u001b[0mvar_key\u001b[0m\u001b[0;34m]\u001b[0m \u001b[0;34m=\u001b[0m \u001b[0mself\u001b[0m\u001b[0;34m.\u001b[0m\u001b[0m_create_gradient_fn\u001b[0m\u001b[0;34m(\u001b[0m\u001b[0mvariables\u001b[0m\u001b[0;34m)\u001b[0m\u001b[0;34m\u001b[0m\u001b[0;34m\u001b[0m\u001b[0m\n",
            "\u001b[0;32m/usr/local/lib/python3.7/dist-packages/keras/optimizers/optimizer_v2/optimizer_v2.py\u001b[0m in \u001b[0;36mapply_gradients\u001b[0;34m(self, grads_and_vars, name, experimental_aggregate_gradients)\u001b[0m\n\u001b[1;32m    673\u001b[0m       \u001b[0;32mif\u001b[0m \u001b[0mexperimental_aggregate_gradients\u001b[0m\u001b[0;34m:\u001b[0m\u001b[0;34m\u001b[0m\u001b[0;34m\u001b[0m\u001b[0m\n\u001b[1;32m    674\u001b[0m         \u001b[0mgrads_and_vars\u001b[0m \u001b[0;34m=\u001b[0m \u001b[0mself\u001b[0m\u001b[0;34m.\u001b[0m\u001b[0m_transform_unaggregated_gradients\u001b[0m\u001b[0;34m(\u001b[0m\u001b[0mgrads_and_vars\u001b[0m\u001b[0;34m)\u001b[0m\u001b[0;34m\u001b[0m\u001b[0;34m\u001b[0m\u001b[0m\n\u001b[0;32m--> 675\u001b[0;31m         \u001b[0mgrads_and_vars\u001b[0m \u001b[0;34m=\u001b[0m \u001b[0mself\u001b[0m\u001b[0;34m.\u001b[0m\u001b[0m_aggregate_gradients\u001b[0m\u001b[0;34m(\u001b[0m\u001b[0mgrads_and_vars\u001b[0m\u001b[0;34m)\u001b[0m\u001b[0;34m\u001b[0m\u001b[0;34m\u001b[0m\u001b[0m\n\u001b[0m\u001b[1;32m    676\u001b[0m       \u001b[0mgrads_and_vars\u001b[0m \u001b[0;34m=\u001b[0m \u001b[0mself\u001b[0m\u001b[0;34m.\u001b[0m\u001b[0m_transform_gradients\u001b[0m\u001b[0;34m(\u001b[0m\u001b[0mgrads_and_vars\u001b[0m\u001b[0;34m)\u001b[0m\u001b[0;34m\u001b[0m\u001b[0;34m\u001b[0m\u001b[0m\n\u001b[1;32m    677\u001b[0m \u001b[0;34m\u001b[0m\u001b[0m\n",
            "\u001b[0;32m/usr/local/lib/python3.7/dist-packages/keras/optimizers/optimizer_v2/optimizer_v2.py\u001b[0m in \u001b[0;36m_aggregate_gradients\u001b[0;34m(self, grads_and_vars)\u001b[0m\n\u001b[1;32m    489\u001b[0m       \u001b[0;31m`\u001b[0m\u001b[0mself\u001b[0m\u001b[0;34m.\u001b[0m\u001b[0mgradient_aggregator\u001b[0m\u001b[0;31m`\u001b[0m\u001b[0;34m.\u001b[0m\u001b[0;34m\u001b[0m\u001b[0;34m\u001b[0m\u001b[0m\n\u001b[1;32m    490\u001b[0m     \"\"\"\n\u001b[0;32m--> 491\u001b[0;31m     \u001b[0;32mreturn\u001b[0m \u001b[0mself\u001b[0m\u001b[0;34m.\u001b[0m\u001b[0mgradient_aggregator\u001b[0m\u001b[0;34m(\u001b[0m\u001b[0mgrads_and_vars\u001b[0m\u001b[0;34m)\u001b[0m\u001b[0;34m\u001b[0m\u001b[0;34m\u001b[0m\u001b[0m\n\u001b[0m\u001b[1;32m    492\u001b[0m \u001b[0;34m\u001b[0m\u001b[0m\n\u001b[1;32m    493\u001b[0m   \u001b[0;32mdef\u001b[0m \u001b[0m_transform_gradients\u001b[0m\u001b[0;34m(\u001b[0m\u001b[0mself\u001b[0m\u001b[0;34m,\u001b[0m \u001b[0mgrads_and_vars\u001b[0m\u001b[0;34m)\u001b[0m\u001b[0;34m:\u001b[0m\u001b[0;34m\u001b[0m\u001b[0;34m\u001b[0m\u001b[0m\n",
            "\u001b[0;32m/usr/local/lib/python3.7/dist-packages/keras/optimizers/optimizer_v2/utils.py\u001b[0m in \u001b[0;36mall_reduce_sum_gradients\u001b[0;34m(grads_and_vars)\u001b[0m\n\u001b[1;32m     34\u001b[0m       \u001b[0mgrads\u001b[0m \u001b[0;34m=\u001b[0m \u001b[0;34m[\u001b[0m\u001b[0mpair\u001b[0m\u001b[0;34m[\u001b[0m\u001b[0;36m0\u001b[0m\u001b[0;34m]\u001b[0m \u001b[0;32mfor\u001b[0m \u001b[0mpair\u001b[0m \u001b[0;32min\u001b[0m \u001b[0mfiltered_grads_and_vars\u001b[0m\u001b[0;34m]\u001b[0m\u001b[0;34m\u001b[0m\u001b[0;34m\u001b[0m\u001b[0m\n\u001b[1;32m     35\u001b[0m       reduced = tf.distribute.get_replica_context().all_reduce(\n\u001b[0;32m---> 36\u001b[0;31m           tf.distribute.ReduceOp.SUM, grads)\n\u001b[0m\u001b[1;32m     37\u001b[0m     \u001b[0;32melse\u001b[0m\u001b[0;34m:\u001b[0m\u001b[0;34m\u001b[0m\u001b[0;34m\u001b[0m\u001b[0m\n\u001b[1;32m     38\u001b[0m       \u001b[0;31m# TODO(b/183257003): Remove this branch\u001b[0m\u001b[0;34m\u001b[0m\u001b[0;34m\u001b[0m\u001b[0;34m\u001b[0m\u001b[0m\n",
            "\u001b[0;32m/usr/local/lib/python3.7/dist-packages/tensorflow/python/distribute/distribute_lib.py\u001b[0m in \u001b[0;36mall_reduce\u001b[0;34m(self, reduce_op, value, options)\u001b[0m\n\u001b[1;32m   3259\u001b[0m             self.merge_call(batch_all_reduce, args=flattened_value))\n\u001b[1;32m   3260\u001b[0m \u001b[0;34m\u001b[0m\u001b[0m\n\u001b[0;32m-> 3261\u001b[0;31m       \u001b[0;34m@\u001b[0m\u001b[0mcustom_gradient\u001b[0m\u001b[0;34m.\u001b[0m\u001b[0mcustom_gradient\u001b[0m\u001b[0;34m\u001b[0m\u001b[0;34m\u001b[0m\u001b[0m\n\u001b[0m\u001b[1;32m   3262\u001b[0m       \u001b[0;32mdef\u001b[0m \u001b[0mgrad_wrapper\u001b[0m\u001b[0;34m(\u001b[0m\u001b[0;34m*\u001b[0m\u001b[0mxs\u001b[0m\u001b[0;34m)\u001b[0m\u001b[0;34m:\u001b[0m\u001b[0;34m\u001b[0m\u001b[0;34m\u001b[0m\u001b[0m\n\u001b[1;32m   3263\u001b[0m         \u001b[0mys\u001b[0m \u001b[0;34m=\u001b[0m \u001b[0mself\u001b[0m\u001b[0;34m.\u001b[0m\u001b[0mmerge_call\u001b[0m\u001b[0;34m(\u001b[0m\u001b[0mbatch_all_reduce\u001b[0m\u001b[0;34m,\u001b[0m \u001b[0margs\u001b[0m\u001b[0;34m=\u001b[0m\u001b[0mxs\u001b[0m\u001b[0;34m)\u001b[0m\u001b[0;34m\u001b[0m\u001b[0;34m\u001b[0m\u001b[0m\n",
            "\u001b[0;32m/usr/local/lib/python3.7/dist-packages/tensorflow/python/ops/custom_gradient.py\u001b[0m in \u001b[0;36mcustom_gradient\u001b[0;34m(f)\u001b[0m\n\u001b[1;32m    295\u001b[0m       \u001b[0;32mreturn\u001b[0m \u001b[0m_graph_mode_decorator\u001b[0m\u001b[0;34m(\u001b[0m\u001b[0mwrapped\u001b[0m\u001b[0;34m,\u001b[0m \u001b[0margs\u001b[0m\u001b[0;34m,\u001b[0m \u001b[0mkwargs\u001b[0m\u001b[0;34m)\u001b[0m\u001b[0;34m\u001b[0m\u001b[0;34m\u001b[0m\u001b[0m\n\u001b[1;32m    296\u001b[0m \u001b[0;34m\u001b[0m\u001b[0m\n\u001b[0;32m--> 297\u001b[0;31m   \u001b[0;32mreturn\u001b[0m \u001b[0mtf_decorator\u001b[0m\u001b[0;34m.\u001b[0m\u001b[0mmake_decorator\u001b[0m\u001b[0;34m(\u001b[0m\u001b[0mf\u001b[0m\u001b[0;34m,\u001b[0m \u001b[0mdecorated\u001b[0m\u001b[0;34m(\u001b[0m\u001b[0mf\u001b[0m\u001b[0;34m)\u001b[0m\u001b[0;34m)\u001b[0m  \u001b[0;31m# pylint: disable=no-value-for-parameter\u001b[0m\u001b[0;34m\u001b[0m\u001b[0;34m\u001b[0m\u001b[0m\n\u001b[0m\u001b[1;32m    298\u001b[0m \u001b[0;34m\u001b[0m\u001b[0m\n\u001b[1;32m    299\u001b[0m \u001b[0;34m\u001b[0m\u001b[0m\n",
            "\u001b[0;32m/usr/local/lib/python3.7/dist-packages/tensorflow/python/util/tf_decorator.py\u001b[0m in \u001b[0;36mmake_decorator\u001b[0;34m(target, decorator_func, decorator_name, decorator_doc, decorator_argspec)\u001b[0m\n\u001b[1;32m     79\u001b[0m   \"\"\"\n\u001b[1;32m     80\u001b[0m   \u001b[0;32mif\u001b[0m \u001b[0mdecorator_name\u001b[0m \u001b[0;32mis\u001b[0m \u001b[0;32mNone\u001b[0m\u001b[0;34m:\u001b[0m\u001b[0;34m\u001b[0m\u001b[0;34m\u001b[0m\u001b[0m\n\u001b[0;32m---> 81\u001b[0;31m     \u001b[0mdecorator_name\u001b[0m \u001b[0;34m=\u001b[0m \u001b[0minspect\u001b[0m\u001b[0;34m.\u001b[0m\u001b[0mcurrentframe\u001b[0m\u001b[0;34m(\u001b[0m\u001b[0;34m)\u001b[0m\u001b[0;34m.\u001b[0m\u001b[0mf_back\u001b[0m\u001b[0;34m.\u001b[0m\u001b[0mf_code\u001b[0m\u001b[0;34m.\u001b[0m\u001b[0mco_name\u001b[0m\u001b[0;34m\u001b[0m\u001b[0;34m\u001b[0m\u001b[0m\n\u001b[0m\u001b[1;32m     82\u001b[0m   decorator = TFDecorator(decorator_name, target, decorator_doc,\n\u001b[1;32m     83\u001b[0m                           decorator_argspec)\n",
            "\u001b[0;31mKeyboardInterrupt\u001b[0m: "
          ]
        }
      ],
      "source": [
        "gan.fit_gan(iterbatches(100), generator_steps=0.2, checkpoint_interval=5000)"
      ]
    },
    {
      "cell_type": "markdown",
      "metadata": {
        "id": "82AISPJalTMN"
      },
      "source": [
        "# 백업된 모델 사용하기\n",
        "- 구글 드라이브에 모델을 백업한 경우"
      ]
    },
    {
      "cell_type": "code",
      "execution_count": 13,
      "metadata": {
        "colab": {
          "base_uri": "https://localhost:8080/"
        },
        "id": "WmQwuhp_kjUS",
        "outputId": "fe21b5b6-d970-4ed7-9059-53c1ac8af4be"
      },
      "outputs": [
        {
          "output_type": "stream",
          "name": "stdout",
          "text": [
            "Mounted at /content/drive\n"
          ]
        }
      ],
      "source": [
        "from google.colab import drive\n",
        "drive.mount('/content/drive')"
      ]
    },
    {
      "cell_type": "code",
      "execution_count": 14,
      "metadata": {
        "id": "UdmEJ4QVkvXG"
      },
      "outputs": [],
      "source": [
        "gan = DigitGAN(learning_rate=ExponentialDecay(0.001, 0.9, 5000), \n",
        "               model_dir = '/content/drive/MyDrive/gan')\n",
        "gan.restore()"
      ]
    },
    {
      "cell_type": "markdown",
      "metadata": {
        "id": "UW60zOZGr0ci"
      },
      "source": [
        "## 이미지 생성 결과 보기"
      ]
    },
    {
      "cell_type": "code",
      "execution_count": 15,
      "metadata": {
        "colab": {
          "base_uri": "https://localhost:8080/",
          "height": 306
        },
        "id": "fSQtVhSer0ck",
        "outputId": "bc89b265-6718-4353-8ded-85b12fc9e1a5"
      },
      "outputs": [
        {
          "output_type": "display_data",
          "data": {
            "text/plain": [
              "<Figure size 360x360 with 16 Axes>"
            ],
            "image/png": "[encoded data removed]"
          },
          "metadata": {
            "image/png": {
              "width": 295,
              "height": 289
            }
          }
        }
      ],
      "source": [
        "plot_digits(gan.predict_gan_generator(batch_size=100))"
      ]
    }
  ],
  "metadata": {
    "accelerator": "GPU",
    "colab": {
      "provenance": [],
      "toc_visible": true,
      "include_colab_link": true
    },
    "kernelspec": {
      "display_name": "Python 3",
      "language": "python",
      "name": "python3"
    },
    "language_info": {
      "codemirror_mode": {
        "name": "ipython",
        "version": 3
      },
      "file_extension": ".py",
      "mimetype": "text/x-python",
      "name": "python",
      "nbconvert_exporter": "python",
      "pygments_lexer": "ipython3",
      "version": "3.8.8"
    },
    "toc": {
      "base_numbering": 1,
      "nav_menu": {},
      "number_sections": false,
      "sideBar": true,
      "skip_h1_title": false,
      "title_cell": "Table of Contents",
      "title_sidebar": "Contents",
      "toc_cell": false,
      "toc_position": {},
      "toc_section_display": true,
      "toc_window_display": true
    }
  },
  "nbformat": 4,
  "nbformat_minor": 0
}