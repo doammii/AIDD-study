{
  "cells": [
    {
      "cell_type": "markdown",
      "metadata": {
        "id": "view-in-github",
        "colab_type": "text"
      },
      "source": [
        "<a href=\"https://colab.research.google.com/github/StillWork/AIDD-LAIDD/blob/main/z2_MoleculeRepresentation.ipynb\" target=\"_parent\"><img src=\"https://colab.research.google.com/assets/colab-badge.svg\" alt=\"Open In Colab\"/></a>"
      ]
    },
    {
      "cell_type": "markdown",
      "metadata": {
        "id": "_1A-7tJaPObk"
      },
      "source": [
        "# 분자 표현형\n",
        "\n",
        "\n",
        "- Data Representation\n",
        "- [RDKit](https://www.rdkit.org/docs/index.html)을 이용해서 SMILES, Mol 파일, Fingerprint 등 화합물의 여러가지 표현형을 다루는 법을 배운다|\n",
        "- RDKit은 화학물질의 여러 특성을 파악하고, 표현형을 바꾸고, 속성을 예측하는데 널리 사용되는 cheminformatics와 머신러닝용 패키지이다"
      ]
    },
    {
      "cell_type": "markdown",
      "metadata": {
        "id": "JFBvHTfMPObn"
      },
      "source": [
        "## 머신러닝과 데이터 표현형\n",
        "\n",
        "- 현재 머신러닝(machine learning)이 인공지능(artificila intelligence)을 구현하는 주요 기술이다\n",
        "- 머신러닝은 \"데이터 기반\"의 모델을 사용하며 데이터를 보고 학습을 하여 모델의 성능을 점차 높인다\n",
        "- 신약 후보물질을 찾거나, 리드 최적화를 하는 과정은 분자, 단백질 등 대상 물질에서 구조적 또는 기능적 패턴을 잘 찾는 작업을 필요로 한다\n",
        "- 이러한 \"지능적인\" 작업을 머신러닝에게 수행시킬 때 입력 (분자의 특성 등)을 얼마나 잘 표현해주는가에 따라 모델의 성능이 크게 달라진다\n",
        " - 단순 작업인 \"자동화\"에서는 데이터 표현형이 대부분 미리 고정되어 있다\n",
        "\n",
        "## QSAR\n",
        "- 분자의 특성(features, X)들로부터 분자의 물리적, 화학적, 생화학적인 속성값(property, y)을 예측하는데 머신러닝이 널리 도입되고 있다\n",
        "- 머신러닝 예측 모델의 성능이 우수할수록 원하는 속성값을 갖는 분자를 찾거나 설계하는데 도움이 된다\n",
        "- 이러한 작업을 QSPR (quantitative structure-property relationship) 또는 QSAR (quantitative structure-activity relationship) 분석이라고 한다\n",
        "\n",
        "- 이를 위해 전통적으로는 화학적, 물리학적, 수학적인 이론에 근거해서 이러한 문제를 풀었으나 계산량이 많이 필요하며 수식 모델은 복잡한 실제 세계를 모델링하는데 한계가 있다\n",
        "\n",
        "\n"
      ]
    },
    {
      "cell_type": "markdown",
      "metadata": {
        "id": "udlAxZwNyBLV"
      },
      "source": [
        "## 분자 표현형\n",
        "\n",
        "- 분자를 다루는 머신러닝의 성능을 높이려면 모델 입력(X)으로 사용하는 데이터 표현형(representation)을 잘 선택해야 한다\n",
        "- 표현형은 분자의 고유한 특성을 숫자로 표현한 것이다\n",
        "- 전통적으로는, X는 2차원 테이블 구조를 갖고 각 컬럼(특성)을 전문가가 직접 선택하는 방법을 사용한다\n",
        "- 분자 표현형으로는 Descriptors, SMILES, Mol 파일, fingerprint, Graph 등이 있다"
      ]
    },
    {
      "cell_type": "markdown",
      "metadata": {
        "id": "9NEi8W6wyBLV"
      },
      "source": [
        "\n",
        "\n",
        " <img src=\"https://github.com/StillWork/image/blob/main/%E1%84%89%E1%85%B3%E1%84%8F%E1%85%B3%E1%84%85%E1%85%B5%E1%86%AB%E1%84%89%E1%85%A3%E1%86%BA%202022-11-22%20%E1%84%8B%E1%85%A9%E1%84%92%E1%85%AE%205.13.29.png?raw=1\" align=\"left\">"
      ]
    },
    {
      "cell_type": "markdown",
      "metadata": {
        "id": "bSqBw7wCyBLV"
      },
      "source": [
        "## Descriptors\n",
        "\n",
        "- 2차원 테이블 구조의, 정형화된 특성 테이블을 만들고 각 컬럼(특성)으로 분자량, 용해도, 독성, 3차원 정보, 질량, 극성, 아로마틱 등 분자의 descriptors들을 사용하는 경우이다\n",
        "- 분석 목적에 따라 필요한 특성을 선택(feature selection)하거나 다양한 특성 변환 등 데이터 전처리가 필요하다\n",
        " - 이와 같이 최적의 특성을 준비하는 작업을 특성 공학 (feature engineering)이라고 한다\n",
        "\n",
        "## SMILES\n",
        "- Simplified Molecular Input Line Entry System\n",
        "- 매우 간편한 분자 표현 방식이다. 알파벳으로 된 원자 기호를 사용한다\n",
        "- Single bonds는 생략하고 double, triple, quadruple bond는 각각 '=', '#', '$' 로 표현한다\n",
        "- 링구조는 시작과 끝 원자에 숫자를 붙인다\n",
        "- 아로마틱 원자는 소문자로 표현한다: b, c, n, o, p, s 등\n",
        "\n",
        "- 예:\n",
        "\n",
        "<img src=\"http://www.daylight.com/dayhtml/doc/theory/theory4.gif\"/>\n",
        "\n",
        "- SMILES의 장점:\n",
        " - 읽기 쉽고 사람이 작성하기도 쉽다.\n",
        " - 문장처럼, 문자열 처리 방식으로 처리가 가능하다\n",
        "\n",
        "- 단점:\n",
        " - 분자의 공간적인 정보는 표현하지 못한다\n",
        " - 동일한 분자에 대해서도 서로다른 다양한 표현법이 있을 수 있다\n",
        "\n",
        "## Mol file\n",
        "\n",
        "- SMILES는 한 줄의 스트링(문자열)로 분자를 표현하나, Mol 파일은 분자에 대한 상세한 정보를 텍스트 파일로 상세하게 표현한다: atoms, bonds, connectivity, 좌표정보 등을 포함한다\n",
        "\n",
        "- MOL 파일 예:\n",
        "\n",
        "<img src=\"https://chem.libretexts.org/@api/deki/files/112699/MOL_FILE_1.png?revision=1&size=bestfit&width=777&height=601\"/>\n",
        "\n",
        "- 장점:\n",
        " - 공간 정보를 포함한다(2D or 3D)\n",
        " - 각 분자에 대해서 동일한 하나의 표현을 갖는다\n",
        "\n",
        "- 단점:\n",
        " - SMILES에 비해서 표현형의 크기가 크다\n",
        " - 개인이 작성하기 어렵고 필요한 특성 정보를 컴퓨터가 인식하게 하려면 새로운 데이터 처리가 필요하다\n",
        "\n",
        "## Coloumb matrices\n",
        "\n",
        "\n",
        "- 분자 특성을 Schrödinger 방정식으로부터 추출할 수 있다는 가정에 출발\n",
        "- 원자 좌표값과 전하량 등을 고려하여 분자의 구조를 표현한다\n",
        "\n",
        "- 장점:\n",
        " - 물리 화학적으로 명확한 표현법을 제공\n",
        "\n",
        "- 단점:\n",
        " - 계산량이 많으며 관련 데이터를 다량 확보하기기 어렵다"
      ]
    },
    {
      "cell_type": "markdown",
      "metadata": {
        "id": "IlrtRjZFyBLW"
      },
      "source": [
        "## fingerprint\n",
        "\n",
        "- 분자를 구성하는 각 원자의 특성과 결합 등을 기반으로 어떤 '숫자'들을 만들고 이를 주변의 다른 원자들과의 연결 정보를 반복적으로 추가하여 특성을 업데이트 하는 방식이다\n",
        "- 각 분자의 특성을 **일정한 길이**의 비트 패턴으로 표현한다 (1024, 2048 비트 등)\n",
        "- 크기가 일정한 표현형이라는 장점이 있다\n",
        "- 두 분자의 특성이 유사하다면 fingerprint의 같은 위치의 비트값이 일치하는 수가 많도록 정의하였다\n",
        " - 각 비트는 어떤 특징의 존재 여부 또는 하부구조의 존재 여부 등을 나타낸다\n",
        "- Extended Connectivity Fingerprint (ECFP)가 널리 사용된다\n",
        " - circular fingerprint라고도 부른다\n",
        "- 이외에도 여러가지 방식의 FP가 연구되었다: 공간정보 이용, 하부구조 반영 등\n",
        "- fingerprint는 분자를 찾는 키와 같은 역할을 한다\n",
        " - fingerprint는 Feature Hashing 기법이라고도 부른다\n",
        "\n"
      ]
    },
    {
      "cell_type": "markdown",
      "metadata": {
        "id": "FkU5MtHlyBLW"
      },
      "source": [
        "## 그래프\n",
        "\n",
        "- 분자를 구성하는 원자와 결합을 노드와 엣지로 표현하는 방식이다\n",
        "- 최근 분자 표현형으로 그래프가 널리 사용되고 머신러닝 모델의 성능을 개선시켰다\n",
        "- 그래프 컨볼류션 네크워크 등 그래프를 지원하는 딥러닝 모델에서 사용된다 ![분자 그래프](https://github.com/deepchem/deepchem/blob/master/examples/tutorials/assets/basic_graphs.gif?raw=1)"
      ]
    },
    {
      "cell_type": "markdown",
      "metadata": {
        "id": "FfD3062syBLW"
      },
      "source": [
        "## Feature Learning\n",
        "\n",
        "- 분석에 도움이 되는 특성(feature)를 선택하는 작업을 특성 공학(feature engineering)이라고 하며 주로 이 분야의 전문가가 작업하였다\n",
        " - 적절한 molecular descriptor를 찾아내는 작업 등\n",
        "- 특성 공학은 시간이 오래 걸리고 어려운 작업이며 작업자마다 결과가 다를 수 있다\n",
        "- 딥러닝 모델은 feature learning을 수행하여 특성 공학과 같은 작업을 대신해준다\n",
        " - feature learning을 representation lerning이라고도 부른다\n",
        " - 사람의 개입이 아니라 데이터로부터 머신러닝 모델이 특성을 추출하는 것이다\n",
        " - 이러한 방식은 이미지 인식, 언어 이해 분야에서 이미 성과를 입증했고 이제 ligand-based virtual screening 등 화학정보학, 생물정보학에도 널리 사용되고 있다"
      ]
    },
    {
      "cell_type": "markdown",
      "metadata": {
        "id": "CwV5d8M15e3N"
      },
      "source": [
        "# import"
      ]
    },
    {
      "cell_type": "code",
      "execution_count": null,
      "metadata": {
        "colab": {
          "base_uri": "https://localhost:8080/"
        },
        "id": "A0I6LpL6Q0Ru",
        "outputId": "a703c462-0bd5-447c-e8e4-1c8f8f7e2f30"
      },
      "outputs": [
        {
          "output_type": "stream",
          "name": "stdout",
          "text": [
            "Looking in indexes: https://pypi.org/simple, https://us-python.pkg.dev/colab-wheels/public/simple/\n",
            "Collecting deepchem\n",
            "  Downloading deepchem-2.6.1-py3-none-any.whl (608 kB)\n",
            "\u001b[K     |████████████████████████████████| 608 kB 5.0 MB/s \n",
            "\u001b[?25hRequirement already satisfied: numpy>=1.21 in /usr/local/lib/python3.7/dist-packages (from deepchem) (1.21.6)\n",
            "Requirement already satisfied: scipy in /usr/local/lib/python3.7/dist-packages (from deepchem) (1.7.3)\n",
            "Requirement already satisfied: scikit-learn in /usr/local/lib/python3.7/dist-packages (from deepchem) (1.0.2)\n",
            "Collecting rdkit-pypi\n",
            "  Downloading rdkit_pypi-2022.9.1-cp37-cp37m-manylinux_2_17_x86_64.manylinux2014_x86_64.whl (29.5 MB)\n",
            "\u001b[K     |████████████████████████████████| 29.5 MB 1.8 MB/s \n",
            "\u001b[?25hRequirement already satisfied: pandas in /usr/local/lib/python3.7/dist-packages (from deepchem) (1.3.5)\n",
            "Requirement already satisfied: joblib in /usr/local/lib/python3.7/dist-packages (from deepchem) (1.2.0)\n",
            "Requirement already satisfied: pytz>=2017.3 in /usr/local/lib/python3.7/dist-packages (from pandas->deepchem) (2022.6)\n",
            "Requirement already satisfied: python-dateutil>=2.7.3 in /usr/local/lib/python3.7/dist-packages (from pandas->deepchem) (2.8.2)\n",
            "Requirement already satisfied: six>=1.5 in /usr/local/lib/python3.7/dist-packages (from python-dateutil>=2.7.3->pandas->deepchem) (1.15.0)\n",
            "Requirement already satisfied: Pillow in /usr/local/lib/python3.7/dist-packages (from rdkit-pypi->deepchem) (7.1.2)\n",
            "Requirement already satisfied: threadpoolctl>=2.0.0 in /usr/local/lib/python3.7/dist-packages (from scikit-learn->deepchem) (3.1.0)\n",
            "Installing collected packages: rdkit-pypi, deepchem\n",
            "Successfully installed deepchem-2.6.1 rdkit-pypi-2022.9.1\n"
          ]
        }
      ],
      "source": [
        "!pip install deepchem"
      ]
    },
    {
      "cell_type": "code",
      "execution_count": null,
      "metadata": {
        "id": "uIoZjC2HPObq"
      },
      "outputs": [],
      "source": [
        "import deepchem as dc\n",
        "import numpy as np\n",
        "import pandas as pd\n",
        "import matplotlib.pyplot as plt\n",
        "import warnings\n",
        "warnings.filterwarnings(\"ignore\")\n",
        "%matplotlib inline\n",
        "\n",
        "import seaborn as sns\n",
        "from rdkit import Chem \n",
        "from rdkit.Chem import Descriptors\n",
        "from rdkit.Chem.Draw import IPythonConsole     # 화면에 출력하기 위한 옵션\n",
        "IPythonConsole.ipython_useSVG=True\n",
        "%config InlineBackend.figure_format = 'retina' # 레티나 디스플레이 사용\n",
        "from rdkit.Chem import Draw\n",
        "\n",
        "from sklearn.linear_model import LinearRegression\n",
        "from sklearn.model_selection import train_test_split\n",
        "from sklearn.metrics import confusion_matrix, accuracy_score, classification_report"
      ]
    },
    {
      "cell_type": "code",
      "execution_count": null,
      "metadata": {
        "id": "vk1b4c4pDsdq"
      },
      "outputs": [],
      "source": [
        "from sklearn.tree import DecisionTreeClassifier, DecisionTreeRegressor\n",
        "from sklearn.ensemble import RandomForestClassifier, RandomForestRegressor\n",
        "from lightgbm import LGBMClassifier, LGBMRegressor\n",
        "from sklearn import tree\n",
        "from rdkit.Chem import AllChem\n",
        "from rdkit import DataStructs"
      ]
    },
    {
      "cell_type": "markdown",
      "metadata": {
        "id": "6sYNVbo3shul"
      },
      "source": [
        "# 데이터\n",
        "\n",
        "- 분자의 지질친화성 lipophilicity을 나타내는 분배계수\n",
        "- 이는 물과 옥탄올에 대한 평형상태의 용해농도의 비율인 분배 계수 distribution coefficent P로 표현된다\n",
        " - P 값이 클수록 지질 친화성이 큰 것을 나타낸다 (보통 log10P를 사용한다)\n",
        " - 실험적으로 이 값을 구하려면 많은 노력이 필요하다. "
      ]
    },
    {
      "cell_type": "code",
      "execution_count": null,
      "metadata": {
        "colab": {
          "base_uri": "https://localhost:8080/",
          "height": 161
        },
        "id": "daKff-nyPObq",
        "outputId": "34930b77-32be-4bb5-ba81-eb48e658e62a"
      },
      "outputs": [
        {
          "output_type": "stream",
          "name": "stdout",
          "text": [
            "(14610, 2)\n"
          ]
        },
        {
          "output_type": "execute_result",
          "data": {
            "text/plain": [
              "                  smiles  logP\n",
              "0  C[C@H]([C@@H](C)Cl)Cl   2.3\n",
              "1              C(C=CBr)N   0.3\n",
              "2              CCC(CO)Br   1.3"
            ],
            "text/html": [
              "\n",
              "  <div id=\"df-8c7677f2-1221-4594-b833-cc8575712bac\">\n",
              "    <div class=\"colab-df-container\">\n",
              "      <div>\n",
              "<style scoped>\n",
              "    .dataframe tbody tr th:only-of-type {\n",
              "        vertical-align: middle;\n",
              "    }\n",
              "\n",
              "    .dataframe tbody tr th {\n",
              "        vertical-align: top;\n",
              "    }\n",
              "\n",
              "    .dataframe thead th {\n",
              "        text-align: right;\n",
              "    }\n",
              "</style>\n",
              "<table border=\"1\" class=\"dataframe\">\n",
              "  <thead>\n",
              "    <tr style=\"text-align: right;\">\n",
              "      <th></th>\n",
              "      <th>smiles</th>\n",
              "      <th>logP</th>\n",
              "    </tr>\n",
              "  </thead>\n",
              "  <tbody>\n",
              "    <tr>\n",
              "      <th>0</th>\n",
              "      <td>C[C@H]([C@@H](C)Cl)Cl</td>\n",
              "      <td>2.3</td>\n",
              "    </tr>\n",
              "    <tr>\n",
              "      <th>1</th>\n",
              "      <td>C(C=CBr)N</td>\n",
              "      <td>0.3</td>\n",
              "    </tr>\n",
              "    <tr>\n",
              "      <th>2</th>\n",
              "      <td>CCC(CO)Br</td>\n",
              "      <td>1.3</td>\n",
              "    </tr>\n",
              "  </tbody>\n",
              "</table>\n",
              "</div>\n",
              "      <button class=\"colab-df-convert\" onclick=\"convertToInteractive('df-8c7677f2-1221-4594-b833-cc8575712bac')\"\n",
              "              title=\"Convert this dataframe to an interactive table.\"\n",
              "              style=\"display:none;\">\n",
              "        \n",
              "  <svg xmlns=\"http://www.w3.org/2000/svg\" height=\"24px\"viewBox=\"0 0 24 24\"\n",
              "       width=\"24px\">\n",
              "    <path d=\"M0 0h24v24H0V0z\" fill=\"none\"/>\n",
              "    <path d=\"M18.56 5.44l.94 2.06.94-2.06 2.06-.94-2.06-.94-.94-2.06-.94 2.06-2.06.94zm-11 1L8.5 8.5l.94-2.06 2.06-.94-2.06-.94L8.5 2.5l-.94 2.06-2.06.94zm10 10l.94 2.06.94-2.06 2.06-.94-2.06-.94-.94-2.06-.94 2.06-2.06.94z\"/><path d=\"M17.41 7.96l-1.37-1.37c-.4-.4-.92-.59-1.43-.59-.52 0-1.04.2-1.43.59L10.3 9.45l-7.72 7.72c-.78.78-.78 2.05 0 2.83L4 21.41c.39.39.9.59 1.41.59.51 0 1.02-.2 1.41-.59l7.78-7.78 2.81-2.81c.8-.78.8-2.07 0-2.86zM5.41 20L4 18.59l7.72-7.72 1.47 1.35L5.41 20z\"/>\n",
              "  </svg>\n",
              "      </button>\n",
              "      \n",
              "  <style>\n",
              "    .colab-df-container {\n",
              "      display:flex;\n",
              "      flex-wrap:wrap;\n",
              "      gap: 12px;\n",
              "    }\n",
              "\n",
              "    .colab-df-convert {\n",
              "      background-color: #E8F0FE;\n",
              "      border: none;\n",
              "      border-radius: 50%;\n",
              "      cursor: pointer;\n",
              "      display: none;\n",
              "      fill: #1967D2;\n",
              "      height: 32px;\n",
              "      padding: 0 0 0 0;\n",
              "      width: 32px;\n",
              "    }\n",
              "\n",
              "    .colab-df-convert:hover {\n",
              "      background-color: #E2EBFA;\n",
              "      box-shadow: 0px 1px 2px rgba(60, 64, 67, 0.3), 0px 1px 3px 1px rgba(60, 64, 67, 0.15);\n",
              "      fill: #174EA6;\n",
              "    }\n",
              "\n",
              "    [theme=dark] .colab-df-convert {\n",
              "      background-color: #3B4455;\n",
              "      fill: #D2E3FC;\n",
              "    }\n",
              "\n",
              "    [theme=dark] .colab-df-convert:hover {\n",
              "      background-color: #434B5C;\n",
              "      box-shadow: 0px 1px 3px 1px rgba(0, 0, 0, 0.15);\n",
              "      filter: drop-shadow(0px 1px 2px rgba(0, 0, 0, 0.3));\n",
              "      fill: #FFFFFF;\n",
              "    }\n",
              "  </style>\n",
              "\n",
              "      <script>\n",
              "        const buttonEl =\n",
              "          document.querySelector('#df-8c7677f2-1221-4594-b833-cc8575712bac button.colab-df-convert');\n",
              "        buttonEl.style.display =\n",
              "          google.colab.kernel.accessAllowed ? 'block' : 'none';\n",
              "\n",
              "        async function convertToInteractive(key) {\n",
              "          const element = document.querySelector('#df-8c7677f2-1221-4594-b833-cc8575712bac');\n",
              "          const dataTable =\n",
              "            await google.colab.kernel.invokeFunction('convertToInteractive',\n",
              "                                                     [key], {});\n",
              "          if (!dataTable) return;\n",
              "\n",
              "          const docLinkHtml = 'Like what you see? Visit the ' +\n",
              "            '<a target=\"_blank\" href=https://colab.research.google.com/notebooks/data_table.ipynb>data table notebook</a>'\n",
              "            + ' to learn more about interactive tables.';\n",
              "          element.innerHTML = '';\n",
              "          dataTable['output_type'] = 'display_data';\n",
              "          await google.colab.output.renderOutput(dataTable, element);\n",
              "          const docLink = document.createElement('div');\n",
              "          docLink.innerHTML = docLinkHtml;\n",
              "          element.appendChild(docLink);\n",
              "        }\n",
              "      </script>\n",
              "    </div>\n",
              "  </div>\n",
              "  "
            ]
          },
          "metadata": {},
          "execution_count": 4
        }
      ],
      "source": [
        "# 데이터 다운로드\n",
        "logP_data = pd.read_csv('https://raw.githubusercontent.com/StillWork/data/master/logP_dataset.csv', \n",
        "                names=['smiles', 'logP'])\n",
        "print(logP_data.shape)\n",
        "logP_data[:3]"
      ]
    },
    {
      "cell_type": "code",
      "execution_count": null,
      "metadata": {
        "colab": {
          "base_uri": "https://localhost:8080/",
          "height": 283
        },
        "id": "gARUu_q-mx8Z",
        "outputId": "b3efc624-a45e-4cf8-8095-dfdc311fd254"
      },
      "outputs": [
        {
          "output_type": "execute_result",
          "data": {
            "text/plain": [
              "<matplotlib.axes._subplots.AxesSubplot at 0x7f1af7ccd550>"
            ]
          },
          "metadata": {},
          "execution_count": 5
        },
        {
          "output_type": "display_data",
          "data": {
            "text/plain": [
              "<Figure size 432x288 with 1 Axes>"
            ],
            "image/png": "[encoded data removed]"
          },
          "metadata": {
            "image/png": {
              "width": 381,
              "height": 248
            },
            "needs_background": "light"
          }
        }
      ],
      "source": [
        "logP_data.logP.hist(bins=30)"
      ]
    },
    {
      "cell_type": "markdown",
      "metadata": {
        "id": "imFzMlZJdDkE"
      },
      "source": [
        "# mol 객체\n",
        "\n",
        "- Chem.MolFromSmiles() 함수를 이용하여 SMILES로부터 Mol 객체를 얻는다"
      ]
    },
    {
      "cell_type": "code",
      "execution_count": null,
      "metadata": {
        "id": "Gf-mnTHFr68t"
      },
      "outputs": [],
      "source": [
        "df = logP_data.copy() "
      ]
    },
    {
      "cell_type": "code",
      "execution_count": null,
      "metadata": {
        "colab": {
          "base_uri": "https://localhost:8080/"
        },
        "id": "mez1d34NPObr",
        "outputId": "a1c0d9fc-91c2-4c75-d2ff-cbf5dab2c9b5"
      },
      "outputs": [
        {
          "output_type": "stream",
          "name": "stdout",
          "text": [
            "<class 'rdkit.Chem.rdchem.Mol'>\n"
          ]
        }
      ],
      "source": [
        "from rdkit import Chem \n",
        "df['mol'] = df['smiles'].apply(lambda x: Chem.MolFromSmiles(x)) \n",
        "\n",
        "# 리스트를 생성하는 다른 방법\n",
        "# df['mol'] = [Chem.MolFromSmiles(x) for x in df['smiles']] \n",
        "\n",
        "print(type(df['mol'][0]))"
      ]
    },
    {
      "cell_type": "code",
      "execution_count": null,
      "metadata": {
        "colab": {
          "base_uri": "https://localhost:8080/",
          "height": 172
        },
        "id": "YkcFyUIds98X",
        "outputId": "292685a2-6fba-49e9-8b98-2f77d9b772bb"
      },
      "outputs": [
        {
          "output_type": "execute_result",
          "data": {
            "text/plain": [
              "<rdkit.Chem.rdchem.Mol at 0x7f1a25195300>"
            ],
            "text/html": [
              "<?xml version='1.0' encoding='iso-8859-1'?>\n",
              "<svg version='1.1' baseProfile='full'\n",
              "              xmlns='http://www.w3.org/2000/svg'\n",
              "                      xmlns:rdkit='http://www.rdkit.org/xml'\n",
              "                      xmlns:xlink='http://www.w3.org/1999/xlink'\n",
              "                  xml:space='preserve'\n",
              "width='450px' height='150px' viewBox='0 0 450 150'>\n",
              "<!-- END OF HEADER -->\n",
              "<rect style='opacity:1.0;fill:#FFFFFF;stroke:none' width='450.0' height='150.0' x='0.0' y='0.0'> </rect>\n",
              "<path class='bond-0 atom-1 atom-0' d='M 261.5,74.9 L 290.6,14.5 L 299.2,19.5 Z' style='fill:#000000;fill-rule:evenodd;fill-opacity:1;stroke:#000000;stroke-width:0.5px;stroke-linecap:butt;stroke-linejoin:miter;stroke-opacity:1;' />\n",
              "<path class='bond-1 atom-1 atom-2' d='M 261.5,74.9 L 194.6,74.9' style='fill:none;fill-rule:evenodd;stroke:#000000;stroke-width:2.0px;stroke-linecap:butt;stroke-linejoin:miter;stroke-opacity:1' />\n",
              "<path class='bond-2 atom-2 atom-3' d='M 194.6,74.9 L 165.5,135.3 L 156.8,130.3 Z' style='fill:#000000;fill-rule:evenodd;fill-opacity:1;stroke:#000000;stroke-width:0.5px;stroke-linecap:butt;stroke-linejoin:miter;stroke-opacity:1;' />\n",
              "<path class='bond-3 atom-2 atom-4' d='M 194.6,74.9 L 179.6,48.9' style='fill:none;fill-rule:evenodd;stroke:#000000;stroke-width:2.0px;stroke-linecap:butt;stroke-linejoin:miter;stroke-opacity:1' />\n",
              "<path class='bond-3 atom-2 atom-4' d='M 179.6,48.9 L 164.6,22.9' style='fill:none;fill-rule:evenodd;stroke:#00CC00;stroke-width:2.0px;stroke-linecap:butt;stroke-linejoin:miter;stroke-opacity:1' />\n",
              "<path class='bond-4 atom-1 atom-5' d='M 261.5,74.9 L 275.0,98.2' style='fill:none;fill-rule:evenodd;stroke:#000000;stroke-width:2.0px;stroke-linecap:butt;stroke-linejoin:miter;stroke-opacity:1' />\n",
              "<path class='bond-4 atom-1 atom-5' d='M 275.0,98.2 L 288.4,121.6' style='fill:none;fill-rule:evenodd;stroke:#00CC00;stroke-width:2.0px;stroke-linecap:butt;stroke-linejoin:miter;stroke-opacity:1' />\n",
              "<path d='M 258.1,74.9 L 261.5,74.9 L 262.1,76.0' style='fill:none;stroke:#000000;stroke-width:2.0px;stroke-linecap:butt;stroke-linejoin:miter;stroke-opacity:1;' />\n",
              "<path d='M 197.9,74.9 L 194.6,74.9 L 193.9,73.6' style='fill:none;stroke:#000000;stroke-width:2.0px;stroke-linecap:butt;stroke-linejoin:miter;stroke-opacity:1;' />\n",
              "<path class='atom-4' d='M 143.4 17.6\n",
              "Q 143.4 12.9, 145.6 10.5\n",
              "Q 147.8 8.0, 152.0 8.0\n",
              "Q 155.9 8.0, 158.0 10.7\n",
              "L 156.2 12.2\n",
              "Q 154.7 10.2, 152.0 10.2\n",
              "Q 149.2 10.2, 147.6 12.1\n",
              "Q 146.1 14.0, 146.1 17.6\n",
              "Q 146.1 21.4, 147.7 23.3\n",
              "Q 149.3 25.2, 152.3 25.2\n",
              "Q 154.4 25.2, 156.8 24.0\n",
              "L 157.6 26.0\n",
              "Q 156.6 26.6, 155.1 27.0\n",
              "Q 153.6 27.4, 151.9 27.4\n",
              "Q 147.8 27.4, 145.6 24.8\n",
              "Q 143.4 22.3, 143.4 17.6\n",
              "' fill='#00CC00'/>\n",
              "<path class='atom-4' d='M 159.9 6.8\n",
              "L 162.4 6.8\n",
              "L 162.4 27.1\n",
              "L 159.9 27.1\n",
              "L 159.9 6.8\n",
              "' fill='#00CC00'/>\n",
              "<path class='atom-5' d='M 287.6 133.4\n",
              "Q 287.6 128.7, 289.8 126.3\n",
              "Q 292.0 123.8, 296.2 123.8\n",
              "Q 300.1 123.8, 302.2 126.5\n",
              "L 300.4 128.0\n",
              "Q 298.9 126.0, 296.2 126.0\n",
              "Q 293.4 126.0, 291.8 127.9\n",
              "Q 290.3 129.8, 290.3 133.4\n",
              "Q 290.3 137.2, 291.9 139.1\n",
              "Q 293.5 141.0, 296.5 141.0\n",
              "Q 298.6 141.0, 301.0 139.8\n",
              "L 301.8 141.8\n",
              "Q 300.8 142.4, 299.3 142.8\n",
              "Q 297.8 143.2, 296.1 143.2\n",
              "Q 292.0 143.2, 289.8 140.7\n",
              "Q 287.6 138.2, 287.6 133.4\n",
              "' fill='#00CC00'/>\n",
              "<path class='atom-5' d='M 304.1 122.6\n",
              "L 306.6 122.6\n",
              "L 306.6 142.9\n",
              "L 304.1 142.9\n",
              "L 304.1 122.6\n",
              "' fill='#00CC00'/>\n",
              "</svg>\n"
            ],
            "image/svg+xml": "<?xml version='1.0' encoding='iso-8859-1'?>\n<svg version='1.1' baseProfile='full'\n              xmlns='http://www.w3.org/2000/svg'\n                      xmlns:rdkit='http://www.rdkit.org/xml'\n                      xmlns:xlink='http://www.w3.org/1999/xlink'\n                  xml:space='preserve'\nwidth='450px' height='150px' viewBox='0 0 450 150'>\n<!-- END OF HEADER -->\n<rect style='opacity:1.0;fill:#FFFFFF;stroke:none' width='450.0' height='150.0' x='0.0' y='0.0'> </rect>\n<path class='bond-0 atom-1 atom-0' d='M 261.5,74.9 L 290.6,14.5 L 299.2,19.5 Z' style='fill:#000000;fill-rule:evenodd;fill-opacity:1;stroke:#000000;stroke-width:0.5px;stroke-linecap:butt;stroke-linejoin:miter;stroke-opacity:1;' />\n<path class='bond-1 atom-1 atom-2' d='M 261.5,74.9 L 194.6,74.9' style='fill:none;fill-rule:evenodd;stroke:#000000;stroke-width:2.0px;stroke-linecap:butt;stroke-linejoin:miter;stroke-opacity:1' />\n<path class='bond-2 atom-2 atom-3' d='M 194.6,74.9 L 165.5,135.3 L 156.8,130.3 Z' style='fill:#000000;fill-rule:evenodd;fill-opacity:1;stroke:#000000;stroke-width:0.5px;stroke-linecap:butt;stroke-linejoin:miter;stroke-opacity:1;' />\n<path class='bond-3 atom-2 atom-4' d='M 194.6,74.9 L 179.6,48.9' style='fill:none;fill-rule:evenodd;stroke:#000000;stroke-width:2.0px;stroke-linecap:butt;stroke-linejoin:miter;stroke-opacity:1' />\n<path class='bond-3 atom-2 atom-4' d='M 179.6,48.9 L 164.6,22.9' style='fill:none;fill-rule:evenodd;stroke:#00CC00;stroke-width:2.0px;stroke-linecap:butt;stroke-linejoin:miter;stroke-opacity:1' />\n<path class='bond-4 atom-1 atom-5' d='M 261.5,74.9 L 275.0,98.2' style='fill:none;fill-rule:evenodd;stroke:#000000;stroke-width:2.0px;stroke-linecap:butt;stroke-linejoin:miter;stroke-opacity:1' />\n<path class='bond-4 atom-1 atom-5' d='M 275.0,98.2 L 288.4,121.6' style='fill:none;fill-rule:evenodd;stroke:#00CC00;stroke-width:2.0px;stroke-linecap:butt;stroke-linejoin:miter;stroke-opacity:1' />\n<path d='M 258.1,74.9 L 261.5,74.9 L 262.1,76.0' style='fill:none;stroke:#000000;stroke-width:2.0px;stroke-linecap:butt;stroke-linejoin:miter;stroke-opacity:1;' />\n<path d='M 197.9,74.9 L 194.6,74.9 L 193.9,73.6' style='fill:none;stroke:#000000;stroke-width:2.0px;stroke-linecap:butt;stroke-linejoin:miter;stroke-opacity:1;' />\n<path class='atom-4' d='M 143.4 17.6\nQ 143.4 12.9, 145.6 10.5\nQ 147.8 8.0, 152.0 8.0\nQ 155.9 8.0, 158.0 10.7\nL 156.2 12.2\nQ 154.7 10.2, 152.0 10.2\nQ 149.2 10.2, 147.6 12.1\nQ 146.1 14.0, 146.1 17.6\nQ 146.1 21.4, 147.7 23.3\nQ 149.3 25.2, 152.3 25.2\nQ 154.4 25.2, 156.8 24.0\nL 157.6 26.0\nQ 156.6 26.6, 155.1 27.0\nQ 153.6 27.4, 151.9 27.4\nQ 147.8 27.4, 145.6 24.8\nQ 143.4 22.3, 143.4 17.6\n' fill='#00CC00'/>\n<path class='atom-4' d='M 159.9 6.8\nL 162.4 6.8\nL 162.4 27.1\nL 159.9 27.1\nL 159.9 6.8\n' fill='#00CC00'/>\n<path class='atom-5' d='M 287.6 133.4\nQ 287.6 128.7, 289.8 126.3\nQ 292.0 123.8, 296.2 123.8\nQ 300.1 123.8, 302.2 126.5\nL 300.4 128.0\nQ 298.9 126.0, 296.2 126.0\nQ 293.4 126.0, 291.8 127.9\nQ 290.3 129.8, 290.3 133.4\nQ 290.3 137.2, 291.9 139.1\nQ 293.5 141.0, 296.5 141.0\nQ 298.6 141.0, 301.0 139.8\nL 301.8 141.8\nQ 300.8 142.4, 299.3 142.8\nQ 297.8 143.2, 296.1 143.2\nQ 292.0 143.2, 289.8 140.7\nQ 287.6 138.2, 287.6 133.4\n' fill='#00CC00'/>\n<path class='atom-5' d='M 304.1 122.6\nL 306.6 122.6\nL 306.6 142.9\nL 304.1 142.9\nL 304.1 122.6\n' fill='#00CC00'/>\n</svg>\n",
            "image/png": "[encoded data removed]"
          },
          "metadata": {},
          "execution_count": 33
        }
      ],
      "source": [
        "df.mol[0]"
      ]
    },
    {
      "cell_type": "markdown",
      "metadata": {
        "id": "jbU372xAPObr"
      },
      "source": [
        "## 분자 시각화\n",
        "\n",
        "- rdkit.Chem.Draw를 사용하여 mol 객체를 시각화할 수 있다\n",
        "- Draw.MolsToGridImage()를 사용하면 그리드 형태로 그릴 수 있다"
      ]
    },
    {
      "cell_type": "code",
      "execution_count": null,
      "metadata": {
        "colab": {
          "base_uri": "https://localhost:8080/",
          "height": 822
        },
        "id": "kuRFLplETRIo",
        "outputId": "160ac556-da1e-4a89-d528-60100d9a0427"
      },
      "outputs": [
        {
          "output_type": "execute_result",
          "data": {
            "text/plain": [
              "<IPython.core.display.SVG object>"
            ],
            "image/svg+xml": "<svg baseProfile=\"full\" height=\"800px\" version=\"1.1\" viewBox=\"0 0 800 800\" width=\"800px\" xml:space=\"preserve\" xmlns=\"http://www.w3.org/2000/svg\" xmlns:rdkit=\"http://www.rdkit.org/xml\" xmlns:xlink=\"http://www.w3.org/1999/xlink\">\n<!-- END OF HEADER -->\n<rect height=\"800.0\" style=\"opacity:1.0;fill:#FFFFFF;stroke:none\" width=\"800.0\" x=\"0.0\" y=\"0.0\"> </rect>\n<path class=\"bond-0 atom-1 atom-0\" d=\"M 116.3,89.9 L 129.3,62.9 L 133.2,65.1 Z\" style=\"fill:#000000;fill-rule:evenodd;fill-opacity:1;stroke:#000000;stroke-width:0.5px;stroke-linecap:butt;stroke-linejoin:miter;stroke-opacity:1;\"/>\n<path class=\"bond-1 atom-1 atom-2\" d=\"M 116.3,89.9 L 86.4,89.9\" style=\"fill:none;fill-rule:evenodd;stroke:#000000;stroke-width:2.0px;stroke-linecap:butt;stroke-linejoin:miter;stroke-opacity:1\"/>\n<path class=\"bond-2 atom-2 atom-3\" d=\"M 86.4,89.9 L 73.4,117.0 L 69.5,114.7 Z\" style=\"fill:#000000;fill-rule:evenodd;fill-opacity:1;stroke:#000000;stroke-width:0.5px;stroke-linecap:butt;stroke-linejoin:miter;stroke-opacity:1;\"/>\n<path class=\"bond-3 atom-2 atom-4\" d=\"M 86.4,89.9 L 79.7,78.3\" style=\"fill:none;fill-rule:evenodd;stroke:#000000;stroke-width:2.0px;stroke-linecap:butt;stroke-linejoin:miter;stroke-opacity:1\"/>\n<path class=\"bond-3 atom-2 atom-4\" d=\"M 79.7,78.3 L 73.0,66.7\" style=\"fill:none;fill-rule:evenodd;stroke:#00CC00;stroke-width:2.0px;stroke-linecap:butt;stroke-linejoin:miter;stroke-opacity:1\"/>\n<path class=\"bond-4 atom-1 atom-5\" d=\"M 116.3,89.9 L 122.4,100.4\" style=\"fill:none;fill-rule:evenodd;stroke:#000000;stroke-width:2.0px;stroke-linecap:butt;stroke-linejoin:miter;stroke-opacity:1\"/>\n<path class=\"bond-4 atom-1 atom-5\" d=\"M 122.4,100.4 L 128.4,110.9\" style=\"fill:none;fill-rule:evenodd;stroke:#00CC00;stroke-width:2.0px;stroke-linecap:butt;stroke-linejoin:miter;stroke-opacity:1\"/>\n<path d=\"M 114.8,89.9 L 116.3,89.9 L 116.6,90.5\" style=\"fill:none;stroke:#000000;stroke-width:2.0px;stroke-linecap:butt;stroke-linejoin:miter;stroke-opacity:1;\"/>\n<path d=\"M 87.9,89.9 L 86.4,89.9 L 86.1,89.4\" style=\"fill:none;stroke:#000000;stroke-width:2.0px;stroke-linecap:butt;stroke-linejoin:miter;stroke-opacity:1;\"/>\n<path class=\"atom-4\" d=\"M 63.5 64.3 Q 63.5 62.2, 64.5 61.1 Q 65.5 60.0, 67.3 60.0 Q 69.1 60.0, 70.0 61.2 L 69.2 61.9 Q 68.5 61.0, 67.3 61.0 Q 66.0 61.0, 65.4 61.8 Q 64.7 62.7, 64.7 64.3 Q 64.7 66.0, 65.4 66.9 Q 66.1 67.7, 67.5 67.7 Q 68.4 67.7, 69.5 67.2 L 69.8 68.1 Q 69.4 68.3, 68.7 68.5 Q 68.0 68.7, 67.3 68.7 Q 65.5 68.7, 64.5 67.5 Q 63.5 66.4, 63.5 64.3 \" fill=\"#00CC00\"/>\n<path class=\"atom-4\" d=\"M 70.9 59.5 L 72.0 59.5 L 72.0 68.6 L 70.9 68.6 L 70.9 59.5 \" fill=\"#00CC00\"/>\n<path class=\"atom-5\" d=\"M 128.0 116.2 Q 128.0 114.1, 129.0 113.0 Q 130.0 111.8, 131.9 111.8 Q 133.6 111.8, 134.6 113.1 L 133.8 113.7 Q 133.1 112.8, 131.9 112.8 Q 130.6 112.8, 129.9 113.7 Q 129.2 114.5, 129.2 116.2 Q 129.2 117.8, 129.9 118.7 Q 130.6 119.6, 132.0 119.6 Q 132.9 119.6, 134.0 119.0 L 134.4 119.9 Q 133.9 120.2, 133.3 120.4 Q 132.6 120.5, 131.8 120.5 Q 130.0 120.5, 129.0 119.4 Q 128.0 118.3, 128.0 116.2 \" fill=\"#00CC00\"/>\n<path class=\"atom-5\" d=\"M 135.4 111.3 L 136.5 111.3 L 136.5 120.4 L 135.4 120.4 L 135.4 111.3 \" fill=\"#00CC00\"/>\n<path class=\"legend\" d=\"M 19.8 186.5 Q 19.8 183.9, 21.0 182.5 Q 22.2 181.1, 24.5 181.1 Q 26.7 181.1, 27.8 182.6 L 26.8 183.4 Q 26.0 182.3, 24.5 182.3 Q 22.9 182.3, 22.1 183.4 Q 21.3 184.4, 21.3 186.5 Q 21.3 188.5, 22.1 189.6 Q 23.0 190.6, 24.7 190.6 Q 25.8 190.6, 27.2 190.0 L 27.6 191.1 Q 27.0 191.4, 26.2 191.6 Q 25.4 191.8, 24.5 191.8 Q 22.2 191.8, 21.0 190.4 Q 19.8 189.1, 19.8 186.5 \" fill=\"#000000\"/>\n<path class=\"legend\" d=\"M 29.0 180.3 L 32.2 180.3 L 32.2 181.3 L 30.3 181.3 L 30.3 193.5 L 32.2 193.5 L 32.2 194.5 L 29.0 194.5 L 29.0 180.3 \" fill=\"#000000\"/>\n<path class=\"legend\" d=\"M 33.1 186.5 Q 33.1 183.9, 34.3 182.5 Q 35.5 181.1, 37.9 181.1 Q 40.0 181.1, 41.2 182.6 L 40.2 183.4 Q 39.4 182.3, 37.9 182.3 Q 36.3 182.3, 35.4 183.4 Q 34.6 184.4, 34.6 186.5 Q 34.6 188.5, 35.5 189.6 Q 36.3 190.6, 38.0 190.6 Q 39.2 190.6, 40.5 190.0 L 40.9 191.1 Q 40.4 191.4, 39.6 191.6 Q 38.7 191.8, 37.8 191.8 Q 35.5 191.8, 34.3 190.4 Q 33.1 189.1, 33.1 186.5 \" fill=\"#000000\"/>\n<path class=\"legend\" d=\"M 52.0 194.5 Q 51.5 194.7, 50.8 194.8 Q 50.0 195.0, 49.1 195.0 Q 47.0 195.0, 45.5 194.2 Q 44.0 193.4, 43.2 191.9 Q 42.4 190.4, 42.4 188.5 Q 42.4 186.3, 43.3 184.7 Q 44.2 183.0, 45.9 182.1 Q 47.5 181.2, 49.5 181.2 Q 51.4 181.2, 52.8 181.9 Q 54.3 182.6, 55.0 183.9 Q 55.8 185.2, 55.8 187.0 Q 55.8 188.3, 55.4 189.3 Q 55.0 190.2, 54.3 190.8 Q 53.6 191.3, 52.6 191.3 Q 51.9 191.3, 51.4 190.9 Q 50.8 190.5, 50.6 189.9 Q 50.2 190.6, 49.6 190.9 Q 49.0 191.3, 48.3 191.3 Q 47.3 191.3, 46.7 190.6 Q 46.0 189.9, 46.0 188.8 Q 46.0 187.6, 46.5 186.7 Q 47.0 185.8, 47.9 185.3 Q 48.8 184.8, 49.9 184.8 Q 50.8 184.8, 51.8 185.2 L 51.5 187.5 Q 51.4 188.0, 51.4 188.3 Q 51.4 190.1, 52.7 190.1 Q 53.4 190.1, 53.9 189.4 Q 54.3 188.7, 54.3 187.0 Q 54.3 184.9, 53.1 183.6 Q 51.9 182.3, 49.5 182.3 Q 47.9 182.3, 46.6 183.1 Q 45.3 184.0, 44.6 185.4 Q 43.8 186.8, 43.8 188.5 Q 43.8 190.0, 44.5 191.2 Q 45.1 192.5, 46.3 193.2 Q 47.5 193.8, 49.1 193.8 Q 49.9 193.8, 50.6 193.7 Q 51.3 193.6, 51.6 193.4 L 52.0 194.5 M 47.4 188.6 Q 47.4 189.3, 47.7 189.7 Q 48.0 190.1, 48.5 190.1 Q 49.2 190.1, 49.6 189.6 Q 50.1 188.9, 50.3 188.0 L 50.6 186.0 Q 50.2 185.9, 49.7 185.9 Q 48.7 185.9, 48.1 186.6 Q 47.4 187.3, 47.4 188.6 \" fill=\"#000000\"/>\n<path class=\"legend\" d=\"M 57.1 181.2 L 58.5 181.2 L 58.5 185.7 L 63.8 185.7 L 63.8 181.2 L 65.3 181.2 L 65.3 191.7 L 63.8 191.7 L 63.8 186.9 L 58.5 186.9 L 58.5 191.7 L 57.1 191.7 L 57.1 181.2 \" fill=\"#000000\"/>\n<path class=\"legend\" d=\"M 70.3 180.3 L 70.3 194.5 L 67.2 194.5 L 67.2 193.5 L 69.1 193.5 L 69.1 181.3 L 67.2 181.3 L 67.2 180.3 L 70.3 180.3 \" fill=\"#000000\"/>\n<path class=\"legend\" d=\"M 72.2 187.5 Q 72.2 185.4, 72.8 183.6 Q 73.4 181.9, 74.6 180.0 L 75.4 180.5 Q 74.5 182.3, 74.0 183.9 Q 73.5 185.5, 73.5 187.5 Q 73.5 189.5, 74.0 191.1 Q 74.5 192.6, 75.4 194.4 L 74.6 195.0 Q 73.4 193.1, 72.8 191.4 Q 72.2 189.6, 72.2 187.5 \" fill=\"#000000\"/>\n<path class=\"legend\" d=\"M 76.4 180.3 L 79.6 180.3 L 79.6 181.3 L 77.7 181.3 L 77.7 193.5 L 79.6 193.5 L 79.6 194.5 L 76.4 194.5 L 76.4 180.3 \" fill=\"#000000\"/>\n<path class=\"legend\" d=\"M 80.5 186.5 Q 80.5 183.9, 81.7 182.5 Q 82.9 181.1, 85.3 181.1 Q 87.4 181.1, 88.6 182.6 L 87.6 183.4 Q 86.8 182.3, 85.3 182.3 Q 83.7 182.3, 82.8 183.4 Q 82.0 184.4, 82.0 186.5 Q 82.0 188.5, 82.9 189.6 Q 83.7 190.6, 85.4 190.6 Q 86.6 190.6, 87.9 190.0 L 88.3 191.1 Q 87.8 191.4, 87.0 191.6 Q 86.1 191.8, 85.2 191.8 Q 82.9 191.8, 81.7 190.4 Q 80.5 189.1, 80.5 186.5 \" fill=\"#000000\"/>\n<path class=\"legend\" d=\"M 99.4 194.5 Q 98.9 194.7, 98.2 194.8 Q 97.4 195.0, 96.5 195.0 Q 94.4 195.0, 92.9 194.2 Q 91.4 193.4, 90.6 191.9 Q 89.8 190.4, 89.8 188.5 Q 89.8 186.3, 90.7 184.7 Q 91.6 183.0, 93.3 182.1 Q 94.9 181.2, 96.9 181.2 Q 98.8 181.2, 100.2 181.9 Q 101.7 182.6, 102.4 183.9 Q 103.2 185.2, 103.2 187.0 Q 103.2 188.3, 102.8 189.3 Q 102.4 190.2, 101.7 190.8 Q 101.0 191.3, 100.0 191.3 Q 99.3 191.3, 98.8 190.9 Q 98.2 190.5, 98.0 189.9 Q 97.6 190.6, 97.0 190.9 Q 96.4 191.3, 95.7 191.3 Q 94.7 191.3, 94.1 190.6 Q 93.4 189.9, 93.4 188.8 Q 93.4 187.6, 93.9 186.7 Q 94.4 185.8, 95.3 185.3 Q 96.2 184.8, 97.3 184.8 Q 98.2 184.8, 99.2 185.2 L 98.9 187.5 Q 98.8 188.0, 98.8 188.3 Q 98.8 190.1, 100.1 190.1 Q 100.8 190.1, 101.3 189.4 Q 101.7 188.7, 101.7 187.0 Q 101.7 184.9, 100.5 183.6 Q 99.3 182.3, 96.9 182.3 Q 95.3 182.3, 94.0 183.1 Q 92.7 184.0, 92.0 185.4 Q 91.2 186.8, 91.2 188.5 Q 91.2 190.0, 91.9 191.2 Q 92.5 192.5, 93.7 193.2 Q 94.9 193.8, 96.5 193.8 Q 97.3 193.8, 98.0 193.7 Q 98.7 193.6, 99.0 193.4 L 99.4 194.5 M 94.8 188.6 Q 94.8 189.3, 95.1 189.7 Q 95.4 190.1, 95.9 190.1 Q 96.6 190.1, 97.0 189.6 Q 97.5 188.9, 97.7 188.0 L 98.0 186.0 Q 97.6 185.9, 97.1 185.9 Q 96.1 185.9, 95.5 186.6 Q 94.8 187.3, 94.8 188.6 \" fill=\"#000000\"/>\n<path class=\"legend\" d=\"M 114.1 194.5 Q 113.6 194.7, 112.9 194.8 Q 112.1 195.0, 111.2 195.0 Q 109.1 195.0, 107.6 194.2 Q 106.1 193.4, 105.3 191.9 Q 104.5 190.4, 104.5 188.5 Q 104.5 186.3, 105.4 184.7 Q 106.3 183.0, 108.0 182.1 Q 109.6 181.2, 111.6 181.2 Q 113.5 181.2, 114.9 181.9 Q 116.3 182.6, 117.1 183.9 Q 117.9 185.2, 117.9 187.0 Q 117.9 188.3, 117.5 189.3 Q 117.1 190.2, 116.4 190.8 Q 115.7 191.3, 114.7 191.3 Q 114.0 191.3, 113.4 190.9 Q 112.9 190.5, 112.7 189.9 Q 112.3 190.6, 111.7 190.9 Q 111.1 191.3, 110.4 191.3 Q 109.4 191.3, 108.8 190.6 Q 108.1 189.9, 108.1 188.8 Q 108.1 187.6, 108.6 186.7 Q 109.1 185.8, 110.0 185.3 Q 110.9 184.8, 112.0 184.8 Q 112.9 184.8, 113.9 185.2 L 113.6 187.5 Q 113.5 188.0, 113.5 188.3 Q 113.5 190.1, 114.8 190.1 Q 115.5 190.1, 115.9 189.4 Q 116.4 188.7, 116.4 187.0 Q 116.4 184.9, 115.2 183.6 Q 114.0 182.3, 111.6 182.3 Q 110.0 182.3, 108.7 183.1 Q 107.4 184.0, 106.7 185.4 Q 105.9 186.8, 105.9 188.5 Q 105.9 190.0, 106.6 191.2 Q 107.2 192.5, 108.4 193.2 Q 109.6 193.8, 111.2 193.8 Q 112.0 193.8, 112.7 193.7 Q 113.3 193.6, 113.7 193.4 L 114.1 194.5 M 109.5 188.6 Q 109.5 189.3, 109.8 189.7 Q 110.1 190.1, 110.6 190.1 Q 111.3 190.1, 111.7 189.6 Q 112.2 188.9, 112.4 188.0 L 112.7 186.0 Q 112.3 185.9, 111.8 185.9 Q 110.8 185.9, 110.2 186.6 Q 109.5 187.3, 109.5 188.6 \" fill=\"#000000\"/>\n<path class=\"legend\" d=\"M 119.2 181.2 L 120.6 181.2 L 120.6 185.7 L 125.9 185.7 L 125.9 181.2 L 127.4 181.2 L 127.4 191.7 L 125.9 191.7 L 125.9 186.9 L 120.6 186.9 L 120.6 191.7 L 119.2 191.7 L 119.2 181.2 \" fill=\"#000000\"/>\n<path class=\"legend\" d=\"M 132.4 180.3 L 132.4 194.5 L 129.2 194.5 L 129.2 193.5 L 131.1 193.5 L 131.1 181.3 L 129.2 181.3 L 129.2 180.3 L 132.4 180.3 \" fill=\"#000000\"/>\n<path class=\"legend\" d=\"M 134.3 187.5 Q 134.3 185.4, 134.9 183.6 Q 135.5 181.9, 136.7 180.0 L 137.5 180.5 Q 136.6 182.3, 136.1 183.9 Q 135.6 185.5, 135.6 187.5 Q 135.6 189.5, 136.1 191.1 Q 136.6 192.6, 137.5 194.4 L 136.7 195.0 Q 135.5 193.1, 134.9 191.4 Q 134.3 189.6, 134.3 187.5 \" fill=\"#000000\"/>\n<path class=\"legend\" d=\"M 138.5 186.5 Q 138.5 183.9, 139.7 182.5 Q 141.0 181.1, 143.3 181.1 Q 145.4 181.1, 146.6 182.6 L 145.6 183.4 Q 144.8 182.3, 143.3 182.3 Q 141.7 182.3, 140.9 183.4 Q 140.0 184.4, 140.0 186.5 Q 140.0 188.5, 140.9 189.6 Q 141.8 190.6, 143.4 190.6 Q 144.6 190.6, 145.9 190.0 L 146.4 191.1 Q 145.8 191.4, 145.0 191.6 Q 144.2 191.8, 143.2 191.8 Q 141.0 191.8, 139.7 190.4 Q 138.5 189.1, 138.5 186.5 \" fill=\"#000000\"/>\n<path class=\"legend\" d=\"M 151.1 187.5 Q 151.1 189.6, 150.4 191.4 Q 149.8 193.1, 148.6 195.0 L 147.8 194.4 Q 148.8 192.6, 149.2 191.1 Q 149.7 189.5, 149.7 187.5 Q 149.7 185.5, 149.2 183.9 Q 148.8 182.3, 147.8 180.5 L 148.6 180.0 Q 149.8 181.9, 150.4 183.6 Q 151.1 185.4, 151.1 187.5 \" fill=\"#000000\"/>\n<path class=\"legend\" d=\"M 152.4 186.5 Q 152.4 183.9, 153.6 182.5 Q 154.9 181.1, 157.2 181.1 Q 159.3 181.1, 160.5 182.6 L 159.5 183.4 Q 158.7 182.3, 157.2 182.3 Q 155.6 182.3, 154.8 183.4 Q 153.9 184.4, 153.9 186.5 Q 153.9 188.5, 154.8 189.6 Q 155.7 190.6, 157.4 190.6 Q 158.5 190.6, 159.8 190.0 L 160.3 191.1 Q 159.7 191.4, 158.9 191.6 Q 158.1 191.8, 157.1 191.8 Q 154.9 191.8, 153.6 190.4 Q 152.4 189.1, 152.4 186.5 \" fill=\"#000000\"/>\n<path class=\"legend\" d=\"M 161.7 180.5 L 163.1 180.5 L 163.1 191.7 L 161.7 191.7 L 161.7 180.5 \" fill=\"#000000\"/>\n<path class=\"legend\" d=\"M 168.2 187.5 Q 168.2 189.6, 167.6 191.4 Q 167.0 193.1, 165.8 195.0 L 165.0 194.4 Q 165.9 192.6, 166.4 191.1 Q 166.9 189.5, 166.9 187.5 Q 166.9 185.5, 166.4 183.9 Q 165.9 182.3, 165.0 180.5 L 165.8 180.0 Q 167.0 181.9, 167.6 183.6 Q 168.2 185.4, 168.2 187.5 \" fill=\"#000000\"/>\n<path class=\"legend\" d=\"M 169.6 186.5 Q 169.6 183.9, 170.8 182.5 Q 172.0 181.1, 174.4 181.1 Q 176.5 181.1, 177.7 182.6 L 176.7 183.4 Q 175.8 182.3, 174.4 182.3 Q 172.8 182.3, 171.9 183.4 Q 171.1 184.4, 171.1 186.5 Q 171.1 188.5, 172.0 189.6 Q 172.8 190.6, 174.5 190.6 Q 175.7 190.6, 177.0 190.0 L 177.4 191.1 Q 176.9 191.4, 176.1 191.6 Q 175.2 191.8, 174.3 191.8 Q 172.0 191.8, 170.8 190.4 Q 169.6 189.1, 169.6 186.5 \" fill=\"#000000\"/>\n<path class=\"legend\" d=\"M 178.9 180.5 L 180.2 180.5 L 180.2 191.7 L 178.9 191.7 L 178.9 180.5 \" fill=\"#000000\"/>\n<path class=\"bond-0 atom-0 atom-1\" d=\"M 278.5,97.7 L 304.5,82.7\" style=\"fill:none;fill-rule:evenodd;stroke:#000000;stroke-width:2.0px;stroke-linecap:butt;stroke-linejoin:miter;stroke-opacity:1\"/>\n<path class=\"bond-1 atom-1 atom-2\" d=\"M 304.5,82.7 L 330.4,97.7\" style=\"fill:none;fill-rule:evenodd;stroke:#000000;stroke-width:2.0px;stroke-linecap:butt;stroke-linejoin:miter;stroke-opacity:1\"/>\n<path class=\"bond-1 atom-1 atom-2\" d=\"M 304.5,87.9 L 328.1,101.5\" style=\"fill:none;fill-rule:evenodd;stroke:#000000;stroke-width:2.0px;stroke-linecap:butt;stroke-linejoin:miter;stroke-opacity:1\"/>\n<path class=\"bond-2 atom-2 atom-3\" d=\"M 330.4,97.7 L 341.4,91.3\" style=\"fill:none;fill-rule:evenodd;stroke:#000000;stroke-width:2.0px;stroke-linecap:butt;stroke-linejoin:miter;stroke-opacity:1\"/>\n<path class=\"bond-2 atom-2 atom-3\" d=\"M 341.4,91.3 L 352.4,84.9\" style=\"fill:none;fill-rule:evenodd;stroke:#7F4C19;stroke-width:2.0px;stroke-linecap:butt;stroke-linejoin:miter;stroke-opacity:1\"/>\n<path class=\"bond-3 atom-0 atom-4\" d=\"M 278.5,97.7 L 267.7,91.4\" style=\"fill:none;fill-rule:evenodd;stroke:#000000;stroke-width:2.0px;stroke-linecap:butt;stroke-linejoin:miter;stroke-opacity:1\"/>\n<path class=\"bond-3 atom-0 atom-4\" d=\"M 267.7,91.4 L 256.8,85.1\" style=\"fill:none;fill-rule:evenodd;stroke:#0000FF;stroke-width:2.0px;stroke-linecap:butt;stroke-linejoin:miter;stroke-opacity:1\"/>\n<path d=\"M 279.8,96.9 L 278.5,97.7 L 278.0,97.3\" style=\"fill:none;stroke:#000000;stroke-width:2.0px;stroke-linecap:butt;stroke-linejoin:miter;stroke-opacity:1;\"/>\n<path d=\"M 303.2,83.4 L 304.5,82.7 L 305.8,83.4\" style=\"fill:none;stroke:#000000;stroke-width:2.0px;stroke-linecap:butt;stroke-linejoin:miter;stroke-opacity:1;\"/>\n<path d=\"M 329.1,96.9 L 330.4,97.7 L 330.9,97.3\" style=\"fill:none;stroke:#000000;stroke-width:2.0px;stroke-linecap:butt;stroke-linejoin:miter;stroke-opacity:1;\"/>\n<path class=\"atom-3\" d=\"M 357.6 82.5 Q 358.4 82.7, 358.8 83.2 Q 359.2 83.7, 359.2 84.4 Q 359.2 85.6, 358.4 86.3 Q 357.7 86.9, 356.3 86.9 L 353.4 86.9 L 353.4 78.5 L 355.9 78.5 Q 357.4 78.5, 358.1 79.0 Q 358.8 79.6, 358.8 80.7 Q 358.8 82.0, 357.6 82.5 M 354.6 79.4 L 354.6 82.1 L 355.9 82.1 Q 356.8 82.1, 357.2 81.7 Q 357.7 81.4, 357.7 80.7 Q 357.7 79.4, 355.9 79.4 L 354.6 79.4 M 356.3 86.0 Q 357.1 86.0, 357.6 85.6 Q 358.0 85.2, 358.0 84.4 Q 358.0 83.7, 357.5 83.4 Q 357.0 83.0, 356.1 83.0 L 354.6 83.0 L 354.6 86.0 L 356.3 86.0 \" fill=\"#7F4C19\"/>\n<path class=\"atom-3\" d=\"M 361.1 80.8 L 361.3 81.6 Q 361.9 80.7, 363.0 80.7 Q 363.3 80.7, 363.7 80.8 L 363.6 81.8 Q 363.0 81.7, 362.8 81.7 Q 362.3 81.7, 361.9 81.9 Q 361.6 82.1, 361.3 82.5 L 361.3 86.9 L 360.2 86.9 L 360.2 80.8 L 361.1 80.8 \" fill=\"#7F4C19\"/>\n<path class=\"atom-4\" d=\"M 236.3 78.5 L 237.4 78.5 L 237.4 82.1 L 241.7 82.1 L 241.7 78.5 L 242.9 78.5 L 242.9 86.9 L 241.7 86.9 L 241.7 83.0 L 237.4 83.0 L 237.4 86.9 L 236.3 86.9 L 236.3 78.5 \" fill=\"#0000FF\"/>\n<path class=\"atom-4\" d=\"M 244.5 86.6 Q 244.8 86.1, 245.2 85.8 Q 245.7 85.5, 246.4 85.5 Q 247.3 85.5, 247.7 86.0 Q 248.2 86.4, 248.2 87.2 Q 248.2 88.1, 247.6 88.8 Q 247.0 89.6, 245.7 90.5 L 248.3 90.5 L 248.3 91.2 L 244.5 91.2 L 244.5 90.6 Q 245.6 89.9, 246.2 89.3 Q 246.8 88.8, 247.1 88.3 Q 247.4 87.8, 247.4 87.3 Q 247.4 86.7, 247.1 86.4 Q 246.9 86.1, 246.4 86.1 Q 246.0 86.1, 245.7 86.3 Q 245.4 86.5, 245.2 86.9 L 244.5 86.6 \" fill=\"#0000FF\"/>\n<path class=\"atom-4\" d=\"M 250.7 78.5 L 253.5 82.9 Q 253.8 83.4, 254.2 84.2 Q 254.7 85.0, 254.7 85.0 L 254.7 78.5 L 255.8 78.5 L 255.8 86.9 L 254.7 86.9 L 251.7 82.0 Q 251.3 81.4, 251.0 80.8 Q 250.6 80.1, 250.5 79.9 L 250.5 86.9 L 249.4 86.9 L 249.4 78.5 L 250.7 78.5 \" fill=\"#0000FF\"/>\n<path class=\"legend\" d=\"M 266.4 186.5 Q 266.4 183.9, 267.6 182.5 Q 268.9 181.1, 271.2 181.1 Q 273.4 181.1, 274.5 182.6 L 273.5 183.4 Q 272.7 182.3, 271.2 182.3 Q 269.6 182.3, 268.8 183.4 Q 267.9 184.5, 267.9 186.5 Q 267.9 188.5, 268.8 189.6 Q 269.7 190.7, 271.4 190.7 Q 272.5 190.7, 273.9 190.0 L 274.3 191.1 Q 273.7 191.4, 272.9 191.6 Q 272.1 191.8, 271.2 191.8 Q 268.9 191.8, 267.6 190.5 Q 266.4 189.1, 266.4 186.5 \" fill=\"#000000\"/>\n<path class=\"legend\" d=\"M 275.7 187.5 Q 275.7 185.4, 276.3 183.6 Q 277.0 181.9, 278.2 180.0 L 279.0 180.5 Q 278.0 182.3, 277.5 183.9 Q 277.1 185.5, 277.1 187.5 Q 277.1 189.5, 277.5 191.1 Q 278.0 192.6, 279.0 194.5 L 278.2 195.0 Q 277.0 193.1, 276.3 191.4 Q 275.7 189.6, 275.7 187.5 \" fill=\"#000000\"/>\n<path class=\"legend\" d=\"M 280.0 186.5 Q 280.0 183.9, 281.2 182.5 Q 282.4 181.1, 284.8 181.1 Q 286.9 181.1, 288.1 182.6 L 287.1 183.4 Q 286.2 182.3, 284.8 182.3 Q 283.2 182.3, 282.3 183.4 Q 281.5 184.5, 281.5 186.5 Q 281.5 188.5, 282.4 189.6 Q 283.2 190.7, 284.9 190.7 Q 286.1 190.7, 287.4 190.0 L 287.8 191.1 Q 287.3 191.4, 286.5 191.6 Q 285.6 191.8, 284.7 191.8 Q 282.4 191.8, 281.2 190.5 Q 280.0 189.1, 280.0 186.5 \" fill=\"#000000\"/>\n<path class=\"legend\" d=\"M 289.3 185.3 L 296.1 185.3 L 296.1 186.3 L 289.3 186.3 L 289.3 185.3 M 289.3 188.4 L 296.1 188.4 L 296.1 189.5 L 289.3 189.5 L 289.3 188.4 \" fill=\"#000000\"/>\n<path class=\"legend\" d=\"M 298.0 186.5 Q 298.0 183.9, 299.3 182.5 Q 300.5 181.1, 302.8 181.1 Q 305.0 181.1, 306.1 182.6 L 305.1 183.4 Q 304.3 182.3, 302.8 182.3 Q 301.2 182.3, 300.4 183.4 Q 299.6 184.5, 299.6 186.5 Q 299.6 188.5, 300.4 189.6 Q 301.3 190.7, 303.0 190.7 Q 304.1 190.7, 305.5 190.0 L 305.9 191.1 Q 305.3 191.4, 304.5 191.6 Q 303.7 191.8, 302.8 191.8 Q 300.5 191.8, 299.3 190.5 Q 298.0 189.1, 298.0 186.5 \" fill=\"#000000\"/>\n<path class=\"legend\" d=\"M 312.4 186.2 Q 313.4 186.5, 313.9 187.1 Q 314.5 187.7, 314.5 188.6 Q 314.5 190.1, 313.5 190.9 Q 312.6 191.7, 310.9 191.7 L 307.3 191.7 L 307.3 181.2 L 310.4 181.2 Q 312.2 181.2, 313.1 182.0 Q 314.0 182.7, 314.0 184.0 Q 314.0 185.6, 312.4 186.2 M 308.8 182.4 L 308.8 185.7 L 310.4 185.7 Q 311.5 185.7, 312.0 185.3 Q 312.6 184.9, 312.6 184.0 Q 312.6 182.4, 310.4 182.4 L 308.8 182.4 M 310.9 190.5 Q 311.9 190.5, 312.4 190.0 Q 313.0 189.6, 313.0 188.6 Q 313.0 187.8, 312.4 187.3 Q 311.8 186.9, 310.6 186.9 L 308.8 186.9 L 308.8 190.5 L 310.9 190.5 \" fill=\"#000000\"/>\n<path class=\"legend\" d=\"M 316.9 184.1 L 317.1 185.2 Q 317.9 184.0, 319.2 184.0 Q 319.6 184.0, 320.1 184.1 L 319.9 185.4 Q 319.3 185.2, 318.9 185.2 Q 318.3 185.2, 317.9 185.5 Q 317.5 185.7, 317.2 186.3 L 317.2 191.7 L 315.8 191.7 L 315.8 184.1 L 316.9 184.1 \" fill=\"#000000\"/>\n<path class=\"legend\" d=\"M 324.2 187.5 Q 324.2 189.6, 323.6 191.4 Q 323.0 193.1, 321.8 195.0 L 321.0 194.5 Q 322.0 192.6, 322.4 191.1 Q 322.9 189.5, 322.9 187.5 Q 322.9 185.5, 322.4 183.9 Q 322.0 182.3, 321.0 180.5 L 321.8 180.0 Q 323.0 181.9, 323.6 183.6 Q 324.2 185.4, 324.2 187.5 \" fill=\"#000000\"/>\n<path class=\"legend\" d=\"M 327.3 181.2 L 330.7 186.8 Q 331.1 187.3, 331.6 188.3 Q 332.1 189.3, 332.2 189.4 L 332.2 181.2 L 333.6 181.2 L 333.6 191.7 L 332.1 191.7 L 328.4 185.7 Q 328.0 184.9, 327.6 184.1 Q 327.1 183.3, 327.0 183.1 L 327.0 191.7 L 325.6 191.7 L 325.6 181.2 L 327.3 181.2 \" fill=\"#000000\"/>\n<path class=\"bond-0 atom-0 atom-1\" d=\"M 442.2,80.4 L 468.2,65.4\" style=\"fill:none;fill-rule:evenodd;stroke:#000000;stroke-width:2.0px;stroke-linecap:butt;stroke-linejoin:miter;stroke-opacity:1\"/>\n<path class=\"bond-1 atom-1 atom-2\" d=\"M 468.2,65.4 L 494.1,80.4\" style=\"fill:none;fill-rule:evenodd;stroke:#000000;stroke-width:2.0px;stroke-linecap:butt;stroke-linejoin:miter;stroke-opacity:1\"/>\n<path class=\"bond-2 atom-2 atom-3\" d=\"M 494.1,80.4 L 520.0,65.4\" style=\"fill:none;fill-rule:evenodd;stroke:#000000;stroke-width:2.0px;stroke-linecap:butt;stroke-linejoin:miter;stroke-opacity:1\"/>\n<path class=\"bond-3 atom-3 atom-4\" d=\"M 520.0,65.4 L 530.5,71.5\" style=\"fill:none;fill-rule:evenodd;stroke:#000000;stroke-width:2.0px;stroke-linecap:butt;stroke-linejoin:miter;stroke-opacity:1\"/>\n<path class=\"bond-3 atom-3 atom-4\" d=\"M 530.5,71.5 L 541.0,77.6\" style=\"fill:none;fill-rule:evenodd;stroke:#FF0000;stroke-width:2.0px;stroke-linecap:butt;stroke-linejoin:miter;stroke-opacity:1\"/>\n<path class=\"bond-4 atom-2 atom-5\" d=\"M 494.1,80.4 L 494.1,92.8\" style=\"fill:none;fill-rule:evenodd;stroke:#000000;stroke-width:2.0px;stroke-linecap:butt;stroke-linejoin:miter;stroke-opacity:1\"/>\n<path class=\"bond-4 atom-2 atom-5\" d=\"M 494.1,92.8 L 494.1,105.1\" style=\"fill:none;fill-rule:evenodd;stroke:#7F4C19;stroke-width:2.0px;stroke-linecap:butt;stroke-linejoin:miter;stroke-opacity:1\"/>\n<path d=\"M 466.9,66.2 L 468.2,65.4 L 469.4,66.2\" style=\"fill:none;stroke:#000000;stroke-width:2.0px;stroke-linecap:butt;stroke-linejoin:miter;stroke-opacity:1;\"/>\n<path d=\"M 518.7,66.2 L 520.0,65.4 L 520.5,65.7\" style=\"fill:none;stroke:#000000;stroke-width:2.0px;stroke-linecap:butt;stroke-linejoin:miter;stroke-opacity:1;\"/>\n<path class=\"atom-4\" d=\"M 542.0 80.4 Q 542.0 78.4, 543.0 77.2 Q 544.0 76.1, 545.9 76.1 Q 547.8 76.1, 548.8 77.2 Q 549.8 78.4, 549.8 80.4 Q 549.8 82.5, 548.8 83.7 Q 547.8 84.8, 545.9 84.8 Q 544.1 84.8, 543.0 83.7 Q 542.0 82.5, 542.0 80.4 M 545.9 83.9 Q 547.2 83.9, 547.9 83.0 Q 548.6 82.1, 548.6 80.4 Q 548.6 78.8, 547.9 77.9 Q 547.2 77.1, 545.9 77.1 Q 544.6 77.1, 543.9 77.9 Q 543.2 78.7, 543.2 80.4 Q 543.2 82.1, 543.9 83.0 Q 544.6 83.9, 545.9 83.9 \" fill=\"#FF0000\"/>\n<path class=\"atom-4\" d=\"M 551.1 76.2 L 552.3 76.2 L 552.3 79.8 L 556.6 79.8 L 556.6 76.2 L 557.8 76.2 L 557.8 84.7 L 556.6 84.7 L 556.6 80.8 L 552.3 80.8 L 552.3 84.7 L 551.1 84.7 L 551.1 76.2 \" fill=\"#FF0000\"/>\n<path class=\"atom-5\" d=\"M 495.3 110.1 Q 496.1 110.3, 496.5 110.8 Q 497.0 111.3, 497.0 112.1 Q 497.0 113.2, 496.2 113.9 Q 495.5 114.6, 494.0 114.6 L 491.2 114.6 L 491.2 106.1 L 493.7 106.1 Q 495.1 106.1, 495.9 106.7 Q 496.6 107.3, 496.6 108.3 Q 496.6 109.6, 495.3 110.1 M 492.3 107.1 L 492.3 109.7 L 493.7 109.7 Q 494.5 109.7, 495.0 109.4 Q 495.4 109.0, 495.4 108.3 Q 495.4 107.1, 493.7 107.1 L 492.3 107.1 M 494.0 113.6 Q 494.9 113.6, 495.3 113.2 Q 495.8 112.8, 495.8 112.1 Q 495.8 111.4, 495.3 111.0 Q 494.8 110.7, 493.9 110.7 L 492.3 110.7 L 492.3 113.6 L 494.0 113.6 \" fill=\"#7F4C19\"/>\n<path class=\"atom-5\" d=\"M 498.9 108.4 L 499.0 109.3 Q 499.7 108.3, 500.7 108.3 Q 501.1 108.3, 501.5 108.4 L 501.3 109.4 Q 500.8 109.3, 500.5 109.3 Q 500.0 109.3, 499.7 109.5 Q 499.4 109.7, 499.1 110.2 L 499.1 114.6 L 498.0 114.6 L 498.0 108.4 L 498.9 108.4 \" fill=\"#7F4C19\"/>\n<path class=\"legend\" d=\"M 464.9 186.5 Q 464.9 183.9, 466.1 182.5 Q 467.4 181.1, 469.7 181.1 Q 471.9 181.1, 473.0 182.6 L 472.0 183.4 Q 471.2 182.3, 469.7 182.3 Q 468.1 182.3, 467.3 183.4 Q 466.4 184.5, 466.4 186.5 Q 466.4 188.5, 467.3 189.6 Q 468.2 190.7, 469.9 190.7 Q 471.0 190.7, 472.4 190.0 L 472.8 191.1 Q 472.2 191.4, 471.4 191.6 Q 470.6 191.8, 469.7 191.8 Q 467.4 191.8, 466.1 190.5 Q 464.9 189.1, 464.9 186.5 \" fill=\"#000000\"/>\n<path class=\"legend\" d=\"M 474.3 186.5 Q 474.3 183.9, 475.5 182.5 Q 476.7 181.1, 479.0 181.1 Q 481.2 181.1, 482.3 182.6 L 481.4 183.4 Q 480.5 182.3, 479.0 182.3 Q 477.4 182.3, 476.6 183.4 Q 475.8 184.5, 475.8 186.5 Q 475.8 188.5, 476.6 189.6 Q 477.5 190.7, 479.2 190.7 Q 480.3 190.7, 481.7 190.0 L 482.1 191.1 Q 481.6 191.4, 480.7 191.6 Q 479.9 191.8, 479.0 191.8 Q 476.7 191.8, 475.5 190.5 Q 474.3 189.1, 474.3 186.5 \" fill=\"#000000\"/>\n<path class=\"legend\" d=\"M 483.6 186.5 Q 483.6 183.9, 484.8 182.5 Q 486.0 181.1, 488.4 181.1 Q 490.5 181.1, 491.7 182.6 L 490.7 183.4 Q 489.9 182.3, 488.4 182.3 Q 486.8 182.3, 485.9 183.4 Q 485.1 184.5, 485.1 186.5 Q 485.1 188.5, 486.0 189.6 Q 486.8 190.7, 488.5 190.7 Q 489.7 190.7, 491.0 190.0 L 491.4 191.1 Q 490.9 191.4, 490.1 191.6 Q 489.2 191.8, 488.3 191.8 Q 486.0 191.8, 484.8 190.5 Q 483.6 189.1, 483.6 186.5 \" fill=\"#000000\"/>\n<path class=\"legend\" d=\"M 492.9 187.5 Q 492.9 185.4, 493.5 183.6 Q 494.2 181.9, 495.4 180.0 L 496.2 180.5 Q 495.2 182.3, 494.7 183.9 Q 494.3 185.5, 494.3 187.5 Q 494.3 189.5, 494.7 191.1 Q 495.2 192.6, 496.2 194.5 L 495.4 195.0 Q 494.2 193.1, 493.5 191.4 Q 492.9 189.6, 492.9 187.5 \" fill=\"#000000\"/>\n<path class=\"legend\" d=\"M 497.2 186.5 Q 497.2 183.9, 498.4 182.5 Q 499.7 181.1, 502.0 181.1 Q 504.1 181.1, 505.3 182.6 L 504.3 183.4 Q 503.5 182.3, 502.0 182.3 Q 500.4 182.3, 499.6 183.4 Q 498.7 184.5, 498.7 186.5 Q 498.7 188.5, 499.6 189.6 Q 500.5 190.7, 502.2 190.7 Q 503.3 190.7, 504.7 190.0 L 505.1 191.1 Q 504.5 191.4, 503.7 191.6 Q 502.9 191.8, 501.9 191.8 Q 499.7 191.8, 498.4 190.5 Q 497.2 189.1, 497.2 186.5 \" fill=\"#000000\"/>\n<path class=\"legend\" d=\"M 506.6 186.4 Q 506.6 183.9, 507.8 182.5 Q 509.0 181.1, 511.4 181.1 Q 513.7 181.1, 514.9 182.5 Q 516.2 183.9, 516.2 186.4 Q 516.2 189.0, 514.9 190.4 Q 513.7 191.9, 511.4 191.9 Q 509.1 191.9, 507.8 190.4 Q 506.6 189.0, 506.6 186.4 M 511.4 190.7 Q 513.0 190.7, 513.8 189.6 Q 514.7 188.6, 514.7 186.4 Q 514.7 184.4, 513.8 183.4 Q 513.0 182.3, 511.4 182.3 Q 509.8 182.3, 508.9 183.3 Q 508.0 184.4, 508.0 186.4 Q 508.0 188.6, 508.9 189.6 Q 509.8 190.7, 511.4 190.7 \" fill=\"#000000\"/>\n<path class=\"legend\" d=\"M 520.8 187.5 Q 520.8 189.6, 520.2 191.4 Q 519.6 193.1, 518.4 195.0 L 517.6 194.5 Q 518.5 192.6, 519.0 191.1 Q 519.5 189.5, 519.5 187.5 Q 519.5 185.5, 519.0 183.9 Q 518.5 182.3, 517.6 180.5 L 518.4 180.0 Q 519.6 181.9, 520.2 183.6 Q 520.8 185.4, 520.8 187.5 \" fill=\"#000000\"/>\n<path class=\"legend\" d=\"M 527.3 186.2 Q 528.3 186.5, 528.8 187.1 Q 529.4 187.7, 529.4 188.6 Q 529.4 190.1, 528.4 190.9 Q 527.5 191.7, 525.8 191.7 L 522.2 191.7 L 522.2 181.2 L 525.3 181.2 Q 527.1 181.2, 528.0 182.0 Q 528.9 182.7, 528.9 184.0 Q 528.9 185.6, 527.3 186.2 M 523.6 182.4 L 523.6 185.7 L 525.3 185.7 Q 526.4 185.7, 526.9 185.3 Q 527.4 184.9, 527.4 184.0 Q 527.4 182.4, 525.3 182.4 L 523.6 182.4 M 525.8 190.5 Q 526.8 190.5, 527.3 190.0 Q 527.9 189.6, 527.9 188.6 Q 527.9 187.8, 527.3 187.3 Q 526.7 186.9, 525.5 186.9 L 523.6 186.9 L 523.6 190.5 L 525.8 190.5 \" fill=\"#000000\"/>\n<path class=\"legend\" d=\"M 531.8 184.1 L 532.0 185.2 Q 532.8 184.0, 534.1 184.0 Q 534.5 184.0, 535.1 184.1 L 534.8 185.4 Q 534.2 185.2, 533.9 185.2 Q 533.2 185.2, 532.8 185.5 Q 532.4 185.7, 532.1 186.3 L 532.1 191.7 L 530.7 191.7 L 530.7 184.1 L 531.8 184.1 \" fill=\"#000000\"/>\n<path class=\"bond-0 atom-0 atom-1\" d=\"M 626.7,95.7 L 644.2,85.6\" style=\"fill:none;fill-rule:evenodd;stroke:#000000;stroke-width:2.0px;stroke-linecap:butt;stroke-linejoin:miter;stroke-opacity:1\"/>\n<path class=\"bond-1 atom-1 atom-2\" d=\"M 652.7,85.6 L 662.8,91.5\" style=\"fill:none;fill-rule:evenodd;stroke:#000000;stroke-width:2.0px;stroke-linecap:butt;stroke-linejoin:miter;stroke-opacity:1\"/>\n<path class=\"bond-2 atom-2 atom-3\" d=\"M 678.6,95.7 L 696.0,85.6\" style=\"fill:none;fill-rule:evenodd;stroke:#000000;stroke-width:2.0px;stroke-linecap:butt;stroke-linejoin:miter;stroke-opacity:1\"/>\n<path class=\"bond-3 atom-3 atom-4\" d=\"M 704.5,85.6 L 714.6,91.5\" style=\"fill:none;fill-rule:evenodd;stroke:#000000;stroke-width:2.0px;stroke-linecap:butt;stroke-linejoin:miter;stroke-opacity:1\"/>\n<path class=\"bond-4 atom-4 atom-5\" d=\"M 730.4,95.7 L 747.8,85.6\" style=\"fill:none;fill-rule:evenodd;stroke:#000000;stroke-width:2.0px;stroke-linecap:butt;stroke-linejoin:miter;stroke-opacity:1\"/>\n<path class=\"bond-5 atom-5 atom-6\" d=\"M 756.4,85.6 L 764.8,90.5\" style=\"fill:none;fill-rule:evenodd;stroke:#000000;stroke-width:2.0px;stroke-linecap:butt;stroke-linejoin:miter;stroke-opacity:1\"/>\n<path class=\"bond-5 atom-5 atom-6\" d=\"M 764.8,90.5 L 773.2,95.3\" style=\"fill:none;fill-rule:evenodd;stroke:#FF0000;stroke-width:2.0px;stroke-linecap:butt;stroke-linejoin:miter;stroke-opacity:1\"/>\n<path class=\"atom-0\" d=\"M 610.4 97.4 L 611.7 97.4 L 611.7 93.3 L 610.3 93.7 L 610.1 93.2 L 611.8 92.4 L 612.4 92.5 L 612.4 97.4 L 613.5 97.4 L 613.5 98.1 L 610.4 98.1 L 610.4 97.4 \" fill=\"#000000\"/>\n<path class=\"atom-0\" d=\"M 617.1 95.1 Q 617.6 95.3, 617.9 95.6 Q 618.2 96.0, 618.2 96.5 Q 618.2 97.0, 617.9 97.4 Q 617.7 97.8, 617.3 98.0 Q 616.8 98.2, 616.3 98.2 Q 615.7 98.2, 615.2 98.0 Q 614.8 97.7, 614.4 97.3 L 614.9 96.9 Q 615.2 97.2, 615.5 97.4 Q 615.8 97.5, 616.3 97.5 Q 616.8 97.5, 617.1 97.3 Q 617.4 97.0, 617.4 96.5 Q 617.4 96.0, 617.1 95.7 Q 616.7 95.5, 616.1 95.5 L 615.6 95.5 L 615.6 94.9 L 616.0 94.9 Q 616.6 94.9, 616.9 94.6 Q 617.3 94.3, 617.3 93.8 Q 617.3 93.5, 617.0 93.3 Q 616.7 93.1, 616.3 93.1 Q 615.8 93.1, 615.5 93.2 Q 615.2 93.4, 615.0 93.8 L 614.5 93.5 Q 614.7 93.0, 615.1 92.7 Q 615.6 92.4, 616.3 92.4 Q 617.1 92.4, 617.6 92.8 Q 618.1 93.2, 618.1 93.8 Q 618.1 94.3, 617.8 94.6 Q 617.6 94.9, 617.1 95.1 \" fill=\"#000000\"/>\n<path class=\"atom-0\" d=\"M 619.2 98.2 Q 619.2 96.1, 620.2 95.0 Q 621.2 93.8, 623.1 93.8 Q 624.8 93.8, 625.8 95.1 L 625.0 95.7 Q 624.3 94.8, 623.1 94.8 Q 621.8 94.8, 621.1 95.7 Q 620.4 96.5, 620.4 98.2 Q 620.4 99.8, 621.1 100.7 Q 621.8 101.6, 623.2 101.6 Q 624.1 101.6, 625.2 101.0 L 625.6 101.9 Q 625.1 102.2, 624.4 102.4 Q 623.8 102.5, 623.0 102.5 Q 621.2 102.5, 620.2 101.4 Q 619.2 100.3, 619.2 98.2 \" fill=\"#000000\"/>\n<path class=\"atom-1\" d=\"M 636.4 82.5 L 637.6 82.5 L 637.6 78.3 L 636.2 78.7 L 636.0 78.2 L 637.8 77.5 L 638.3 77.6 L 638.3 82.5 L 639.4 82.5 L 639.4 83.1 L 636.4 83.1 L 636.4 82.5 \" fill=\"#000000\"/>\n<path class=\"atom-1\" d=\"M 643.0 80.2 Q 643.6 80.3, 643.8 80.7 Q 644.1 81.0, 644.1 81.6 Q 644.1 82.1, 643.9 82.4 Q 643.6 82.8, 643.2 83.0 Q 642.8 83.2, 642.2 83.2 Q 641.6 83.2, 641.1 83.0 Q 640.7 82.8, 640.3 82.3 L 640.8 81.9 Q 641.1 82.3, 641.4 82.4 Q 641.7 82.6, 642.2 82.6 Q 642.7 82.6, 643.0 82.3 Q 643.3 82.0, 643.3 81.6 Q 643.3 81.0, 643.0 80.7 Q 642.7 80.5, 642.0 80.5 L 641.6 80.5 L 641.6 79.9 L 641.9 79.9 Q 642.5 79.9, 642.9 79.6 Q 643.2 79.4, 643.2 78.9 Q 643.2 78.5, 642.9 78.3 Q 642.6 78.1, 642.2 78.1 Q 641.7 78.1, 641.4 78.2 Q 641.1 78.4, 640.9 78.8 L 640.4 78.5 Q 640.6 78.1, 641.1 77.8 Q 641.5 77.5, 642.2 77.5 Q 643.0 77.5, 643.5 77.8 Q 644.0 78.2, 644.0 78.9 Q 644.0 79.3, 643.7 79.7 Q 643.5 80.0, 643.0 80.2 \" fill=\"#000000\"/>\n<path class=\"atom-1\" d=\"M 645.1 83.2 Q 645.1 81.1, 646.1 80.0 Q 647.1 78.9, 649.0 78.9 Q 650.7 78.9, 651.7 80.1 L 650.9 80.8 Q 650.2 79.9, 649.0 79.9 Q 647.7 79.9, 647.0 80.7 Q 646.4 81.6, 646.4 83.2 Q 646.4 84.9, 647.1 85.7 Q 647.8 86.6, 649.1 86.6 Q 650.1 86.6, 651.2 86.0 L 651.5 86.9 Q 651.0 87.2, 650.4 87.4 Q 649.7 87.6, 649.0 87.6 Q 647.1 87.6, 646.1 86.4 Q 645.1 85.3, 645.1 83.2 \" fill=\"#000000\"/>\n<path class=\"atom-2\" d=\"M 662.3 97.4 L 663.5 97.4 L 663.5 93.3 L 662.2 93.7 L 662.0 93.2 L 663.7 92.4 L 664.2 92.5 L 664.2 97.4 L 665.3 97.4 L 665.3 98.1 L 662.3 98.1 L 662.3 97.4 \" fill=\"#000000\"/>\n<path class=\"atom-2\" d=\"M 668.9 95.1 Q 669.5 95.3, 669.8 95.6 Q 670.0 96.0, 670.0 96.5 Q 670.0 97.0, 669.8 97.4 Q 669.5 97.8, 669.1 98.0 Q 668.7 98.2, 668.1 98.2 Q 667.5 98.2, 667.1 98.0 Q 666.6 97.7, 666.3 97.3 L 666.7 96.9 Q 667.1 97.2, 667.3 97.4 Q 667.6 97.5, 668.1 97.5 Q 668.6 97.5, 668.9 97.3 Q 669.2 97.0, 669.2 96.5 Q 669.2 96.0, 668.9 95.7 Q 668.6 95.5, 667.9 95.5 L 667.5 95.5 L 667.5 94.9 L 667.9 94.9 Q 668.5 94.9, 668.8 94.6 Q 669.1 94.3, 669.1 93.8 Q 669.1 93.5, 668.8 93.3 Q 668.6 93.1, 668.1 93.1 Q 667.6 93.1, 667.4 93.2 Q 667.1 93.4, 666.9 93.8 L 666.3 93.5 Q 666.5 93.0, 667.0 92.7 Q 667.5 92.4, 668.1 92.4 Q 668.9 92.4, 669.4 92.8 Q 669.9 93.2, 669.9 93.8 Q 669.9 94.3, 669.7 94.6 Q 669.4 94.9, 668.9 95.1 \" fill=\"#000000\"/>\n<path class=\"atom-2\" d=\"M 671.1 98.2 Q 671.1 96.1, 672.0 95.0 Q 673.0 93.8, 674.9 93.8 Q 676.7 93.8, 677.6 95.1 L 676.8 95.7 Q 676.1 94.8, 674.9 94.8 Q 673.6 94.8, 673.0 95.7 Q 672.3 96.5, 672.3 98.2 Q 672.3 99.8, 673.0 100.7 Q 673.7 101.6, 675.1 101.6 Q 676.0 101.6, 677.1 101.0 L 677.4 101.9 Q 677.0 102.2, 676.3 102.4 Q 675.6 102.5, 674.9 102.5 Q 673.0 102.5, 672.0 101.4 Q 671.1 100.3, 671.1 98.2 \" fill=\"#000000\"/>\n<path class=\"atom-3\" d=\"M 688.2 82.5 L 689.4 82.5 L 689.4 78.3 L 688.1 78.7 L 687.9 78.2 L 689.6 77.5 L 690.2 77.6 L 690.2 82.5 L 691.3 82.5 L 691.3 83.1 L 688.2 83.1 L 688.2 82.5 \" fill=\"#000000\"/>\n<path class=\"atom-3\" d=\"M 694.9 80.2 Q 695.4 80.3, 695.7 80.7 Q 695.9 81.0, 695.9 81.6 Q 695.9 82.1, 695.7 82.4 Q 695.5 82.8, 695.0 83.0 Q 694.6 83.2, 694.0 83.2 Q 693.4 83.2, 693.0 83.0 Q 692.5 82.8, 692.2 82.3 L 692.6 81.9 Q 693.0 82.3, 693.3 82.4 Q 693.6 82.6, 694.0 82.6 Q 694.5 82.6, 694.8 82.3 Q 695.2 82.0, 695.2 81.6 Q 695.2 81.0, 694.8 80.7 Q 694.5 80.5, 693.8 80.5 L 693.4 80.5 L 693.4 79.9 L 693.8 79.9 Q 694.4 79.9, 694.7 79.6 Q 695.0 79.4, 695.0 78.9 Q 695.0 78.5, 694.8 78.3 Q 694.5 78.1, 694.0 78.1 Q 693.6 78.1, 693.3 78.2 Q 693.0 78.4, 692.8 78.8 L 692.2 78.5 Q 692.4 78.1, 692.9 77.8 Q 693.4 77.5, 694.0 77.5 Q 694.9 77.5, 695.3 77.8 Q 695.8 78.2, 695.8 78.9 Q 695.8 79.3, 695.6 79.7 Q 695.3 80.0, 694.9 80.2 \" fill=\"#000000\"/>\n<path class=\"atom-3\" d=\"M 697.0 83.2 Q 697.0 81.1, 698.0 80.0 Q 699.0 78.9, 700.8 78.9 Q 702.6 78.9, 703.5 80.1 L 702.7 80.8 Q 702.1 79.9, 700.8 79.9 Q 699.6 79.9, 698.9 80.7 Q 698.2 81.6, 698.2 83.2 Q 698.2 84.9, 698.9 85.7 Q 699.6 86.6, 701.0 86.6 Q 701.9 86.6, 703.0 86.0 L 703.3 86.9 Q 702.9 87.2, 702.2 87.4 Q 701.6 87.6, 700.8 87.6 Q 699.0 87.6, 698.0 86.4 Q 697.0 85.3, 697.0 83.2 \" fill=\"#000000\"/>\n<path class=\"atom-4\" d=\"M 714.1 97.4 L 715.4 97.4 L 715.4 93.3 L 714.0 93.7 L 713.8 93.2 L 715.5 92.4 L 716.1 92.5 L 716.1 97.4 L 717.2 97.4 L 717.2 98.1 L 714.1 98.1 L 714.1 97.4 \" fill=\"#000000\"/>\n<path class=\"atom-4\" d=\"M 720.8 95.1 Q 721.3 95.3, 721.6 95.6 Q 721.9 96.0, 721.9 96.5 Q 721.9 97.0, 721.6 97.4 Q 721.4 97.8, 721.0 98.0 Q 720.5 98.2, 720.0 98.2 Q 719.4 98.2, 718.9 98.0 Q 718.5 97.7, 718.1 97.3 L 718.6 96.9 Q 718.9 97.2, 719.2 97.4 Q 719.5 97.5, 720.0 97.5 Q 720.5 97.5, 720.8 97.3 Q 721.1 97.0, 721.1 96.5 Q 721.1 96.0, 720.8 95.7 Q 720.4 95.5, 719.8 95.5 L 719.3 95.5 L 719.3 94.9 L 719.7 94.9 Q 720.3 94.9, 720.6 94.6 Q 721.0 94.3, 721.0 93.8 Q 721.0 93.5, 720.7 93.3 Q 720.4 93.1, 720.0 93.1 Q 719.5 93.1, 719.2 93.2 Q 718.9 93.4, 718.7 93.8 L 718.2 93.5 Q 718.4 93.0, 718.8 92.7 Q 719.3 92.4, 720.0 92.4 Q 720.8 92.4, 721.3 92.8 Q 721.8 93.2, 721.8 93.8 Q 721.8 94.3, 721.5 94.6 Q 721.3 94.9, 720.8 95.1 \" fill=\"#000000\"/>\n<path class=\"atom-4\" d=\"M 722.9 98.2 Q 722.9 96.1, 723.9 95.0 Q 724.9 93.8, 726.8 93.8 Q 728.5 93.8, 729.5 95.1 L 728.7 95.7 Q 728.0 94.8, 726.8 94.8 Q 725.5 94.8, 724.8 95.7 Q 724.1 96.5, 724.1 98.2 Q 724.1 99.8, 724.8 100.7 Q 725.5 101.6, 726.9 101.6 Q 727.8 101.6, 728.9 101.0 L 729.3 101.9 Q 728.8 102.2, 728.1 102.4 Q 727.5 102.5, 726.7 102.5 Q 724.9 102.5, 723.9 101.4 Q 722.9 100.3, 722.9 98.2 \" fill=\"#000000\"/>\n<path class=\"atom-5\" d=\"M 740.1 82.5 L 741.3 82.5 L 741.3 78.3 L 739.9 78.7 L 739.7 78.2 L 741.5 77.5 L 742.0 77.6 L 742.0 82.5 L 743.1 82.5 L 743.1 83.1 L 740.1 83.1 L 740.1 82.5 \" fill=\"#000000\"/>\n<path class=\"atom-5\" d=\"M 746.7 80.2 Q 747.3 80.3, 747.5 80.7 Q 747.8 81.0, 747.8 81.6 Q 747.8 82.1, 747.6 82.4 Q 747.3 82.8, 746.9 83.0 Q 746.4 83.2, 745.9 83.2 Q 745.3 83.2, 744.8 83.0 Q 744.4 82.8, 744.0 82.3 L 744.5 81.9 Q 744.8 82.3, 745.1 82.4 Q 745.4 82.6, 745.9 82.6 Q 746.4 82.6, 746.7 82.3 Q 747.0 82.0, 747.0 81.6 Q 747.0 81.0, 746.7 80.7 Q 746.4 80.5, 745.7 80.5 L 745.3 80.5 L 745.3 79.9 L 745.6 79.9 Q 746.2 79.9, 746.6 79.6 Q 746.9 79.4, 746.9 78.9 Q 746.9 78.5, 746.6 78.3 Q 746.3 78.1, 745.9 78.1 Q 745.4 78.1, 745.1 78.2 Q 744.8 78.4, 744.6 78.8 L 744.1 78.5 Q 744.3 78.1, 744.8 77.8 Q 745.2 77.5, 745.9 77.5 Q 746.7 77.5, 747.2 77.8 Q 747.7 78.2, 747.7 78.9 Q 747.7 79.3, 747.4 79.7 Q 747.2 80.0, 746.7 80.2 \" fill=\"#000000\"/>\n<path class=\"atom-5\" d=\"M 748.8 83.2 Q 748.8 81.1, 749.8 80.0 Q 750.8 78.9, 752.7 78.9 Q 754.4 78.9, 755.4 80.1 L 754.6 80.8 Q 753.9 79.9, 752.7 79.9 Q 751.4 79.9, 750.7 80.7 Q 750.1 81.6, 750.1 83.2 Q 750.1 84.9, 750.8 85.7 Q 751.5 86.6, 752.8 86.6 Q 753.8 86.6, 754.8 86.0 L 755.2 86.9 Q 754.7 87.2, 754.1 87.4 Q 753.4 87.6, 752.7 87.6 Q 750.8 87.6, 749.8 86.4 Q 748.8 85.3, 748.8 83.2 \" fill=\"#000000\"/>\n<path class=\"atom-6\" d=\"M 774.1 98.2 Q 774.1 96.1, 775.1 95.0 Q 776.2 93.8, 778.0 93.8 Q 779.9 93.8, 780.9 95.0 Q 781.9 96.1, 781.9 98.2 Q 781.9 100.2, 780.9 101.4 Q 779.9 102.5, 778.0 102.5 Q 776.2 102.5, 775.1 101.4 Q 774.1 100.2, 774.1 98.2 M 778.0 101.6 Q 779.3 101.6, 780.0 100.7 Q 780.7 99.9, 780.7 98.2 Q 780.7 96.5, 780.0 95.7 Q 779.3 94.8, 778.0 94.8 Q 776.7 94.8, 776.0 95.6 Q 775.3 96.5, 775.3 98.2 Q 775.3 99.9, 776.0 100.7 Q 776.7 101.6, 778.0 101.6 \" fill=\"#FF0000\"/>\n<path class=\"atom-6\" d=\"M 783.2 93.9 L 784.4 93.9 L 784.4 97.5 L 788.7 97.5 L 788.7 93.9 L 789.9 93.9 L 789.9 102.4 L 788.7 102.4 L 788.7 98.5 L 784.4 98.5 L 784.4 102.4 L 783.2 102.4 L 783.2 93.9 \" fill=\"#FF0000\"/>\n<path class=\"legend\" d=\"M 600.0 186.3 L 601.9 186.3 L 601.9 186.9 L 600.8 186.9 L 600.8 194.4 L 601.9 194.4 L 601.9 195.0 L 600.0 195.0 L 600.0 186.3 \" fill=\"#000000\"/>\n<path class=\"legend\" d=\"M 602.8 192.5 L 604.2 192.5 L 604.2 187.8 L 602.7 188.3 L 602.5 187.7 L 604.4 186.8 L 605.1 187.0 L 605.1 192.5 L 606.3 192.5 L 606.3 193.3 L 602.8 193.3 L 602.8 192.5 \" fill=\"#000000\"/>\n<path class=\"legend\" d=\"M 610.1 189.9 Q 610.8 190.1, 611.1 190.5 Q 611.4 190.9, 611.4 191.5 Q 611.4 192.1, 611.1 192.5 Q 610.8 192.9, 610.3 193.1 Q 609.8 193.4, 609.2 193.4 Q 608.5 193.4, 608.0 193.1 Q 607.5 192.9, 607.1 192.4 L 607.6 191.9 Q 608.0 192.3, 608.3 192.5 Q 608.7 192.6, 609.2 192.6 Q 609.8 192.6, 610.1 192.3 Q 610.5 192.0, 610.5 191.5 Q 610.5 190.9, 610.1 190.6 Q 609.7 190.3, 609.0 190.3 L 608.5 190.3 L 608.5 189.6 L 608.9 189.6 Q 609.6 189.6, 610.0 189.3 Q 610.3 189.0, 610.3 188.4 Q 610.3 188.0, 610.0 187.8 Q 609.7 187.5, 609.2 187.5 Q 608.7 187.5, 608.3 187.7 Q 608.0 187.9, 607.8 188.4 L 607.1 188.1 Q 607.4 187.5, 607.9 187.2 Q 608.4 186.8, 609.2 186.8 Q 610.1 186.8, 610.7 187.3 Q 611.2 187.7, 611.2 188.4 Q 611.2 189.0, 611.0 189.3 Q 610.7 189.7, 610.1 189.9 \" fill=\"#000000\"/>\n<path class=\"legend\" d=\"M 612.3 190.1 Q 612.3 188.5, 613.0 187.6 Q 613.8 186.8, 615.2 186.8 Q 616.5 186.8, 617.2 187.7 L 616.6 188.2 Q 616.1 187.5, 615.2 187.5 Q 614.2 187.5, 613.7 188.2 Q 613.2 188.8, 613.2 190.1 Q 613.2 191.3, 613.7 192.0 Q 614.3 192.6, 615.3 192.6 Q 616.0 192.6, 616.8 192.2 L 617.1 192.9 Q 616.7 193.1, 616.2 193.2 Q 615.7 193.3, 615.2 193.3 Q 613.8 193.3, 613.0 192.5 Q 612.3 191.6, 612.3 190.1 \" fill=\"#000000\"/>\n<path class=\"legend\" d=\"M 617.9 186.9 L 618.8 186.9 L 618.8 189.6 L 622.1 189.6 L 622.1 186.9 L 622.9 186.9 L 622.9 193.3 L 622.1 193.3 L 622.1 190.3 L 618.8 190.3 L 618.8 193.3 L 617.9 193.3 L 617.9 186.9 \" fill=\"#000000\"/>\n<path class=\"legend\" d=\"M 627.1 189.9 Q 627.8 190.1, 628.1 190.5 Q 628.4 190.9, 628.4 191.5 Q 628.4 192.1, 628.1 192.5 Q 627.8 192.9, 627.3 193.1 Q 626.8 193.4, 626.2 193.4 Q 625.5 193.4, 625.0 193.1 Q 624.5 192.9, 624.1 192.4 L 624.6 191.9 Q 625.0 192.3, 625.3 192.5 Q 625.7 192.6, 626.2 192.6 Q 626.8 192.6, 627.1 192.3 Q 627.5 192.0, 627.5 191.5 Q 627.5 190.9, 627.1 190.6 Q 626.7 190.3, 626.0 190.3 L 625.5 190.3 L 625.5 189.6 L 625.9 189.6 Q 626.6 189.6, 627.0 189.3 Q 627.3 189.0, 627.3 188.4 Q 627.3 188.0, 627.0 187.8 Q 626.7 187.5, 626.2 187.5 Q 625.7 187.5, 625.3 187.7 Q 625.0 187.9, 624.8 188.4 L 624.1 188.1 Q 624.4 187.5, 624.9 187.2 Q 625.4 186.8, 626.2 186.8 Q 627.1 186.8, 627.7 187.3 Q 628.2 187.7, 628.2 188.4 Q 628.2 189.0, 628.0 189.3 Q 627.7 189.7, 627.1 189.9 \" fill=\"#000000\"/>\n<path class=\"legend\" d=\"M 631.2 186.3 L 631.2 195.0 L 629.3 195.0 L 629.3 194.4 L 630.4 194.4 L 630.4 186.9 L 629.3 186.9 L 629.3 186.3 L 631.2 186.3 \" fill=\"#000000\"/>\n<path class=\"legend\" d=\"M 632.3 186.3 L 634.3 186.3 L 634.3 186.9 L 633.1 186.9 L 633.1 194.4 L 634.3 194.4 L 634.3 195.0 L 632.3 195.0 L 632.3 186.3 \" fill=\"#000000\"/>\n<path class=\"legend\" d=\"M 635.2 192.5 L 636.6 192.5 L 636.6 187.8 L 635.0 188.3 L 634.8 187.7 L 636.8 186.8 L 637.4 187.0 L 637.4 192.5 L 638.7 192.5 L 638.7 193.3 L 635.2 193.3 L 635.2 192.5 \" fill=\"#000000\"/>\n<path class=\"legend\" d=\"M 642.5 189.9 Q 643.1 190.1, 643.4 190.5 Q 643.7 190.9, 643.7 191.5 Q 643.7 192.1, 643.4 192.5 Q 643.2 192.9, 642.7 193.1 Q 642.2 193.4, 641.5 193.4 Q 640.8 193.4, 640.3 193.1 Q 639.8 192.9, 639.4 192.4 L 639.9 191.9 Q 640.3 192.3, 640.7 192.5 Q 641.0 192.6, 641.5 192.6 Q 642.1 192.6, 642.5 192.3 Q 642.8 192.0, 642.8 191.5 Q 642.8 190.9, 642.4 190.6 Q 642.1 190.3, 641.3 190.3 L 640.8 190.3 L 640.8 189.6 L 641.2 189.6 Q 641.9 189.6, 642.3 189.3 Q 642.7 189.0, 642.7 188.4 Q 642.7 188.0, 642.4 187.8 Q 642.1 187.5, 641.5 187.5 Q 641.0 187.5, 640.7 187.7 Q 640.4 187.9, 640.1 188.4 L 639.5 188.1 Q 639.7 187.5, 640.2 187.2 Q 640.8 186.8, 641.5 186.8 Q 642.5 186.8, 643.0 187.3 Q 643.6 187.7, 643.6 188.4 Q 643.6 189.0, 643.3 189.3 Q 643.0 189.7, 642.5 189.9 \" fill=\"#000000\"/>\n<path class=\"legend\" d=\"M 644.6 190.1 Q 644.6 188.5, 645.4 187.6 Q 646.1 186.8, 647.5 186.8 Q 648.8 186.8, 649.5 187.7 L 649.0 188.2 Q 648.4 187.5, 647.5 187.5 Q 646.6 187.5, 646.0 188.2 Q 645.5 188.8, 645.5 190.1 Q 645.5 191.3, 646.1 192.0 Q 646.6 192.6, 647.6 192.6 Q 648.3 192.6, 649.1 192.2 L 649.4 192.9 Q 649.1 193.1, 648.6 193.2 Q 648.1 193.3, 647.5 193.3 Q 646.1 193.3, 645.4 192.5 Q 644.6 191.6, 644.6 190.1 \" fill=\"#000000\"/>\n<path class=\"legend\" d=\"M 650.3 186.9 L 651.1 186.9 L 651.1 189.6 L 654.4 189.6 L 654.4 186.9 L 655.3 186.9 L 655.3 193.3 L 654.4 193.3 L 654.4 190.3 L 651.1 190.3 L 651.1 193.3 L 650.3 193.3 L 650.3 186.9 \" fill=\"#000000\"/>\n<path class=\"legend\" d=\"M 656.4 188.1 Q 656.7 187.5, 657.2 187.2 Q 657.8 186.8, 658.6 186.8 Q 659.5 186.8, 660.1 187.3 Q 660.6 187.9, 660.6 188.8 Q 660.6 189.7, 659.9 190.6 Q 659.2 191.5, 657.8 192.5 L 660.7 192.5 L 660.7 193.3 L 656.4 193.3 L 656.4 192.7 Q 657.6 191.8, 658.3 191.2 Q 659.0 190.5, 659.4 190.0 Q 659.7 189.4, 659.7 188.8 Q 659.7 188.2, 659.4 187.9 Q 659.1 187.5, 658.6 187.5 Q 658.1 187.5, 657.7 187.7 Q 657.4 187.9, 657.1 188.4 L 656.4 188.1 \" fill=\"#000000\"/>\n<path class=\"legend\" d=\"M 663.6 186.3 L 663.6 195.0 L 661.6 195.0 L 661.6 194.4 L 662.8 194.4 L 662.8 186.9 L 661.6 186.9 L 661.6 186.3 L 663.6 186.3 \" fill=\"#000000\"/>\n<path class=\"legend\" d=\"M 664.7 186.3 L 666.6 186.3 L 666.6 186.9 L 665.5 186.9 L 665.5 194.4 L 666.6 194.4 L 666.6 195.0 L 664.7 195.0 L 664.7 186.3 \" fill=\"#000000\"/>\n<path class=\"legend\" d=\"M 667.5 192.5 L 668.9 192.5 L 668.9 187.8 L 667.4 188.3 L 667.2 187.7 L 669.1 186.8 L 669.8 187.0 L 669.8 192.5 L 671.0 192.5 L 671.0 193.3 L 667.5 193.3 L 667.5 192.5 \" fill=\"#000000\"/>\n<path class=\"legend\" d=\"M 674.8 189.9 Q 675.5 190.1, 675.8 190.5 Q 676.1 190.9, 676.1 191.5 Q 676.1 192.1, 675.8 192.5 Q 675.5 192.9, 675.0 193.1 Q 674.5 193.4, 673.9 193.4 Q 673.2 193.4, 672.7 193.1 Q 672.2 192.9, 671.8 192.4 L 672.3 191.9 Q 672.7 192.3, 673.0 192.5 Q 673.4 192.6, 673.9 192.6 Q 674.5 192.6, 674.8 192.3 Q 675.2 192.0, 675.2 191.5 Q 675.2 190.9, 674.8 190.6 Q 674.4 190.3, 673.7 190.3 L 673.2 190.3 L 673.2 189.6 L 673.6 189.6 Q 674.3 189.6, 674.7 189.3 Q 675.0 189.0, 675.0 188.4 Q 675.0 188.0, 674.7 187.8 Q 674.4 187.5, 673.9 187.5 Q 673.4 187.5, 673.0 187.7 Q 672.7 187.9, 672.5 188.4 L 671.8 188.1 Q 672.1 187.5, 672.6 187.2 Q 673.1 186.8, 673.9 186.8 Q 674.8 186.8, 675.4 187.3 Q 675.9 187.7, 675.9 188.4 Q 675.9 189.0, 675.7 189.3 Q 675.4 189.7, 674.8 189.9 \" fill=\"#000000\"/>\n<path class=\"legend\" d=\"M 677.0 190.1 Q 677.0 188.5, 677.7 187.6 Q 678.5 186.8, 679.9 186.8 Q 681.2 186.8, 681.9 187.7 L 681.3 188.2 Q 680.8 187.5, 679.9 187.5 Q 678.9 187.5, 678.4 188.2 Q 677.9 188.8, 677.9 190.1 Q 677.9 191.3, 678.4 192.0 Q 679.0 192.6, 680.0 192.6 Q 680.7 192.6, 681.5 192.2 L 681.8 192.9 Q 681.4 193.1, 680.9 193.2 Q 680.4 193.3, 679.9 193.3 Q 678.5 193.3, 677.7 192.5 Q 677.0 191.6, 677.0 190.1 \" fill=\"#000000\"/>\n<path class=\"legend\" d=\"M 682.6 186.9 L 683.5 186.9 L 683.5 189.6 L 686.8 189.6 L 686.8 186.9 L 687.6 186.9 L 687.6 193.3 L 686.8 193.3 L 686.8 190.3 L 683.5 190.3 L 683.5 193.3 L 682.6 193.3 L 682.6 186.9 \" fill=\"#000000\"/>\n<path class=\"legend\" d=\"M 688.8 188.1 Q 689.0 187.5, 689.6 187.2 Q 690.2 186.8, 690.9 186.8 Q 691.9 186.8, 692.4 187.3 Q 693.0 187.9, 693.0 188.8 Q 693.0 189.7, 692.3 190.6 Q 691.6 191.5, 690.1 192.5 L 693.1 192.5 L 693.1 193.3 L 688.8 193.3 L 688.8 192.7 Q 690.0 191.8, 690.7 191.2 Q 691.4 190.5, 691.7 190.0 Q 692.1 189.4, 692.1 188.8 Q 692.1 188.2, 691.8 187.9 Q 691.5 187.5, 690.9 187.5 Q 690.4 187.5, 690.1 187.7 Q 689.7 187.9, 689.5 188.4 L 688.8 188.1 \" fill=\"#000000\"/>\n<path class=\"legend\" d=\"M 695.9 186.3 L 695.9 195.0 L 694.0 195.0 L 694.0 194.4 L 695.2 194.4 L 695.2 186.9 L 694.0 186.9 L 694.0 186.3 L 695.9 186.3 \" fill=\"#000000\"/>\n<path class=\"legend\" d=\"M 697.1 186.3 L 699.0 186.3 L 699.0 186.9 L 697.8 186.9 L 697.8 194.4 L 699.0 194.4 L 699.0 195.0 L 697.1 195.0 L 697.1 186.3 \" fill=\"#000000\"/>\n<path class=\"legend\" d=\"M 699.9 192.5 L 701.3 192.5 L 701.3 187.8 L 699.7 188.3 L 699.5 187.7 L 701.5 186.8 L 702.1 187.0 L 702.1 192.5 L 703.4 192.5 L 703.4 193.3 L 699.9 193.3 L 699.9 192.5 \" fill=\"#000000\"/>\n<path class=\"legend\" d=\"M 707.2 189.9 Q 707.8 190.1, 708.1 190.5 Q 708.4 190.9, 708.4 191.5 Q 708.4 192.1, 708.2 192.5 Q 707.9 192.9, 707.4 193.1 Q 706.9 193.4, 706.3 193.4 Q 705.6 193.4, 705.1 193.1 Q 704.6 192.9, 704.1 192.4 L 704.7 191.9 Q 705.1 192.3, 705.4 192.5 Q 705.7 192.6, 706.3 192.6 Q 706.8 192.6, 707.2 192.3 Q 707.5 192.0, 707.5 191.5 Q 707.5 190.9, 707.2 190.6 Q 706.8 190.3, 706.0 190.3 L 705.6 190.3 L 705.6 189.6 L 706.0 189.6 Q 706.7 189.6, 707.0 189.3 Q 707.4 189.0, 707.4 188.4 Q 707.4 188.0, 707.1 187.8 Q 706.8 187.5, 706.3 187.5 Q 705.7 187.5, 705.4 187.7 Q 705.1 187.9, 704.8 188.4 L 704.2 188.1 Q 704.4 187.5, 705.0 187.2 Q 705.5 186.8, 706.3 186.8 Q 707.2 186.8, 707.8 187.3 Q 708.3 187.7, 708.3 188.4 Q 708.3 189.0, 708.0 189.3 Q 707.7 189.7, 707.2 189.9 \" fill=\"#000000\"/>\n<path class=\"legend\" d=\"M 709.3 190.1 Q 709.3 188.5, 710.1 187.6 Q 710.8 186.8, 712.2 186.8 Q 713.6 186.8, 714.3 187.7 L 713.7 188.2 Q 713.2 187.5, 712.2 187.5 Q 711.3 187.5, 710.8 188.2 Q 710.3 188.8, 710.3 190.1 Q 710.3 191.3, 710.8 192.0 Q 711.3 192.6, 712.3 192.6 Q 713.0 192.6, 713.9 192.2 L 714.1 192.9 Q 713.8 193.1, 713.3 193.2 Q 712.8 193.3, 712.2 193.3 Q 710.8 193.3, 710.1 192.5 Q 709.3 191.6, 709.3 190.1 \" fill=\"#000000\"/>\n<path class=\"legend\" d=\"M 715.0 186.9 L 715.9 186.9 L 715.9 189.6 L 719.1 189.6 L 719.1 186.9 L 720.0 186.9 L 720.0 193.3 L 719.1 193.3 L 719.1 190.3 L 715.9 190.3 L 715.9 193.3 L 715.0 193.3 L 715.0 186.9 \" fill=\"#000000\"/>\n<path class=\"legend\" d=\"M 721.2 188.1 Q 721.4 187.5, 722.0 187.2 Q 722.5 186.8, 723.3 186.8 Q 724.2 186.8, 724.8 187.3 Q 725.3 187.9, 725.3 188.8 Q 725.3 189.7, 724.6 190.6 Q 723.9 191.5, 722.5 192.5 L 725.4 192.5 L 725.4 193.3 L 721.1 193.3 L 721.1 192.7 Q 722.3 191.8, 723.0 191.2 Q 723.7 190.5, 724.1 190.0 Q 724.4 189.4, 724.4 188.8 Q 724.4 188.2, 724.1 187.9 Q 723.8 187.5, 723.3 187.5 Q 722.8 187.5, 722.4 187.7 Q 722.1 187.9, 721.8 188.4 L 721.2 188.1 \" fill=\"#000000\"/>\n<path class=\"legend\" d=\"M 728.3 186.3 L 728.3 195.0 L 726.4 195.0 L 726.4 194.4 L 727.5 194.4 L 727.5 186.9 L 726.4 186.9 L 726.4 186.3 L 728.3 186.3 \" fill=\"#000000\"/>\n<path class=\"legend\" d=\"M 729.4 186.3 L 731.3 186.3 L 731.3 186.9 L 730.2 186.9 L 730.2 194.4 L 731.3 194.4 L 731.3 195.0 L 729.4 195.0 L 729.4 186.3 \" fill=\"#000000\"/>\n<path class=\"legend\" d=\"M 732.3 192.5 L 733.6 192.5 L 733.6 187.8 L 732.1 188.3 L 731.9 187.7 L 733.9 186.8 L 734.5 187.0 L 734.5 192.5 L 735.7 192.5 L 735.7 193.3 L 732.3 193.3 L 732.3 192.5 \" fill=\"#000000\"/>\n<path class=\"legend\" d=\"M 739.6 189.9 Q 740.2 190.1, 740.5 190.5 Q 740.8 190.9, 740.8 191.5 Q 740.8 192.1, 740.5 192.5 Q 740.3 192.9, 739.8 193.1 Q 739.3 193.4, 738.6 193.4 Q 737.9 193.4, 737.4 193.1 Q 736.9 192.9, 736.5 192.4 L 737.0 191.9 Q 737.4 192.3, 737.7 192.5 Q 738.1 192.6, 738.6 192.6 Q 739.2 192.6, 739.5 192.3 Q 739.9 192.0, 739.9 191.5 Q 739.9 190.9, 739.5 190.6 Q 739.2 190.3, 738.4 190.3 L 737.9 190.3 L 737.9 189.6 L 738.3 189.6 Q 739.0 189.6, 739.4 189.3 Q 739.8 189.0, 739.8 188.4 Q 739.8 188.0, 739.5 187.8 Q 739.1 187.5, 738.6 187.5 Q 738.1 187.5, 737.8 187.7 Q 737.4 187.9, 737.2 188.4 L 736.6 188.1 Q 736.8 187.5, 737.3 187.2 Q 737.9 186.8, 738.6 186.8 Q 739.6 186.8, 740.1 187.3 Q 740.7 187.7, 740.7 188.4 Q 740.7 189.0, 740.4 189.3 Q 740.1 189.7, 739.6 189.9 \" fill=\"#000000\"/>\n<path class=\"legend\" d=\"M 741.7 190.1 Q 741.7 188.5, 742.4 187.6 Q 743.2 186.8, 744.6 186.8 Q 745.9 186.8, 746.6 187.7 L 746.0 188.2 Q 745.5 187.5, 744.6 187.5 Q 743.6 187.5, 743.1 188.2 Q 742.6 188.8, 742.6 190.1 Q 742.6 191.3, 743.1 192.0 Q 743.7 192.6, 744.7 192.6 Q 745.4 192.6, 746.2 192.2 L 746.5 192.9 Q 746.1 193.1, 745.6 193.2 Q 745.1 193.3, 744.6 193.3 Q 743.2 193.3, 742.4 192.5 Q 741.7 191.6, 741.7 190.1 \" fill=\"#000000\"/>\n<path class=\"legend\" d=\"M 747.4 186.9 L 748.2 186.9 L 748.2 189.6 L 751.5 189.6 L 751.5 186.9 L 752.4 186.9 L 752.4 193.3 L 751.5 193.3 L 751.5 190.3 L 748.2 190.3 L 748.2 193.3 L 747.4 193.3 L 747.4 186.9 \" fill=\"#000000\"/>\n<path class=\"legend\" d=\"M 753.5 188.1 Q 753.8 187.5, 754.3 187.2 Q 754.9 186.8, 755.6 186.8 Q 756.6 186.8, 757.2 187.3 Q 757.7 187.9, 757.7 188.8 Q 757.7 189.7, 757.0 190.6 Q 756.3 191.5, 754.9 192.5 L 757.8 192.5 L 757.8 193.3 L 753.5 193.3 L 753.5 192.7 Q 754.7 191.8, 755.4 191.2 Q 756.1 190.5, 756.4 190.0 Q 756.8 189.4, 756.8 188.8 Q 756.8 188.2, 756.5 187.9 Q 756.2 187.5, 755.6 187.5 Q 755.1 187.5, 754.8 187.7 Q 754.4 187.9, 754.2 188.4 L 753.5 188.1 \" fill=\"#000000\"/>\n<path class=\"legend\" d=\"M 760.6 186.3 L 760.6 195.0 L 758.7 195.0 L 758.7 194.4 L 759.9 194.4 L 759.9 186.9 L 758.7 186.9 L 758.7 186.3 L 760.6 186.3 \" fill=\"#000000\"/>\n<path class=\"legend\" d=\"M 761.8 186.3 L 763.7 186.3 L 763.7 186.9 L 762.5 186.9 L 762.5 194.4 L 763.7 194.4 L 763.7 195.0 L 761.8 195.0 L 761.8 186.3 \" fill=\"#000000\"/>\n<path class=\"legend\" d=\"M 764.6 192.5 L 766.0 192.5 L 766.0 187.8 L 764.5 188.3 L 764.3 187.7 L 766.2 186.8 L 766.9 187.0 L 766.9 192.5 L 768.1 192.5 L 768.1 193.3 L 764.6 193.3 L 764.6 192.5 \" fill=\"#000000\"/>\n<path class=\"legend\" d=\"M 771.9 189.9 Q 772.6 190.1, 772.8 190.5 Q 773.2 190.9, 773.2 191.5 Q 773.2 192.1, 772.9 192.5 Q 772.6 192.9, 772.1 193.1 Q 771.6 193.4, 771.0 193.4 Q 770.3 193.4, 769.8 193.1 Q 769.3 192.9, 768.9 192.4 L 769.4 191.9 Q 769.8 192.3, 770.1 192.5 Q 770.4 192.6, 771.0 192.6 Q 771.6 192.6, 771.9 192.3 Q 772.3 192.0, 772.3 191.5 Q 772.3 190.9, 771.9 190.6 Q 771.5 190.3, 770.7 190.3 L 770.3 190.3 L 770.3 189.6 L 770.7 189.6 Q 771.4 189.6, 771.7 189.3 Q 772.1 189.0, 772.1 188.4 Q 772.1 188.0, 771.8 187.8 Q 771.5 187.5, 771.0 187.5 Q 770.5 187.5, 770.1 187.7 Q 769.8 187.9, 769.5 188.4 L 768.9 188.1 Q 769.1 187.5, 769.7 187.2 Q 770.2 186.8, 771.0 186.8 Q 771.9 186.8, 772.5 187.3 Q 773.0 187.7, 773.0 188.4 Q 773.0 189.0, 772.7 189.3 Q 772.5 189.7, 771.9 189.9 \" fill=\"#000000\"/>\n<path class=\"legend\" d=\"M 774.1 190.1 Q 774.1 188.5, 774.8 187.6 Q 775.6 186.8, 777.0 186.8 Q 778.3 186.8, 779.0 187.7 L 778.4 188.2 Q 777.9 187.5, 777.0 187.5 Q 776.0 187.5, 775.5 188.2 Q 775.0 188.8, 775.0 190.1 Q 775.0 191.3, 775.5 192.0 Q 776.0 192.6, 777.1 192.6 Q 777.8 192.6, 778.6 192.2 L 778.8 192.9 Q 778.5 193.1, 778.0 193.2 Q 777.5 193.3, 776.9 193.3 Q 775.6 193.3, 774.8 192.5 Q 774.1 191.6, 774.1 190.1 \" fill=\"#000000\"/>\n<path class=\"legend\" d=\"M 779.7 186.9 L 780.6 186.9 L 780.6 189.6 L 783.9 189.6 L 783.9 186.9 L 784.7 186.9 L 784.7 193.3 L 783.9 193.3 L 783.9 190.3 L 780.6 190.3 L 780.6 193.3 L 779.7 193.3 L 779.7 186.9 \" fill=\"#000000\"/>\n<path class=\"legend\" d=\"M 785.9 188.1 Q 786.1 187.5, 786.7 187.2 Q 787.2 186.8, 788.0 186.8 Q 789.0 186.8, 789.5 187.3 Q 790.1 187.9, 790.1 188.8 Q 790.1 189.7, 789.3 190.6 Q 788.7 191.5, 787.2 192.5 L 790.2 192.5 L 790.2 193.3 L 785.9 193.3 L 785.9 192.7 Q 787.1 191.8, 787.8 191.2 Q 788.5 190.5, 788.8 190.0 Q 789.2 189.4, 789.2 188.8 Q 789.2 188.2, 788.8 187.9 Q 788.5 187.5, 788.0 187.5 Q 787.5 187.5, 787.2 187.7 Q 786.8 187.9, 786.6 188.4 L 785.9 188.1 \" fill=\"#000000\"/>\n<path class=\"legend\" d=\"M 793.0 186.3 L 793.0 195.0 L 791.1 195.0 L 791.1 194.4 L 792.2 194.4 L 792.2 186.9 L 791.1 186.9 L 791.1 186.3 L 793.0 186.3 \" fill=\"#000000\"/>\n<path class=\"legend\" d=\"M 794.1 190.1 Q 794.1 188.5, 794.9 187.7 Q 795.7 186.8, 797.1 186.8 Q 798.5 186.8, 799.2 187.7 Q 800.0 188.5, 800.0 190.1 Q 800.0 191.6, 799.2 192.5 Q 798.5 193.4, 797.1 193.4 Q 795.7 193.4, 794.9 192.5 Q 794.1 191.6, 794.1 190.1 M 797.1 192.6 Q 798.0 192.6, 798.6 192.0 Q 799.1 191.3, 799.1 190.1 Q 799.1 188.8, 798.6 188.2 Q 798.0 187.5, 797.1 187.5 Q 796.1 187.5, 795.6 188.2 Q 795.0 188.8, 795.0 190.1 Q 795.0 191.3, 795.6 192.0 Q 796.1 192.6, 797.1 192.6 \" fill=\"#000000\"/>\n<path class=\"bond-0 atom-0 atom-1\" d=\"M 14.3,295.4 L 40.2,280.4\" style=\"fill:none;fill-rule:evenodd;stroke:#000000;stroke-width:2.0px;stroke-linecap:butt;stroke-linejoin:miter;stroke-opacity:1\"/>\n<path class=\"bond-1 atom-1 atom-2\" d=\"M 40.2,280.4 L 66.1,295.4\" style=\"fill:none;fill-rule:evenodd;stroke:#000000;stroke-width:2.0px;stroke-linecap:butt;stroke-linejoin:miter;stroke-opacity:1\"/>\n<path class=\"bond-2 atom-2 atom-3\" d=\"M 66.1,295.4 L 76.7,289.3\" style=\"fill:none;fill-rule:evenodd;stroke:#000000;stroke-width:2.0px;stroke-linecap:butt;stroke-linejoin:miter;stroke-opacity:1\"/>\n<path class=\"bond-2 atom-2 atom-3\" d=\"M 76.7,289.3 L 87.2,283.2\" style=\"fill:none;fill-rule:evenodd;stroke:#FF0000;stroke-width:2.0px;stroke-linecap:butt;stroke-linejoin:miter;stroke-opacity:1\"/>\n<path class=\"bond-3 atom-3 atom-4\" d=\"M 96.9,283.2 L 107.5,289.3\" style=\"fill:none;fill-rule:evenodd;stroke:#FF0000;stroke-width:2.0px;stroke-linecap:butt;stroke-linejoin:miter;stroke-opacity:1\"/>\n<path class=\"bond-3 atom-3 atom-4\" d=\"M 107.5,289.3 L 118.0,295.4\" style=\"fill:none;fill-rule:evenodd;stroke:#000000;stroke-width:2.0px;stroke-linecap:butt;stroke-linejoin:miter;stroke-opacity:1\"/>\n<path class=\"bond-4 atom-4 atom-5\" d=\"M 118.0,295.4 L 143.9,280.4\" style=\"fill:none;fill-rule:evenodd;stroke:#000000;stroke-width:2.0px;stroke-linecap:butt;stroke-linejoin:miter;stroke-opacity:1\"/>\n<path class=\"bond-5 atom-5 atom-6\" d=\"M 143.9,280.4 L 155.0,286.8\" style=\"fill:none;fill-rule:evenodd;stroke:#000000;stroke-width:2.0px;stroke-linecap:butt;stroke-linejoin:miter;stroke-opacity:1\"/>\n<path class=\"bond-5 atom-5 atom-6\" d=\"M 155.0,286.8 L 166.1,293.3\" style=\"fill:none;fill-rule:evenodd;stroke:#FF7F00;stroke-width:2.0px;stroke-linecap:butt;stroke-linejoin:miter;stroke-opacity:1\"/>\n<path d=\"M 38.9,281.2 L 40.2,280.4 L 41.5,281.2\" style=\"fill:none;stroke:#000000;stroke-width:2.0px;stroke-linecap:butt;stroke-linejoin:miter;stroke-opacity:1;\"/>\n<path d=\"M 64.8,294.6 L 66.1,295.4 L 66.7,295.1\" style=\"fill:none;stroke:#000000;stroke-width:2.0px;stroke-linecap:butt;stroke-linejoin:miter;stroke-opacity:1;\"/>\n<path d=\"M 117.5,295.1 L 118.0,295.4 L 119.3,294.6\" style=\"fill:none;stroke:#000000;stroke-width:2.0px;stroke-linecap:butt;stroke-linejoin:miter;stroke-opacity:1;\"/>\n<path d=\"M 142.6,281.2 L 143.9,280.4 L 144.5,280.7\" style=\"fill:none;stroke:#000000;stroke-width:2.0px;stroke-linecap:butt;stroke-linejoin:miter;stroke-opacity:1;\"/>\n<path class=\"atom-3\" d=\"M 88.2 280.4 Q 88.2 278.4, 89.2 277.3 Q 90.2 276.1, 92.1 276.1 Q 93.9 276.1, 94.9 277.3 Q 96.0 278.4, 96.0 280.4 Q 96.0 282.5, 94.9 283.7 Q 93.9 284.8, 92.1 284.8 Q 90.2 284.8, 89.2 283.7 Q 88.2 282.5, 88.2 280.4 M 92.1 283.9 Q 93.4 283.9, 94.1 283.0 Q 94.8 282.1, 94.8 280.4 Q 94.8 278.8, 94.1 277.9 Q 93.4 277.1, 92.1 277.1 Q 90.8 277.1, 90.1 277.9 Q 89.4 278.8, 89.4 280.4 Q 89.4 282.2, 90.1 283.0 Q 90.8 283.9, 92.1 283.9 \" fill=\"#FF0000\"/>\n<path class=\"atom-6\" d=\"M 169.6 291.1 Q 171.1 291.1, 171.8 291.8 Q 172.5 292.5, 172.5 293.6 Q 172.5 294.8, 171.8 295.5 Q 171.0 296.1, 169.6 296.1 L 168.3 296.1 L 168.3 299.6 L 167.1 299.6 L 167.1 291.1 L 169.6 291.1 M 169.6 295.2 Q 170.5 295.2, 170.9 294.8 Q 171.3 294.4, 171.3 293.6 Q 171.3 292.9, 170.9 292.5 Q 170.5 292.1, 169.6 292.1 L 168.3 292.1 L 168.3 295.2 L 169.6 295.2 \" fill=\"#FF7F00\"/>\n<path class=\"atom-6\" d=\"M 173.7 291.1 L 174.8 291.1 L 174.8 294.8 L 179.2 294.8 L 179.2 291.1 L 180.3 291.1 L 180.3 299.6 L 179.2 299.6 L 179.2 295.7 L 174.8 295.7 L 174.8 299.6 L 173.7 299.6 L 173.7 291.1 \" fill=\"#FF7F00\"/>\n<path class=\"atom-6\" d=\"M 182.0 299.3 Q 182.2 298.8, 182.7 298.5 Q 183.1 298.2, 183.8 298.2 Q 184.7 298.2, 185.1 298.7 Q 185.6 299.1, 185.6 299.9 Q 185.6 300.8, 185.0 301.5 Q 184.4 302.3, 183.1 303.2 L 185.7 303.2 L 185.7 303.9 L 181.9 303.9 L 181.9 303.3 Q 183.0 302.6, 183.6 302.0 Q 184.2 301.5, 184.5 301.0 Q 184.8 300.5, 184.8 300.0 Q 184.8 299.4, 184.6 299.1 Q 184.3 298.8, 183.8 298.8 Q 183.4 298.8, 183.1 299.0 Q 182.8 299.2, 182.6 299.6 L 182.0 299.3 \" fill=\"#FF7F00\"/>\n<path class=\"legend\" d=\"M 64.7 389.1 Q 64.7 386.3, 66.0 384.9 Q 67.4 383.4, 69.9 383.4 Q 72.2 383.4, 73.5 385.0 L 72.4 385.9 Q 71.5 384.7, 69.9 384.7 Q 68.2 384.7, 67.2 385.8 Q 66.3 387.0, 66.3 389.1 Q 66.3 391.4, 67.3 392.5 Q 68.2 393.7, 70.0 393.7 Q 71.3 393.7, 72.7 392.9 L 73.2 394.1 Q 72.6 394.5, 71.7 394.7 Q 70.8 395.0, 69.8 395.0 Q 67.4 395.0, 66.0 393.5 Q 64.7 392.0, 64.7 389.1 \" fill=\"#000000\"/>\n<path class=\"legend\" d=\"M 75.0 389.1 Q 75.0 386.3, 76.3 384.9 Q 77.6 383.4, 80.1 383.4 Q 82.5 383.4, 83.7 385.0 L 82.6 385.9 Q 81.7 384.7, 80.1 384.7 Q 78.4 384.7, 77.5 385.8 Q 76.6 387.0, 76.6 389.1 Q 76.6 391.4, 77.5 392.5 Q 78.5 393.7, 80.3 393.7 Q 81.5 393.7, 83.0 392.9 L 83.4 394.1 Q 82.9 394.5, 82.0 394.7 Q 81.1 395.0, 80.1 395.0 Q 77.6 395.0, 76.3 393.5 Q 75.0 392.0, 75.0 389.1 \" fill=\"#000000\"/>\n<path class=\"legend\" d=\"M 85.2 389.1 Q 85.2 386.3, 86.5 384.9 Q 87.9 383.4, 90.4 383.4 Q 92.7 383.4, 94.0 385.0 L 92.9 385.9 Q 92.0 384.7, 90.4 384.7 Q 88.7 384.7, 87.7 385.8 Q 86.9 387.0, 86.9 389.1 Q 86.9 391.4, 87.8 392.5 Q 88.7 393.7, 90.5 393.7 Q 91.8 393.7, 93.3 392.9 L 93.7 394.1 Q 93.1 394.5, 92.2 394.7 Q 91.3 395.0, 90.3 395.0 Q 87.9 395.0, 86.5 393.5 Q 85.2 392.0, 85.2 389.1 \" fill=\"#000000\"/>\n<path class=\"legend\" d=\"M 95.5 389.1 Q 95.5 386.4, 96.8 384.9 Q 98.2 383.4, 100.7 383.4 Q 103.2 383.4, 104.5 384.9 Q 105.9 386.4, 105.9 389.1 Q 105.9 391.9, 104.5 393.4 Q 103.2 395.0, 100.7 395.0 Q 98.2 395.0, 96.8 393.4 Q 95.5 391.9, 95.5 389.1 M 100.7 393.7 Q 102.4 393.7, 103.3 392.6 Q 104.3 391.4, 104.3 389.1 Q 104.3 386.9, 103.3 385.8 Q 102.4 384.6, 100.7 384.6 Q 98.9 384.6, 98.0 385.8 Q 97.1 386.9, 97.1 389.1 Q 97.1 391.4, 98.0 392.6 Q 98.9 393.7, 100.7 393.7 \" fill=\"#000000\"/>\n<path class=\"legend\" d=\"M 107.5 389.1 Q 107.5 386.3, 108.9 384.9 Q 110.2 383.4, 112.7 383.4 Q 115.0 383.4, 116.3 385.0 L 115.2 385.9 Q 114.3 384.7, 112.7 384.7 Q 111.0 384.7, 110.1 385.8 Q 109.2 387.0, 109.2 389.1 Q 109.2 391.4, 110.1 392.5 Q 111.1 393.7, 112.9 393.7 Q 114.1 393.7, 115.6 392.9 L 116.0 394.1 Q 115.4 394.5, 114.5 394.7 Q 113.6 395.0, 112.7 395.0 Q 110.2 395.0, 108.9 393.5 Q 107.5 392.0, 107.5 389.1 \" fill=\"#000000\"/>\n<path class=\"legend\" d=\"M 117.8 389.1 Q 117.8 386.3, 119.1 384.9 Q 120.4 383.4, 123.0 383.4 Q 125.3 383.4, 126.5 385.0 L 125.5 385.9 Q 124.6 384.7, 123.0 384.7 Q 121.2 384.7, 120.3 385.8 Q 119.4 387.0, 119.4 389.1 Q 119.4 391.4, 120.4 392.5 Q 121.3 393.7, 123.1 393.7 Q 124.4 393.7, 125.8 392.9 L 126.3 394.1 Q 125.7 394.5, 124.8 394.7 Q 123.9 395.0, 122.9 395.0 Q 120.4 395.0, 119.1 393.5 Q 117.8 392.0, 117.8 389.1 \" fill=\"#000000\"/>\n<path class=\"legend\" d=\"M 131.4 383.5 Q 133.3 383.5, 134.3 384.4 Q 135.3 385.2, 135.3 386.8 Q 135.3 388.4, 134.3 389.3 Q 133.3 390.2, 131.4 390.2 L 129.6 390.2 L 129.6 394.8 L 128.1 394.8 L 128.1 383.5 L 131.4 383.5 M 131.4 388.9 Q 132.5 388.9, 133.1 388.4 Q 133.7 387.8, 133.7 386.8 Q 133.7 385.8, 133.1 385.3 Q 132.5 384.8, 131.4 384.8 L 129.6 384.8 L 129.6 388.9 L 131.4 388.9 \" fill=\"#000000\"/>\n<path class=\"bond-0 atom-0 atom-1\" d=\"M 287.0,305.0 L 313.0,290.0\" style=\"fill:none;fill-rule:evenodd;stroke:#000000;stroke-width:2.0px;stroke-linecap:butt;stroke-linejoin:miter;stroke-opacity:1\"/>\n<path class=\"bond-1 atom-1 atom-2\" d=\"M 313.0,290.0 L 324.2,283.5\" style=\"fill:none;fill-rule:evenodd;stroke:#000000;stroke-width:2.0px;stroke-linecap:butt;stroke-linejoin:miter;stroke-opacity:1\"/>\n<path class=\"bond-1 atom-1 atom-2\" d=\"M 324.2,283.5 L 335.4,277.1\" style=\"fill:none;fill-rule:evenodd;stroke:#33CCCC;stroke-width:2.0px;stroke-linecap:butt;stroke-linejoin:miter;stroke-opacity:1\"/>\n<path class=\"bond-2 atom-1 atom-3\" d=\"M 313.0,290.0 L 318.9,300.3\" style=\"fill:none;fill-rule:evenodd;stroke:#000000;stroke-width:2.0px;stroke-linecap:butt;stroke-linejoin:miter;stroke-opacity:1\"/>\n<path class=\"bond-2 atom-1 atom-3\" d=\"M 318.9,300.3 L 324.9,310.7\" style=\"fill:none;fill-rule:evenodd;stroke:#33CCCC;stroke-width:2.0px;stroke-linecap:butt;stroke-linejoin:miter;stroke-opacity:1\"/>\n<path class=\"bond-3 atom-1 atom-4\" d=\"M 313.0,290.0 L 307.0,279.7\" style=\"fill:none;fill-rule:evenodd;stroke:#000000;stroke-width:2.0px;stroke-linecap:butt;stroke-linejoin:miter;stroke-opacity:1\"/>\n<path class=\"bond-3 atom-1 atom-4\" d=\"M 307.0,279.7 L 301.0,269.3\" style=\"fill:none;fill-rule:evenodd;stroke:#33CCCC;stroke-width:2.0px;stroke-linecap:butt;stroke-linejoin:miter;stroke-opacity:1\"/>\n<path class=\"bond-4 atom-0 atom-5\" d=\"M 287.0,305.0 L 275.8,298.5\" style=\"fill:none;fill-rule:evenodd;stroke:#000000;stroke-width:2.0px;stroke-linecap:butt;stroke-linejoin:miter;stroke-opacity:1\"/>\n<path class=\"bond-4 atom-0 atom-5\" d=\"M 275.8,298.5 L 264.6,292.0\" style=\"fill:none;fill-rule:evenodd;stroke:#33CCCC;stroke-width:2.0px;stroke-linecap:butt;stroke-linejoin:miter;stroke-opacity:1\"/>\n<path d=\"M 288.3,304.2 L 287.0,305.0 L 286.5,304.6\" style=\"fill:none;stroke:#000000;stroke-width:2.0px;stroke-linecap:butt;stroke-linejoin:miter;stroke-opacity:1;\"/>\n<path class=\"atom-2\" d=\"M 336.4 270.8 L 341.4 270.8 L 341.4 271.8 L 337.5 271.8 L 337.5 274.3 L 341.0 274.3 L 341.0 275.3 L 337.5 275.3 L 337.5 279.3 L 336.4 279.3 L 336.4 270.8 \" fill=\"#33CCCC\"/>\n<path class=\"atom-3\" d=\"M 325.4 311.7 L 330.5 311.7 L 330.5 312.7 L 326.5 312.7 L 326.5 315.2 L 330.0 315.2 L 330.0 316.2 L 326.5 316.2 L 326.5 320.2 L 325.4 320.2 L 325.4 311.7 \" fill=\"#33CCCC\"/>\n<path class=\"atom-4\" d=\"M 295.5 259.8 L 300.5 259.8 L 300.5 260.8 L 296.6 260.8 L 296.6 263.4 L 300.1 263.4 L 300.1 264.4 L 296.6 264.4 L 296.6 268.3 L 295.5 268.3 L 295.5 259.8 \" fill=\"#33CCCC\"/>\n<path class=\"atom-5\" d=\"M 258.6 285.8 L 263.6 285.8 L 263.6 286.7 L 259.7 286.7 L 259.7 289.3 L 263.2 289.3 L 263.2 290.3 L 259.7 290.3 L 259.7 294.2 L 258.6 294.2 L 258.6 285.8 \" fill=\"#33CCCC\"/>\n<path class=\"legend\" d=\"M 264.2 386.5 Q 264.2 383.9, 265.4 382.5 Q 266.6 381.1, 268.9 381.1 Q 271.1 381.1, 272.3 382.6 L 271.3 383.4 Q 270.4 382.3, 268.9 382.3 Q 267.4 382.3, 266.5 383.4 Q 265.7 384.5, 265.7 386.5 Q 265.7 388.5, 266.5 389.6 Q 267.4 390.7, 269.1 390.7 Q 270.3 390.7, 271.6 390.0 L 272.0 391.1 Q 271.5 391.4, 270.6 391.6 Q 269.8 391.8, 268.9 391.8 Q 266.6 391.8, 265.4 390.5 Q 264.2 389.1, 264.2 386.5 \" fill=\"#000000\"/>\n<path class=\"legend\" d=\"M 273.4 387.5 Q 273.4 385.4, 274.0 383.6 Q 274.6 381.9, 275.8 380.0 L 276.6 380.5 Q 275.6 382.3, 275.2 383.9 Q 274.7 385.5, 274.7 387.5 Q 274.7 389.5, 275.2 391.1 Q 275.6 392.6, 276.6 394.5 L 275.8 395.0 Q 274.6 393.1, 274.0 391.4 Q 273.4 389.6, 273.4 387.5 \" fill=\"#000000\"/>\n<path class=\"legend\" d=\"M 277.5 386.5 Q 277.5 383.9, 278.7 382.5 Q 279.9 381.1, 282.2 381.1 Q 284.4 381.1, 285.6 382.6 L 284.6 383.4 Q 283.7 382.3, 282.2 382.3 Q 280.7 382.3, 279.8 383.4 Q 279.0 384.5, 279.0 386.5 Q 279.0 388.5, 279.9 389.6 Q 280.7 390.7, 282.4 390.7 Q 283.6 390.7, 284.9 390.0 L 285.3 391.1 Q 284.8 391.4, 284.0 391.6 Q 283.1 391.8, 282.2 391.8 Q 279.9 391.8, 278.7 390.5 Q 277.5 389.1, 277.5 386.5 \" fill=\"#000000\"/>\n<path class=\"legend\" d=\"M 286.7 387.5 Q 286.7 385.4, 287.3 383.6 Q 287.9 381.9, 289.1 380.0 L 289.9 380.5 Q 289.0 382.3, 288.5 383.9 Q 288.0 385.5, 288.0 387.5 Q 288.0 389.5, 288.5 391.1 Q 289.0 392.6, 289.9 394.5 L 289.1 395.0 Q 287.9 393.1, 287.3 391.4 Q 286.7 389.6, 286.7 387.5 \" fill=\"#000000\"/>\n<path class=\"legend\" d=\"M 290.8 381.2 L 297.0 381.2 L 297.0 382.4 L 292.2 382.4 L 292.2 385.6 L 296.5 385.6 L 296.5 386.8 L 292.2 386.8 L 292.2 391.7 L 290.8 391.7 L 290.8 381.2 \" fill=\"#000000\"/>\n<path class=\"legend\" d=\"M 301.1 387.5 Q 301.1 389.6, 300.5 391.4 Q 299.9 393.1, 298.7 395.0 L 297.8 394.5 Q 298.8 392.6, 299.3 391.1 Q 299.8 389.5, 299.8 387.5 Q 299.8 385.5, 299.3 383.9 Q 298.8 382.3, 297.8 380.5 L 298.7 380.0 Q 299.9 381.9, 300.5 383.6 Q 301.1 385.4, 301.1 387.5 \" fill=\"#000000\"/>\n<path class=\"legend\" d=\"M 302.3 387.5 Q 302.3 385.4, 303.0 383.6 Q 303.6 381.9, 304.8 380.0 L 305.6 380.5 Q 304.6 382.3, 304.2 383.9 Q 303.7 385.5, 303.7 387.5 Q 303.7 389.5, 304.2 391.1 Q 304.6 392.6, 305.6 394.5 L 304.8 395.0 Q 303.6 393.1, 303.0 391.4 Q 302.3 389.6, 302.3 387.5 \" fill=\"#000000\"/>\n<path class=\"legend\" d=\"M 306.5 381.2 L 312.7 381.2 L 312.7 382.4 L 307.9 382.4 L 307.9 385.6 L 312.2 385.6 L 312.2 386.8 L 307.9 386.8 L 307.9 391.7 L 306.5 391.7 L 306.5 381.2 \" fill=\"#000000\"/>\n<path class=\"legend\" d=\"M 316.8 387.5 Q 316.8 389.6, 316.2 391.4 Q 315.6 393.1, 314.4 395.0 L 313.5 394.5 Q 314.5 392.6, 315.0 391.1 Q 315.5 389.5, 315.5 387.5 Q 315.5 385.5, 315.0 383.9 Q 314.5 382.3, 313.5 380.5 L 314.4 380.0 Q 315.6 381.9, 316.2 383.6 Q 316.8 385.4, 316.8 387.5 \" fill=\"#000000\"/>\n<path class=\"legend\" d=\"M 318.0 381.2 L 324.3 381.2 L 324.3 382.4 L 319.4 382.4 L 319.4 385.6 L 323.7 385.6 L 323.7 386.8 L 319.4 386.8 L 319.4 391.7 L 318.0 391.7 L 318.0 381.2 \" fill=\"#000000\"/>\n<path class=\"legend\" d=\"M 328.3 387.5 Q 328.3 389.6, 327.7 391.4 Q 327.1 393.1, 325.9 395.0 L 325.1 394.5 Q 326.1 392.6, 326.5 391.1 Q 327.0 389.5, 327.0 387.5 Q 327.0 385.5, 326.5 383.9 Q 326.1 382.3, 325.1 380.5 L 325.9 380.0 Q 327.1 381.9, 327.7 383.6 Q 328.3 385.4, 328.3 387.5 \" fill=\"#000000\"/>\n<path class=\"legend\" d=\"M 329.6 381.2 L 335.8 381.2 L 335.8 382.4 L 331.0 382.4 L 331.0 385.6 L 335.3 385.6 L 335.3 386.8 L 331.0 386.8 L 331.0 391.7 L 329.6 391.7 L 329.6 381.2 \" fill=\"#000000\"/>\n<path class=\"bond-0 atom-0 atom-1\" d=\"M 467.1,311.4 L 479.0,290.7\" style=\"fill:none;fill-rule:evenodd;stroke:#000000;stroke-width:2.0px;stroke-linecap:butt;stroke-linejoin:miter;stroke-opacity:1\"/>\n<path class=\"bond-1 atom-1 atom-2\" d=\"M 479.0,290.7 L 467.1,270.0\" style=\"fill:none;fill-rule:evenodd;stroke:#000000;stroke-width:2.0px;stroke-linecap:butt;stroke-linejoin:miter;stroke-opacity:1\"/>\n<path class=\"bond-2 atom-1 atom-3\" d=\"M 479.0,290.7 L 509.0,290.7\" style=\"fill:none;fill-rule:evenodd;stroke:#000000;stroke-width:2.0px;stroke-linecap:butt;stroke-linejoin:miter;stroke-opacity:1\"/>\n<path class=\"bond-3 atom-3 atom-4\" d=\"M 509.0,290.7 L 509.0,260.8\" style=\"fill:none;fill-rule:evenodd;stroke:#000000;stroke-width:2.0px;stroke-linecap:butt;stroke-linejoin:miter;stroke-opacity:1\"/>\n<path class=\"bond-4 atom-3 atom-5\" d=\"M 509.0,290.7 L 509.0,320.6\" style=\"fill:none;fill-rule:evenodd;stroke:#000000;stroke-width:2.0px;stroke-linecap:butt;stroke-linejoin:miter;stroke-opacity:1\"/>\n<path class=\"bond-5 atom-3 atom-6\" d=\"M 509.0,290.7 L 521.8,290.7\" style=\"fill:none;fill-rule:evenodd;stroke:#000000;stroke-width:2.0px;stroke-linecap:butt;stroke-linejoin:miter;stroke-opacity:1\"/>\n<path class=\"bond-5 atom-3 atom-6\" d=\"M 521.8,290.7 L 534.6,290.7\" style=\"fill:none;fill-rule:evenodd;stroke:#00CC00;stroke-width:2.0px;stroke-linecap:butt;stroke-linejoin:miter;stroke-opacity:1\"/>\n<path class=\"atom-0\" d=\"M 455.9 312.1 Q 456.1 311.6, 456.6 311.3 Q 457.1 311.0, 457.8 311.0 Q 458.6 311.0, 459.1 311.4 Q 459.6 311.9, 459.6 312.7 Q 459.6 313.5, 458.9 314.3 Q 458.3 315.1, 457.1 316.0 L 459.6 316.0 L 459.6 316.6 L 455.9 316.6 L 455.9 316.1 Q 456.9 315.4, 457.5 314.8 Q 458.2 314.3, 458.5 313.8 Q 458.8 313.3, 458.8 312.7 Q 458.8 312.2, 458.5 311.9 Q 458.2 311.6, 457.8 311.6 Q 457.3 311.6, 457.0 311.8 Q 456.7 312.0, 456.5 312.4 L 455.9 312.1 \" fill=\"#000000\"/>\n<path class=\"atom-0\" d=\"M 460.7 312.4 L 461.9 312.4 L 461.9 316.0 L 466.2 316.0 L 466.2 312.4 L 467.4 312.4 L 467.4 320.9 L 466.2 320.9 L 466.2 317.0 L 461.9 317.0 L 461.9 320.9 L 460.7 320.9 L 460.7 312.4 \" fill=\"#000000\"/>\n<path class=\"atom-2\" d=\"M 455.9 260.2 Q 456.1 259.7, 456.6 259.4 Q 457.1 259.1, 457.8 259.1 Q 458.6 259.1, 459.1 259.6 Q 459.6 260.0, 459.6 260.9 Q 459.6 261.7, 458.9 262.5 Q 458.3 263.2, 457.1 264.2 L 459.6 264.2 L 459.6 264.8 L 455.9 264.8 L 455.9 264.3 Q 456.9 263.5, 457.5 263.0 Q 458.2 262.4, 458.5 261.9 Q 458.8 261.4, 458.8 260.9 Q 458.8 260.4, 458.5 260.1 Q 458.2 259.8, 457.8 259.8 Q 457.3 259.8, 457.0 259.9 Q 456.7 260.1, 456.5 260.5 L 455.9 260.2 \" fill=\"#000000\"/>\n<path class=\"atom-2\" d=\"M 460.7 260.5 L 461.9 260.5 L 461.9 264.2 L 466.2 264.2 L 466.2 260.5 L 467.4 260.5 L 467.4 269.0 L 466.2 269.0 L 466.2 265.1 L 461.9 265.1 L 461.9 269.0 L 460.7 269.0 L 460.7 260.5 \" fill=\"#000000\"/>\n<path class=\"atom-6\" d=\"M 535.6 291.0 Q 535.6 288.9, 536.6 287.8 Q 537.6 286.7, 539.5 286.7 Q 541.2 286.7, 542.2 287.9 L 541.4 288.6 Q 540.7 287.7, 539.5 287.7 Q 538.2 287.7, 537.5 288.5 Q 536.8 289.4, 536.8 291.0 Q 536.8 292.7, 537.5 293.5 Q 538.2 294.4, 539.6 294.4 Q 540.5 294.4, 541.6 293.8 L 542.0 294.7 Q 541.5 295.0, 540.9 295.2 Q 540.2 295.4, 539.4 295.4 Q 537.6 295.4, 536.6 294.2 Q 535.6 293.1, 535.6 291.0 \" fill=\"#00CC00\"/>\n<path class=\"atom-6\" d=\"M 543.0 286.2 L 544.1 286.2 L 544.1 295.3 L 543.0 295.3 L 543.0 286.2 \" fill=\"#00CC00\"/>\n<path class=\"legend\" d=\"M 436.0 380.3 L 439.2 380.3 L 439.2 381.3 L 437.3 381.3 L 437.3 393.5 L 439.2 393.5 L 439.2 394.6 L 436.0 394.6 L 436.0 380.3 \" fill=\"#000000\"/>\n<path class=\"legend\" d=\"M 440.0 383.2 Q 440.4 382.2, 441.3 381.7 Q 442.2 381.1, 443.5 381.1 Q 445.1 381.1, 446.0 382.0 Q 446.9 382.8, 446.9 384.4 Q 446.9 385.9, 445.7 387.4 Q 444.6 388.8, 442.2 390.5 L 447.0 390.5 L 447.0 391.7 L 440.0 391.7 L 440.0 390.7 Q 441.9 389.3, 443.1 388.3 Q 444.3 387.3, 444.8 386.3 Q 445.4 385.4, 445.4 384.4 Q 445.4 383.4, 444.9 382.9 Q 444.4 382.3, 443.5 382.3 Q 442.7 382.3, 442.1 382.6 Q 441.5 383.0, 441.1 383.7 L 440.0 383.2 \" fill=\"#000000\"/>\n<path class=\"legend\" d=\"M 448.4 381.2 L 449.9 381.2 L 449.9 385.7 L 455.2 385.7 L 455.2 381.2 L 456.6 381.2 L 456.6 391.7 L 455.2 391.7 L 455.2 386.9 L 449.9 386.9 L 449.9 391.7 L 448.4 391.7 L 448.4 381.2 \" fill=\"#000000\"/>\n<path class=\"legend\" d=\"M 461.6 380.3 L 461.6 394.6 L 458.4 394.6 L 458.4 393.5 L 460.3 393.5 L 460.3 381.3 L 458.4 381.3 L 458.4 380.3 L 461.6 380.3 \" fill=\"#000000\"/>\n<path class=\"legend\" d=\"M 463.4 386.5 Q 463.4 383.9, 464.6 382.5 Q 465.8 381.1, 468.1 381.1 Q 470.3 381.1, 471.4 382.6 L 470.5 383.4 Q 469.6 382.3, 468.1 382.3 Q 466.5 382.3, 465.7 383.4 Q 464.9 384.5, 464.9 386.5 Q 464.9 388.5, 465.7 389.6 Q 466.6 390.7, 468.3 390.7 Q 469.4 390.7, 470.8 390.0 L 471.2 391.1 Q 470.6 391.4, 469.8 391.6 Q 469.0 391.8, 468.1 391.8 Q 465.8 391.8, 464.6 390.5 Q 463.4 389.1, 463.4 386.5 \" fill=\"#000000\"/>\n<path class=\"legend\" d=\"M 472.5 387.5 Q 472.5 385.4, 473.1 383.6 Q 473.8 381.9, 475.0 380.0 L 475.8 380.5 Q 474.8 382.3, 474.3 383.9 Q 473.9 385.5, 473.9 387.5 Q 473.9 389.5, 474.3 391.1 Q 474.8 392.6, 475.8 394.5 L 475.0 395.0 Q 473.8 393.1, 473.1 391.4 Q 472.5 389.6, 472.5 387.5 \" fill=\"#000000\"/>\n<path class=\"legend\" d=\"M 476.7 380.3 L 479.8 380.3 L 479.8 381.3 L 477.9 381.3 L 477.9 393.5 L 479.8 393.5 L 479.8 394.6 L 476.7 394.6 L 476.7 380.3 \" fill=\"#000000\"/>\n<path class=\"legend\" d=\"M 480.7 383.2 Q 481.1 382.2, 482.0 381.7 Q 482.9 381.1, 484.2 381.1 Q 485.8 381.1, 486.6 382.0 Q 487.5 382.8, 487.5 384.4 Q 487.5 385.9, 486.4 387.4 Q 485.2 388.8, 482.9 390.5 L 487.7 390.5 L 487.7 391.7 L 480.7 391.7 L 480.7 390.7 Q 482.6 389.3, 483.8 388.3 Q 484.9 387.3, 485.5 386.3 Q 486.1 385.4, 486.1 384.4 Q 486.1 383.4, 485.6 382.9 Q 485.0 382.3, 484.2 382.3 Q 483.3 382.3, 482.8 382.6 Q 482.2 383.0, 481.8 383.7 L 480.7 383.2 \" fill=\"#000000\"/>\n<path class=\"legend\" d=\"M 489.1 381.2 L 490.5 381.2 L 490.5 385.7 L 495.9 385.7 L 495.9 381.2 L 497.3 381.2 L 497.3 391.7 L 495.9 391.7 L 495.9 386.9 L 490.5 386.9 L 490.5 391.7 L 489.1 391.7 L 489.1 381.2 \" fill=\"#000000\"/>\n<path class=\"legend\" d=\"M 502.2 380.3 L 502.2 394.6 L 499.1 394.6 L 499.1 393.5 L 501.0 393.5 L 501.0 381.3 L 499.1 381.3 L 499.1 380.3 L 502.2 380.3 \" fill=\"#000000\"/>\n<path class=\"legend\" d=\"M 507.3 387.5 Q 507.3 389.6, 506.7 391.4 Q 506.1 393.1, 504.9 395.0 L 504.0 394.5 Q 505.0 392.6, 505.5 391.1 Q 505.9 389.5, 505.9 387.5 Q 505.9 385.5, 505.5 383.9 Q 505.0 382.3, 504.0 380.5 L 504.9 380.0 Q 506.1 381.9, 506.7 383.6 Q 507.3 385.4, 507.3 387.5 \" fill=\"#000000\"/>\n<path class=\"legend\" d=\"M 508.5 386.5 Q 508.5 383.9, 509.8 382.5 Q 511.0 381.1, 513.3 381.1 Q 515.5 381.1, 516.6 382.6 L 515.6 383.4 Q 514.8 382.3, 513.3 382.3 Q 511.7 382.3, 510.9 383.4 Q 510.1 384.5, 510.1 386.5 Q 510.1 388.5, 510.9 389.6 Q 511.8 390.7, 513.5 390.7 Q 514.6 390.7, 516.0 390.0 L 516.4 391.1 Q 515.8 391.4, 515.0 391.6 Q 514.2 391.8, 513.3 391.8 Q 511.0 391.8, 509.8 390.5 Q 508.5 389.1, 508.5 386.5 \" fill=\"#000000\"/>\n<path class=\"legend\" d=\"M 517.7 387.5 Q 517.7 385.4, 518.3 383.6 Q 519.0 381.9, 520.2 380.0 L 521.0 380.5 Q 520.0 382.3, 519.5 383.9 Q 519.1 385.5, 519.1 387.5 Q 519.1 389.5, 519.5 391.1 Q 520.0 392.6, 521.0 394.5 L 520.2 395.0 Q 519.0 393.1, 518.3 391.4 Q 517.7 389.6, 517.7 387.5 \" fill=\"#000000\"/>\n<path class=\"legend\" d=\"M 521.9 386.5 Q 521.9 383.9, 523.1 382.5 Q 524.3 381.1, 526.6 381.1 Q 528.8 381.1, 530.0 382.6 L 529.0 383.4 Q 528.1 382.3, 526.6 382.3 Q 525.1 382.3, 524.2 383.4 Q 523.4 384.5, 523.4 386.5 Q 523.4 388.5, 524.2 389.6 Q 525.1 390.7, 526.8 390.7 Q 528.0 390.7, 529.3 390.0 L 529.7 391.1 Q 529.2 391.4, 528.3 391.6 Q 527.5 391.8, 526.6 391.8 Q 524.3 391.8, 523.1 390.5 Q 521.9 389.1, 521.9 386.5 \" fill=\"#000000\"/>\n<path class=\"legend\" d=\"M 534.3 387.5 Q 534.3 389.6, 533.7 391.4 Q 533.1 393.1, 531.9 395.0 L 531.1 394.5 Q 532.0 392.6, 532.5 391.1 Q 533.0 389.5, 533.0 387.5 Q 533.0 385.5, 532.5 383.9 Q 532.0 382.3, 531.1 380.5 L 531.9 380.0 Q 533.1 381.9, 533.7 383.6 Q 534.3 385.4, 534.3 387.5 \" fill=\"#000000\"/>\n<path class=\"legend\" d=\"M 535.6 387.5 Q 535.6 385.4, 536.2 383.6 Q 536.8 381.9, 538.0 380.0 L 538.8 380.5 Q 537.9 382.3, 537.4 383.9 Q 536.9 385.5, 536.9 387.5 Q 536.9 389.5, 537.4 391.1 Q 537.9 392.6, 538.8 394.5 L 538.0 395.0 Q 536.8 393.1, 536.2 391.4 Q 535.6 389.6, 535.6 387.5 \" fill=\"#000000\"/>\n<path class=\"legend\" d=\"M 539.7 386.5 Q 539.7 383.9, 540.9 382.5 Q 542.2 381.1, 544.5 381.1 Q 546.7 381.1, 547.8 382.6 L 546.8 383.4 Q 546.0 382.3, 544.5 382.3 Q 542.9 382.3, 542.1 383.4 Q 541.2 384.5, 541.2 386.5 Q 541.2 388.5, 542.1 389.6 Q 543.0 390.7, 544.7 390.7 Q 545.8 390.7, 547.2 390.0 L 547.6 391.1 Q 547.0 391.4, 546.2 391.6 Q 545.4 391.8, 544.4 391.8 Q 542.2 391.8, 540.9 390.5 Q 539.7 389.1, 539.7 386.5 \" fill=\"#000000\"/>\n<path class=\"legend\" d=\"M 552.2 387.5 Q 552.2 389.6, 551.6 391.4 Q 550.9 393.1, 549.8 395.0 L 548.9 394.5 Q 549.9 392.6, 550.4 391.1 Q 550.8 389.5, 550.8 387.5 Q 550.8 385.5, 550.4 383.9 Q 549.9 382.3, 548.9 380.5 L 549.8 380.0 Q 550.9 381.9, 551.6 383.6 Q 552.2 385.4, 552.2 387.5 \" fill=\"#000000\"/>\n<path class=\"legend\" d=\"M 553.4 386.5 Q 553.4 383.9, 554.7 382.5 Q 555.9 381.1, 558.2 381.1 Q 560.4 381.1, 561.5 382.6 L 560.5 383.4 Q 559.7 382.3, 558.2 382.3 Q 556.6 382.3, 555.8 383.4 Q 554.9 384.5, 554.9 386.5 Q 554.9 388.5, 555.8 389.6 Q 556.7 390.7, 558.4 390.7 Q 559.5 390.7, 560.9 390.0 L 561.3 391.1 Q 560.7 391.4, 559.9 391.6 Q 559.1 391.8, 558.2 391.8 Q 555.9 391.8, 554.7 390.5 Q 553.4 389.1, 553.4 386.5 \" fill=\"#000000\"/>\n<path class=\"legend\" d=\"M 562.6 380.5 L 564.0 380.5 L 564.0 391.7 L 562.6 391.7 L 562.6 380.5 \" fill=\"#000000\"/>\n<path class=\"bond-0 atom-0 atom-1\" d=\"M 634.5,305.9 L 661.7,293.4\" style=\"fill:none;fill-rule:evenodd;stroke:#000000;stroke-width:2.0px;stroke-linecap:butt;stroke-linejoin:miter;stroke-opacity:1\"/>\n<path class=\"bond-1 atom-1 atom-2\" d=\"M 661.7,293.4 L 686.1,310.8\" style=\"fill:none;fill-rule:evenodd;stroke:#000000;stroke-width:2.0px;stroke-linecap:butt;stroke-linejoin:miter;stroke-opacity:1\"/>\n<path class=\"bond-2 atom-2 atom-3\" d=\"M 686.1,310.8 L 713.3,298.4\" style=\"fill:none;fill-rule:evenodd;stroke:#000000;stroke-width:2.0px;stroke-linecap:butt;stroke-linejoin:miter;stroke-opacity:1\"/>\n<path class=\"bond-3 atom-3 atom-4\" d=\"M 713.3,298.4 L 737.7,315.7\" style=\"fill:none;fill-rule:evenodd;stroke:#000000;stroke-width:2.0px;stroke-linecap:butt;stroke-linejoin:miter;stroke-opacity:1\"/>\n<path class=\"bond-4 atom-4 atom-5\" d=\"M 737.7,315.7 L 750.6,309.9\" style=\"fill:none;fill-rule:evenodd;stroke:#000000;stroke-width:2.0px;stroke-linecap:butt;stroke-linejoin:miter;stroke-opacity:1\"/>\n<path class=\"bond-4 atom-4 atom-5\" d=\"M 750.6,309.9 L 763.4,304.0\" style=\"fill:none;fill-rule:evenodd;stroke:#A01EEF;stroke-width:2.0px;stroke-linecap:butt;stroke-linejoin:miter;stroke-opacity:1\"/>\n<path class=\"bond-5 atom-3 atom-6\" d=\"M 713.3,298.4 L 714.5,286.2\" style=\"fill:none;fill-rule:evenodd;stroke:#000000;stroke-width:2.0px;stroke-linecap:butt;stroke-linejoin:miter;stroke-opacity:1\"/>\n<path class=\"bond-5 atom-3 atom-6\" d=\"M 714.5,286.2 L 715.7,274.0\" style=\"fill:none;fill-rule:evenodd;stroke:#FF0000;stroke-width:2.0px;stroke-linecap:butt;stroke-linejoin:miter;stroke-opacity:1\"/>\n<path d=\"M 660.4,294.1 L 661.7,293.4 L 662.9,294.3\" style=\"fill:none;stroke:#000000;stroke-width:2.0px;stroke-linecap:butt;stroke-linejoin:miter;stroke-opacity:1;\"/>\n<path d=\"M 684.9,309.9 L 686.1,310.8 L 687.5,310.2\" style=\"fill:none;stroke:#000000;stroke-width:2.0px;stroke-linecap:butt;stroke-linejoin:miter;stroke-opacity:1;\"/>\n<path d=\"M 736.5,314.9 L 737.7,315.7 L 738.4,315.4\" style=\"fill:none;stroke:#000000;stroke-width:2.0px;stroke-linecap:butt;stroke-linejoin:miter;stroke-opacity:1;\"/>\n<path class=\"atom-5\" d=\"M 764.4 299.0 L 765.5 299.0 L 765.5 307.5 L 764.4 307.5 L 764.4 299.0 \" fill=\"#A01EEF\"/>\n<path class=\"atom-6\" d=\"M 712.3 268.6 Q 712.3 266.6, 713.3 265.4 Q 714.3 264.3, 716.2 264.3 Q 718.1 264.3, 719.1 265.4 Q 720.1 266.6, 720.1 268.6 Q 720.1 270.6, 719.0 271.8 Q 718.0 273.0, 716.2 273.0 Q 714.3 273.0, 713.3 271.8 Q 712.3 270.7, 712.3 268.6 M 716.2 272.0 Q 717.5 272.0, 718.2 271.2 Q 718.9 270.3, 718.9 268.6 Q 718.9 266.9, 718.2 266.1 Q 717.5 265.2, 716.2 265.2 Q 714.9 265.2, 714.2 266.1 Q 713.5 266.9, 713.5 268.6 Q 713.5 270.3, 714.2 271.2 Q 714.9 272.0, 716.2 272.0 \" fill=\"#FF0000\"/>\n<path class=\"atom-6\" d=\"M 721.4 264.4 L 722.5 264.4 L 722.5 268.0 L 726.9 268.0 L 726.9 264.4 L 728.0 264.4 L 728.0 272.8 L 726.9 272.8 L 726.9 268.9 L 722.5 268.9 L 722.5 272.8 L 721.4 272.8 L 721.4 264.4 \" fill=\"#FF0000\"/>\n<path class=\"legend\" d=\"M 665.8 386.5 Q 665.8 383.9, 667.0 382.5 Q 668.2 381.1, 670.5 381.1 Q 672.7 381.1, 673.9 382.6 L 672.9 383.4 Q 672.0 382.3, 670.5 382.3 Q 669.0 382.3, 668.1 383.4 Q 667.3 384.5, 667.3 386.5 Q 667.3 388.5, 668.2 389.6 Q 669.0 390.7, 670.7 390.7 Q 671.9 390.7, 673.2 390.0 L 673.6 391.1 Q 673.1 391.4, 672.2 391.6 Q 671.4 391.8, 670.5 391.8 Q 668.2 391.8, 667.0 390.5 Q 665.8 389.1, 665.8 386.5 \" fill=\"#000000\"/>\n<path class=\"legend\" d=\"M 675.1 386.5 Q 675.1 383.9, 676.3 382.5 Q 677.5 381.1, 679.9 381.1 Q 682.0 381.1, 683.2 382.6 L 682.2 383.4 Q 681.4 382.3, 679.9 382.3 Q 678.3 382.3, 677.4 383.4 Q 676.6 384.5, 676.6 386.5 Q 676.6 388.5, 677.5 389.6 Q 678.3 390.7, 680.0 390.7 Q 681.2 390.7, 682.5 390.0 L 682.9 391.1 Q 682.4 391.4, 681.6 391.6 Q 680.7 391.8, 679.8 391.8 Q 677.5 391.8, 676.3 390.5 Q 675.1 389.1, 675.1 386.5 \" fill=\"#000000\"/>\n<path class=\"legend\" d=\"M 684.4 386.5 Q 684.4 383.9, 685.6 382.5 Q 686.8 381.1, 689.2 381.1 Q 691.3 381.1, 692.5 382.6 L 691.5 383.4 Q 690.7 382.3, 689.2 382.3 Q 687.6 382.3, 686.7 383.4 Q 685.9 384.5, 685.9 386.5 Q 685.9 388.5, 686.8 389.6 Q 687.6 390.7, 689.3 390.7 Q 690.5 390.7, 691.8 390.0 L 692.2 391.1 Q 691.7 391.4, 690.9 391.6 Q 690.0 391.8, 689.1 391.8 Q 686.8 391.8, 685.6 390.5 Q 684.4 389.1, 684.4 386.5 \" fill=\"#000000\"/>\n<path class=\"legend\" d=\"M 693.7 386.5 Q 693.7 383.9, 694.9 382.5 Q 696.2 381.1, 698.5 381.1 Q 700.6 381.1, 701.8 382.6 L 700.8 383.4 Q 700.0 382.3, 698.5 382.3 Q 696.9 382.3, 696.1 383.4 Q 695.2 384.5, 695.2 386.5 Q 695.2 388.5, 696.1 389.6 Q 697.0 390.7, 698.6 390.7 Q 699.8 390.7, 701.1 390.0 L 701.6 391.1 Q 701.0 391.4, 700.2 391.6 Q 699.4 391.8, 698.4 391.8 Q 696.2 391.8, 694.9 390.5 Q 693.7 389.1, 693.7 386.5 \" fill=\"#000000\"/>\n<path class=\"legend\" d=\"M 703.0 387.5 Q 703.0 385.4, 703.6 383.6 Q 704.3 381.9, 705.5 380.0 L 706.3 380.5 Q 705.3 382.3, 704.8 383.9 Q 704.4 385.5, 704.4 387.5 Q 704.4 389.5, 704.8 391.1 Q 705.3 392.6, 706.3 394.5 L 705.5 395.0 Q 704.3 393.1, 703.6 391.4 Q 703.0 389.6, 703.0 387.5 \" fill=\"#000000\"/>\n<path class=\"legend\" d=\"M 707.3 386.5 Q 707.3 383.9, 708.5 382.5 Q 709.7 381.1, 712.1 381.1 Q 714.2 381.1, 715.4 382.6 L 714.4 383.4 Q 713.6 382.3, 712.1 382.3 Q 710.5 382.3, 709.6 383.4 Q 708.8 384.5, 708.8 386.5 Q 708.8 388.5, 709.7 389.6 Q 710.5 390.7, 712.2 390.7 Q 713.4 390.7, 714.7 390.0 L 715.1 391.1 Q 714.6 391.4, 713.8 391.6 Q 712.9 391.8, 712.0 391.8 Q 709.7 391.8, 708.5 390.5 Q 707.3 389.1, 707.3 386.5 \" fill=\"#000000\"/>\n<path class=\"legend\" d=\"M 716.6 381.2 L 718.0 381.2 L 718.0 391.7 L 716.6 391.7 L 716.6 381.2 \" fill=\"#000000\"/>\n<path class=\"legend\" d=\"M 723.2 387.5 Q 723.2 389.6, 722.6 391.4 Q 722.0 393.1, 720.8 395.0 L 720.0 394.5 Q 720.9 392.6, 721.4 391.1 Q 721.9 389.5, 721.9 387.5 Q 721.9 385.5, 721.4 383.9 Q 720.9 382.3, 720.0 380.5 L 720.8 380.0 Q 722.0 381.9, 722.6 383.6 Q 723.2 385.4, 723.2 387.5 \" fill=\"#000000\"/>\n<path class=\"legend\" d=\"M 724.6 386.4 Q 724.6 383.9, 725.8 382.5 Q 727.1 381.1, 729.4 381.1 Q 731.7 381.1, 733.0 382.5 Q 734.2 383.9, 734.2 386.4 Q 734.2 389.0, 733.0 390.4 Q 731.7 391.9, 729.4 391.9 Q 727.1 391.9, 725.8 390.4 Q 724.6 389.0, 724.6 386.4 M 729.4 390.7 Q 731.0 390.7, 731.9 389.6 Q 732.7 388.6, 732.7 386.4 Q 732.7 384.4, 731.9 383.4 Q 731.0 382.3, 729.4 382.3 Q 727.8 382.3, 726.9 383.3 Q 726.1 384.4, 726.1 386.4 Q 726.1 388.6, 726.9 389.6 Q 727.8 390.7, 729.4 390.7 \" fill=\"#000000\"/>\n<path class=\"bond-0 atom-0 atom-1\" d=\"M 9.1,492.8 L 35.4,478.5\" style=\"fill:none;fill-rule:evenodd;stroke:#000000;stroke-width:2.0px;stroke-linecap:butt;stroke-linejoin:miter;stroke-opacity:1\"/>\n<path class=\"bond-1 atom-1 atom-2\" d=\"M 35.4,478.5 L 60.9,494.2\" style=\"fill:none;fill-rule:evenodd;stroke:#000000;stroke-width:2.0px;stroke-linecap:butt;stroke-linejoin:miter;stroke-opacity:1\"/>\n<path class=\"bond-2 atom-2 atom-3\" d=\"M 60.9,494.2 L 87.3,480.0\" style=\"fill:none;fill-rule:evenodd;stroke:#000000;stroke-width:2.0px;stroke-linecap:butt;stroke-linejoin:miter;stroke-opacity:1\"/>\n<path class=\"bond-3 atom-3 atom-4\" d=\"M 87.3,480.0 L 112.7,495.6\" style=\"fill:none;fill-rule:evenodd;stroke:#000000;stroke-width:2.0px;stroke-linecap:butt;stroke-linejoin:miter;stroke-opacity:1\"/>\n<path class=\"bond-4 atom-4 atom-5\" d=\"M 112.7,495.6 L 139.1,481.4\" style=\"fill:none;fill-rule:evenodd;stroke:#000000;stroke-width:2.0px;stroke-linecap:butt;stroke-linejoin:miter;stroke-opacity:1\"/>\n<path class=\"bond-5 atom-5 atom-6\" d=\"M 139.1,481.4 L 160.3,494.5\" style=\"fill:none;fill-rule:evenodd;stroke:#000000;stroke-width:2.0px;stroke-linecap:butt;stroke-linejoin:miter;stroke-opacity:1\"/>\n<path class=\"bond-6 atom-6 atom-7\" d=\"M 173.6,492.2 L 190.9,482.9\" style=\"fill:none;fill-rule:evenodd;stroke:#000000;stroke-width:2.0px;stroke-linecap:butt;stroke-linejoin:miter;stroke-opacity:1\"/>\n<path d=\"M 34.1,479.2 L 35.4,478.5 L 36.7,479.3\" style=\"fill:none;stroke:#000000;stroke-width:2.0px;stroke-linecap:butt;stroke-linejoin:miter;stroke-opacity:1;\"/>\n<path d=\"M 59.6,493.4 L 60.9,494.2 L 62.2,493.5\" style=\"fill:none;stroke:#000000;stroke-width:2.0px;stroke-linecap:butt;stroke-linejoin:miter;stroke-opacity:1;\"/>\n<path d=\"M 85.9,480.7 L 87.3,480.0 L 88.5,480.7\" style=\"fill:none;stroke:#000000;stroke-width:2.0px;stroke-linecap:butt;stroke-linejoin:miter;stroke-opacity:1;\"/>\n<path d=\"M 111.5,494.9 L 112.7,495.6 L 114.1,494.9\" style=\"fill:none;stroke:#000000;stroke-width:2.0px;stroke-linecap:butt;stroke-linejoin:miter;stroke-opacity:1;\"/>\n<path d=\"M 137.8,482.1 L 139.1,481.4 L 140.1,482.1\" style=\"fill:none;stroke:#000000;stroke-width:2.0px;stroke-linecap:butt;stroke-linejoin:miter;stroke-opacity:1;\"/>\n<path class=\"atom-6\" d=\"M 161.3 497.1 Q 161.3 495.0, 162.3 493.9 Q 163.3 492.8, 165.2 492.8 Q 166.9 492.8, 167.8 494.0 L 167.1 494.7 Q 166.4 493.8, 165.2 493.8 Q 163.9 493.8, 163.2 494.6 Q 162.5 495.5, 162.5 497.1 Q 162.5 498.8, 163.2 499.7 Q 163.9 500.5, 165.3 500.5 Q 166.2 500.5, 167.3 500.0 L 167.7 500.9 Q 167.2 501.2, 166.5 501.3 Q 165.9 501.5, 165.1 501.5 Q 163.3 501.5, 162.3 500.4 Q 161.3 499.2, 161.3 497.1 \" fill=\"#000000\"/>\n<path class=\"atom-6\" d=\"M 168.9 494.3 L 170.4 494.3 L 170.4 492.8 L 171.1 492.8 L 171.1 494.3 L 172.6 494.3 L 172.6 494.9 L 171.1 494.9 L 171.1 496.5 L 170.4 496.5 L 170.4 494.9 L 168.9 494.9 L 168.9 494.3 \" fill=\"#000000\"/>\n<path class=\"legend\" d=\"M 46.5 586.5 Q 46.5 583.8, 47.7 582.3 Q 49.0 580.9, 51.5 580.9 Q 53.7 580.9, 54.9 582.5 L 53.9 583.3 Q 53.0 582.2, 51.5 582.2 Q 49.8 582.2, 48.9 583.3 Q 48.1 584.4, 48.1 586.5 Q 48.1 588.7, 49.0 589.8 Q 49.9 590.9, 51.6 590.9 Q 52.9 590.9, 54.3 590.2 L 54.7 591.3 Q 54.1 591.7, 53.3 591.9 Q 52.4 592.1, 51.4 592.1 Q 49.0 592.1, 47.7 590.7 Q 46.5 589.2, 46.5 586.5 \" fill=\"#000000\"/>\n<path class=\"legend\" d=\"M 56.3 586.5 Q 56.3 583.8, 57.6 582.3 Q 58.9 580.9, 61.3 580.9 Q 63.6 580.9, 64.8 582.5 L 63.8 583.3 Q 62.9 582.2, 61.3 582.2 Q 59.7 582.2, 58.8 583.3 Q 57.9 584.4, 57.9 586.5 Q 57.9 588.7, 58.8 589.8 Q 59.7 590.9, 61.5 590.9 Q 62.7 590.9, 64.1 590.2 L 64.5 591.3 Q 64.0 591.7, 63.1 591.9 Q 62.2 592.1, 61.3 592.1 Q 58.9 592.1, 57.6 590.7 Q 56.3 589.2, 56.3 586.5 \" fill=\"#000000\"/>\n<path class=\"legend\" d=\"M 66.2 586.5 Q 66.2 583.8, 67.4 582.3 Q 68.7 580.9, 71.2 580.9 Q 73.4 580.9, 74.6 582.5 L 73.6 583.3 Q 72.7 582.2, 71.2 582.2 Q 69.5 582.2, 68.6 583.3 Q 67.7 584.4, 67.7 586.5 Q 67.7 588.7, 68.6 589.8 Q 69.6 590.9, 71.3 590.9 Q 72.5 590.9, 73.9 590.2 L 74.4 591.3 Q 73.8 591.7, 72.9 591.9 Q 72.1 592.1, 71.1 592.1 Q 68.7 592.1, 67.4 590.7 Q 66.2 589.2, 66.2 586.5 \" fill=\"#000000\"/>\n<path class=\"legend\" d=\"M 76.0 586.5 Q 76.0 583.8, 77.3 582.3 Q 78.6 580.9, 81.0 580.9 Q 83.3 580.9, 84.5 582.5 L 83.4 583.3 Q 82.6 582.2, 81.0 582.2 Q 79.3 582.2, 78.5 583.3 Q 77.6 584.4, 77.6 586.5 Q 77.6 588.7, 78.5 589.8 Q 79.4 590.9, 81.2 590.9 Q 82.4 590.9, 83.8 590.2 L 84.2 591.3 Q 83.6 591.7, 82.8 591.9 Q 81.9 592.1, 80.9 592.1 Q 78.6 592.1, 77.3 590.7 Q 76.0 589.2, 76.0 586.5 \" fill=\"#000000\"/>\n<path class=\"legend\" d=\"M 85.8 586.5 Q 85.8 583.8, 87.1 582.3 Q 88.4 580.9, 90.8 580.9 Q 93.1 580.9, 94.3 582.5 L 93.3 583.3 Q 92.4 582.2, 90.8 582.2 Q 89.2 582.2, 88.3 583.3 Q 87.4 584.4, 87.4 586.5 Q 87.4 588.7, 88.3 589.8 Q 89.2 590.9, 91.0 590.9 Q 92.2 590.9, 93.6 590.2 L 94.1 591.3 Q 93.5 591.7, 92.6 591.9 Q 91.8 592.1, 90.8 592.1 Q 88.4 592.1, 87.1 590.7 Q 85.8 589.2, 85.8 586.5 \" fill=\"#000000\"/>\n<path class=\"legend\" d=\"M 95.7 586.5 Q 95.7 583.8, 97.0 582.3 Q 98.2 580.9, 100.7 580.9 Q 102.9 580.9, 104.2 582.5 L 103.1 583.3 Q 102.2 582.2, 100.7 582.2 Q 99.0 582.2, 98.1 583.3 Q 97.3 584.4, 97.3 586.5 Q 97.3 588.7, 98.2 589.8 Q 99.1 590.9, 100.8 590.9 Q 102.1 590.9, 103.5 590.2 L 103.9 591.3 Q 103.3 591.7, 102.5 591.9 Q 101.6 592.1, 100.6 592.1 Q 98.2 592.1, 97.0 590.7 Q 95.7 589.2, 95.7 586.5 \" fill=\"#000000\"/>\n<path class=\"legend\" d=\"M 105.5 580.0 L 108.8 580.0 L 108.8 581.1 L 106.8 581.1 L 106.8 593.9 L 108.8 593.9 L 108.8 595.0 L 105.5 595.0 L 105.5 580.0 \" fill=\"#000000\"/>\n<path class=\"legend\" d=\"M 109.9 586.5 Q 109.9 583.8, 111.2 582.3 Q 112.5 580.9, 114.9 580.9 Q 117.2 580.9, 118.4 582.5 L 117.3 583.3 Q 116.5 582.2, 114.9 582.2 Q 113.2 582.2, 112.3 583.3 Q 111.5 584.4, 111.5 586.5 Q 111.5 588.7, 112.4 589.8 Q 113.3 590.9, 115.1 590.9 Q 116.3 590.9, 117.7 590.2 L 118.1 591.3 Q 117.5 591.7, 116.7 591.9 Q 115.8 592.1, 114.8 592.1 Q 112.5 592.1, 111.2 590.7 Q 109.9 589.2, 109.9 586.5 \" fill=\"#000000\"/>\n<path class=\"legend\" d=\"M 119.7 581.0 L 121.2 581.0 L 121.2 585.7 L 126.8 585.7 L 126.8 581.0 L 128.3 581.0 L 128.3 592.0 L 126.8 592.0 L 126.8 586.9 L 121.2 586.9 L 121.2 592.0 L 119.7 592.0 L 119.7 581.0 \" fill=\"#000000\"/>\n<path class=\"legend\" d=\"M 130.4 586.7 L 133.3 586.7 L 133.3 583.6 L 134.6 583.6 L 134.6 586.7 L 137.6 586.7 L 137.6 587.8 L 134.6 587.8 L 134.6 590.9 L 133.3 590.9 L 133.3 587.8 L 130.4 587.8 L 130.4 586.7 \" fill=\"#000000\"/>\n<path class=\"legend\" d=\"M 143.0 580.0 L 143.0 595.0 L 139.7 595.0 L 139.7 593.9 L 141.7 593.9 L 141.7 581.1 L 139.7 581.1 L 139.7 580.0 L 143.0 580.0 \" fill=\"#000000\"/>\n<path class=\"legend\" d=\"M 145.1 586.5 Q 145.1 583.8, 146.3 582.3 Q 147.6 580.9, 150.0 580.9 Q 152.3 580.9, 153.5 582.5 L 152.5 583.3 Q 151.6 582.2, 150.0 582.2 Q 148.4 582.2, 147.5 583.3 Q 146.6 584.4, 146.6 586.5 Q 146.6 588.7, 147.5 589.8 Q 148.5 590.9, 150.2 590.9 Q 151.4 590.9, 152.8 590.2 L 153.3 591.3 Q 152.7 591.7, 151.8 591.9 Q 151.0 592.1, 150.0 592.1 Q 147.6 592.1, 146.3 590.7 Q 145.1 589.2, 145.1 586.5 \" fill=\"#000000\"/>\n<path class=\"bond-0 atom-0 atom-1\" d=\"M 326.1,502.1 L 352.1,487.1\" style=\"fill:none;fill-rule:evenodd;stroke:#000000;stroke-width:2.0px;stroke-linecap:butt;stroke-linejoin:miter;stroke-opacity:1\"/>\n<path class=\"bond-1 atom-1 atom-2\" d=\"M 352.1,487.1 L 362.6,493.2\" style=\"fill:none;fill-rule:evenodd;stroke:#000000;stroke-width:2.0px;stroke-linecap:butt;stroke-linejoin:miter;stroke-opacity:1\"/>\n<path class=\"bond-1 atom-1 atom-2\" d=\"M 362.6,493.2 L 373.1,499.2\" style=\"fill:none;fill-rule:evenodd;stroke:#FF0000;stroke-width:2.0px;stroke-linecap:butt;stroke-linejoin:miter;stroke-opacity:1\"/>\n<path class=\"bond-2 atom-0 atom-3\" d=\"M 326.1,502.1 L 315.3,495.8\" style=\"fill:none;fill-rule:evenodd;stroke:#000000;stroke-width:2.0px;stroke-linecap:butt;stroke-linejoin:miter;stroke-opacity:1\"/>\n<path class=\"bond-2 atom-0 atom-3\" d=\"M 315.3,495.8 L 304.4,489.5\" style=\"fill:none;fill-rule:evenodd;stroke:#0000FF;stroke-width:2.0px;stroke-linecap:butt;stroke-linejoin:miter;stroke-opacity:1\"/>\n<path class=\"bond-3 atom-3 atom-4\" d=\"M 296.0,489.5 L 285.1,495.8\" style=\"fill:none;fill-rule:evenodd;stroke:#0000FF;stroke-width:2.0px;stroke-linecap:butt;stroke-linejoin:miter;stroke-opacity:1\"/>\n<path class=\"bond-3 atom-3 atom-4\" d=\"M 285.1,495.8 L 274.3,502.1\" style=\"fill:none;fill-rule:evenodd;stroke:#000000;stroke-width:2.0px;stroke-linecap:butt;stroke-linejoin:miter;stroke-opacity:1\"/>\n<path class=\"bond-4 atom-4 atom-5\" d=\"M 274.3,502.1 L 248.4,487.1\" style=\"fill:none;fill-rule:evenodd;stroke:#000000;stroke-width:2.0px;stroke-linecap:butt;stroke-linejoin:miter;stroke-opacity:1\"/>\n<path class=\"bond-5 atom-5 atom-6\" d=\"M 248.4,487.1 L 237.8,493.2\" style=\"fill:none;fill-rule:evenodd;stroke:#000000;stroke-width:2.0px;stroke-linecap:butt;stroke-linejoin:miter;stroke-opacity:1\"/>\n<path class=\"bond-5 atom-5 atom-6\" d=\"M 237.8,493.2 L 227.3,499.2\" style=\"fill:none;fill-rule:evenodd;stroke:#FF0000;stroke-width:2.0px;stroke-linecap:butt;stroke-linejoin:miter;stroke-opacity:1\"/>\n<path d=\"M 327.4,501.3 L 326.1,502.1 L 325.6,501.7\" style=\"fill:none;stroke:#000000;stroke-width:2.0px;stroke-linecap:butt;stroke-linejoin:miter;stroke-opacity:1;\"/>\n<path d=\"M 350.8,487.8 L 352.1,487.1 L 352.6,487.4\" style=\"fill:none;stroke:#000000;stroke-width:2.0px;stroke-linecap:butt;stroke-linejoin:miter;stroke-opacity:1;\"/>\n<path d=\"M 274.8,501.7 L 274.3,502.1 L 273.0,501.3\" style=\"fill:none;stroke:#000000;stroke-width:2.0px;stroke-linecap:butt;stroke-linejoin:miter;stroke-opacity:1;\"/>\n<path d=\"M 249.7,487.8 L 248.4,487.1 L 247.8,487.4\" style=\"fill:none;stroke:#000000;stroke-width:2.0px;stroke-linecap:butt;stroke-linejoin:miter;stroke-opacity:1;\"/>\n<path class=\"atom-2\" d=\"M 374.1 502.1 Q 374.1 500.0, 375.1 498.9 Q 376.1 497.8, 378.0 497.8 Q 379.9 497.8, 380.9 498.9 Q 381.9 500.0, 381.9 502.1 Q 381.9 504.1, 380.9 505.3 Q 379.8 506.5, 378.0 506.5 Q 376.1 506.5, 375.1 505.3 Q 374.1 504.2, 374.1 502.1 M 378.0 505.5 Q 379.3 505.5, 380.0 504.7 Q 380.7 503.8, 380.7 502.1 Q 380.7 500.4, 380.0 499.6 Q 379.3 498.7, 378.0 498.7 Q 376.7 498.7, 376.0 499.6 Q 375.3 500.4, 375.3 502.1 Q 375.3 503.8, 376.0 504.7 Q 376.7 505.5, 378.0 505.5 \" fill=\"#FF0000\"/>\n<path class=\"atom-2\" d=\"M 383.2 497.9 L 384.3 497.9 L 384.3 501.5 L 388.7 501.5 L 388.7 497.9 L 389.8 497.9 L 389.8 506.3 L 388.7 506.3 L 388.7 502.4 L 384.3 502.4 L 384.3 506.3 L 383.2 506.3 L 383.2 497.9 \" fill=\"#FF0000\"/>\n<path class=\"atom-3\" d=\"M 298.3 482.9 L 301.1 487.3 Q 301.4 487.8, 301.8 488.6 Q 302.3 489.4, 302.3 489.4 L 302.3 482.9 L 303.4 482.9 L 303.4 491.3 L 302.3 491.3 L 299.3 486.4 Q 298.9 485.8, 298.6 485.2 Q 298.2 484.5, 298.1 484.3 L 298.1 491.3 L 297.0 491.3 L 297.0 482.9 L 298.3 482.9 \" fill=\"#0000FF\"/>\n<path class=\"atom-3\" d=\"M 296.9 473.5 L 298.0 473.5 L 298.0 477.1 L 302.4 477.1 L 302.4 473.5 L 303.5 473.5 L 303.5 482.0 L 302.4 482.0 L 302.4 478.1 L 298.0 478.1 L 298.0 482.0 L 296.9 482.0 L 296.9 473.5 \" fill=\"#0000FF\"/>\n<path class=\"atom-6\" d=\"M 210.2 497.9 L 211.3 497.9 L 211.3 501.5 L 215.7 501.5 L 215.7 497.9 L 216.8 497.9 L 216.8 506.3 L 215.7 506.3 L 215.7 502.4 L 211.3 502.4 L 211.3 506.3 L 210.2 506.3 L 210.2 497.9 \" fill=\"#FF0000\"/>\n<path class=\"atom-6\" d=\"M 218.5 502.1 Q 218.5 500.0, 219.6 498.9 Q 220.6 497.8, 222.4 497.8 Q 224.3 497.8, 225.3 498.9 Q 226.3 500.0, 226.3 502.1 Q 226.3 504.1, 225.3 505.3 Q 224.3 506.5, 222.4 506.5 Q 220.6 506.5, 219.6 505.3 Q 218.5 504.2, 218.5 502.1 M 222.4 505.5 Q 223.7 505.5, 224.4 504.7 Q 225.1 503.8, 225.1 502.1 Q 225.1 500.4, 224.4 499.6 Q 223.7 498.7, 222.4 498.7 Q 221.1 498.7, 220.4 499.6 Q 219.7 500.4, 219.7 502.1 Q 219.7 503.8, 220.4 504.7 Q 221.1 505.5, 222.4 505.5 \" fill=\"#FF0000\"/>\n<path class=\"legend\" d=\"M 261.3 586.5 Q 261.3 583.9, 262.6 582.5 Q 263.8 581.1, 266.1 581.1 Q 268.3 581.1, 269.4 582.6 L 268.5 583.4 Q 267.6 582.3, 266.1 582.3 Q 264.5 582.3, 263.7 583.4 Q 262.9 584.5, 262.9 586.5 Q 262.9 588.5, 263.7 589.6 Q 264.6 590.7, 266.3 590.7 Q 267.4 590.7, 268.8 590.0 L 269.2 591.1 Q 268.6 591.4, 267.8 591.6 Q 267.0 591.8, 266.1 591.8 Q 263.8 591.8, 262.6 590.5 Q 261.3 589.1, 261.3 586.5 \" fill=\"#000000\"/>\n<path class=\"legend\" d=\"M 270.8 587.5 Q 270.8 585.4, 271.4 583.6 Q 272.0 581.9, 273.2 580.0 L 274.0 580.5 Q 273.0 582.3, 272.6 583.9 Q 272.1 585.5, 272.1 587.5 Q 272.1 589.5, 272.6 591.1 Q 273.0 592.6, 274.0 594.5 L 273.2 595.0 Q 272.0 593.1, 271.4 591.4 Q 270.8 589.6, 270.8 587.5 \" fill=\"#000000\"/>\n<path class=\"legend\" d=\"M 275.1 586.5 Q 275.1 583.9, 276.3 582.5 Q 277.5 581.1, 279.9 581.1 Q 282.0 581.1, 283.2 582.6 L 282.2 583.4 Q 281.4 582.3, 279.9 582.3 Q 278.3 582.3, 277.4 583.4 Q 276.6 584.5, 276.6 586.5 Q 276.6 588.5, 277.5 589.6 Q 278.3 590.7, 280.0 590.7 Q 281.2 590.7, 282.5 590.0 L 282.9 591.1 Q 282.4 591.4, 281.6 591.6 Q 280.7 591.8, 279.8 591.8 Q 277.5 591.8, 276.3 590.5 Q 275.1 589.1, 275.1 586.5 \" fill=\"#000000\"/>\n<path class=\"legend\" d=\"M 284.5 586.4 Q 284.5 583.9, 285.8 582.5 Q 287.0 581.1, 289.3 581.1 Q 291.6 581.1, 292.9 582.5 Q 294.1 583.9, 294.1 586.4 Q 294.1 589.0, 292.9 590.4 Q 291.6 591.9, 289.3 591.9 Q 287.0 591.9, 285.8 590.4 Q 284.5 589.0, 284.5 586.4 M 289.3 590.7 Q 290.9 590.7, 291.8 589.6 Q 292.6 588.6, 292.6 586.4 Q 292.6 584.4, 291.8 583.4 Q 290.9 582.3, 289.3 582.3 Q 287.7 582.3, 286.8 583.3 Q 286.0 584.4, 286.0 586.4 Q 286.0 588.6, 286.8 589.6 Q 287.7 590.7, 289.3 590.7 \" fill=\"#000000\"/>\n<path class=\"legend\" d=\"M 298.9 587.5 Q 298.9 589.6, 298.2 591.4 Q 297.6 593.1, 296.4 595.0 L 295.6 594.5 Q 296.6 592.6, 297.0 591.1 Q 297.5 589.5, 297.5 587.5 Q 297.5 585.5, 297.0 583.9 Q 296.6 582.3, 295.6 580.5 L 296.4 580.0 Q 297.6 581.9, 298.2 583.6 Q 298.9 585.4, 298.9 587.5 \" fill=\"#000000\"/>\n<path class=\"legend\" d=\"M 302.0 581.2 L 305.4 586.8 Q 305.8 587.3, 306.3 588.3 Q 306.9 589.3, 306.9 589.4 L 306.9 581.2 L 308.3 581.2 L 308.3 591.7 L 306.8 591.7 L 303.2 585.7 Q 302.7 584.9, 302.3 584.1 Q 301.8 583.3, 301.7 583.1 L 301.7 591.7 L 300.3 591.7 L 300.3 581.2 L 302.0 581.2 \" fill=\"#000000\"/>\n<path class=\"legend\" d=\"M 310.2 586.5 Q 310.2 583.9, 311.4 582.5 Q 312.7 581.1, 315.0 581.1 Q 317.2 581.1, 318.3 582.6 L 317.3 583.4 Q 316.5 582.3, 315.0 582.3 Q 313.4 582.3, 312.6 583.4 Q 311.7 584.5, 311.7 586.5 Q 311.7 588.5, 312.6 589.6 Q 313.5 590.7, 315.2 590.7 Q 316.3 590.7, 317.7 590.0 L 318.1 591.1 Q 317.5 591.4, 316.7 591.6 Q 315.9 591.8, 315.0 591.8 Q 312.7 591.8, 311.4 590.5 Q 310.2 589.1, 310.2 586.5 \" fill=\"#000000\"/>\n<path class=\"legend\" d=\"M 319.6 586.5 Q 319.6 583.9, 320.8 582.5 Q 322.1 581.1, 324.4 581.1 Q 326.6 581.1, 327.7 582.6 L 326.7 583.4 Q 325.9 582.3, 324.4 582.3 Q 322.8 582.3, 322.0 583.4 Q 321.1 584.5, 321.1 586.5 Q 321.1 588.5, 322.0 589.6 Q 322.9 590.7, 324.6 590.7 Q 325.7 590.7, 327.1 590.0 L 327.5 591.1 Q 326.9 591.4, 326.1 591.6 Q 325.3 591.8, 324.4 591.8 Q 322.1 591.8, 320.8 590.5 Q 319.6 589.1, 319.6 586.5 \" fill=\"#000000\"/>\n<path class=\"legend\" d=\"M 329.0 586.4 Q 329.0 583.9, 330.3 582.5 Q 331.5 581.1, 333.8 581.1 Q 336.2 581.1, 337.4 582.5 Q 338.7 583.9, 338.7 586.4 Q 338.7 589.0, 337.4 590.4 Q 336.1 591.9, 333.8 591.9 Q 331.5 591.9, 330.3 590.4 Q 329.0 589.0, 329.0 586.4 M 333.8 590.7 Q 335.4 590.7, 336.3 589.6 Q 337.2 588.6, 337.2 586.4 Q 337.2 584.4, 336.3 583.4 Q 335.4 582.3, 333.8 582.3 Q 332.2 582.3, 331.4 583.3 Q 330.5 584.4, 330.5 586.4 Q 330.5 588.6, 331.4 589.6 Q 332.2 590.7, 333.8 590.7 \" fill=\"#000000\"/>\n<path class=\"bond-0 atom-0 atom-1\" d=\"M 564.3,492.9 L 539.3,509.3\" style=\"fill:none;fill-rule:evenodd;stroke:#000000;stroke-width:2.0px;stroke-linecap:butt;stroke-linejoin:miter;stroke-opacity:1\"/>\n<path class=\"bond-1 atom-1 atom-2\" d=\"M 539.3,509.3 L 512.5,495.9\" style=\"fill:none;fill-rule:evenodd;stroke:#000000;stroke-width:2.0px;stroke-linecap:butt;stroke-linejoin:miter;stroke-opacity:1\"/>\n<path class=\"bond-2 atom-2 atom-3\" d=\"M 512.5,495.9 L 487.5,512.3\" style=\"fill:none;fill-rule:evenodd;stroke:#000000;stroke-width:2.0px;stroke-linecap:butt;stroke-linejoin:miter;stroke-opacity:1\"/>\n<path class=\"bond-3 atom-3 atom-4\" d=\"M 487.5,512.3 L 476.0,506.5\" style=\"fill:none;fill-rule:evenodd;stroke:#000000;stroke-width:2.0px;stroke-linecap:butt;stroke-linejoin:miter;stroke-opacity:1\"/>\n<path class=\"bond-3 atom-3 atom-4\" d=\"M 476.0,506.5 L 464.4,500.7\" style=\"fill:none;fill-rule:evenodd;stroke:#FF7F00;stroke-width:2.0px;stroke-linecap:butt;stroke-linejoin:miter;stroke-opacity:1\"/>\n<path class=\"bond-4 atom-4 atom-5\" d=\"M 457.1,501.3 L 446.4,508.3\" style=\"fill:none;fill-rule:evenodd;stroke:#FF7F00;stroke-width:2.0px;stroke-linecap:butt;stroke-linejoin:miter;stroke-opacity:1\"/>\n<path class=\"bond-4 atom-4 atom-5\" d=\"M 446.4,508.3 L 435.7,515.3\" style=\"fill:none;fill-rule:evenodd;stroke:#000000;stroke-width:2.0px;stroke-linecap:butt;stroke-linejoin:miter;stroke-opacity:1\"/>\n<path class=\"bond-5 atom-4 atom-6\" d=\"M 460.4,493.6 L 459.3,474.2\" style=\"fill:none;fill-rule:evenodd;stroke:#FF7F00;stroke-width:2.0px;stroke-linecap:butt;stroke-linejoin:miter;stroke-opacity:1\"/>\n<path d=\"M 540.5,508.5 L 539.3,509.3 L 537.9,508.6\" style=\"fill:none;stroke:#000000;stroke-width:2.0px;stroke-linecap:butt;stroke-linejoin:miter;stroke-opacity:1;\"/>\n<path d=\"M 513.8,496.5 L 512.5,495.9 L 511.3,496.7\" style=\"fill:none;stroke:#000000;stroke-width:2.0px;stroke-linecap:butt;stroke-linejoin:miter;stroke-opacity:1;\"/>\n<path d=\"M 488.7,511.5 L 487.5,512.3 L 486.9,512.0\" style=\"fill:none;stroke:#000000;stroke-width:2.0px;stroke-linecap:butt;stroke-linejoin:miter;stroke-opacity:1;\"/>\n<path class=\"atom-4\" d=\"M 460.5 494.6 Q 462.0 494.6, 462.7 495.3 Q 463.5 495.9, 463.5 497.1 Q 463.5 498.3, 462.7 498.9 Q 462.0 499.6, 460.5 499.6 L 459.2 499.6 L 459.2 503.1 L 458.0 503.1 L 458.0 494.6 L 460.5 494.6 M 460.5 498.6 Q 461.4 498.6, 461.8 498.2 Q 462.3 497.9, 462.3 497.1 Q 462.3 496.3, 461.8 496.0 Q 461.4 495.6, 460.5 495.6 L 459.2 495.6 L 459.2 498.6 L 460.5 498.6 \" fill=\"#FF7F00\"/>\n<path class=\"atom-6\" d=\"M 458.8 464.7 Q 460.3 464.7, 461.0 465.4 Q 461.7 466.0, 461.7 467.2 Q 461.7 468.4, 461.0 469.1 Q 460.2 469.7, 458.8 469.7 L 457.5 469.7 L 457.5 473.2 L 456.3 473.2 L 456.3 464.7 L 458.8 464.7 M 458.8 468.8 Q 459.7 468.8, 460.1 468.4 Q 460.5 468.0, 460.5 467.2 Q 460.5 466.5, 460.1 466.1 Q 459.7 465.7, 458.8 465.7 L 457.5 465.7 L 457.5 468.8 L 458.8 468.8 \" fill=\"#FF7F00\"/>\n<path class=\"atom-6\" d=\"M 462.9 464.7 L 464.0 464.7 L 464.0 468.3 L 468.4 468.3 L 468.4 464.7 L 469.5 464.7 L 469.5 473.2 L 468.4 473.2 L 468.4 469.3 L 464.0 469.3 L 464.0 473.2 L 462.9 473.2 L 462.9 464.7 \" fill=\"#FF7F00\"/>\n<path class=\"atom-6\" d=\"M 471.1 472.9 Q 471.4 472.4, 471.8 472.1 Q 472.3 471.8, 473.0 471.8 Q 473.9 471.8, 474.3 472.2 Q 474.8 472.7, 474.8 473.5 Q 474.8 474.3, 474.2 475.1 Q 473.6 475.9, 472.3 476.8 L 474.9 476.8 L 474.9 477.4 L 471.1 477.4 L 471.1 476.9 Q 472.2 476.2, 472.8 475.6 Q 473.4 475.1, 473.7 474.6 Q 474.0 474.1, 474.0 473.5 Q 474.0 473.0, 473.7 472.7 Q 473.5 472.4, 473.0 472.4 Q 472.6 472.4, 472.3 472.6 Q 472.0 472.8, 471.7 473.2 L 471.1 472.9 \" fill=\"#FF7F00\"/>\n<path class=\"legend\" d=\"M 464.8 586.5 Q 464.8 583.9, 466.0 582.5 Q 467.2 581.1, 469.6 581.1 Q 471.7 581.1, 472.9 582.6 L 471.9 583.4 Q 471.1 582.3, 469.6 582.3 Q 468.0 582.3, 467.1 583.4 Q 466.3 584.5, 466.3 586.5 Q 466.3 588.5, 467.2 589.6 Q 468.0 590.7, 469.7 590.7 Q 470.9 590.7, 472.2 590.0 L 472.6 591.1 Q 472.1 591.4, 471.3 591.6 Q 470.4 591.8, 469.5 591.8 Q 467.2 591.8, 466.0 590.5 Q 464.8 589.1, 464.8 586.5 \" fill=\"#000000\"/>\n<path class=\"legend\" d=\"M 474.1 586.5 Q 474.1 583.9, 475.4 582.5 Q 476.6 581.1, 478.9 581.1 Q 481.1 581.1, 482.2 582.6 L 481.2 583.4 Q 480.4 582.3, 478.9 582.3 Q 477.3 582.3, 476.5 583.4 Q 475.7 584.5, 475.7 586.5 Q 475.7 588.5, 476.5 589.6 Q 477.4 590.7, 479.1 590.7 Q 480.2 590.7, 481.6 590.0 L 482.0 591.1 Q 481.4 591.4, 480.6 591.6 Q 479.8 591.8, 478.9 591.8 Q 476.6 591.8, 475.4 590.5 Q 474.1 589.1, 474.1 586.5 \" fill=\"#000000\"/>\n<path class=\"legend\" d=\"M 483.5 586.5 Q 483.5 583.9, 484.7 582.5 Q 485.9 581.1, 488.2 581.1 Q 490.4 581.1, 491.6 582.6 L 490.6 583.4 Q 489.7 582.3, 488.2 582.3 Q 486.7 582.3, 485.8 583.4 Q 485.0 584.5, 485.0 586.5 Q 485.0 588.5, 485.9 589.6 Q 486.7 590.7, 488.4 590.7 Q 489.6 590.7, 490.9 590.0 L 491.3 591.1 Q 490.8 591.4, 489.9 591.6 Q 489.1 591.8, 488.2 591.8 Q 485.9 591.8, 484.7 590.5 Q 483.5 589.1, 483.5 586.5 \" fill=\"#000000\"/>\n<path class=\"legend\" d=\"M 492.8 586.5 Q 492.8 583.9, 494.0 582.5 Q 495.3 581.1, 497.6 581.1 Q 499.7 581.1, 500.9 582.6 L 499.9 583.4 Q 499.1 582.3, 497.6 582.3 Q 496.0 582.3, 495.2 583.4 Q 494.3 584.5, 494.3 586.5 Q 494.3 588.5, 495.2 589.6 Q 496.1 590.7, 497.7 590.7 Q 498.9 590.7, 500.2 590.0 L 500.7 591.1 Q 500.1 591.4, 499.3 591.6 Q 498.5 591.8, 497.5 591.8 Q 495.3 591.8, 494.0 590.5 Q 492.8 589.1, 492.8 586.5 \" fill=\"#000000\"/>\n<path class=\"legend\" d=\"M 505.3 581.2 Q 507.0 581.2, 507.9 582.1 Q 508.8 582.9, 508.8 584.3 Q 508.8 585.8, 507.9 586.6 Q 507.0 587.4, 505.3 587.4 L 503.6 587.4 L 503.6 591.7 L 502.2 591.7 L 502.2 581.2 L 505.3 581.2 M 505.3 586.2 Q 506.3 586.2, 506.8 585.7 Q 507.4 585.3, 507.4 584.3 Q 507.4 583.4, 506.8 582.9 Q 506.3 582.4, 505.3 582.4 L 503.6 582.4 L 503.6 586.2 L 505.3 586.2 \" fill=\"#000000\"/>\n<path class=\"legend\" d=\"M 510.2 587.5 Q 510.2 585.4, 510.8 583.6 Q 511.4 581.9, 512.6 580.0 L 513.5 580.5 Q 512.5 582.3, 512.0 583.9 Q 511.5 585.5, 511.5 587.5 Q 511.5 589.5, 512.0 591.1 Q 512.5 592.6, 513.5 594.5 L 512.6 595.0 Q 511.4 593.1, 510.8 591.4 Q 510.2 589.6, 510.2 587.5 \" fill=\"#000000\"/>\n<path class=\"legend\" d=\"M 514.5 586.5 Q 514.5 583.9, 515.7 582.5 Q 516.9 581.1, 519.3 581.1 Q 521.4 581.1, 522.6 582.6 L 521.6 583.4 Q 520.8 582.3, 519.3 582.3 Q 517.7 582.3, 516.8 583.4 Q 516.0 584.5, 516.0 586.5 Q 516.0 588.5, 516.9 589.6 Q 517.7 590.7, 519.4 590.7 Q 520.6 590.7, 521.9 590.0 L 522.3 591.1 Q 521.8 591.4, 521.0 591.6 Q 520.1 591.8, 519.2 591.8 Q 516.9 591.8, 515.7 590.5 Q 514.5 589.1, 514.5 586.5 \" fill=\"#000000\"/>\n<path class=\"legend\" d=\"M 527.1 587.5 Q 527.1 589.6, 526.5 591.4 Q 525.9 593.1, 524.7 595.0 L 523.8 594.5 Q 524.8 592.6, 525.3 591.1 Q 525.8 589.5, 525.8 587.5 Q 525.8 585.5, 525.3 583.9 Q 524.8 582.3, 523.8 580.5 L 524.7 580.0 Q 525.9 581.9, 526.5 583.6 Q 527.1 585.4, 527.1 587.5 \" fill=\"#000000\"/>\n<path class=\"legend\" d=\"M 531.6 581.2 Q 533.4 581.2, 534.3 582.1 Q 535.2 582.9, 535.2 584.3 Q 535.2 585.8, 534.3 586.6 Q 533.3 587.4, 531.6 587.4 L 529.9 587.4 L 529.9 591.7 L 528.5 591.7 L 528.5 581.2 L 531.6 581.2 M 531.6 586.2 Q 532.6 586.2, 533.2 585.7 Q 533.7 585.3, 533.7 584.3 Q 533.7 583.4, 533.2 582.9 Q 532.6 582.4, 531.6 582.4 L 529.9 582.4 L 529.9 586.2 L 531.6 586.2 \" fill=\"#000000\"/>\n<path class=\"bond-0 atom-0 atom-1\" d=\"M 752.1,497.4 L 762.6,491.3\" style=\"fill:none;fill-rule:evenodd;stroke:#000000;stroke-width:2.0px;stroke-linecap:butt;stroke-linejoin:miter;stroke-opacity:1\"/>\n<path class=\"bond-0 atom-0 atom-1\" d=\"M 762.6,491.3 L 773.1,485.3\" style=\"fill:none;fill-rule:evenodd;stroke:#FF0000;stroke-width:2.0px;stroke-linecap:butt;stroke-linejoin:miter;stroke-opacity:1\"/>\n<path class=\"bond-1 atom-0 atom-2\" d=\"M 752.1,497.4 L 741.5,491.3\" style=\"fill:none;fill-rule:evenodd;stroke:#000000;stroke-width:2.0px;stroke-linecap:butt;stroke-linejoin:miter;stroke-opacity:1\"/>\n<path class=\"bond-1 atom-0 atom-2\" d=\"M 741.5,491.3 L 731.0,485.3\" style=\"fill:none;fill-rule:evenodd;stroke:#FF0000;stroke-width:2.0px;stroke-linecap:butt;stroke-linejoin:miter;stroke-opacity:1\"/>\n<path class=\"bond-2 atom-2 atom-3\" d=\"M 721.3,485.3 L 705.1,494.6\" style=\"fill:none;fill-rule:evenodd;stroke:#FF0000;stroke-width:2.0px;stroke-linecap:butt;stroke-linejoin:miter;stroke-opacity:1\"/>\n<path class=\"bond-3 atom-3 atom-4\" d=\"M 695.3,494.6 L 679.2,485.3\" style=\"fill:none;fill-rule:evenodd;stroke:#FF0000;stroke-width:2.0px;stroke-linecap:butt;stroke-linejoin:miter;stroke-opacity:1\"/>\n<path class=\"bond-4 atom-4 atom-5\" d=\"M 669.4,485.3 L 658.9,491.3\" style=\"fill:none;fill-rule:evenodd;stroke:#FF0000;stroke-width:2.0px;stroke-linecap:butt;stroke-linejoin:miter;stroke-opacity:1\"/>\n<path class=\"bond-4 atom-4 atom-5\" d=\"M 658.9,491.3 L 648.4,497.4\" style=\"fill:none;fill-rule:evenodd;stroke:#000000;stroke-width:2.0px;stroke-linecap:butt;stroke-linejoin:miter;stroke-opacity:1\"/>\n<path class=\"bond-5 atom-5 atom-6\" d=\"M 648.4,497.4 L 637.8,491.3\" style=\"fill:none;fill-rule:evenodd;stroke:#000000;stroke-width:2.0px;stroke-linecap:butt;stroke-linejoin:miter;stroke-opacity:1\"/>\n<path class=\"bond-5 atom-5 atom-6\" d=\"M 637.8,491.3 L 627.3,485.3\" style=\"fill:none;fill-rule:evenodd;stroke:#FF0000;stroke-width:2.0px;stroke-linecap:butt;stroke-linejoin:miter;stroke-opacity:1\"/>\n<path d=\"M 752.6,497.1 L 752.1,497.4 L 751.5,497.1\" style=\"fill:none;stroke:#000000;stroke-width:2.0px;stroke-linecap:butt;stroke-linejoin:miter;stroke-opacity:1;\"/>\n<path d=\"M 648.9,497.1 L 648.4,497.4 L 647.8,497.1\" style=\"fill:none;stroke:#000000;stroke-width:2.0px;stroke-linecap:butt;stroke-linejoin:miter;stroke-opacity:1;\"/>\n<path class=\"atom-1\" d=\"M 774.1 482.5 Q 774.1 480.4, 775.1 479.3 Q 776.1 478.2, 778.0 478.2 Q 779.9 478.2, 780.9 479.3 Q 781.9 480.4, 781.9 482.5 Q 781.9 484.5, 780.9 485.7 Q 779.8 486.9, 778.0 486.9 Q 776.1 486.9, 775.1 485.7 Q 774.1 484.5, 774.1 482.5 M 778.0 485.9 Q 779.3 485.9, 780.0 485.0 Q 780.7 484.2, 780.7 482.5 Q 780.7 480.8, 780.0 480.0 Q 779.3 479.1, 778.0 479.1 Q 776.7 479.1, 776.0 480.0 Q 775.3 480.8, 775.3 482.5 Q 775.3 484.2, 776.0 485.0 Q 776.7 485.9, 778.0 485.9 \" fill=\"#FF0000\"/>\n<path class=\"atom-1\" d=\"M 783.2 478.3 L 784.3 478.3 L 784.3 481.9 L 788.7 481.9 L 788.7 478.3 L 789.8 478.3 L 789.8 486.7 L 788.7 486.7 L 788.7 482.8 L 784.3 482.8 L 784.3 486.7 L 783.2 486.7 L 783.2 478.3 \" fill=\"#FF0000\"/>\n<path class=\"atom-2\" d=\"M 722.2 482.5 Q 722.2 480.4, 723.2 479.3 Q 724.3 478.2, 726.1 478.2 Q 728.0 478.2, 729.0 479.3 Q 730.0 480.4, 730.0 482.5 Q 730.0 484.5, 729.0 485.7 Q 728.0 486.9, 726.1 486.9 Q 724.3 486.9, 723.2 485.7 Q 722.2 484.5, 722.2 482.5 M 726.1 485.9 Q 727.4 485.9, 728.1 485.0 Q 728.8 484.2, 728.8 482.5 Q 728.8 480.8, 728.1 480.0 Q 727.4 479.1, 726.1 479.1 Q 724.8 479.1, 724.1 480.0 Q 723.4 480.8, 723.4 482.5 Q 723.4 484.2, 724.1 485.0 Q 724.8 485.9, 726.1 485.9 \" fill=\"#FF0000\"/>\n<path class=\"atom-3\" d=\"M 696.3 497.4 Q 696.3 495.4, 697.3 494.3 Q 698.3 493.1, 700.2 493.1 Q 702.1 493.1, 703.1 494.3 Q 704.1 495.4, 704.1 497.4 Q 704.1 499.5, 703.1 500.7 Q 702.1 501.8, 700.2 501.8 Q 698.3 501.8, 697.3 500.7 Q 696.3 499.5, 696.3 497.4 M 700.2 500.9 Q 701.5 500.9, 702.2 500.0 Q 702.9 499.1, 702.9 497.4 Q 702.9 495.8, 702.2 494.9 Q 701.5 494.1, 700.2 494.1 Q 698.9 494.1, 698.2 494.9 Q 697.5 495.8, 697.5 497.4 Q 697.5 499.2, 698.2 500.0 Q 698.9 500.9, 700.2 500.9 \" fill=\"#FF0000\"/>\n<path class=\"atom-4\" d=\"M 670.4 482.5 Q 670.4 480.4, 671.4 479.3 Q 672.4 478.2, 674.3 478.2 Q 676.2 478.2, 677.2 479.3 Q 678.2 480.4, 678.2 482.5 Q 678.2 484.5, 677.2 485.7 Q 676.1 486.9, 674.3 486.9 Q 672.4 486.9, 671.4 485.7 Q 670.4 484.5, 670.4 482.5 M 674.3 485.9 Q 675.6 485.9, 676.3 485.0 Q 677.0 484.2, 677.0 482.5 Q 677.0 480.8, 676.3 480.0 Q 675.6 479.1, 674.3 479.1 Q 673.0 479.1, 672.3 480.0 Q 671.6 480.8, 671.6 482.5 Q 671.6 484.2, 672.3 485.0 Q 673.0 485.9, 674.3 485.9 \" fill=\"#FF0000\"/>\n<path class=\"atom-6\" d=\"M 610.2 478.3 L 611.3 478.3 L 611.3 481.9 L 615.7 481.9 L 615.7 478.3 L 616.8 478.3 L 616.8 486.7 L 615.7 486.7 L 615.7 482.8 L 611.3 482.8 L 611.3 486.7 L 610.2 486.7 L 610.2 478.3 \" fill=\"#FF0000\"/>\n<path class=\"atom-6\" d=\"M 618.5 482.5 Q 618.5 480.4, 619.6 479.3 Q 620.6 478.2, 622.4 478.2 Q 624.3 478.2, 625.3 479.3 Q 626.3 480.4, 626.3 482.5 Q 626.3 484.5, 625.3 485.7 Q 624.3 486.9, 622.4 486.9 Q 620.6 486.9, 619.6 485.7 Q 618.5 484.5, 618.5 482.5 M 622.4 485.9 Q 623.7 485.9, 624.4 485.0 Q 625.1 484.2, 625.1 482.5 Q 625.1 480.8, 624.4 480.0 Q 623.7 479.1, 622.4 479.1 Q 621.1 479.1, 620.4 480.0 Q 619.7 480.8, 619.7 482.5 Q 619.7 484.2, 620.4 485.0 Q 621.1 485.9, 622.4 485.9 \" fill=\"#FF0000\"/>\n<path class=\"legend\" d=\"M 658.9 586.5 Q 658.9 583.9, 660.1 582.5 Q 661.3 581.1, 663.6 581.1 Q 665.8 581.1, 666.9 582.6 L 666.0 583.4 Q 665.1 582.3, 663.6 582.3 Q 662.0 582.3, 661.2 583.4 Q 660.4 584.5, 660.4 586.5 Q 660.4 588.5, 661.2 589.6 Q 662.1 590.7, 663.8 590.7 Q 664.9 590.7, 666.3 590.0 L 666.7 591.1 Q 666.2 591.4, 665.3 591.6 Q 664.5 591.8, 663.6 591.8 Q 661.3 591.8, 660.1 590.5 Q 658.9 589.1, 658.9 586.5 \" fill=\"#000000\"/>\n<path class=\"legend\" d=\"M 668.3 587.5 Q 668.3 585.4, 668.9 583.6 Q 669.5 581.9, 670.7 580.0 L 671.6 580.5 Q 670.6 582.3, 670.1 583.9 Q 669.6 585.5, 669.6 587.5 Q 669.6 589.5, 670.1 591.1 Q 670.6 592.6, 671.6 594.5 L 670.7 595.0 Q 669.5 593.1, 668.9 591.4 Q 668.3 589.6, 668.3 587.5 \" fill=\"#000000\"/>\n<path class=\"legend\" d=\"M 672.7 586.4 Q 672.7 583.9, 674.0 582.5 Q 675.2 581.1, 677.5 581.1 Q 679.9 581.1, 681.1 582.5 Q 682.3 583.9, 682.3 586.4 Q 682.3 589.0, 681.1 590.4 Q 679.8 591.9, 677.5 591.9 Q 675.2 591.9, 674.0 590.4 Q 672.7 589.0, 672.7 586.4 M 677.5 590.7 Q 679.1 590.7, 680.0 589.6 Q 680.9 588.6, 680.9 586.4 Q 680.9 584.4, 680.0 583.4 Q 679.1 582.3, 677.5 582.3 Q 675.9 582.3, 675.1 583.3 Q 674.2 584.4, 674.2 586.4 Q 674.2 588.6, 675.1 589.6 Q 675.9 590.7, 677.5 590.7 \" fill=\"#000000\"/>\n<path class=\"legend\" d=\"M 687.1 587.5 Q 687.1 589.6, 686.5 591.4 Q 685.9 593.1, 684.7 595.0 L 683.9 594.5 Q 684.8 592.6, 685.3 591.1 Q 685.8 589.5, 685.8 587.5 Q 685.8 585.5, 685.3 583.9 Q 684.8 582.3, 683.9 580.5 L 684.7 580.0 Q 685.9 581.9, 686.5 583.6 Q 687.1 585.4, 687.1 587.5 \" fill=\"#000000\"/>\n<path class=\"legend\" d=\"M 688.6 586.4 Q 688.6 583.9, 689.9 582.5 Q 691.1 581.1, 693.5 581.1 Q 695.8 581.1, 697.0 582.5 Q 698.3 583.9, 698.3 586.4 Q 698.3 589.0, 697.0 590.4 Q 695.7 591.9, 693.5 591.9 Q 691.1 591.9, 689.9 590.4 Q 688.6 589.0, 688.6 586.4 M 693.5 590.7 Q 695.1 590.7, 695.9 589.6 Q 696.8 588.6, 696.8 586.4 Q 696.8 584.4, 695.9 583.4 Q 695.1 582.3, 693.5 582.3 Q 691.9 582.3, 691.0 583.3 Q 690.1 584.4, 690.1 586.4 Q 690.1 588.6, 691.0 589.6 Q 691.9 590.7, 693.5 590.7 \" fill=\"#000000\"/>\n<path class=\"legend\" d=\"M 699.8 586.4 Q 699.8 583.9, 701.0 582.5 Q 702.3 581.1, 704.6 581.1 Q 706.9 581.1, 708.2 582.5 Q 709.4 583.9, 709.4 586.4 Q 709.4 589.0, 708.1 590.4 Q 706.9 591.9, 704.6 591.9 Q 702.3 591.9, 701.0 590.4 Q 699.8 589.0, 699.8 586.4 M 704.6 590.7 Q 706.2 590.7, 707.1 589.6 Q 707.9 588.6, 707.9 586.4 Q 707.9 584.4, 707.1 583.4 Q 706.2 582.3, 704.6 582.3 Q 703.0 582.3, 702.1 583.3 Q 701.3 584.4, 701.3 586.4 Q 701.3 588.6, 702.1 589.6 Q 703.0 590.7, 704.6 590.7 \" fill=\"#000000\"/>\n<path class=\"legend\" d=\"M 710.9 586.4 Q 710.9 583.9, 712.2 582.5 Q 713.4 581.1, 715.7 581.1 Q 718.1 581.1, 719.3 582.5 Q 720.5 583.9, 720.5 586.4 Q 720.5 589.0, 719.3 590.4 Q 718.0 591.9, 715.7 591.9 Q 713.4 591.9, 712.2 590.4 Q 710.9 589.0, 710.9 586.4 M 715.7 590.7 Q 717.3 590.7, 718.2 589.6 Q 719.1 588.6, 719.1 586.4 Q 719.1 584.4, 718.2 583.4 Q 717.3 582.3, 715.7 582.3 Q 714.1 582.3, 713.3 583.3 Q 712.4 584.4, 712.4 586.4 Q 712.4 588.6, 713.3 589.6 Q 714.1 590.7, 715.7 590.7 \" fill=\"#000000\"/>\n<path class=\"legend\" d=\"M 722.1 586.5 Q 722.1 583.9, 723.3 582.5 Q 724.5 581.1, 726.8 581.1 Q 729.0 581.1, 730.1 582.6 L 729.2 583.4 Q 728.3 582.3, 726.8 582.3 Q 725.2 582.3, 724.4 583.4 Q 723.6 584.5, 723.6 586.5 Q 723.6 588.5, 724.4 589.6 Q 725.3 590.7, 727.0 590.7 Q 728.1 590.7, 729.5 590.0 L 729.9 591.1 Q 729.4 591.4, 728.5 591.6 Q 727.7 591.8, 726.8 591.8 Q 724.5 591.8, 723.3 590.5 Q 722.1 589.1, 722.1 586.5 \" fill=\"#000000\"/>\n<path class=\"legend\" d=\"M 731.5 586.4 Q 731.5 583.9, 732.8 582.5 Q 734.0 581.1, 736.3 581.1 Q 738.7 581.1, 739.9 582.5 Q 741.1 583.9, 741.1 586.4 Q 741.1 589.0, 739.9 590.4 Q 738.6 591.9, 736.3 591.9 Q 734.0 591.9, 732.8 590.4 Q 731.5 589.0, 731.5 586.4 M 736.3 590.7 Q 737.9 590.7, 738.8 589.6 Q 739.7 588.6, 739.7 586.4 Q 739.7 584.4, 738.8 583.4 Q 737.9 582.3, 736.3 582.3 Q 734.7 582.3, 733.9 583.3 Q 733.0 584.4, 733.0 586.4 Q 733.0 588.6, 733.9 589.6 Q 734.7 590.7, 736.3 590.7 \" fill=\"#000000\"/>\n<path class=\"bond-0 atom-0 atom-1\" d=\"M 162.0,703.6 L 153.5,674.9\" style=\"fill:none;fill-rule:evenodd;stroke:#000000;stroke-width:2.0px;stroke-linecap:butt;stroke-linejoin:miter;stroke-opacity:1\"/>\n<path class=\"bond-1 atom-1 atom-2\" d=\"M 153.5,674.9 L 132.9,696.6\" style=\"fill:none;fill-rule:evenodd;stroke:#000000;stroke-width:2.0px;stroke-linecap:butt;stroke-linejoin:miter;stroke-opacity:1\"/>\n<path class=\"bond-2 atom-2 atom-3\" d=\"M 132.9,696.6 L 104.2,705.1\" style=\"fill:none;fill-rule:evenodd;stroke:#000000;stroke-width:2.0px;stroke-linecap:butt;stroke-linejoin:miter;stroke-opacity:1\"/>\n<path class=\"bond-3 atom-3 atom-4\" d=\"M 104.2,705.1 L 82.5,684.6\" style=\"fill:none;fill-rule:evenodd;stroke:#000000;stroke-width:2.0px;stroke-linecap:butt;stroke-linejoin:miter;stroke-opacity:1\"/>\n<path class=\"bond-4 atom-4 atom-5\" d=\"M 82.5,684.6 L 70.0,688.3\" style=\"fill:none;fill-rule:evenodd;stroke:#000000;stroke-width:2.0px;stroke-linecap:butt;stroke-linejoin:miter;stroke-opacity:1\"/>\n<path class=\"bond-4 atom-4 atom-5\" d=\"M 70.0,688.3 L 57.5,692.0\" style=\"fill:none;fill-rule:evenodd;stroke:#FF7F00;stroke-width:2.0px;stroke-linecap:butt;stroke-linejoin:miter;stroke-opacity:1\"/>\n<path class=\"bond-5 atom-2 atom-0\" d=\"M 132.9,696.6 L 162.0,703.6\" style=\"fill:none;fill-rule:evenodd;stroke:#000000;stroke-width:2.0px;stroke-linecap:butt;stroke-linejoin:miter;stroke-opacity:1\"/>\n<path d=\"M 161.6,702.1 L 162.0,703.6 L 160.6,703.2\" style=\"fill:none;stroke:#000000;stroke-width:2.0px;stroke-linecap:butt;stroke-linejoin:miter;stroke-opacity:1;\"/>\n<path d=\"M 153.9,676.3 L 153.5,674.9 L 152.4,675.9\" style=\"fill:none;stroke:#000000;stroke-width:2.0px;stroke-linecap:butt;stroke-linejoin:miter;stroke-opacity:1;\"/>\n<path d=\"M 105.6,704.7 L 104.2,705.1 L 103.1,704.1\" style=\"fill:none;stroke:#000000;stroke-width:2.0px;stroke-linecap:butt;stroke-linejoin:miter;stroke-opacity:1;\"/>\n<path d=\"M 83.6,685.6 L 82.5,684.6 L 81.8,684.7\" style=\"fill:none;stroke:#000000;stroke-width:2.0px;stroke-linecap:butt;stroke-linejoin:miter;stroke-opacity:1;\"/>\n<path class=\"atom-5\" d=\"M 38.0 688.9 L 39.1 688.9 L 39.1 692.5 L 43.5 692.5 L 43.5 688.9 L 44.6 688.9 L 44.6 697.3 L 43.5 697.3 L 43.5 693.4 L 39.1 693.4 L 39.1 697.3 L 38.0 697.3 L 38.0 688.9 \" fill=\"#FF7F00\"/>\n<path class=\"atom-5\" d=\"M 46.2 697.0 Q 46.5 696.5, 46.9 696.2 Q 47.4 695.9, 48.1 695.9 Q 49.0 695.9, 49.4 696.4 Q 49.9 696.8, 49.9 697.6 Q 49.9 698.5, 49.3 699.3 Q 48.7 700.0, 47.4 700.9 L 50.0 700.9 L 50.0 701.6 L 46.2 701.6 L 46.2 701.0 Q 47.3 700.3, 47.9 699.8 Q 48.5 699.2, 48.8 698.7 Q 49.1 698.2, 49.1 697.7 Q 49.1 697.2, 48.8 696.9 Q 48.6 696.6, 48.1 696.6 Q 47.7 696.6, 47.4 696.7 Q 47.1 696.9, 46.8 697.3 L 46.2 697.0 \" fill=\"#FF7F00\"/>\n<path class=\"atom-5\" d=\"M 53.6 688.9 Q 55.0 688.9, 55.7 689.5 Q 56.5 690.2, 56.5 691.4 Q 56.5 692.5, 55.7 693.2 Q 55.0 693.9, 53.6 693.9 L 52.2 693.9 L 52.2 697.3 L 51.1 697.3 L 51.1 688.9 L 53.6 688.9 M 53.6 692.9 Q 54.4 692.9, 54.8 692.5 Q 55.3 692.1, 55.3 691.4 Q 55.3 690.6, 54.8 690.2 Q 54.4 689.8, 53.6 689.8 L 52.2 689.8 L 52.2 692.9 L 53.6 692.9 \" fill=\"#FF7F00\"/>\n<path class=\"legend\" d=\"M 62.6 789.2 Q 62.6 786.4, 63.9 784.9 Q 65.3 783.4, 67.8 783.4 Q 70.1 783.4, 71.4 785.0 L 70.3 785.9 Q 69.4 784.7, 67.8 784.7 Q 66.1 784.7, 65.1 785.9 Q 64.2 787.0, 64.2 789.2 Q 64.2 791.4, 65.2 792.6 Q 66.1 793.7, 67.9 793.7 Q 69.2 793.7, 70.6 793.0 L 71.1 794.2 Q 70.5 794.6, 69.6 794.8 Q 68.7 795.0, 67.7 795.0 Q 65.3 795.0, 63.9 793.5 Q 62.6 792.0, 62.6 789.2 \" fill=\"#000000\"/>\n<path class=\"legend\" d=\"M 73.4 793.6 L 75.9 793.6 L 75.9 785.1 L 73.2 786.0 L 72.8 785.0 L 76.3 783.5 L 77.4 783.7 L 77.4 793.6 L 79.6 793.6 L 79.6 794.9 L 73.4 794.9 L 73.4 793.6 \" fill=\"#000000\"/>\n<path class=\"legend\" d=\"M 81.1 789.2 Q 81.1 786.4, 82.4 784.9 Q 83.7 783.4, 86.3 783.4 Q 88.6 783.4, 89.8 785.0 L 88.8 785.9 Q 87.9 784.7, 86.3 784.7 Q 84.5 784.7, 83.6 785.9 Q 82.7 787.0, 82.7 789.2 Q 82.7 791.4, 83.7 792.6 Q 84.6 793.7, 86.4 793.7 Q 87.7 793.7, 89.1 793.0 L 89.6 794.2 Q 89.0 794.6, 88.1 794.8 Q 87.2 795.0, 86.2 795.0 Q 83.7 795.0, 82.4 793.5 Q 81.1 792.0, 81.1 789.2 \" fill=\"#000000\"/>\n<path class=\"legend\" d=\"M 91.3 789.2 Q 91.3 786.4, 92.6 784.9 Q 93.9 783.4, 96.4 783.4 Q 98.8 783.4, 100.0 785.0 L 99.0 785.9 Q 98.1 784.7, 96.4 784.7 Q 94.7 784.7, 93.8 785.9 Q 92.9 787.0, 92.9 789.2 Q 92.9 791.4, 93.9 792.6 Q 94.8 793.7, 96.6 793.7 Q 97.9 793.7, 99.3 793.0 L 99.8 794.2 Q 99.2 794.6, 98.3 794.8 Q 97.4 795.0, 96.4 795.0 Q 93.9 795.0, 92.6 793.5 Q 91.3 792.0, 91.3 789.2 \" fill=\"#000000\"/>\n<path class=\"legend\" d=\"M 102.1 793.6 L 104.6 793.6 L 104.6 785.1 L 101.8 786.0 L 101.5 785.0 L 104.9 783.5 L 106.1 783.7 L 106.1 793.6 L 108.3 793.6 L 108.3 794.9 L 102.1 794.9 L 102.1 793.6 \" fill=\"#000000\"/>\n<path class=\"legend\" d=\"M 109.8 789.2 Q 109.8 786.4, 111.1 784.9 Q 112.4 783.4, 114.9 783.4 Q 117.3 783.4, 118.5 785.0 L 117.5 785.9 Q 116.6 784.7, 114.9 784.7 Q 113.2 784.7, 112.3 785.9 Q 111.4 787.0, 111.4 789.2 Q 111.4 791.4, 112.3 792.6 Q 113.3 793.7, 115.1 793.7 Q 116.4 793.7, 117.8 793.0 L 118.3 794.2 Q 117.7 794.6, 116.8 794.8 Q 115.9 795.0, 114.9 795.0 Q 112.4 795.0, 111.1 793.5 Q 109.8 792.0, 109.8 789.2 \" fill=\"#000000\"/>\n<path class=\"legend\" d=\"M 120.0 789.2 Q 120.0 786.4, 121.3 784.9 Q 122.6 783.4, 125.1 783.4 Q 127.5 783.4, 128.7 785.0 L 127.7 785.9 Q 126.7 784.7, 125.1 784.7 Q 123.4 784.7, 122.5 785.9 Q 121.6 787.0, 121.6 789.2 Q 121.6 791.4, 122.5 792.6 Q 123.5 793.7, 125.3 793.7 Q 126.5 793.7, 128.0 793.0 L 128.4 794.2 Q 127.9 794.6, 127.0 794.8 Q 126.1 795.0, 125.1 795.0 Q 122.6 795.0, 121.3 793.5 Q 120.0 792.0, 120.0 789.2 \" fill=\"#000000\"/>\n<path class=\"legend\" d=\"M 133.5 783.5 Q 135.4 783.5, 136.4 784.4 Q 137.4 785.3, 137.4 786.9 Q 137.4 788.4, 136.4 789.3 Q 135.4 790.2, 133.5 790.2 L 131.7 790.2 L 131.7 794.9 L 130.2 794.9 L 130.2 783.5 L 133.5 783.5 M 133.5 788.9 Q 134.6 788.9, 135.2 788.4 Q 135.8 787.9, 135.8 786.9 Q 135.8 785.8, 135.2 785.3 Q 134.6 784.8, 133.5 784.8 L 131.7 784.8 L 131.7 788.9 L 133.5 788.9 \" fill=\"#000000\"/>\n<path class=\"bond-0 atom-0 atom-1\" d=\"M 368.2,690.7 L 358.2,697.3\" style=\"fill:none;fill-rule:evenodd;stroke:#000000;stroke-width:2.0px;stroke-linecap:butt;stroke-linejoin:miter;stroke-opacity:1\"/>\n<path class=\"bond-0 atom-0 atom-1\" d=\"M 358.2,697.3 L 348.1,703.9\" style=\"fill:none;fill-rule:evenodd;stroke:#FF0000;stroke-width:2.0px;stroke-linecap:butt;stroke-linejoin:miter;stroke-opacity:1\"/>\n<path class=\"bond-1 atom-1 atom-2\" d=\"M 338.3,704.7 L 327.4,699.2\" style=\"fill:none;fill-rule:evenodd;stroke:#FF0000;stroke-width:2.0px;stroke-linecap:butt;stroke-linejoin:miter;stroke-opacity:1\"/>\n<path class=\"bond-1 atom-1 atom-2\" d=\"M 327.4,699.2 L 316.5,693.7\" style=\"fill:none;fill-rule:evenodd;stroke:#000000;stroke-width:2.0px;stroke-linecap:butt;stroke-linejoin:miter;stroke-opacity:1\"/>\n<path class=\"bond-2 atom-2 atom-3\" d=\"M 316.5,693.7 L 291.5,710.1\" style=\"fill:none;fill-rule:evenodd;stroke:#000000;stroke-width:2.0px;stroke-linecap:butt;stroke-linejoin:miter;stroke-opacity:1\"/>\n<path class=\"bond-3 atom-3 atom-4\" d=\"M 291.5,710.1 L 264.7,696.7\" style=\"fill:none;fill-rule:evenodd;stroke:#000000;stroke-width:2.0px;stroke-linecap:butt;stroke-linejoin:miter;stroke-opacity:1\"/>\n<path class=\"bond-4 atom-4 atom-5\" d=\"M 264.7,696.7 L 253.0,704.4\" style=\"fill:none;fill-rule:evenodd;stroke:#000000;stroke-width:2.0px;stroke-linecap:butt;stroke-linejoin:miter;stroke-opacity:1\"/>\n<path class=\"bond-4 atom-4 atom-5\" d=\"M 253.0,704.4 L 241.2,712.1\" style=\"fill:none;fill-rule:evenodd;stroke:#00CC00;stroke-width:2.0px;stroke-linecap:butt;stroke-linejoin:miter;stroke-opacity:1\"/>\n<path class=\"bond-5 atom-4 atom-6\" d=\"M 264.7,696.7 L 264.0,684.5\" style=\"fill:none;fill-rule:evenodd;stroke:#000000;stroke-width:2.0px;stroke-linecap:butt;stroke-linejoin:miter;stroke-opacity:1\"/>\n<path class=\"bond-5 atom-4 atom-6\" d=\"M 264.0,684.5 L 263.3,672.4\" style=\"fill:none;fill-rule:evenodd;stroke:#00CC00;stroke-width:2.0px;stroke-linecap:butt;stroke-linejoin:miter;stroke-opacity:1\"/>\n<path d=\"M 317.0,694.0 L 316.5,693.7 L 315.2,694.5\" style=\"fill:none;stroke:#000000;stroke-width:2.0px;stroke-linecap:butt;stroke-linejoin:miter;stroke-opacity:1;\"/>\n<path d=\"M 292.7,709.3 L 291.5,710.1 L 290.1,709.5\" style=\"fill:none;stroke:#000000;stroke-width:2.0px;stroke-linecap:butt;stroke-linejoin:miter;stroke-opacity:1;\"/>\n<path class=\"atom-1\" d=\"M 339.3 707.2 Q 339.3 705.1, 340.3 704.0 Q 341.3 702.9, 343.2 702.9 Q 345.1 702.9, 346.1 704.0 Q 347.1 705.1, 347.1 707.2 Q 347.1 709.2, 346.1 710.4 Q 345.1 711.6, 343.2 711.6 Q 341.4 711.6, 340.3 710.4 Q 339.3 709.2, 339.3 707.2 M 343.2 710.6 Q 344.5 710.6, 345.2 709.7 Q 345.9 708.9, 345.9 707.2 Q 345.9 705.5, 345.2 704.7 Q 344.5 703.8, 343.2 703.8 Q 341.9 703.8, 341.2 704.7 Q 340.5 705.5, 340.5 707.2 Q 340.5 708.9, 341.2 709.7 Q 341.9 710.6, 343.2 710.6 \" fill=\"#FF0000\"/>\n<path class=\"atom-5\" d=\"M 231.8 713.4 Q 231.8 711.3, 232.7 710.2 Q 233.7 709.1, 235.6 709.1 Q 237.4 709.1, 238.3 710.3 L 237.5 711.0 Q 236.8 710.1, 235.6 710.1 Q 234.3 710.1, 233.6 710.9 Q 233.0 711.8, 233.0 713.4 Q 233.0 715.1, 233.7 715.9 Q 234.4 716.8, 235.7 716.8 Q 236.7 716.8, 237.8 716.2 L 238.1 717.1 Q 237.7 717.4, 237.0 717.6 Q 236.3 717.8, 235.6 717.8 Q 233.7 717.8, 232.7 716.6 Q 231.8 715.5, 231.8 713.4 \" fill=\"#00CC00\"/>\n<path class=\"atom-5\" d=\"M 239.1 708.6 L 240.3 708.6 L 240.3 717.6 L 239.1 717.6 L 239.1 708.6 \" fill=\"#00CC00\"/>\n<path class=\"atom-6\" d=\"M 259.7 667.1 Q 259.7 665.0, 260.7 663.9 Q 261.7 662.8, 263.6 662.8 Q 265.3 662.8, 266.3 664.0 L 265.5 664.6 Q 264.8 663.7, 263.6 663.7 Q 262.3 663.7, 261.6 664.6 Q 261.0 665.5, 261.0 667.1 Q 261.0 668.8, 261.6 669.6 Q 262.4 670.5, 263.7 670.5 Q 264.7 670.5, 265.7 669.9 L 266.1 670.8 Q 265.6 671.1, 265.0 671.3 Q 264.3 671.4, 263.6 671.4 Q 261.7 671.4, 260.7 670.3 Q 259.7 669.2, 259.7 667.1 \" fill=\"#00CC00\"/>\n<path class=\"atom-6\" d=\"M 267.1 662.2 L 268.2 662.2 L 268.2 671.3 L 267.1 671.3 L 267.1 662.2 \" fill=\"#00CC00\"/>\n<path class=\"legend\" d=\"M 260.0 786.5 Q 260.0 783.9, 261.2 782.5 Q 262.4 781.1, 264.7 781.1 Q 266.9 781.1, 268.0 782.6 L 267.1 783.4 Q 266.2 782.3, 264.7 782.3 Q 263.1 782.3, 262.3 783.4 Q 261.5 784.5, 261.5 786.5 Q 261.5 788.5, 262.3 789.6 Q 263.2 790.7, 264.9 790.7 Q 266.0 790.7, 267.4 790.0 L 267.8 791.1 Q 267.2 791.4, 266.4 791.6 Q 265.6 791.8, 264.7 791.8 Q 262.4 791.8, 261.2 790.5 Q 260.0 789.1, 260.0 786.5 \" fill=\"#000000\"/>\n<path class=\"legend\" d=\"M 269.2 786.4 Q 269.2 783.9, 270.5 782.5 Q 271.7 781.1, 274.0 781.1 Q 276.4 781.1, 277.6 782.5 Q 278.8 783.9, 278.8 786.4 Q 278.8 789.0, 277.6 790.4 Q 276.3 791.9, 274.0 791.9 Q 271.7 791.9, 270.5 790.4 Q 269.2 789.0, 269.2 786.4 M 274.0 790.7 Q 275.6 790.7, 276.5 789.6 Q 277.4 788.6, 277.4 786.4 Q 277.4 784.4, 276.5 783.4 Q 275.6 782.3, 274.0 782.3 Q 272.4 782.3, 271.6 783.3 Q 270.7 784.4, 270.7 786.4 Q 270.7 788.6, 271.6 789.6 Q 272.4 790.7, 274.0 790.7 \" fill=\"#000000\"/>\n<path class=\"legend\" d=\"M 280.2 786.5 Q 280.2 783.9, 281.4 782.5 Q 282.6 781.1, 285.0 781.1 Q 287.1 781.1, 288.3 782.6 L 287.3 783.4 Q 286.5 782.3, 285.0 782.3 Q 283.4 782.3, 282.5 783.4 Q 281.7 784.5, 281.7 786.5 Q 281.7 788.5, 282.6 789.6 Q 283.4 790.7, 285.1 790.7 Q 286.3 790.7, 287.6 790.0 L 288.0 791.1 Q 287.5 791.4, 286.7 791.6 Q 285.8 791.8, 284.9 791.8 Q 282.6 791.8, 281.4 790.5 Q 280.2 789.1, 280.2 786.5 \" fill=\"#000000\"/>\n<path class=\"legend\" d=\"M 289.5 786.5 Q 289.5 783.9, 290.7 782.5 Q 291.9 781.1, 294.2 781.1 Q 296.4 781.1, 297.6 782.6 L 296.6 783.4 Q 295.7 782.3, 294.2 782.3 Q 292.7 782.3, 291.8 783.4 Q 291.0 784.5, 291.0 786.5 Q 291.0 788.5, 291.8 789.6 Q 292.7 790.7, 294.4 790.7 Q 295.6 790.7, 296.9 790.0 L 297.3 791.1 Q 296.8 791.4, 295.9 791.6 Q 295.1 791.8, 294.2 791.8 Q 291.9 791.8, 290.7 790.5 Q 289.5 789.1, 289.5 786.5 \" fill=\"#000000\"/>\n<path class=\"legend\" d=\"M 298.8 786.5 Q 298.8 783.9, 300.0 782.5 Q 301.2 781.1, 303.5 781.1 Q 305.7 781.1, 306.8 782.6 L 305.9 783.4 Q 305.0 782.3, 303.5 782.3 Q 301.9 782.3, 301.1 783.4 Q 300.3 784.5, 300.3 786.5 Q 300.3 788.5, 301.1 789.6 Q 302.0 790.7, 303.7 790.7 Q 304.8 790.7, 306.2 790.0 L 306.6 791.1 Q 306.1 791.4, 305.2 791.6 Q 304.4 791.8, 303.5 791.8 Q 301.2 791.8, 300.0 790.5 Q 298.8 789.1, 298.8 786.5 \" fill=\"#000000\"/>\n<path class=\"legend\" d=\"M 308.0 787.5 Q 308.0 785.4, 308.6 783.6 Q 309.3 781.9, 310.5 780.0 L 311.3 780.5 Q 310.3 782.3, 309.8 783.9 Q 309.4 785.5, 309.4 787.5 Q 309.4 789.5, 309.8 791.1 Q 310.3 792.6, 311.3 794.5 L 310.5 795.0 Q 309.3 793.1, 308.6 791.4 Q 308.0 789.6, 308.0 787.5 \" fill=\"#000000\"/>\n<path class=\"legend\" d=\"M 312.3 786.5 Q 312.3 783.9, 313.5 782.5 Q 314.7 781.1, 317.0 781.1 Q 319.2 781.1, 320.4 782.6 L 319.4 783.4 Q 318.5 782.3, 317.0 782.3 Q 315.5 782.3, 314.6 783.4 Q 313.8 784.5, 313.8 786.5 Q 313.8 788.5, 314.6 789.6 Q 315.5 790.7, 317.2 790.7 Q 318.4 790.7, 319.7 790.0 L 320.1 791.1 Q 319.6 791.4, 318.7 791.6 Q 317.9 791.8, 317.0 791.8 Q 314.7 791.8, 313.5 790.5 Q 312.3 789.1, 312.3 786.5 \" fill=\"#000000\"/>\n<path class=\"legend\" d=\"M 321.6 780.5 L 322.9 780.5 L 322.9 791.7 L 321.6 791.7 L 321.6 780.5 \" fill=\"#000000\"/>\n<path class=\"legend\" d=\"M 328.1 787.5 Q 328.1 789.6, 327.4 791.4 Q 326.8 793.1, 325.6 795.0 L 324.8 794.5 Q 325.8 792.6, 326.2 791.1 Q 326.7 789.5, 326.7 787.5 Q 326.7 785.5, 326.2 783.9 Q 325.8 782.3, 324.8 780.5 L 325.6 780.0 Q 326.8 781.9, 327.4 783.6 Q 328.1 785.4, 328.1 787.5 \" fill=\"#000000\"/>\n<path class=\"legend\" d=\"M 329.4 786.5 Q 329.4 783.9, 330.6 782.5 Q 331.8 781.1, 334.2 781.1 Q 336.3 781.1, 337.5 782.6 L 336.5 783.4 Q 335.7 782.3, 334.2 782.3 Q 332.6 782.3, 331.7 783.4 Q 330.9 784.5, 330.9 786.5 Q 330.9 788.5, 331.8 789.6 Q 332.6 790.7, 334.3 790.7 Q 335.5 790.7, 336.8 790.0 L 337.2 791.1 Q 336.7 791.4, 335.9 791.6 Q 335.0 791.8, 334.1 791.8 Q 331.8 791.8, 330.6 790.5 Q 329.4 789.1, 329.4 786.5 \" fill=\"#000000\"/>\n<path class=\"legend\" d=\"M 338.7 780.5 L 340.0 780.5 L 340.0 791.7 L 338.7 791.7 L 338.7 780.5 \" fill=\"#000000\"/>\n<path class=\"bond-0 atom-0 atom-1\" d=\"M 471.9,720.1 L 491.8,705.7\" style=\"fill:none;fill-rule:evenodd;stroke:#000000;stroke-width:2.0px;stroke-linecap:butt;stroke-linejoin:miter;stroke-opacity:1\"/>\n<path class=\"bond-1 atom-1 atom-2\" d=\"M 491.8,705.7 L 520.3,714.9\" style=\"fill:none;fill-rule:evenodd;stroke:#000000;stroke-width:2.0px;stroke-linecap:butt;stroke-linejoin:miter;stroke-opacity:1\"/>\n<path class=\"bond-1 atom-1 atom-2\" d=\"M 496.3,702.4 L 518.6,709.6\" style=\"fill:none;fill-rule:evenodd;stroke:#000000;stroke-width:2.0px;stroke-linecap:butt;stroke-linejoin:miter;stroke-opacity:1\"/>\n<path class=\"bond-2 atom-2 atom-3\" d=\"M 520.3,714.9 L 527.2,705.4\" style=\"fill:none;fill-rule:evenodd;stroke:#000000;stroke-width:2.0px;stroke-linecap:butt;stroke-linejoin:miter;stroke-opacity:1\"/>\n<path class=\"bond-2 atom-2 atom-3\" d=\"M 527.2,705.4 L 534.2,695.8\" style=\"fill:none;fill-rule:evenodd;stroke:#CCCC00;stroke-width:2.0px;stroke-linecap:butt;stroke-linejoin:miter;stroke-opacity:1\"/>\n<path class=\"bond-3 atom-3 atom-4\" d=\"M 534.2,685.6 L 527.2,676.1\" style=\"fill:none;fill-rule:evenodd;stroke:#CCCC00;stroke-width:2.0px;stroke-linecap:butt;stroke-linejoin:miter;stroke-opacity:1\"/>\n<path class=\"bond-3 atom-3 atom-4\" d=\"M 527.2,676.1 L 520.3,666.5\" style=\"fill:none;fill-rule:evenodd;stroke:#000000;stroke-width:2.0px;stroke-linecap:butt;stroke-linejoin:miter;stroke-opacity:1\"/>\n<path class=\"bond-4 atom-4 atom-5\" d=\"M 520.3,666.5 L 491.8,675.7\" style=\"fill:none;fill-rule:evenodd;stroke:#000000;stroke-width:2.0px;stroke-linecap:butt;stroke-linejoin:miter;stroke-opacity:1\"/>\n<path class=\"bond-4 atom-4 atom-5\" d=\"M 518.6,671.8 L 496.3,679.0\" style=\"fill:none;fill-rule:evenodd;stroke:#000000;stroke-width:2.0px;stroke-linecap:butt;stroke-linejoin:miter;stroke-opacity:1\"/>\n<path class=\"bond-5 atom-5 atom-6\" d=\"M 491.8,675.7 L 471.9,661.3\" style=\"fill:none;fill-rule:evenodd;stroke:#000000;stroke-width:2.0px;stroke-linecap:butt;stroke-linejoin:miter;stroke-opacity:1\"/>\n<path class=\"bond-6 atom-5 atom-1\" d=\"M 491.8,675.7 L 491.8,705.7\" style=\"fill:none;fill-rule:evenodd;stroke:#000000;stroke-width:2.0px;stroke-linecap:butt;stroke-linejoin:miter;stroke-opacity:1\"/>\n<path d=\"M 518.9,714.5 L 520.3,714.9 L 520.6,714.4\" style=\"fill:none;stroke:#000000;stroke-width:2.0px;stroke-linecap:butt;stroke-linejoin:miter;stroke-opacity:1;\"/>\n<path d=\"M 520.6,667.0 L 520.3,666.5 L 518.9,667.0\" style=\"fill:none;stroke:#000000;stroke-width:2.0px;stroke-linecap:butt;stroke-linejoin:miter;stroke-opacity:1;\"/>\n<path class=\"atom-0\" d=\"M 459.4 718.7 Q 459.6 718.2, 460.1 717.9 Q 460.6 717.6, 461.3 717.6 Q 462.1 717.6, 462.6 718.1 Q 463.1 718.5, 463.1 719.3 Q 463.1 720.2, 462.5 720.9 Q 461.9 721.7, 460.6 722.6 L 463.2 722.6 L 463.2 723.3 L 459.4 723.3 L 459.4 722.7 Q 460.5 722.0, 461.1 721.4 Q 461.7 720.9, 462.0 720.4 Q 462.3 719.9, 462.3 719.4 Q 462.3 718.8, 462.0 718.5 Q 461.8 718.2, 461.3 718.2 Q 460.8 718.2, 460.5 718.4 Q 460.2 718.6, 460.0 719.0 L 459.4 718.7 \" fill=\"#000000\"/>\n<path class=\"atom-0\" d=\"M 464.3 719.0 L 465.4 719.0 L 465.4 722.6 L 469.8 722.6 L 469.8 719.0 L 470.9 719.0 L 470.9 727.5 L 469.8 727.5 L 469.8 723.6 L 465.4 723.6 L 465.4 727.5 L 464.3 727.5 L 464.3 719.0 \" fill=\"#000000\"/>\n<path class=\"atom-3\" d=\"M 535.5 693.6 Q 535.6 693.7, 536.0 693.8 Q 536.4 694.0, 536.8 694.1 Q 537.2 694.2, 537.7 694.2 Q 538.5 694.2, 538.9 693.8 Q 539.4 693.4, 539.4 692.7 Q 539.4 692.3, 539.2 692.0 Q 538.9 691.7, 538.6 691.5 Q 538.2 691.4, 537.6 691.2 Q 536.9 691.0, 536.4 690.8 Q 536.0 690.5, 535.6 690.1 Q 535.3 689.6, 535.3 688.9 Q 535.3 687.8, 536.1 687.1 Q 536.8 686.5, 538.2 686.5 Q 539.2 686.5, 540.3 686.9 L 540.0 687.9 Q 539.0 687.5, 538.3 687.5 Q 537.4 687.5, 537.0 687.8 Q 536.5 688.1, 536.5 688.7 Q 536.5 689.2, 536.8 689.5 Q 537.0 689.7, 537.3 689.9 Q 537.7 690.0, 538.3 690.2 Q 539.0 690.5, 539.5 690.7 Q 539.9 690.9, 540.3 691.4 Q 540.6 691.9, 540.6 692.7 Q 540.6 693.9, 539.8 694.5 Q 539.0 695.2, 537.7 695.2 Q 537.0 695.2, 536.4 695.0 Q 535.8 694.8, 535.2 694.6 L 535.5 693.6 \" fill=\"#CCCC00\"/>\n<path class=\"atom-6\" d=\"M 459.4 653.6 Q 459.6 653.1, 460.1 652.8 Q 460.6 652.5, 461.3 652.5 Q 462.1 652.5, 462.6 652.9 Q 463.1 653.4, 463.1 654.2 Q 463.1 655.0, 462.5 655.8 Q 461.9 656.6, 460.6 657.5 L 463.2 657.5 L 463.2 658.1 L 459.4 658.1 L 459.4 657.6 Q 460.5 656.9, 461.1 656.3 Q 461.7 655.8, 462.0 655.3 Q 462.3 654.8, 462.3 654.3 Q 462.3 653.7, 462.0 653.4 Q 461.8 653.1, 461.3 653.1 Q 460.8 653.1, 460.5 653.3 Q 460.2 653.5, 460.0 653.9 L 459.4 653.6 \" fill=\"#000000\"/>\n<path class=\"atom-6\" d=\"M 464.3 653.9 L 465.4 653.9 L 465.4 657.5 L 469.8 657.5 L 469.8 653.9 L 470.9 653.9 L 470.9 662.4 L 469.8 662.4 L 469.8 658.5 L 465.4 658.5 L 465.4 662.4 L 464.3 662.4 L 464.3 653.9 \" fill=\"#000000\"/>\n<path class=\"legend\" d=\"M 431.0 780.0 L 434.3 780.0 L 434.3 781.1 L 432.3 781.1 L 432.3 793.9 L 434.3 793.9 L 434.3 795.0 L 431.0 795.0 L 431.0 780.0 \" fill=\"#000000\"/>\n<path class=\"legend\" d=\"M 435.3 783.1 Q 435.7 782.1, 436.7 781.5 Q 437.6 780.9, 439.0 780.9 Q 440.6 780.9, 441.5 781.8 Q 442.5 782.7, 442.5 784.3 Q 442.5 785.9, 441.3 787.4 Q 440.1 789.0, 437.6 790.8 L 442.7 790.8 L 442.7 792.0 L 435.3 792.0 L 435.3 791.0 Q 437.3 789.5, 438.5 788.4 Q 439.7 787.3, 440.3 786.4 Q 440.9 785.4, 440.9 784.4 Q 440.9 783.3, 440.4 782.7 Q 439.9 782.1, 439.0 782.1 Q 438.1 782.1, 437.5 782.5 Q 436.9 782.9, 436.5 783.6 L 435.3 783.1 \" fill=\"#000000\"/>\n<path class=\"legend\" d=\"M 444.3 781.0 L 445.7 781.0 L 445.7 785.7 L 451.4 785.7 L 451.4 781.0 L 452.9 781.0 L 452.9 792.0 L 451.4 792.0 L 451.4 786.9 L 445.7 786.9 L 445.7 792.0 L 444.3 792.0 L 444.3 781.0 \" fill=\"#000000\"/>\n<path class=\"legend\" d=\"M 458.1 780.0 L 458.1 795.0 L 454.8 795.0 L 454.8 793.9 L 456.8 793.9 L 456.8 781.1 L 454.8 781.1 L 454.8 780.0 L 458.1 780.0 \" fill=\"#000000\"/>\n<path class=\"legend\" d=\"M 460.1 786.5 Q 460.1 783.8, 461.4 782.3 Q 462.7 780.9, 465.1 780.9 Q 467.4 780.9, 468.6 782.5 L 467.6 783.3 Q 466.7 782.2, 465.1 782.2 Q 463.5 782.2, 462.6 783.3 Q 461.7 784.4, 461.7 786.5 Q 461.7 788.7, 462.6 789.8 Q 463.5 790.9, 465.3 790.9 Q 466.5 790.9, 467.9 790.2 L 468.4 791.3 Q 467.8 791.7, 466.9 791.9 Q 466.0 792.1, 465.1 792.1 Q 462.7 792.1, 461.4 790.7 Q 460.1 789.2, 460.1 786.5 \" fill=\"#000000\"/>\n<path class=\"legend\" d=\"M 470.5 790.8 L 472.9 790.8 L 472.9 782.6 L 470.2 783.4 L 469.9 782.5 L 473.3 781.0 L 474.4 781.1 L 474.4 790.8 L 476.5 790.8 L 476.5 792.0 L 470.5 792.0 L 470.5 790.8 \" fill=\"#000000\"/>\n<path class=\"legend\" d=\"M 477.8 785.3 L 484.9 785.3 L 484.9 786.4 L 477.8 786.4 L 477.8 785.3 M 477.8 788.6 L 484.9 788.6 L 484.9 789.7 L 477.8 789.7 L 477.8 788.6 \" fill=\"#000000\"/>\n<path class=\"legend\" d=\"M 487.0 786.5 Q 487.0 783.8, 488.3 782.3 Q 489.6 780.9, 492.0 780.9 Q 494.3 780.9, 495.5 782.5 L 494.5 783.3 Q 493.6 782.2, 492.0 782.2 Q 490.4 782.2, 489.5 783.3 Q 488.6 784.4, 488.6 786.5 Q 488.6 788.7, 489.5 789.8 Q 490.4 790.9, 492.2 790.9 Q 493.4 790.9, 494.8 790.2 L 495.2 791.3 Q 494.7 791.7, 493.8 791.9 Q 492.9 792.1, 492.0 792.1 Q 489.6 792.1, 488.3 790.7 Q 487.0 789.2, 487.0 786.5 \" fill=\"#000000\"/>\n<path class=\"legend\" d=\"M 497.2 790.3 Q 497.3 790.3, 497.8 790.6 Q 498.3 790.8, 498.9 790.9 Q 499.5 791.0, 500.0 791.0 Q 501.1 791.0, 501.7 790.5 Q 502.3 790.0, 502.3 789.2 Q 502.3 788.5, 502.0 788.2 Q 501.7 787.8, 501.2 787.6 Q 500.7 787.4, 500.0 787.2 Q 499.0 786.9, 498.4 786.6 Q 497.8 786.3, 497.4 785.7 Q 497.0 785.1, 497.0 784.1 Q 497.0 782.8, 497.9 781.9 Q 498.9 781.1, 500.7 781.1 Q 502.0 781.1, 503.5 781.7 L 503.1 782.9 Q 501.8 782.3, 500.8 782.3 Q 499.7 782.3, 499.1 782.8 Q 498.5 783.2, 498.6 784.0 Q 498.6 784.5, 498.9 784.9 Q 499.2 785.3, 499.6 785.5 Q 500.0 785.7, 500.8 785.9 Q 501.8 786.2, 502.4 786.5 Q 503.0 786.8, 503.4 787.5 Q 503.8 788.1, 503.8 789.2 Q 503.8 790.7, 502.8 791.5 Q 501.8 792.3, 500.1 792.3 Q 499.1 792.3, 498.4 792.1 Q 497.6 791.9, 496.8 791.5 L 497.2 790.3 \" fill=\"#000000\"/>\n<path class=\"legend\" d=\"M 505.2 786.5 Q 505.2 783.8, 506.5 782.3 Q 507.8 780.9, 510.2 780.9 Q 512.5 780.9, 513.7 782.5 L 512.7 783.3 Q 511.8 782.2, 510.2 782.2 Q 508.5 782.2, 507.7 783.3 Q 506.8 784.4, 506.8 786.5 Q 506.8 788.7, 507.7 789.8 Q 508.6 790.9, 510.4 790.9 Q 511.6 790.9, 513.0 790.2 L 513.4 791.3 Q 512.9 791.7, 512.0 791.9 Q 511.1 792.1, 510.2 792.1 Q 507.8 792.1, 506.5 790.7 Q 505.2 789.2, 505.2 786.5 \" fill=\"#000000\"/>\n<path class=\"legend\" d=\"M 515.0 785.3 L 522.1 785.3 L 522.1 786.4 L 515.0 786.4 L 515.0 785.3 M 515.0 788.6 L 522.1 788.6 L 522.1 789.7 L 515.0 789.7 L 515.0 788.6 \" fill=\"#000000\"/>\n<path class=\"legend\" d=\"M 524.2 786.5 Q 524.2 783.8, 525.4 782.3 Q 526.7 780.9, 529.2 780.9 Q 531.4 780.9, 532.6 782.5 L 531.6 783.3 Q 530.7 782.2, 529.2 782.2 Q 527.5 782.2, 526.6 783.3 Q 525.7 784.4, 525.7 786.5 Q 525.7 788.7, 526.6 789.8 Q 527.6 790.9, 529.3 790.9 Q 530.5 790.9, 531.9 790.2 L 532.4 791.3 Q 531.8 791.7, 530.9 791.9 Q 530.1 792.1, 529.1 792.1 Q 526.7 792.1, 525.4 790.7 Q 524.2 789.2, 524.2 786.5 \" fill=\"#000000\"/>\n<path class=\"legend\" d=\"M 534.5 790.8 L 536.9 790.8 L 536.9 782.6 L 534.3 783.4 L 533.9 782.5 L 537.3 781.0 L 538.4 781.1 L 538.4 790.8 L 540.5 790.8 L 540.5 792.0 L 534.5 792.0 L 534.5 790.8 \" fill=\"#000000\"/>\n<path class=\"legend\" d=\"M 541.9 780.0 L 545.2 780.0 L 545.2 781.1 L 543.2 781.1 L 543.2 793.9 L 545.2 793.9 L 545.2 795.0 L 541.9 795.0 L 541.9 780.0 \" fill=\"#000000\"/>\n<path class=\"legend\" d=\"M 546.2 783.1 Q 546.6 782.1, 547.5 781.5 Q 548.5 780.9, 549.8 780.9 Q 551.5 780.9, 552.4 781.8 Q 553.4 782.7, 553.4 784.3 Q 553.4 785.9, 552.1 787.4 Q 550.9 789.0, 548.5 790.8 L 553.5 790.8 L 553.5 792.0 L 546.1 792.0 L 546.1 791.0 Q 548.2 789.5, 549.4 788.4 Q 550.6 787.3, 551.2 786.4 Q 551.8 785.4, 551.8 784.4 Q 551.8 783.3, 551.3 782.7 Q 550.7 782.1, 549.8 782.1 Q 548.9 782.1, 548.4 782.5 Q 547.8 782.9, 547.3 783.6 L 546.2 783.1 \" fill=\"#000000\"/>\n<path class=\"legend\" d=\"M 555.1 781.0 L 556.6 781.0 L 556.6 785.7 L 562.2 785.7 L 562.2 781.0 L 563.7 781.0 L 563.7 792.0 L 562.2 792.0 L 562.2 786.9 L 556.6 786.9 L 556.6 792.0 L 555.1 792.0 L 555.1 781.0 \" fill=\"#000000\"/>\n<path class=\"legend\" d=\"M 569.0 780.0 L 569.0 795.0 L 565.7 795.0 L 565.7 793.9 L 567.7 793.9 L 567.7 781.1 L 565.7 781.1 L 565.7 780.0 L 569.0 780.0 \" fill=\"#000000\"/>\n<path class=\"bond-0 atom-0 atom-1\" d=\"M 645.5,695.2 L 671.5,680.2\" style=\"fill:none;fill-rule:evenodd;stroke:#000000;stroke-width:2.0px;stroke-linecap:butt;stroke-linejoin:miter;stroke-opacity:1\"/>\n<path class=\"bond-1 atom-1 atom-2\" d=\"M 671.5,680.2 L 697.4,695.2\" style=\"fill:none;fill-rule:evenodd;stroke:#000000;stroke-width:2.0px;stroke-linecap:butt;stroke-linejoin:miter;stroke-opacity:1\"/>\n<path class=\"bond-2 atom-2 atom-3\" d=\"M 697.4,695.2 L 723.3,680.2\" style=\"fill:none;fill-rule:evenodd;stroke:#000000;stroke-width:2.0px;stroke-linecap:butt;stroke-linejoin:miter;stroke-opacity:1\"/>\n<path class=\"bond-3 atom-3 atom-4\" d=\"M 723.3,680.2 L 734.1,686.4\" style=\"fill:none;fill-rule:evenodd;stroke:#000000;stroke-width:2.0px;stroke-linecap:butt;stroke-linejoin:miter;stroke-opacity:1\"/>\n<path class=\"bond-3 atom-3 atom-4\" d=\"M 734.1,686.4 L 745.0,692.7\" style=\"fill:none;fill-rule:evenodd;stroke:#00CC00;stroke-width:2.0px;stroke-linecap:butt;stroke-linejoin:miter;stroke-opacity:1\"/>\n<path d=\"M 670.2,680.9 L 671.5,680.2 L 672.8,680.9\" style=\"fill:none;stroke:#000000;stroke-width:2.0px;stroke-linecap:butt;stroke-linejoin:miter;stroke-opacity:1;\"/>\n<path d=\"M 696.1,694.4 L 697.4,695.2 L 698.7,694.4\" style=\"fill:none;stroke:#000000;stroke-width:2.0px;stroke-linecap:butt;stroke-linejoin:miter;stroke-opacity:1;\"/>\n<path d=\"M 722.0,680.9 L 723.3,680.2 L 723.9,680.5\" style=\"fill:none;stroke:#000000;stroke-width:2.0px;stroke-linecap:butt;stroke-linejoin:miter;stroke-opacity:1;\"/>\n<path class=\"atom-4\" d=\"M 746.0 695.5 Q 746.0 693.3, 746.9 692.2 Q 747.9 691.1, 749.8 691.1 Q 751.6 691.1, 752.5 692.4 L 751.7 693.0 Q 751.0 692.1, 749.8 692.1 Q 748.5 692.1, 747.9 693.0 Q 747.2 693.8, 747.2 695.5 Q 747.2 697.1, 747.9 698.0 Q 748.6 698.9, 750.0 698.9 Q 750.9 698.9, 752.0 698.3 L 752.3 699.2 Q 751.9 699.5, 751.2 699.6 Q 750.5 699.8, 749.8 699.8 Q 747.9 699.8, 746.9 698.7 Q 746.0 697.6, 746.0 695.5 \" fill=\"#00CC00\"/>\n<path class=\"atom-4\" d=\"M 753.4 690.6 L 754.5 690.6 L 754.5 699.7 L 753.4 699.7 L 753.4 690.6 \" fill=\"#00CC00\"/>\n<path class=\"legend\" d=\"M 673.9 789.2 Q 673.9 786.4, 675.3 784.9 Q 676.6 783.4, 679.1 783.4 Q 681.4 783.4, 682.7 785.0 L 681.6 785.9 Q 680.7 784.7, 679.1 784.7 Q 677.4 784.7, 676.5 785.9 Q 675.6 787.0, 675.6 789.2 Q 675.6 791.4, 676.5 792.6 Q 677.4 793.7, 679.3 793.7 Q 680.5 793.7, 682.0 793.0 L 682.4 794.2 Q 681.8 794.6, 680.9 794.8 Q 680.0 795.0, 679.0 795.0 Q 676.6 795.0, 675.3 793.5 Q 673.9 792.0, 673.9 789.2 \" fill=\"#000000\"/>\n<path class=\"legend\" d=\"M 684.1 789.2 Q 684.1 786.4, 685.4 784.9 Q 686.7 783.4, 689.2 783.4 Q 691.6 783.4, 692.8 785.0 L 691.8 785.9 Q 690.8 784.7, 689.2 784.7 Q 687.5 784.7, 686.6 785.9 Q 685.7 787.0, 685.7 789.2 Q 685.7 791.4, 686.6 792.6 Q 687.6 793.7, 689.4 793.7 Q 690.6 793.7, 692.1 793.0 L 692.6 794.2 Q 692.0 794.6, 691.1 794.8 Q 690.2 795.0, 689.2 795.0 Q 686.7 795.0, 685.4 793.5 Q 684.1 792.0, 684.1 789.2 \" fill=\"#000000\"/>\n<path class=\"legend\" d=\"M 694.2 789.2 Q 694.2 786.4, 695.5 784.9 Q 696.8 783.4, 699.4 783.4 Q 701.7 783.4, 702.9 785.0 L 701.9 785.9 Q 701.0 784.7, 699.4 784.7 Q 697.6 784.7, 696.7 785.9 Q 695.8 787.0, 695.8 789.2 Q 695.8 791.4, 696.8 792.6 Q 697.7 793.7, 699.5 793.7 Q 700.8 793.7, 702.2 793.0 L 702.7 794.2 Q 702.1 794.6, 701.2 794.8 Q 700.3 795.0, 699.3 795.0 Q 696.8 795.0, 695.5 793.5 Q 694.2 792.0, 694.2 789.2 \" fill=\"#000000\"/>\n<path class=\"legend\" d=\"M 704.3 789.2 Q 704.3 786.4, 705.6 784.9 Q 707.0 783.4, 709.5 783.4 Q 711.8 783.4, 713.1 785.0 L 712.0 785.9 Q 711.1 784.7, 709.5 784.7 Q 707.8 784.7, 706.9 785.9 Q 706.0 787.0, 706.0 789.2 Q 706.0 791.4, 706.9 792.6 Q 707.8 793.7, 709.7 793.7 Q 710.9 793.7, 712.4 793.0 L 712.8 794.2 Q 712.2 794.6, 711.3 794.8 Q 710.4 795.0, 709.4 795.0 Q 707.0 795.0, 705.6 793.5 Q 704.3 792.0, 704.3 789.2 \" fill=\"#000000\"/>\n<path class=\"legend\" d=\"M 714.5 789.2 Q 714.5 786.4, 715.8 784.9 Q 717.1 783.4, 719.6 783.4 Q 721.9 783.4, 723.2 785.0 L 722.1 785.9 Q 721.2 784.7, 719.6 784.7 Q 717.9 784.7, 717.0 785.9 Q 716.1 787.0, 716.1 789.2 Q 716.1 791.4, 717.0 792.6 Q 718.0 793.7, 719.8 793.7 Q 721.0 793.7, 722.5 793.0 L 722.9 794.2 Q 722.3 794.6, 721.4 794.8 Q 720.6 795.0, 719.6 795.0 Q 717.1 795.0, 715.8 793.5 Q 714.5 792.0, 714.5 789.2 \" fill=\"#000000\"/>\n<path class=\"legend\" d=\"M 724.6 782.7 L 726.1 782.7 L 726.1 794.9 L 724.6 794.9 L 724.6 782.7 \" fill=\"#000000\"/>\n</svg>"
          },
          "metadata": {},
          "execution_count": 34
        }
      ],
      "source": [
        "from rdkit.Chem import Draw\n",
        "from rdkit.Chem.Draw import IPythonConsole     \n",
        "IPythonConsole.ipython_useSVG=True\n",
        "\n",
        "# 16개를 한번에 그려보겠다\n",
        "mols = df['mol'][:16]\n",
        "Draw.MolsToGridImage(mols, molsPerRow=4, useSVG=True, legends=list(df['smiles'][:16].values))"
      ]
    },
    {
      "cell_type": "markdown",
      "metadata": {
        "id": "OmSd-wuePObs"
      },
      "source": [
        "# 특성 추가하기\n",
        "\n",
        "- Chem 모듈에서 분자의 다양한 속성 정보를 추출하는 함수를 제공한다\n",
        "- mol 객체로부터 분자를 구성하는 원자수를 얻으려면 다음과 같은, mol 객체가 제공하는 함수를 사용하면 된다\n",
        " - GetNumAtoms(): 모든 원자 수 얻기\n",
        " - GetNumHeavyAtoms(): 수소를 제외한 원자의 수 얻기"
      ]
    },
    {
      "cell_type": "markdown",
      "metadata": {
        "id": "1tmGiDA1yBLY"
      },
      "source": [
        "## 분자의 속성 정보 추가"
      ]
    },
    {
      "cell_type": "code",
      "execution_count": null,
      "metadata": {
        "colab": {
          "base_uri": "https://localhost:8080/",
          "height": 312
        },
        "id": "u0y_SNjPPObs",
        "outputId": "4ef1c257-400c-495c-8e13-b21fd0fa686e"
      },
      "outputs": [
        {
          "output_type": "execute_result",
          "data": {
            "text/plain": [
              "                  smiles  logP  \\\n",
              "0  C[C@H]([C@@H](C)Cl)Cl   2.3   \n",
              "1              C(C=CBr)N   0.3   \n",
              "2              CCC(CO)Br   1.3   \n",
              "\n",
              "                                                mol  num_of_atoms  \\\n",
              "0  <rdkit.Chem.rdchem.Mol object at 0x7f1aec5760d0>            14   \n",
              "1  <rdkit.Chem.rdchem.Mol object at 0x7f1aec4835d0>            11   \n",
              "2  <rdkit.Chem.rdchem.Mol object at 0x7f1aea9311c0>            15   \n",
              "\n",
              "   num_of_heavy_atoms  num_of_C_atoms  num_of_O_atoms  num_of_N_atoms  \\\n",
              "0                   6               4               0               0   \n",
              "1                   5               3               0               1   \n",
              "2                   6               4               1               0   \n",
              "\n",
              "   num_of_Cl_atoms  \n",
              "0                2  \n",
              "1                0  \n",
              "2                0  "
            ],
            "text/html": [
              "\n",
              "  <div id=\"df-f53bc854-3f22-4f90-9083-465d4baafc01\">\n",
              "    <div class=\"colab-df-container\">\n",
              "      <div>\n",
              "<style scoped>\n",
              "    .dataframe tbody tr th:only-of-type {\n",
              "        vertical-align: middle;\n",
              "    }\n",
              "\n",
              "    .dataframe tbody tr th {\n",
              "        vertical-align: top;\n",
              "    }\n",
              "\n",
              "    .dataframe thead th {\n",
              "        text-align: right;\n",
              "    }\n",
              "</style>\n",
              "<table border=\"1\" class=\"dataframe\">\n",
              "  <thead>\n",
              "    <tr style=\"text-align: right;\">\n",
              "      <th></th>\n",
              "      <th>smiles</th>\n",
              "      <th>logP</th>\n",
              "      <th>mol</th>\n",
              "      <th>num_of_atoms</th>\n",
              "      <th>num_of_heavy_atoms</th>\n",
              "      <th>num_of_C_atoms</th>\n",
              "      <th>num_of_O_atoms</th>\n",
              "      <th>num_of_N_atoms</th>\n",
              "      <th>num_of_Cl_atoms</th>\n",
              "    </tr>\n",
              "  </thead>\n",
              "  <tbody>\n",
              "    <tr>\n",
              "      <th>0</th>\n",
              "      <td>C[C@H]([C@@H](C)Cl)Cl</td>\n",
              "      <td>2.3</td>\n",
              "      <td>&lt;rdkit.Chem.rdchem.Mol object at 0x7f1aec5760d0&gt;</td>\n",
              "      <td>14</td>\n",
              "      <td>6</td>\n",
              "      <td>4</td>\n",
              "      <td>0</td>\n",
              "      <td>0</td>\n",
              "      <td>2</td>\n",
              "    </tr>\n",
              "    <tr>\n",
              "      <th>1</th>\n",
              "      <td>C(C=CBr)N</td>\n",
              "      <td>0.3</td>\n",
              "      <td>&lt;rdkit.Chem.rdchem.Mol object at 0x7f1aec4835d0&gt;</td>\n",
              "      <td>11</td>\n",
              "      <td>5</td>\n",
              "      <td>3</td>\n",
              "      <td>0</td>\n",
              "      <td>1</td>\n",
              "      <td>0</td>\n",
              "    </tr>\n",
              "    <tr>\n",
              "      <th>2</th>\n",
              "      <td>CCC(CO)Br</td>\n",
              "      <td>1.3</td>\n",
              "      <td>&lt;rdkit.Chem.rdchem.Mol object at 0x7f1aea9311c0&gt;</td>\n",
              "      <td>15</td>\n",
              "      <td>6</td>\n",
              "      <td>4</td>\n",
              "      <td>1</td>\n",
              "      <td>0</td>\n",
              "      <td>0</td>\n",
              "    </tr>\n",
              "  </tbody>\n",
              "</table>\n",
              "</div>\n",
              "      <button class=\"colab-df-convert\" onclick=\"convertToInteractive('df-f53bc854-3f22-4f90-9083-465d4baafc01')\"\n",
              "              title=\"Convert this dataframe to an interactive table.\"\n",
              "              style=\"display:none;\">\n",
              "        \n",
              "  <svg xmlns=\"http://www.w3.org/2000/svg\" height=\"24px\"viewBox=\"0 0 24 24\"\n",
              "       width=\"24px\">\n",
              "    <path d=\"M0 0h24v24H0V0z\" fill=\"none\"/>\n",
              "    <path d=\"M18.56 5.44l.94 2.06.94-2.06 2.06-.94-2.06-.94-.94-2.06-.94 2.06-2.06.94zm-11 1L8.5 8.5l.94-2.06 2.06-.94-2.06-.94L8.5 2.5l-.94 2.06-2.06.94zm10 10l.94 2.06.94-2.06 2.06-.94-2.06-.94-.94-2.06-.94 2.06-2.06.94z\"/><path d=\"M17.41 7.96l-1.37-1.37c-.4-.4-.92-.59-1.43-.59-.52 0-1.04.2-1.43.59L10.3 9.45l-7.72 7.72c-.78.78-.78 2.05 0 2.83L4 21.41c.39.39.9.59 1.41.59.51 0 1.02-.2 1.41-.59l7.78-7.78 2.81-2.81c.8-.78.8-2.07 0-2.86zM5.41 20L4 18.59l7.72-7.72 1.47 1.35L5.41 20z\"/>\n",
              "  </svg>\n",
              "      </button>\n",
              "      \n",
              "  <style>\n",
              "    .colab-df-container {\n",
              "      display:flex;\n",
              "      flex-wrap:wrap;\n",
              "      gap: 12px;\n",
              "    }\n",
              "\n",
              "    .colab-df-convert {\n",
              "      background-color: #E8F0FE;\n",
              "      border: none;\n",
              "      border-radius: 50%;\n",
              "      cursor: pointer;\n",
              "      display: none;\n",
              "      fill: #1967D2;\n",
              "      height: 32px;\n",
              "      padding: 0 0 0 0;\n",
              "      width: 32px;\n",
              "    }\n",
              "\n",
              "    .colab-df-convert:hover {\n",
              "      background-color: #E2EBFA;\n",
              "      box-shadow: 0px 1px 2px rgba(60, 64, 67, 0.3), 0px 1px 3px 1px rgba(60, 64, 67, 0.15);\n",
              "      fill: #174EA6;\n",
              "    }\n",
              "\n",
              "    [theme=dark] .colab-df-convert {\n",
              "      background-color: #3B4455;\n",
              "      fill: #D2E3FC;\n",
              "    }\n",
              "\n",
              "    [theme=dark] .colab-df-convert:hover {\n",
              "      background-color: #434B5C;\n",
              "      box-shadow: 0px 1px 3px 1px rgba(0, 0, 0, 0.15);\n",
              "      filter: drop-shadow(0px 1px 2px rgba(0, 0, 0, 0.3));\n",
              "      fill: #FFFFFF;\n",
              "    }\n",
              "  </style>\n",
              "\n",
              "      <script>\n",
              "        const buttonEl =\n",
              "          document.querySelector('#df-f53bc854-3f22-4f90-9083-465d4baafc01 button.colab-df-convert');\n",
              "        buttonEl.style.display =\n",
              "          google.colab.kernel.accessAllowed ? 'block' : 'none';\n",
              "\n",
              "        async function convertToInteractive(key) {\n",
              "          const element = document.querySelector('#df-f53bc854-3f22-4f90-9083-465d4baafc01');\n",
              "          const dataTable =\n",
              "            await google.colab.kernel.invokeFunction('convertToInteractive',\n",
              "                                                     [key], {});\n",
              "          if (!dataTable) return;\n",
              "\n",
              "          const docLinkHtml = 'Like what you see? Visit the ' +\n",
              "            '<a target=\"_blank\" href=https://colab.research.google.com/notebooks/data_table.ipynb>data table notebook</a>'\n",
              "            + ' to learn more about interactive tables.';\n",
              "          element.innerHTML = '';\n",
              "          dataTable['output_type'] = 'display_data';\n",
              "          await google.colab.output.renderOutput(dataTable, element);\n",
              "          const docLink = document.createElement('div');\n",
              "          docLink.innerHTML = docLinkHtml;\n",
              "          element.appendChild(docLink);\n",
              "        }\n",
              "      </script>\n",
              "    </div>\n",
              "  </div>\n",
              "  "
            ]
          },
          "metadata": {},
          "execution_count": 35
        }
      ],
      "source": [
        "# AddHs() mol 객체에 수소 원자를 추가로 표시한다\n",
        "\n",
        "df['mol'] = df['mol'].apply(lambda x: Chem.AddHs(x))\n",
        "df['num_of_atoms'] = df['mol'].apply(lambda x: x.GetNumAtoms())\n",
        "df['num_of_heavy_atoms'] = df['mol'].apply(lambda x: x.GetNumHeavyAtoms())\n",
        "df[:3]"
      ]
    },
    {
      "cell_type": "code",
      "execution_count": null,
      "metadata": {
        "colab": {
          "base_uri": "https://localhost:8080/",
          "height": 172
        },
        "id": "X0BfSKeTsXjc",
        "outputId": "fa56fbf1-ae94-41d6-8252-9c70b855b64f"
      },
      "outputs": [
        {
          "output_type": "execute_result",
          "data": {
            "text/plain": [
              "<rdkit.Chem.rdchem.Mol at 0x7f1aec5760d0>"
            ],
            "text/html": [
              "<?xml version='1.0' encoding='iso-8859-1'?>\n",
              "<svg version='1.1' baseProfile='full'\n",
              "              xmlns='http://www.w3.org/2000/svg'\n",
              "                      xmlns:rdkit='http://www.rdkit.org/xml'\n",
              "                      xmlns:xlink='http://www.w3.org/1999/xlink'\n",
              "                  xml:space='preserve'\n",
              "width='450px' height='150px' viewBox='0 0 450 150'>\n",
              "<!-- END OF HEADER -->\n",
              "<rect style='opacity:1.0;fill:#FFFFFF;stroke:none' width='450.0' height='150.0' x='0.0' y='0.0'> </rect>\n",
              "<path class='bond-0 atom-0 atom-1' d='M 136.3,74.9 L 195.4,74.9' style='fill:none;fill-rule:evenodd;stroke:#000000;stroke-width:2.0px;stroke-linecap:butt;stroke-linejoin:miter;stroke-opacity:1' />\n",
              "<path class='bond-1 atom-1 atom-2' d='M 195.4,74.9 L 254.6,74.9' style='fill:none;fill-rule:evenodd;stroke:#000000;stroke-width:2.0px;stroke-linecap:butt;stroke-linejoin:miter;stroke-opacity:1' />\n",
              "<path class='bond-2 atom-2 atom-3' d='M 254.6,74.9 L 313.7,74.9' style='fill:none;fill-rule:evenodd;stroke:#000000;stroke-width:2.0px;stroke-linecap:butt;stroke-linejoin:miter;stroke-opacity:1' />\n",
              "<path class='bond-3 atom-2 atom-4' d='M 254.6,74.9 L 254.6,50.9' style='fill:none;fill-rule:evenodd;stroke:#000000;stroke-width:2.0px;stroke-linecap:butt;stroke-linejoin:miter;stroke-opacity:1' />\n",
              "<path class='bond-3 atom-2 atom-4' d='M 254.6,50.9 L 254.6,26.9' style='fill:none;fill-rule:evenodd;stroke:#00CC00;stroke-width:2.0px;stroke-linecap:butt;stroke-linejoin:miter;stroke-opacity:1' />\n",
              "<path class='bond-4 atom-1 atom-5' d='M 195.4,74.9 L 195.4,99.5' style='fill:none;fill-rule:evenodd;stroke:#000000;stroke-width:2.0px;stroke-linecap:butt;stroke-linejoin:miter;stroke-opacity:1' />\n",
              "<path class='bond-4 atom-1 atom-5' d='M 195.4,99.5 L 195.4,124.1' style='fill:none;fill-rule:evenodd;stroke:#00CC00;stroke-width:2.0px;stroke-linecap:butt;stroke-linejoin:miter;stroke-opacity:1' />\n",
              "<path class='bond-5 atom-0 atom-6' d='M 136.3,74.9 L 85.7,74.9' style='fill:none;fill-rule:evenodd;stroke:#000000;stroke-width:2.0px;stroke-linecap:butt;stroke-linejoin:miter;stroke-opacity:1' />\n",
              "<path class='bond-6 atom-0 atom-7' d='M 136.3,74.9 L 136.3,26.1' style='fill:none;fill-rule:evenodd;stroke:#000000;stroke-width:2.0px;stroke-linecap:butt;stroke-linejoin:miter;stroke-opacity:1' />\n",
              "<path class='bond-7 atom-0 atom-8' d='M 136.3,74.9 L 136.3,123.7' style='fill:none;fill-rule:evenodd;stroke:#000000;stroke-width:2.0px;stroke-linecap:butt;stroke-linejoin:miter;stroke-opacity:1' />\n",
              "<path class='bond-8 atom-1 atom-9' d='M 195.4,74.9 L 191.0,28.1 L 199.9,28.1 Z' style='fill:#000000;fill-rule:evenodd;fill-opacity:1;stroke:#000000;stroke-width:0.5px;stroke-linecap:butt;stroke-linejoin:miter;stroke-opacity:1;' />\n",
              "<path class='bond-9 atom-2 atom-10' d='M 254.6,74.9 L 259.0,121.7 L 250.1,121.7 Z' style='fill:#000000;fill-rule:evenodd;fill-opacity:1;stroke:#000000;stroke-width:0.5px;stroke-linecap:butt;stroke-linejoin:miter;stroke-opacity:1;' />\n",
              "<path class='bond-10 atom-3 atom-11' d='M 313.7,74.9 L 364.3,74.9' style='fill:none;fill-rule:evenodd;stroke:#000000;stroke-width:2.0px;stroke-linecap:butt;stroke-linejoin:miter;stroke-opacity:1' />\n",
              "<path class='bond-11 atom-3 atom-12' d='M 313.7,74.9 L 313.7,123.7' style='fill:none;fill-rule:evenodd;stroke:#000000;stroke-width:2.0px;stroke-linecap:butt;stroke-linejoin:miter;stroke-opacity:1' />\n",
              "<path class='bond-12 atom-3 atom-13' d='M 313.7,74.9 L 313.7,26.1' style='fill:none;fill-rule:evenodd;stroke:#000000;stroke-width:2.0px;stroke-linecap:butt;stroke-linejoin:miter;stroke-opacity:1' />\n",
              "<path class='atom-4' d='M 248.1 16.4\n",
              "Q 248.1 12.2, 250.0 10.0\n",
              "Q 252.0 7.8, 255.7 7.8\n",
              "Q 259.2 7.8, 261.0 10.3\n",
              "L 259.4 11.5\n",
              "Q 258.1 9.8, 255.7 9.8\n",
              "Q 253.2 9.8, 251.8 11.5\n",
              "Q 250.5 13.2, 250.5 16.4\n",
              "Q 250.5 19.7, 251.9 21.4\n",
              "Q 253.3 23.1, 256.0 23.1\n",
              "Q 257.8 23.1, 260.0 22.0\n",
              "L 260.6 23.7\n",
              "Q 259.8 24.3, 258.4 24.6\n",
              "Q 257.1 25.0, 255.6 25.0\n",
              "Q 252.0 25.0, 250.0 22.8\n",
              "Q 248.1 20.5, 248.1 16.4\n",
              "' fill='#00CC00'/>\n",
              "<path class='atom-4' d='M 262.7 6.8\n",
              "L 264.9 6.8\n",
              "L 264.9 24.8\n",
              "L 262.7 24.8\n",
              "L 262.7 6.8\n",
              "' fill='#00CC00'/>\n",
              "<path class='atom-5' d='M 189.0 134.6\n",
              "Q 189.0 130.4, 190.9 128.2\n",
              "Q 192.9 126.0, 196.6 126.0\n",
              "Q 200.1 126.0, 201.9 128.5\n",
              "L 200.3 129.8\n",
              "Q 199.0 128.0, 196.6 128.0\n",
              "Q 194.1 128.0, 192.7 129.7\n",
              "Q 191.4 131.4, 191.4 134.6\n",
              "Q 191.4 137.9, 192.8 139.6\n",
              "Q 194.2 141.3, 196.9 141.3\n",
              "Q 198.7 141.3, 200.9 140.2\n",
              "L 201.5 142.0\n",
              "Q 200.6 142.5, 199.3 142.9\n",
              "Q 198.0 143.2, 196.5 143.2\n",
              "Q 192.9 143.2, 190.9 141.0\n",
              "Q 189.0 138.7, 189.0 134.6\n",
              "' fill='#00CC00'/>\n",
              "<path class='atom-5' d='M 203.6 125.0\n",
              "L 205.8 125.0\n",
              "L 205.8 143.0\n",
              "L 203.6 143.0\n",
              "L 203.6 125.0\n",
              "' fill='#00CC00'/>\n",
              "<path class='atom-6' d='M 70.7 66.5\n",
              "L 73.0 66.5\n",
              "L 73.0 73.6\n",
              "L 81.5 73.6\n",
              "L 81.5 66.5\n",
              "L 83.8 66.5\n",
              "L 83.8 83.3\n",
              "L 81.5 83.3\n",
              "L 81.5 75.5\n",
              "L 73.0 75.5\n",
              "L 73.0 83.3\n",
              "L 70.7 83.3\n",
              "L 70.7 66.5\n",
              "' fill='#000000'/>\n",
              "<path class='atom-7' d='M 129.8 7.4\n",
              "L 132.1 7.4\n",
              "L 132.1 14.5\n",
              "L 140.6 14.5\n",
              "L 140.6 7.4\n",
              "L 142.9 7.4\n",
              "L 142.9 24.2\n",
              "L 140.6 24.2\n",
              "L 140.6 16.4\n",
              "L 132.1 16.4\n",
              "L 132.1 24.2\n",
              "L 129.8 24.2\n",
              "L 129.8 7.4\n",
              "' fill='#000000'/>\n",
              "<path class='atom-8' d='M 129.8 125.6\n",
              "L 132.1 125.6\n",
              "L 132.1 132.7\n",
              "L 140.6 132.7\n",
              "L 140.6 125.6\n",
              "L 142.9 125.6\n",
              "L 142.9 142.4\n",
              "L 140.6 142.4\n",
              "L 140.6 134.6\n",
              "L 132.1 134.6\n",
              "L 132.1 142.4\n",
              "L 129.8 142.4\n",
              "L 129.8 125.6\n",
              "' fill='#000000'/>\n",
              "<path class='atom-9' d='M 188.9 7.4\n",
              "L 191.2 7.4\n",
              "L 191.2 14.5\n",
              "L 199.7 14.5\n",
              "L 199.7 7.4\n",
              "L 202.0 7.4\n",
              "L 202.0 24.2\n",
              "L 199.7 24.2\n",
              "L 199.7 16.4\n",
              "L 191.2 16.4\n",
              "L 191.2 24.2\n",
              "L 188.9 24.2\n",
              "L 188.9 7.4\n",
              "' fill='#000000'/>\n",
              "<path class='atom-10' d='M 248.0 125.6\n",
              "L 250.3 125.6\n",
              "L 250.3 132.7\n",
              "L 258.8 132.7\n",
              "L 258.8 125.6\n",
              "L 261.1 125.6\n",
              "L 261.1 142.4\n",
              "L 258.8 142.4\n",
              "L 258.8 134.6\n",
              "L 250.3 134.6\n",
              "L 250.3 142.4\n",
              "L 248.0 142.4\n",
              "L 248.0 125.6\n",
              "' fill='#000000'/>\n",
              "<path class='atom-11' d='M 366.2 66.5\n",
              "L 368.5 66.5\n",
              "L 368.5 73.6\n",
              "L 377.0 73.6\n",
              "L 377.0 66.5\n",
              "L 379.3 66.5\n",
              "L 379.3 83.3\n",
              "L 377.0 83.3\n",
              "L 377.0 75.5\n",
              "L 368.5 75.5\n",
              "L 368.5 83.3\n",
              "L 366.2 83.3\n",
              "L 366.2 66.5\n",
              "' fill='#000000'/>\n",
              "<path class='atom-12' d='M 307.1 125.6\n",
              "L 309.4 125.6\n",
              "L 309.4 132.7\n",
              "L 317.9 132.7\n",
              "L 317.9 125.6\n",
              "L 320.2 125.6\n",
              "L 320.2 142.4\n",
              "L 317.9 142.4\n",
              "L 317.9 134.6\n",
              "L 309.4 134.6\n",
              "L 309.4 142.4\n",
              "L 307.1 142.4\n",
              "L 307.1 125.6\n",
              "' fill='#000000'/>\n",
              "<path class='atom-13' d='M 307.1 7.4\n",
              "L 309.4 7.4\n",
              "L 309.4 14.5\n",
              "L 317.9 14.5\n",
              "L 317.9 7.4\n",
              "L 320.2 7.4\n",
              "L 320.2 24.2\n",
              "L 317.9 24.2\n",
              "L 317.9 16.4\n",
              "L 309.4 16.4\n",
              "L 309.4 24.2\n",
              "L 307.1 24.2\n",
              "L 307.1 7.4\n",
              "' fill='#000000'/>\n",
              "</svg>\n"
            ],
            "image/svg+xml": "<?xml version='1.0' encoding='iso-8859-1'?>\n<svg version='1.1' baseProfile='full'\n              xmlns='http://www.w3.org/2000/svg'\n                      xmlns:rdkit='http://www.rdkit.org/xml'\n                      xmlns:xlink='http://www.w3.org/1999/xlink'\n                  xml:space='preserve'\nwidth='450px' height='150px' viewBox='0 0 450 150'>\n<!-- END OF HEADER -->\n<rect style='opacity:1.0;fill:#FFFFFF;stroke:none' width='450.0' height='150.0' x='0.0' y='0.0'> </rect>\n<path class='bond-0 atom-0 atom-1' d='M 136.3,74.9 L 195.4,74.9' style='fill:none;fill-rule:evenodd;stroke:#000000;stroke-width:2.0px;stroke-linecap:butt;stroke-linejoin:miter;stroke-opacity:1' />\n<path class='bond-1 atom-1 atom-2' d='M 195.4,74.9 L 254.6,74.9' style='fill:none;fill-rule:evenodd;stroke:#000000;stroke-width:2.0px;stroke-linecap:butt;stroke-linejoin:miter;stroke-opacity:1' />\n<path class='bond-2 atom-2 atom-3' d='M 254.6,74.9 L 313.7,74.9' style='fill:none;fill-rule:evenodd;stroke:#000000;stroke-width:2.0px;stroke-linecap:butt;stroke-linejoin:miter;stroke-opacity:1' />\n<path class='bond-3 atom-2 atom-4' d='M 254.6,74.9 L 254.6,50.9' style='fill:none;fill-rule:evenodd;stroke:#000000;stroke-width:2.0px;stroke-linecap:butt;stroke-linejoin:miter;stroke-opacity:1' />\n<path class='bond-3 atom-2 atom-4' d='M 254.6,50.9 L 254.6,26.9' style='fill:none;fill-rule:evenodd;stroke:#00CC00;stroke-width:2.0px;stroke-linecap:butt;stroke-linejoin:miter;stroke-opacity:1' />\n<path class='bond-4 atom-1 atom-5' d='M 195.4,74.9 L 195.4,99.5' style='fill:none;fill-rule:evenodd;stroke:#000000;stroke-width:2.0px;stroke-linecap:butt;stroke-linejoin:miter;stroke-opacity:1' />\n<path class='bond-4 atom-1 atom-5' d='M 195.4,99.5 L 195.4,124.1' style='fill:none;fill-rule:evenodd;stroke:#00CC00;stroke-width:2.0px;stroke-linecap:butt;stroke-linejoin:miter;stroke-opacity:1' />\n<path class='bond-5 atom-0 atom-6' d='M 136.3,74.9 L 85.7,74.9' style='fill:none;fill-rule:evenodd;stroke:#000000;stroke-width:2.0px;stroke-linecap:butt;stroke-linejoin:miter;stroke-opacity:1' />\n<path class='bond-6 atom-0 atom-7' d='M 136.3,74.9 L 136.3,26.1' style='fill:none;fill-rule:evenodd;stroke:#000000;stroke-width:2.0px;stroke-linecap:butt;stroke-linejoin:miter;stroke-opacity:1' />\n<path class='bond-7 atom-0 atom-8' d='M 136.3,74.9 L 136.3,123.7' style='fill:none;fill-rule:evenodd;stroke:#000000;stroke-width:2.0px;stroke-linecap:butt;stroke-linejoin:miter;stroke-opacity:1' />\n<path class='bond-8 atom-1 atom-9' d='M 195.4,74.9 L 191.0,28.1 L 199.9,28.1 Z' style='fill:#000000;fill-rule:evenodd;fill-opacity:1;stroke:#000000;stroke-width:0.5px;stroke-linecap:butt;stroke-linejoin:miter;stroke-opacity:1;' />\n<path class='bond-9 atom-2 atom-10' d='M 254.6,74.9 L 259.0,121.7 L 250.1,121.7 Z' style='fill:#000000;fill-rule:evenodd;fill-opacity:1;stroke:#000000;stroke-width:0.5px;stroke-linecap:butt;stroke-linejoin:miter;stroke-opacity:1;' />\n<path class='bond-10 atom-3 atom-11' d='M 313.7,74.9 L 364.3,74.9' style='fill:none;fill-rule:evenodd;stroke:#000000;stroke-width:2.0px;stroke-linecap:butt;stroke-linejoin:miter;stroke-opacity:1' />\n<path class='bond-11 atom-3 atom-12' d='M 313.7,74.9 L 313.7,123.7' style='fill:none;fill-rule:evenodd;stroke:#000000;stroke-width:2.0px;stroke-linecap:butt;stroke-linejoin:miter;stroke-opacity:1' />\n<path class='bond-12 atom-3 atom-13' d='M 313.7,74.9 L 313.7,26.1' style='fill:none;fill-rule:evenodd;stroke:#000000;stroke-width:2.0px;stroke-linecap:butt;stroke-linejoin:miter;stroke-opacity:1' />\n<path class='atom-4' d='M 248.1 16.4\nQ 248.1 12.2, 250.0 10.0\nQ 252.0 7.8, 255.7 7.8\nQ 259.2 7.8, 261.0 10.3\nL 259.4 11.5\nQ 258.1 9.8, 255.7 9.8\nQ 253.2 9.8, 251.8 11.5\nQ 250.5 13.2, 250.5 16.4\nQ 250.5 19.7, 251.9 21.4\nQ 253.3 23.1, 256.0 23.1\nQ 257.8 23.1, 260.0 22.0\nL 260.6 23.7\nQ 259.8 24.3, 258.4 24.6\nQ 257.1 25.0, 255.6 25.0\nQ 252.0 25.0, 250.0 22.8\nQ 248.1 20.5, 248.1 16.4\n' fill='#00CC00'/>\n<path class='atom-4' d='M 262.7 6.8\nL 264.9 6.8\nL 264.9 24.8\nL 262.7 24.8\nL 262.7 6.8\n' fill='#00CC00'/>\n<path class='atom-5' d='M 189.0 134.6\nQ 189.0 130.4, 190.9 128.2\nQ 192.9 126.0, 196.6 126.0\nQ 200.1 126.0, 201.9 128.5\nL 200.3 129.8\nQ 199.0 128.0, 196.6 128.0\nQ 194.1 128.0, 192.7 129.7\nQ 191.4 131.4, 191.4 134.6\nQ 191.4 137.9, 192.8 139.6\nQ 194.2 141.3, 196.9 141.3\nQ 198.7 141.3, 200.9 140.2\nL 201.5 142.0\nQ 200.6 142.5, 199.3 142.9\nQ 198.0 143.2, 196.5 143.2\nQ 192.9 143.2, 190.9 141.0\nQ 189.0 138.7, 189.0 134.6\n' fill='#00CC00'/>\n<path class='atom-5' d='M 203.6 125.0\nL 205.8 125.0\nL 205.8 143.0\nL 203.6 143.0\nL 203.6 125.0\n' fill='#00CC00'/>\n<path class='atom-6' d='M 70.7 66.5\nL 73.0 66.5\nL 73.0 73.6\nL 81.5 73.6\nL 81.5 66.5\nL 83.8 66.5\nL 83.8 83.3\nL 81.5 83.3\nL 81.5 75.5\nL 73.0 75.5\nL 73.0 83.3\nL 70.7 83.3\nL 70.7 66.5\n' fill='#000000'/>\n<path class='atom-7' d='M 129.8 7.4\nL 132.1 7.4\nL 132.1 14.5\nL 140.6 14.5\nL 140.6 7.4\nL 142.9 7.4\nL 142.9 24.2\nL 140.6 24.2\nL 140.6 16.4\nL 132.1 16.4\nL 132.1 24.2\nL 129.8 24.2\nL 129.8 7.4\n' fill='#000000'/>\n<path class='atom-8' d='M 129.8 125.6\nL 132.1 125.6\nL 132.1 132.7\nL 140.6 132.7\nL 140.6 125.6\nL 142.9 125.6\nL 142.9 142.4\nL 140.6 142.4\nL 140.6 134.6\nL 132.1 134.6\nL 132.1 142.4\nL 129.8 142.4\nL 129.8 125.6\n' fill='#000000'/>\n<path class='atom-9' d='M 188.9 7.4\nL 191.2 7.4\nL 191.2 14.5\nL 199.7 14.5\nL 199.7 7.4\nL 202.0 7.4\nL 202.0 24.2\nL 199.7 24.2\nL 199.7 16.4\nL 191.2 16.4\nL 191.2 24.2\nL 188.9 24.2\nL 188.9 7.4\n' fill='#000000'/>\n<path class='atom-10' d='M 248.0 125.6\nL 250.3 125.6\nL 250.3 132.7\nL 258.8 132.7\nL 258.8 125.6\nL 261.1 125.6\nL 261.1 142.4\nL 258.8 142.4\nL 258.8 134.6\nL 250.3 134.6\nL 250.3 142.4\nL 248.0 142.4\nL 248.0 125.6\n' fill='#000000'/>\n<path class='atom-11' d='M 366.2 66.5\nL 368.5 66.5\nL 368.5 73.6\nL 377.0 73.6\nL 377.0 66.5\nL 379.3 66.5\nL 379.3 83.3\nL 377.0 83.3\nL 377.0 75.5\nL 368.5 75.5\nL 368.5 83.3\nL 366.2 83.3\nL 366.2 66.5\n' fill='#000000'/>\n<path class='atom-12' d='M 307.1 125.6\nL 309.4 125.6\nL 309.4 132.7\nL 317.9 132.7\nL 317.9 125.6\nL 320.2 125.6\nL 320.2 142.4\nL 317.9 142.4\nL 317.9 134.6\nL 309.4 134.6\nL 309.4 142.4\nL 307.1 142.4\nL 307.1 125.6\n' fill='#000000'/>\n<path class='atom-13' d='M 307.1 7.4\nL 309.4 7.4\nL 309.4 14.5\nL 317.9 14.5\nL 317.9 7.4\nL 320.2 7.4\nL 320.2 24.2\nL 317.9 24.2\nL 317.9 16.4\nL 309.4 16.4\nL 309.4 24.2\nL 307.1 24.2\nL 307.1 7.4\n' fill='#000000'/>\n</svg>\n",
            "image/png": "[encoded data removed]"
          },
          "metadata": {},
          "execution_count": 36
        }
      ],
      "source": [
        "df.mol[0]"
      ]
    },
    {
      "cell_type": "markdown",
      "metadata": {
        "id": "zKHD8e2kPObs"
      },
      "source": [
        "- 분자를 구성하는 각 원자별 갯수를 추가하기\n",
        "- GetSubstructMatches()를 사용하면 분자 내에 특정한 패턴이 들어있는지를 찾아낼 수 있다"
      ]
    },
    {
      "cell_type": "code",
      "execution_count": null,
      "metadata": {
        "colab": {
          "base_uri": "https://localhost:8080/"
        },
        "id": "BfWDTmIrPObs",
        "outputId": "583b315d-cf22-45af-c05b-ac59c7f5996e"
      },
      "outputs": [
        {
          "output_type": "stream",
          "name": "stdout",
          "text": [
            "((0,), (1,), (2,), (3,))\n"
          ]
        }
      ],
      "source": [
        "# 탄소 패턴을 지정한다\n",
        "c_patt = Chem.MolFromSmiles('C')\n",
        "\n",
        "# 이 패턴이 들어있는 곳을 찾는다. 패턴의 수를 세면 탄소 원자가 몇개 들어있는지 알 수 있다\n",
        "print(df['mol'][0].GetSubstructMatches(c_patt))"
      ]
    },
    {
      "cell_type": "code",
      "execution_count": null,
      "metadata": {
        "id": "qoMuXPCbPObs"
      },
      "outputs": [],
      "source": [
        "# 임의의 패턴(원자)를 포함하는 수를 찾는 함수 정의\n",
        "def number_of_atoms(atom_list, df):\n",
        "    for i in atom_list:\n",
        "        df['num_of_{}_atoms'.format(i)] = df['mol'].apply(lambda x: len(x.GetSubstructMatches(Chem.MolFromSmiles(i))))\n",
        "\n",
        "number_of_atoms(['C','O', 'N', 'Cl'], df)"
      ]
    },
    {
      "cell_type": "code",
      "execution_count": null,
      "metadata": {
        "colab": {
          "base_uri": "https://localhost:8080/",
          "height": 312
        },
        "id": "Kguhu1_68gc9",
        "outputId": "d424a805-e18d-4fa3-c974-d197efe822f9"
      },
      "outputs": [
        {
          "output_type": "execute_result",
          "data": {
            "text/plain": [
              "                  smiles  logP  \\\n",
              "0  C[C@H]([C@@H](C)Cl)Cl   2.3   \n",
              "1              C(C=CBr)N   0.3   \n",
              "2              CCC(CO)Br   1.3   \n",
              "\n",
              "                                                mol  num_of_atoms  \\\n",
              "0  <rdkit.Chem.rdchem.Mol object at 0x7f1aec349f30>            14   \n",
              "1  <rdkit.Chem.rdchem.Mol object at 0x7f1aec349f80>            11   \n",
              "2  <rdkit.Chem.rdchem.Mol object at 0x7f1aec348080>            15   \n",
              "\n",
              "   num_of_heavy_atoms  num_of_C_atoms  num_of_O_atoms  num_of_N_atoms  \\\n",
              "0                   6               4               0               0   \n",
              "1                   5               3               0               1   \n",
              "2                   6               4               1               0   \n",
              "\n",
              "   num_of_Cl_atoms  \n",
              "0                2  \n",
              "1                0  \n",
              "2                0  "
            ],
            "text/html": [
              "\n",
              "  <div id=\"df-97b9be43-64ef-490b-a634-e6240e57a80c\">\n",
              "    <div class=\"colab-df-container\">\n",
              "      <div>\n",
              "<style scoped>\n",
              "    .dataframe tbody tr th:only-of-type {\n",
              "        vertical-align: middle;\n",
              "    }\n",
              "\n",
              "    .dataframe tbody tr th {\n",
              "        vertical-align: top;\n",
              "    }\n",
              "\n",
              "    .dataframe thead th {\n",
              "        text-align: right;\n",
              "    }\n",
              "</style>\n",
              "<table border=\"1\" class=\"dataframe\">\n",
              "  <thead>\n",
              "    <tr style=\"text-align: right;\">\n",
              "      <th></th>\n",
              "      <th>smiles</th>\n",
              "      <th>logP</th>\n",
              "      <th>mol</th>\n",
              "      <th>num_of_atoms</th>\n",
              "      <th>num_of_heavy_atoms</th>\n",
              "      <th>num_of_C_atoms</th>\n",
              "      <th>num_of_O_atoms</th>\n",
              "      <th>num_of_N_atoms</th>\n",
              "      <th>num_of_Cl_atoms</th>\n",
              "    </tr>\n",
              "  </thead>\n",
              "  <tbody>\n",
              "    <tr>\n",
              "      <th>0</th>\n",
              "      <td>C[C@H]([C@@H](C)Cl)Cl</td>\n",
              "      <td>2.3</td>\n",
              "      <td>&lt;rdkit.Chem.rdchem.Mol object at 0x7f1aec349f30&gt;</td>\n",
              "      <td>14</td>\n",
              "      <td>6</td>\n",
              "      <td>4</td>\n",
              "      <td>0</td>\n",
              "      <td>0</td>\n",
              "      <td>2</td>\n",
              "    </tr>\n",
              "    <tr>\n",
              "      <th>1</th>\n",
              "      <td>C(C=CBr)N</td>\n",
              "      <td>0.3</td>\n",
              "      <td>&lt;rdkit.Chem.rdchem.Mol object at 0x7f1aec349f80&gt;</td>\n",
              "      <td>11</td>\n",
              "      <td>5</td>\n",
              "      <td>3</td>\n",
              "      <td>0</td>\n",
              "      <td>1</td>\n",
              "      <td>0</td>\n",
              "    </tr>\n",
              "    <tr>\n",
              "      <th>2</th>\n",
              "      <td>CCC(CO)Br</td>\n",
              "      <td>1.3</td>\n",
              "      <td>&lt;rdkit.Chem.rdchem.Mol object at 0x7f1aec348080&gt;</td>\n",
              "      <td>15</td>\n",
              "      <td>6</td>\n",
              "      <td>4</td>\n",
              "      <td>1</td>\n",
              "      <td>0</td>\n",
              "      <td>0</td>\n",
              "    </tr>\n",
              "  </tbody>\n",
              "</table>\n",
              "</div>\n",
              "      <button class=\"colab-df-convert\" onclick=\"convertToInteractive('df-97b9be43-64ef-490b-a634-e6240e57a80c')\"\n",
              "              title=\"Convert this dataframe to an interactive table.\"\n",
              "              style=\"display:none;\">\n",
              "        \n",
              "  <svg xmlns=\"http://www.w3.org/2000/svg\" height=\"24px\"viewBox=\"0 0 24 24\"\n",
              "       width=\"24px\">\n",
              "    <path d=\"M0 0h24v24H0V0z\" fill=\"none\"/>\n",
              "    <path d=\"M18.56 5.44l.94 2.06.94-2.06 2.06-.94-2.06-.94-.94-2.06-.94 2.06-2.06.94zm-11 1L8.5 8.5l.94-2.06 2.06-.94-2.06-.94L8.5 2.5l-.94 2.06-2.06.94zm10 10l.94 2.06.94-2.06 2.06-.94-2.06-.94-.94-2.06-.94 2.06-2.06.94z\"/><path d=\"M17.41 7.96l-1.37-1.37c-.4-.4-.92-.59-1.43-.59-.52 0-1.04.2-1.43.59L10.3 9.45l-7.72 7.72c-.78.78-.78 2.05 0 2.83L4 21.41c.39.39.9.59 1.41.59.51 0 1.02-.2 1.41-.59l7.78-7.78 2.81-2.81c.8-.78.8-2.07 0-2.86zM5.41 20L4 18.59l7.72-7.72 1.47 1.35L5.41 20z\"/>\n",
              "  </svg>\n",
              "      </button>\n",
              "      \n",
              "  <style>\n",
              "    .colab-df-container {\n",
              "      display:flex;\n",
              "      flex-wrap:wrap;\n",
              "      gap: 12px;\n",
              "    }\n",
              "\n",
              "    .colab-df-convert {\n",
              "      background-color: #E8F0FE;\n",
              "      border: none;\n",
              "      border-radius: 50%;\n",
              "      cursor: pointer;\n",
              "      display: none;\n",
              "      fill: #1967D2;\n",
              "      height: 32px;\n",
              "      padding: 0 0 0 0;\n",
              "      width: 32px;\n",
              "    }\n",
              "\n",
              "    .colab-df-convert:hover {\n",
              "      background-color: #E2EBFA;\n",
              "      box-shadow: 0px 1px 2px rgba(60, 64, 67, 0.3), 0px 1px 3px 1px rgba(60, 64, 67, 0.15);\n",
              "      fill: #174EA6;\n",
              "    }\n",
              "\n",
              "    [theme=dark] .colab-df-convert {\n",
              "      background-color: #3B4455;\n",
              "      fill: #D2E3FC;\n",
              "    }\n",
              "\n",
              "    [theme=dark] .colab-df-convert:hover {\n",
              "      background-color: #434B5C;\n",
              "      box-shadow: 0px 1px 3px 1px rgba(0, 0, 0, 0.15);\n",
              "      filter: drop-shadow(0px 1px 2px rgba(0, 0, 0, 0.3));\n",
              "      fill: #FFFFFF;\n",
              "    }\n",
              "  </style>\n",
              "\n",
              "      <script>\n",
              "        const buttonEl =\n",
              "          document.querySelector('#df-97b9be43-64ef-490b-a634-e6240e57a80c button.colab-df-convert');\n",
              "        buttonEl.style.display =\n",
              "          google.colab.kernel.accessAllowed ? 'block' : 'none';\n",
              "\n",
              "        async function convertToInteractive(key) {\n",
              "          const element = document.querySelector('#df-97b9be43-64ef-490b-a634-e6240e57a80c');\n",
              "          const dataTable =\n",
              "            await google.colab.kernel.invokeFunction('convertToInteractive',\n",
              "                                                     [key], {});\n",
              "          if (!dataTable) return;\n",
              "\n",
              "          const docLinkHtml = 'Like what you see? Visit the ' +\n",
              "            '<a target=\"_blank\" href=https://colab.research.google.com/notebooks/data_table.ipynb>data table notebook</a>'\n",
              "            + ' to learn more about interactive tables.';\n",
              "          element.innerHTML = '';\n",
              "          dataTable['output_type'] = 'display_data';\n",
              "          await google.colab.output.renderOutput(dataTable, element);\n",
              "          const docLink = document.createElement('div');\n",
              "          docLink.innerHTML = docLinkHtml;\n",
              "          element.appendChild(docLink);\n",
              "        }\n",
              "      </script>\n",
              "    </div>\n",
              "  </div>\n",
              "  "
            ]
          },
          "metadata": {},
          "execution_count": 15
        }
      ],
      "source": [
        "df[:3]"
      ]
    },
    {
      "cell_type": "code",
      "execution_count": null,
      "metadata": {
        "colab": {
          "base_uri": "https://localhost:8080/",
          "height": 222
        },
        "id": "Qtvb7PRBM_zw",
        "outputId": "3a00c230-be9e-4d65-cd92-0eed566f062a"
      },
      "outputs": [
        {
          "output_type": "execute_result",
          "data": {
            "text/plain": [
              "<IPython.core.display.SVG object>"
            ],
            "image/svg+xml": "<svg baseProfile=\"full\" height=\"200px\" version=\"1.1\" viewBox=\"0 0 800 200\" width=\"800px\" xml:space=\"preserve\" xmlns=\"http://www.w3.org/2000/svg\" xmlns:rdkit=\"http://www.rdkit.org/xml\" xmlns:xlink=\"http://www.w3.org/1999/xlink\">\n<!-- END OF HEADER -->\n<rect height=\"200.0\" style=\"opacity:1.0;fill:#FFFFFF;stroke:none\" width=\"800.0\" x=\"0.0\" y=\"0.0\"> </rect>\n<path class=\"bond-0 atom-0 atom-1\" d=\"M 88.7,123.6 L 116.0,107.8\" style=\"fill:none;fill-rule:evenodd;stroke:#000000;stroke-width:2.0px;stroke-linecap:butt;stroke-linejoin:miter;stroke-opacity:1\"/>\n<path class=\"bond-1 atom-1 atom-2\" d=\"M 118.4,109.2 L 118.4,95.6\" style=\"fill:none;fill-rule:evenodd;stroke:#000000;stroke-width:2.0px;stroke-linecap:butt;stroke-linejoin:miter;stroke-opacity:1\"/>\n<path class=\"bond-1 atom-1 atom-2\" d=\"M 118.4,95.6 L 118.4,82.0\" style=\"fill:none;fill-rule:evenodd;stroke:#FF0000;stroke-width:2.0px;stroke-linecap:butt;stroke-linejoin:miter;stroke-opacity:1\"/>\n<path class=\"bond-1 atom-1 atom-2\" d=\"M 113.7,109.2 L 113.7,95.6\" style=\"fill:none;fill-rule:evenodd;stroke:#000000;stroke-width:2.0px;stroke-linecap:butt;stroke-linejoin:miter;stroke-opacity:1\"/>\n<path class=\"bond-1 atom-1 atom-2\" d=\"M 113.7,95.6 L 113.7,82.0\" style=\"fill:none;fill-rule:evenodd;stroke:#FF0000;stroke-width:2.0px;stroke-linecap:butt;stroke-linejoin:miter;stroke-opacity:1\"/>\n<path class=\"bond-2 atom-1 atom-3\" d=\"M 116.0,107.8 L 127.1,114.2\" style=\"fill:none;fill-rule:evenodd;stroke:#000000;stroke-width:2.0px;stroke-linecap:butt;stroke-linejoin:miter;stroke-opacity:1\"/>\n<path class=\"bond-2 atom-1 atom-3\" d=\"M 127.1,114.2 L 138.2,120.6\" style=\"fill:none;fill-rule:evenodd;stroke:#FF0000;stroke-width:2.0px;stroke-linecap:butt;stroke-linejoin:miter;stroke-opacity:1\"/>\n<path class=\"bond-3 atom-0 atom-4\" d=\"M 88.7,123.6 L 77.3,117.0\" style=\"fill:none;fill-rule:evenodd;stroke:#000000;stroke-width:2.0px;stroke-linecap:butt;stroke-linejoin:miter;stroke-opacity:1\"/>\n<path class=\"bond-3 atom-0 atom-4\" d=\"M 77.3,117.0 L 65.9,110.4\" style=\"fill:none;fill-rule:evenodd;stroke:#0000FF;stroke-width:2.0px;stroke-linecap:butt;stroke-linejoin:miter;stroke-opacity:1\"/>\n<path d=\"M 90.1,122.8 L 88.7,123.6 L 88.2,123.2\" style=\"fill:none;stroke:#000000;stroke-width:2.0px;stroke-linecap:butt;stroke-linejoin:miter;stroke-opacity:1;\"/>\n<path d=\"M 114.7,108.6 L 116.0,107.8 L 116.6,108.1\" style=\"fill:none;stroke:#000000;stroke-width:2.0px;stroke-linecap:butt;stroke-linejoin:miter;stroke-opacity:1;\"/>\n<path class=\"atom-2\" d=\"M 111.9 76.3 Q 111.9 74.2, 113.0 73.0 Q 114.0 71.8, 116.0 71.8 Q 118.0 71.8, 119.1 73.0 Q 120.1 74.2, 120.1 76.3 Q 120.1 78.5, 119.0 79.7 Q 118.0 81.0, 116.0 81.0 Q 114.1 81.0, 113.0 79.7 Q 111.9 78.5, 111.9 76.3 M 116.0 79.9 Q 117.4 79.9, 118.1 79.0 Q 118.9 78.1, 118.9 76.3 Q 118.9 74.6, 118.1 73.7 Q 117.4 72.8, 116.0 72.8 Q 114.7 72.8, 113.9 73.7 Q 113.2 74.6, 113.2 76.3 Q 113.2 78.1, 113.9 79.0 Q 114.7 79.9, 116.0 79.9 \" fill=\"#FF0000\"/>\n<path class=\"atom-3\" d=\"M 139.2 123.6 Q 139.2 121.4, 140.3 120.2 Q 141.3 119.0, 143.3 119.0 Q 145.3 119.0, 146.3 120.2 Q 147.4 121.4, 147.4 123.6 Q 147.4 125.8, 146.3 127.0 Q 145.3 128.2, 143.3 128.2 Q 141.3 128.2, 140.3 127.0 Q 139.2 125.8, 139.2 123.6 M 143.3 127.2 Q 144.7 127.2, 145.4 126.3 Q 146.1 125.4, 146.1 123.6 Q 146.1 121.8, 145.4 120.9 Q 144.7 120.1, 143.3 120.1 Q 141.9 120.1, 141.2 120.9 Q 140.5 121.8, 140.5 123.6 Q 140.5 125.4, 141.2 126.3 Q 141.9 127.2, 143.3 127.2 \" fill=\"#FF0000\"/>\n<path class=\"atom-3\" d=\"M 148.8 119.1 L 150.0 119.1 L 150.0 122.9 L 154.6 122.9 L 154.6 119.1 L 155.8 119.1 L 155.8 128.1 L 154.6 128.1 L 154.6 123.9 L 150.0 123.9 L 150.0 128.1 L 148.8 128.1 L 148.8 119.1 \" fill=\"#FF0000\"/>\n<path class=\"atom-4\" d=\"M 44.2 103.3 L 45.4 103.3 L 45.4 107.1 L 50.0 107.1 L 50.0 103.3 L 51.2 103.3 L 51.2 112.3 L 50.0 112.3 L 50.0 108.1 L 45.4 108.1 L 45.4 112.3 L 44.2 112.3 L 44.2 103.3 \" fill=\"#0000FF\"/>\n<path class=\"atom-4\" d=\"M 53.0 112.0 Q 53.2 111.4, 53.7 111.1 Q 54.2 110.8, 54.9 110.8 Q 55.8 110.8, 56.3 111.3 Q 56.8 111.7, 56.8 112.6 Q 56.8 113.5, 56.2 114.3 Q 55.5 115.1, 54.2 116.1 L 56.9 116.1 L 56.9 116.7 L 52.9 116.7 L 52.9 116.2 Q 54.0 115.4, 54.7 114.8 Q 55.3 114.2, 55.7 113.7 Q 56.0 113.2, 56.0 112.6 Q 56.0 112.1, 55.7 111.8 Q 55.4 111.4, 54.9 111.4 Q 54.4 111.4, 54.1 111.6 Q 53.8 111.8, 53.6 112.2 L 53.0 112.0 \" fill=\"#0000FF\"/>\n<path class=\"atom-4\" d=\"M 59.5 103.3 L 62.4 108.1 Q 62.7 108.5, 63.2 109.4 Q 63.6 110.2, 63.7 110.3 L 63.7 103.3 L 64.8 103.3 L 64.8 112.3 L 63.6 112.3 L 60.5 107.1 Q 60.1 106.5, 59.7 105.8 Q 59.3 105.1, 59.2 104.9 L 59.2 112.3 L 58.1 112.3 L 58.1 103.3 L 59.5 103.3 \" fill=\"#0000FF\"/>\n<path class=\"bond-0 atom-1 atom-0\" d=\"M 276.1,95.7 L 278.1,83.5 L 280.3,84.1 Z\" style=\"fill:#000000;fill-rule:evenodd;fill-opacity:1;stroke:#000000;stroke-width:0.5px;stroke-linecap:butt;stroke-linejoin:miter;stroke-opacity:1;\"/>\n<path class=\"bond-0 atom-1 atom-0\" d=\"M 278.1,83.5 L 284.6,72.4 L 280.0,71.2 Z\" style=\"fill:#0000FF;fill-rule:evenodd;fill-opacity:1;stroke:#0000FF;stroke-width:0.5px;stroke-linecap:butt;stroke-linejoin:miter;stroke-opacity:1;\"/>\n<path class=\"bond-0 atom-1 atom-0\" d=\"M 278.1,83.5 L 280.3,84.1 L 284.6,72.4 Z\" style=\"fill:#0000FF;fill-rule:evenodd;fill-opacity:1;stroke:#0000FF;stroke-width:0.5px;stroke-linecap:butt;stroke-linejoin:miter;stroke-opacity:1;\"/>\n<path class=\"bond-1 atom-1 atom-2\" d=\"M 276.1,95.7 L 298.5,117.9\" style=\"fill:none;fill-rule:evenodd;stroke:#000000;stroke-width:2.0px;stroke-linecap:butt;stroke-linejoin:miter;stroke-opacity:1\"/>\n<path class=\"bond-2 atom-2 atom-3\" d=\"M 298.5,117.9 L 328.9,109.5\" style=\"fill:none;fill-rule:evenodd;stroke:#000000;stroke-width:2.0px;stroke-linecap:butt;stroke-linejoin:miter;stroke-opacity:1\"/>\n<path class=\"bond-3 atom-3 atom-4\" d=\"M 328.9,109.5 L 336.8,79.1\" style=\"fill:none;fill-rule:evenodd;stroke:#000000;stroke-width:2.0px;stroke-linecap:butt;stroke-linejoin:miter;stroke-opacity:1\"/>\n<path class=\"bond-3 atom-3 atom-4\" d=\"M 334.1,108.1 L 340.7,82.9\" style=\"fill:none;fill-rule:evenodd;stroke:#000000;stroke-width:2.0px;stroke-linecap:butt;stroke-linejoin:miter;stroke-opacity:1\"/>\n<path class=\"bond-4 atom-4 atom-5\" d=\"M 336.8,79.1 L 367.2,70.7\" style=\"fill:none;fill-rule:evenodd;stroke:#000000;stroke-width:2.0px;stroke-linecap:butt;stroke-linejoin:miter;stroke-opacity:1\"/>\n<path class=\"bond-5 atom-5 atom-6\" d=\"M 367.2,70.7 L 389.6,92.9\" style=\"fill:none;fill-rule:evenodd;stroke:#000000;stroke-width:2.0px;stroke-linecap:butt;stroke-linejoin:miter;stroke-opacity:1\"/>\n<path class=\"bond-5 atom-5 atom-6\" d=\"M 365.8,76.0 L 384.4,94.3\" style=\"fill:none;fill-rule:evenodd;stroke:#000000;stroke-width:2.0px;stroke-linecap:butt;stroke-linejoin:miter;stroke-opacity:1\"/>\n<path class=\"bond-6 atom-6 atom-7\" d=\"M 389.6,92.9 L 381.7,123.3\" style=\"fill:none;fill-rule:evenodd;stroke:#000000;stroke-width:2.0px;stroke-linecap:butt;stroke-linejoin:miter;stroke-opacity:1\"/>\n<path class=\"bond-7 atom-7 atom-8\" d=\"M 381.7,123.3 L 351.3,131.7\" style=\"fill:none;fill-rule:evenodd;stroke:#000000;stroke-width:2.0px;stroke-linecap:butt;stroke-linejoin:miter;stroke-opacity:1\"/>\n<path class=\"bond-7 atom-7 atom-8\" d=\"M 377.8,119.5 L 352.7,126.4\" style=\"fill:none;fill-rule:evenodd;stroke:#000000;stroke-width:2.0px;stroke-linecap:butt;stroke-linejoin:miter;stroke-opacity:1\"/>\n<path class=\"bond-8 atom-1 atom-9\" d=\"M 276.1,95.7 L 245.7,104.1\" style=\"fill:none;fill-rule:evenodd;stroke:#000000;stroke-width:2.0px;stroke-linecap:butt;stroke-linejoin:miter;stroke-opacity:1\"/>\n<path class=\"bond-9 atom-9 atom-10\" d=\"M 245.7,104.1 L 237.1,95.5\" style=\"fill:none;fill-rule:evenodd;stroke:#000000;stroke-width:2.0px;stroke-linecap:butt;stroke-linejoin:miter;stroke-opacity:1\"/>\n<path class=\"bond-9 atom-9 atom-10\" d=\"M 237.1,95.5 L 228.4,87.0\" style=\"fill:none;fill-rule:evenodd;stroke:#FF0000;stroke-width:2.0px;stroke-linecap:butt;stroke-linejoin:miter;stroke-opacity:1\"/>\n<path class=\"bond-10 atom-9 atom-11\" d=\"M 243.8,102.2 L 240.3,115.3\" style=\"fill:none;fill-rule:evenodd;stroke:#000000;stroke-width:2.0px;stroke-linecap:butt;stroke-linejoin:miter;stroke-opacity:1\"/>\n<path class=\"bond-10 atom-9 atom-11\" d=\"M 240.3,115.3 L 236.9,128.4\" style=\"fill:none;fill-rule:evenodd;stroke:#FF0000;stroke-width:2.0px;stroke-linecap:butt;stroke-linejoin:miter;stroke-opacity:1\"/>\n<path class=\"bond-10 atom-9 atom-11\" d=\"M 248.3,103.4 L 244.9,116.5\" style=\"fill:none;fill-rule:evenodd;stroke:#000000;stroke-width:2.0px;stroke-linecap:butt;stroke-linejoin:miter;stroke-opacity:1\"/>\n<path class=\"bond-10 atom-9 atom-11\" d=\"M 244.9,116.5 L 241.5,129.6\" style=\"fill:none;fill-rule:evenodd;stroke:#FF0000;stroke-width:2.0px;stroke-linecap:butt;stroke-linejoin:miter;stroke-opacity:1\"/>\n<path class=\"bond-11 atom-8 atom-3\" d=\"M 351.3,131.7 L 328.9,109.5\" style=\"fill:none;fill-rule:evenodd;stroke:#000000;stroke-width:2.0px;stroke-linecap:butt;stroke-linejoin:miter;stroke-opacity:1\"/>\n<path d=\"M 277.2,96.8 L 276.1,95.7 L 274.6,96.2\" style=\"fill:none;stroke:#000000;stroke-width:2.0px;stroke-linecap:butt;stroke-linejoin:miter;stroke-opacity:1;\"/>\n<path d=\"M 297.4,116.8 L 298.5,117.9 L 300.0,117.5\" style=\"fill:none;stroke:#000000;stroke-width:2.0px;stroke-linecap:butt;stroke-linejoin:miter;stroke-opacity:1;\"/>\n<path d=\"M 336.4,80.6 L 336.8,79.1 L 338.4,78.6\" style=\"fill:none;stroke:#000000;stroke-width:2.0px;stroke-linecap:butt;stroke-linejoin:miter;stroke-opacity:1;\"/>\n<path d=\"M 365.7,71.1 L 367.2,70.7 L 368.3,71.8\" style=\"fill:none;stroke:#000000;stroke-width:2.0px;stroke-linecap:butt;stroke-linejoin:miter;stroke-opacity:1;\"/>\n<path d=\"M 388.5,91.7 L 389.6,92.9 L 389.2,94.4\" style=\"fill:none;stroke:#000000;stroke-width:2.0px;stroke-linecap:butt;stroke-linejoin:miter;stroke-opacity:1;\"/>\n<path d=\"M 382.1,121.8 L 381.7,123.3 L 380.1,123.7\" style=\"fill:none;stroke:#000000;stroke-width:2.0px;stroke-linecap:butt;stroke-linejoin:miter;stroke-opacity:1;\"/>\n<path d=\"M 352.8,131.3 L 351.3,131.7 L 350.2,130.6\" style=\"fill:none;stroke:#000000;stroke-width:2.0px;stroke-linecap:butt;stroke-linejoin:miter;stroke-opacity:1;\"/>\n<path d=\"M 247.2,103.7 L 245.7,104.1 L 245.3,103.6\" style=\"fill:none;stroke:#000000;stroke-width:2.0px;stroke-linecap:butt;stroke-linejoin:miter;stroke-opacity:1;\"/>\n<path class=\"atom-0\" d=\"M 282.1 60.8 L 285.0 65.5 Q 285.3 66.0, 285.7 66.8 Q 286.2 67.7, 286.2 67.7 L 286.2 60.8 L 287.4 60.8 L 287.4 69.7 L 286.2 69.7 L 283.1 64.5 Q 282.7 63.9, 282.3 63.3 Q 281.9 62.6, 281.8 62.3 L 281.8 69.7 L 280.7 69.7 L 280.7 60.8 L 282.1 60.8 \" fill=\"#0000FF\"/>\n<path class=\"atom-0\" d=\"M 289.1 60.8 L 290.3 60.8 L 290.3 64.6 L 294.9 64.6 L 294.9 60.8 L 296.1 60.8 L 296.1 69.7 L 294.9 69.7 L 294.9 65.6 L 290.3 65.6 L 290.3 69.7 L 289.1 69.7 L 289.1 60.8 \" fill=\"#0000FF\"/>\n<path class=\"atom-0\" d=\"M 297.9 69.4 Q 298.1 68.8, 298.6 68.5 Q 299.1 68.2, 299.8 68.2 Q 300.7 68.2, 301.2 68.7 Q 301.7 69.2, 301.7 70.0 Q 301.7 70.9, 301.1 71.7 Q 300.4 72.5, 299.1 73.5 L 301.8 73.5 L 301.8 74.2 L 297.8 74.2 L 297.8 73.6 Q 298.9 72.8, 299.6 72.3 Q 300.2 71.7, 300.6 71.1 Q 300.9 70.6, 300.9 70.1 Q 300.9 69.5, 300.6 69.2 Q 300.3 68.9, 299.8 68.9 Q 299.3 68.9, 299.0 69.1 Q 298.7 69.3, 298.5 69.7 L 297.9 69.4 \" fill=\"#0000FF\"/>\n<path class=\"atom-10\" d=\"M 210.4 77.5 L 211.6 77.5 L 211.6 81.3 L 216.1 81.3 L 216.1 77.5 L 217.4 77.5 L 217.4 86.4 L 216.1 86.4 L 216.1 82.3 L 211.6 82.3 L 211.6 86.4 L 210.4 86.4 L 210.4 77.5 \" fill=\"#FF0000\"/>\n<path class=\"atom-10\" d=\"M 219.2 82.0 Q 219.2 79.8, 220.2 78.6 Q 221.3 77.4, 223.3 77.4 Q 225.3 77.4, 226.3 78.6 Q 227.4 79.8, 227.4 82.0 Q 227.4 84.1, 226.3 85.4 Q 225.2 86.6, 223.3 86.6 Q 221.3 86.6, 220.2 85.4 Q 219.2 84.1, 219.2 82.0 M 223.3 85.6 Q 224.6 85.6, 225.4 84.7 Q 226.1 83.8, 226.1 82.0 Q 226.1 80.2, 225.4 79.3 Q 224.6 78.4, 223.3 78.4 Q 221.9 78.4, 221.2 79.3 Q 220.4 80.2, 220.4 82.0 Q 220.4 83.8, 221.2 84.7 Q 221.9 85.6, 223.3 85.6 \" fill=\"#FF0000\"/>\n<path class=\"atom-11\" d=\"M 233.6 134.6 Q 233.6 132.4, 234.7 131.2 Q 235.7 130.0, 237.7 130.0 Q 239.7 130.0, 240.8 131.2 Q 241.8 132.4, 241.8 134.6 Q 241.8 136.7, 240.8 138.0 Q 239.7 139.2, 237.7 139.2 Q 235.8 139.2, 234.7 138.0 Q 233.6 136.8, 233.6 134.6 M 237.7 138.2 Q 239.1 138.2, 239.8 137.3 Q 240.6 136.4, 240.6 134.6 Q 240.6 132.8, 239.8 131.9 Q 239.1 131.1, 237.7 131.1 Q 236.4 131.1, 235.6 131.9 Q 234.9 132.8, 234.9 134.6 Q 234.9 136.4, 235.6 137.3 Q 236.4 138.2, 237.7 138.2 \" fill=\"#FF0000\"/>\n<path class=\"bond-0 atom-0 atom-1\" d=\"M 436.1,128.7 L 439.4,115.5\" style=\"fill:none;fill-rule:evenodd;stroke:#FF0000;stroke-width:2.0px;stroke-linecap:butt;stroke-linejoin:miter;stroke-opacity:1\"/>\n<path class=\"bond-0 atom-0 atom-1\" d=\"M 439.4,115.5 L 442.7,102.3\" style=\"fill:none;fill-rule:evenodd;stroke:#000000;stroke-width:2.0px;stroke-linecap:butt;stroke-linejoin:miter;stroke-opacity:1\"/>\n<path class=\"bond-0 atom-0 atom-1\" d=\"M 440.7,129.8 L 444.0,116.7\" style=\"fill:none;fill-rule:evenodd;stroke:#FF0000;stroke-width:2.0px;stroke-linecap:butt;stroke-linejoin:miter;stroke-opacity:1\"/>\n<path class=\"bond-0 atom-0 atom-1\" d=\"M 444.0,116.7 L 447.3,103.5\" style=\"fill:none;fill-rule:evenodd;stroke:#000000;stroke-width:2.0px;stroke-linecap:butt;stroke-linejoin:miter;stroke-opacity:1\"/>\n<path class=\"bond-1 atom-1 atom-2\" d=\"M 444.6,104.2 L 474.9,95.6\" style=\"fill:none;fill-rule:evenodd;stroke:#000000;stroke-width:2.0px;stroke-linecap:butt;stroke-linejoin:miter;stroke-opacity:1\"/>\n<path class=\"bond-2 atom-2 atom-3\" d=\"M 474.9,95.6 L 497.6,117.5\" style=\"fill:none;fill-rule:evenodd;stroke:#000000;stroke-width:2.0px;stroke-linecap:butt;stroke-linejoin:miter;stroke-opacity:1\"/>\n<path class=\"bond-3 atom-3 atom-4\" d=\"M 497.6,117.5 L 527.9,108.8\" style=\"fill:none;fill-rule:evenodd;stroke:#000000;stroke-width:2.0px;stroke-linecap:butt;stroke-linejoin:miter;stroke-opacity:1\"/>\n<path class=\"bond-4 atom-4 atom-5\" d=\"M 527.9,108.8 L 552.7,128.2\" style=\"fill:none;fill-rule:evenodd;stroke:#000000;stroke-width:2.0px;stroke-linecap:butt;stroke-linejoin:miter;stroke-opacity:1\"/>\n<path class=\"bond-4 atom-4 atom-5\" d=\"M 533.5,107.2 L 552.9,122.4\" style=\"fill:none;fill-rule:evenodd;stroke:#000000;stroke-width:2.0px;stroke-linecap:butt;stroke-linejoin:miter;stroke-opacity:1\"/>\n<path class=\"bond-5 atom-5 atom-6\" d=\"M 552.7,128.2 L 563.5,120.9\" style=\"fill:none;fill-rule:evenodd;stroke:#000000;stroke-width:2.0px;stroke-linecap:butt;stroke-linejoin:miter;stroke-opacity:1\"/>\n<path class=\"bond-5 atom-5 atom-6\" d=\"M 563.5,120.9 L 574.4,113.6\" style=\"fill:none;fill-rule:evenodd;stroke:#0000FF;stroke-width:2.0px;stroke-linecap:butt;stroke-linejoin:miter;stroke-opacity:1\"/>\n<path class=\"bond-6 atom-6 atom-7\" d=\"M 577.2,105.1 L 573.7,92.7\" style=\"fill:none;fill-rule:evenodd;stroke:#0000FF;stroke-width:2.0px;stroke-linecap:butt;stroke-linejoin:miter;stroke-opacity:1\"/>\n<path class=\"bond-6 atom-6 atom-7\" d=\"M 573.7,92.7 L 570.1,80.3\" style=\"fill:none;fill-rule:evenodd;stroke:#000000;stroke-width:2.0px;stroke-linecap:butt;stroke-linejoin:miter;stroke-opacity:1\"/>\n<path class=\"bond-7 atom-7 atom-8\" d=\"M 570.1,80.3 L 556.6,79.9\" style=\"fill:none;fill-rule:evenodd;stroke:#000000;stroke-width:2.0px;stroke-linecap:butt;stroke-linejoin:miter;stroke-opacity:1\"/>\n<path class=\"bond-7 atom-7 atom-8\" d=\"M 556.6,79.9 L 543.1,79.4\" style=\"fill:none;fill-rule:evenodd;stroke:#0000FF;stroke-width:2.0px;stroke-linecap:butt;stroke-linejoin:miter;stroke-opacity:1\"/>\n<path class=\"bond-7 atom-7 atom-8\" d=\"M 566.5,84.9 L 554.7,84.5\" style=\"fill:none;fill-rule:evenodd;stroke:#000000;stroke-width:2.0px;stroke-linecap:butt;stroke-linejoin:miter;stroke-opacity:1\"/>\n<path class=\"bond-7 atom-7 atom-8\" d=\"M 554.7,84.5 L 542.9,84.1\" style=\"fill:none;fill-rule:evenodd;stroke:#0000FF;stroke-width:2.0px;stroke-linecap:butt;stroke-linejoin:miter;stroke-opacity:1\"/>\n<path class=\"bond-8 atom-2 atom-9\" d=\"M 474.9,95.6 L 476.8,83.3 L 479.1,83.8 Z\" style=\"fill:#000000;fill-rule:evenodd;fill-opacity:1;stroke:#000000;stroke-width:0.5px;stroke-linecap:butt;stroke-linejoin:miter;stroke-opacity:1;\"/>\n<path class=\"bond-8 atom-2 atom-9\" d=\"M 476.8,83.3 L 483.2,72.1 L 478.6,71.0 Z\" style=\"fill:#0000FF;fill-rule:evenodd;fill-opacity:1;stroke:#0000FF;stroke-width:0.5px;stroke-linecap:butt;stroke-linejoin:miter;stroke-opacity:1;\"/>\n<path class=\"bond-8 atom-2 atom-9\" d=\"M 476.8,83.3 L 479.1,83.8 L 483.2,72.1 Z\" style=\"fill:#0000FF;fill-rule:evenodd;fill-opacity:1;stroke:#0000FF;stroke-width:0.5px;stroke-linecap:butt;stroke-linejoin:miter;stroke-opacity:1;\"/>\n<path class=\"bond-9 atom-1 atom-10\" d=\"M 444.6,104.2 L 435.9,95.8\" style=\"fill:none;fill-rule:evenodd;stroke:#000000;stroke-width:2.0px;stroke-linecap:butt;stroke-linejoin:miter;stroke-opacity:1\"/>\n<path class=\"bond-9 atom-1 atom-10\" d=\"M 435.9,95.8 L 427.1,87.3\" style=\"fill:none;fill-rule:evenodd;stroke:#FF0000;stroke-width:2.0px;stroke-linecap:butt;stroke-linejoin:miter;stroke-opacity:1\"/>\n<path class=\"bond-10 atom-8 atom-4\" d=\"M 536.7,84.7 L 532.3,96.8\" style=\"fill:none;fill-rule:evenodd;stroke:#0000FF;stroke-width:2.0px;stroke-linecap:butt;stroke-linejoin:miter;stroke-opacity:1\"/>\n<path class=\"bond-10 atom-8 atom-4\" d=\"M 532.3,96.8 L 527.9,108.8\" style=\"fill:none;fill-rule:evenodd;stroke:#000000;stroke-width:2.0px;stroke-linecap:butt;stroke-linejoin:miter;stroke-opacity:1\"/>\n<path d=\"M 446.2,103.8 L 444.6,104.2 L 444.2,103.8\" style=\"fill:none;stroke:#000000;stroke-width:2.0px;stroke-linecap:butt;stroke-linejoin:miter;stroke-opacity:1;\"/>\n<path d=\"M 473.4,96.0 L 474.9,95.6 L 476.1,96.7\" style=\"fill:none;stroke:#000000;stroke-width:2.0px;stroke-linecap:butt;stroke-linejoin:miter;stroke-opacity:1;\"/>\n<path d=\"M 496.4,116.4 L 497.6,117.5 L 499.1,117.0\" style=\"fill:none;stroke:#000000;stroke-width:2.0px;stroke-linecap:butt;stroke-linejoin:miter;stroke-opacity:1;\"/>\n<path d=\"M 551.4,127.3 L 552.7,128.2 L 553.2,127.9\" style=\"fill:none;stroke:#000000;stroke-width:2.0px;stroke-linecap:butt;stroke-linejoin:miter;stroke-opacity:1;\"/>\n<path d=\"M 570.3,81.0 L 570.1,80.3 L 569.5,80.3\" style=\"fill:none;stroke:#000000;stroke-width:2.0px;stroke-linecap:butt;stroke-linejoin:miter;stroke-opacity:1;\"/>\n<path class=\"atom-0\" d=\"M 432.9 134.8 Q 432.9 132.7, 434.0 131.5 Q 435.0 130.3, 437.0 130.3 Q 439.0 130.3, 440.0 131.5 Q 441.1 132.7, 441.1 134.8 Q 441.1 137.0, 440.0 138.2 Q 439.0 139.4, 437.0 139.4 Q 435.0 139.4, 434.0 138.2 Q 432.9 137.0, 432.9 134.8 M 437.0 138.4 Q 438.4 138.4, 439.1 137.5 Q 439.8 136.6, 439.8 134.8 Q 439.8 133.1, 439.1 132.2 Q 438.4 131.3, 437.0 131.3 Q 435.6 131.3, 434.9 132.2 Q 434.2 133.1, 434.2 134.8 Q 434.2 136.6, 434.9 137.5 Q 435.6 138.4, 437.0 138.4 \" fill=\"#FF0000\"/>\n<path class=\"atom-6\" d=\"M 576.8 106.2 L 579.8 110.9 Q 580.1 111.4, 580.5 112.2 Q 581.0 113.0, 581.0 113.1 L 581.0 106.2 L 582.2 106.2 L 582.2 115.1 L 581.0 115.1 L 577.8 109.9 Q 577.5 109.3, 577.1 108.6 Q 576.7 107.9, 576.6 107.7 L 576.6 115.1 L 575.4 115.1 L 575.4 106.2 L 576.8 106.2 \" fill=\"#0000FF\"/>\n<path class=\"atom-6\" d=\"M 583.9 106.2 L 585.1 106.2 L 585.1 110.0 L 589.7 110.0 L 589.7 106.2 L 590.9 106.2 L 590.9 115.1 L 589.7 115.1 L 589.7 111.0 L 585.1 111.0 L 585.1 115.1 L 583.9 115.1 L 583.9 106.2 \" fill=\"#0000FF\"/>\n<path class=\"atom-8\" d=\"M 536.7 74.8 L 539.6 79.5 Q 539.9 79.9, 540.4 80.8 Q 540.8 81.6, 540.9 81.7 L 540.9 74.8 L 542.0 74.8 L 542.0 83.7 L 540.8 83.7 L 537.7 78.5 Q 537.3 77.9, 536.9 77.2 Q 536.6 76.5, 536.4 76.3 L 536.4 83.7 L 535.3 83.7 L 535.3 74.8 L 536.7 74.8 \" fill=\"#0000FF\"/>\n<path class=\"atom-9\" d=\"M 480.6 60.6 L 483.5 65.3 Q 483.8 65.7, 484.3 66.6 Q 484.7 67.4, 484.8 67.5 L 484.8 60.6 L 486.0 60.6 L 486.0 69.5 L 484.7 69.5 L 481.6 64.3 Q 481.2 63.7, 480.8 63.0 Q 480.5 62.3, 480.4 62.1 L 480.4 69.5 L 479.2 69.5 L 479.2 60.6 L 480.6 60.6 \" fill=\"#0000FF\"/>\n<path class=\"atom-9\" d=\"M 487.7 60.6 L 488.9 60.6 L 488.9 64.3 L 493.4 64.3 L 493.4 60.6 L 494.6 60.6 L 494.6 69.5 L 493.4 69.5 L 493.4 65.4 L 488.9 65.4 L 488.9 69.5 L 487.7 69.5 L 487.7 60.6 \" fill=\"#0000FF\"/>\n<path class=\"atom-9\" d=\"M 496.4 69.2 Q 496.6 68.6, 497.1 68.3 Q 497.6 68.0, 498.4 68.0 Q 499.2 68.0, 499.7 68.5 Q 500.2 68.9, 500.2 69.8 Q 500.2 70.7, 499.6 71.5 Q 499.0 72.3, 497.6 73.3 L 500.3 73.3 L 500.3 73.9 L 496.4 73.9 L 496.4 73.4 Q 497.5 72.6, 498.1 72.0 Q 498.8 71.4, 499.1 70.9 Q 499.4 70.4, 499.4 69.8 Q 499.4 69.3, 499.1 69.0 Q 498.8 68.6, 498.4 68.6 Q 497.9 68.6, 497.6 68.8 Q 497.2 69.0, 497.0 69.5 L 496.4 69.2 \" fill=\"#0000FF\"/>\n<path class=\"atom-10\" d=\"M 409.1 77.9 L 410.3 77.9 L 410.3 81.7 L 414.9 81.7 L 414.9 77.9 L 416.1 77.9 L 416.1 86.8 L 414.9 86.8 L 414.9 82.7 L 410.3 82.7 L 410.3 86.8 L 409.1 86.8 L 409.1 77.9 \" fill=\"#FF0000\"/>\n<path class=\"atom-10\" d=\"M 417.9 82.4 Q 417.9 80.2, 419.0 79.0 Q 420.0 77.8, 422.0 77.8 Q 424.0 77.8, 425.0 79.0 Q 426.1 80.2, 426.1 82.4 Q 426.1 84.5, 425.0 85.8 Q 424.0 87.0, 422.0 87.0 Q 420.0 87.0, 419.0 85.8 Q 417.9 84.5, 417.9 82.4 M 422.0 86.0 Q 423.4 86.0, 424.1 85.1 Q 424.8 84.2, 424.8 82.4 Q 424.8 80.6, 424.1 79.7 Q 423.4 78.8, 422.0 78.8 Q 420.6 78.8, 419.9 79.7 Q 419.2 80.6, 419.2 82.4 Q 419.2 84.2, 419.9 85.1 Q 420.6 86.0, 422.0 86.0 \" fill=\"#FF0000\"/>\n<path class=\"bond-0 atom-0 atom-1\" d=\"M 724.1,81.2 L 700.9,102.5\" style=\"fill:none;fill-rule:evenodd;stroke:#000000;stroke-width:2.0px;stroke-linecap:butt;stroke-linejoin:miter;stroke-opacity:1\"/>\n<path class=\"bond-1 atom-1 atom-2\" d=\"M 700.9,102.5 L 670.8,93.1\" style=\"fill:none;fill-rule:evenodd;stroke:#000000;stroke-width:2.0px;stroke-linecap:butt;stroke-linejoin:miter;stroke-opacity:1\"/>\n<path class=\"bond-2 atom-2 atom-3\" d=\"M 673.5,93.9 L 670.5,80.7\" style=\"fill:none;fill-rule:evenodd;stroke:#000000;stroke-width:2.0px;stroke-linecap:butt;stroke-linejoin:miter;stroke-opacity:1\"/>\n<path class=\"bond-2 atom-2 atom-3\" d=\"M 670.5,80.7 L 667.5,67.5\" style=\"fill:none;fill-rule:evenodd;stroke:#FF0000;stroke-width:2.0px;stroke-linecap:butt;stroke-linejoin:miter;stroke-opacity:1\"/>\n<path class=\"bond-2 atom-2 atom-3\" d=\"M 668.8,94.9 L 665.9,81.8\" style=\"fill:none;fill-rule:evenodd;stroke:#000000;stroke-width:2.0px;stroke-linecap:butt;stroke-linejoin:miter;stroke-opacity:1\"/>\n<path class=\"bond-2 atom-2 atom-3\" d=\"M 665.9,81.8 L 662.9,68.6\" style=\"fill:none;fill-rule:evenodd;stroke:#FF0000;stroke-width:2.0px;stroke-linecap:butt;stroke-linejoin:miter;stroke-opacity:1\"/>\n<path class=\"bond-3 atom-2 atom-4\" d=\"M 670.8,93.1 L 661.8,101.4\" style=\"fill:none;fill-rule:evenodd;stroke:#000000;stroke-width:2.0px;stroke-linecap:butt;stroke-linejoin:miter;stroke-opacity:1\"/>\n<path class=\"bond-3 atom-2 atom-4\" d=\"M 661.8,101.4 L 652.8,109.7\" style=\"fill:none;fill-rule:evenodd;stroke:#FF0000;stroke-width:2.0px;stroke-linecap:butt;stroke-linejoin:miter;stroke-opacity:1\"/>\n<path class=\"bond-4 atom-1 atom-5\" d=\"M 702.0,105.9 L 701.4,106.0\" style=\"fill:none;fill-rule:evenodd;stroke:#000000;stroke-width:1.0px;stroke-linecap:butt;stroke-linejoin:miter;stroke-opacity:1\"/>\n<path class=\"bond-4 atom-1 atom-5\" d=\"M 703.1,109.3 L 701.8,109.6\" style=\"fill:none;fill-rule:evenodd;stroke:#000000;stroke-width:1.0px;stroke-linecap:butt;stroke-linejoin:miter;stroke-opacity:1\"/>\n<path class=\"bond-4 atom-1 atom-5\" d=\"M 704.2,112.6 L 702.3,113.1\" style=\"fill:none;fill-rule:evenodd;stroke:#000000;stroke-width:1.0px;stroke-linecap:butt;stroke-linejoin:miter;stroke-opacity:1\"/>\n<path class=\"bond-4 atom-1 atom-5\" d=\"M 705.3,116.0 L 702.7,116.6\" style=\"fill:none;fill-rule:evenodd;stroke:#0000FF;stroke-width:1.0px;stroke-linecap:butt;stroke-linejoin:miter;stroke-opacity:1\"/>\n<path class=\"bond-4 atom-1 atom-5\" d=\"M 706.4,119.4 L 703.1,120.1\" style=\"fill:none;fill-rule:evenodd;stroke:#0000FF;stroke-width:1.0px;stroke-linecap:butt;stroke-linejoin:miter;stroke-opacity:1\"/>\n<path class=\"bond-4 atom-1 atom-5\" d=\"M 707.5,122.8 L 703.6,123.7\" style=\"fill:none;fill-rule:evenodd;stroke:#0000FF;stroke-width:1.0px;stroke-linecap:butt;stroke-linejoin:miter;stroke-opacity:1\"/>\n<path class=\"bond-4 atom-1 atom-5\" d=\"M 708.7,126.2 L 704.0,127.2\" style=\"fill:none;fill-rule:evenodd;stroke:#0000FF;stroke-width:1.0px;stroke-linecap:butt;stroke-linejoin:miter;stroke-opacity:1\"/>\n<path class=\"bond-5 atom-0 atom-6\" d=\"M 724.1,81.2 L 737.2,85.2\" style=\"fill:none;fill-rule:evenodd;stroke:#000000;stroke-width:2.0px;stroke-linecap:butt;stroke-linejoin:miter;stroke-opacity:1\"/>\n<path class=\"bond-5 atom-0 atom-6\" d=\"M 737.2,85.2 L 750.3,89.3\" style=\"fill:none;fill-rule:evenodd;stroke:#CCCC00;stroke-width:2.0px;stroke-linecap:butt;stroke-linejoin:miter;stroke-opacity:1\"/>\n<path d=\"M 722.9,82.2 L 724.1,81.2 L 724.7,81.4\" style=\"fill:none;stroke:#000000;stroke-width:2.0px;stroke-linecap:butt;stroke-linejoin:miter;stroke-opacity:1;\"/>\n<path d=\"M 702.1,101.4 L 700.9,102.5 L 699.4,102.0\" style=\"fill:none;stroke:#000000;stroke-width:2.0px;stroke-linecap:butt;stroke-linejoin:miter;stroke-opacity:1;\"/>\n<path d=\"M 672.4,93.6 L 670.8,93.1 L 670.4,93.5\" style=\"fill:none;stroke:#000000;stroke-width:2.0px;stroke-linecap:butt;stroke-linejoin:miter;stroke-opacity:1;\"/>\n<path class=\"atom-3\" d=\"M 659.9 62.4 Q 659.9 60.2, 660.9 59.0 Q 662.0 57.8, 664.0 57.8 Q 665.9 57.8, 667.0 59.0 Q 668.0 60.2, 668.0 62.4 Q 668.0 64.5, 667.0 65.8 Q 665.9 67.0, 664.0 67.0 Q 662.0 67.0, 660.9 65.8 Q 659.9 64.6, 659.9 62.4 M 664.0 66.0 Q 665.3 66.0, 666.0 65.1 Q 666.8 64.2, 666.8 62.4 Q 666.8 60.6, 666.0 59.7 Q 665.3 58.9, 664.0 58.9 Q 662.6 58.9, 661.8 59.7 Q 661.1 60.6, 661.1 62.4 Q 661.1 64.2, 661.8 65.1 Q 662.6 66.0, 664.0 66.0 \" fill=\"#FF0000\"/>\n<path class=\"atom-4\" d=\"M 634.8 110.0 L 636.0 110.0 L 636.0 113.8 L 640.5 113.8 L 640.5 110.0 L 641.8 110.0 L 641.8 118.9 L 640.5 118.9 L 640.5 114.8 L 636.0 114.8 L 636.0 118.9 L 634.8 118.9 L 634.8 110.0 \" fill=\"#FF0000\"/>\n<path class=\"atom-4\" d=\"M 643.6 114.5 Q 643.6 112.3, 644.6 111.1 Q 645.7 109.9, 647.7 109.9 Q 649.7 109.9, 650.7 111.1 Q 651.8 112.3, 651.8 114.5 Q 651.8 116.6, 650.7 117.9 Q 649.6 119.1, 647.7 119.1 Q 645.7 119.1, 644.6 117.9 Q 643.6 116.6, 643.6 114.5 M 647.7 118.1 Q 649.0 118.1, 649.8 117.2 Q 650.5 116.3, 650.5 114.5 Q 650.5 112.7, 649.8 111.8 Q 649.0 110.9, 647.7 110.9 Q 646.3 110.9, 645.6 111.8 Q 644.8 112.7, 644.8 114.5 Q 644.8 116.3, 645.6 117.2 Q 646.3 118.1, 647.7 118.1 \" fill=\"#FF0000\"/>\n<path class=\"atom-5\" d=\"M 705.8 128.8 L 708.8 133.5 Q 709.1 134.0, 709.5 134.8 Q 710.0 135.7, 710.0 135.7 L 710.0 128.8 L 711.2 128.8 L 711.2 137.7 L 710.0 137.7 L 706.8 132.5 Q 706.5 131.9, 706.1 131.2 Q 705.7 130.5, 705.6 130.3 L 705.6 137.7 L 704.4 137.7 L 704.4 128.8 L 705.8 128.8 \" fill=\"#0000FF\"/>\n<path class=\"atom-5\" d=\"M 712.9 128.8 L 714.1 128.8 L 714.1 132.6 L 718.7 132.6 L 718.7 128.8 L 719.9 128.8 L 719.9 137.7 L 718.7 137.7 L 718.7 133.6 L 714.1 133.6 L 714.1 137.7 L 712.9 137.7 L 712.9 128.8 \" fill=\"#0000FF\"/>\n<path class=\"atom-5\" d=\"M 721.6 137.4 Q 721.8 136.8, 722.4 136.5 Q 722.9 136.2, 723.6 136.2 Q 724.5 136.2, 725.0 136.7 Q 725.5 137.2, 725.5 138.0 Q 725.5 138.9, 724.8 139.7 Q 724.2 140.5, 722.9 141.5 L 725.6 141.5 L 725.6 142.2 L 721.6 142.2 L 721.6 141.6 Q 722.7 140.8, 723.4 140.2 Q 724.0 139.7, 724.3 139.1 Q 724.6 138.6, 724.6 138.1 Q 724.6 137.5, 724.4 137.2 Q 724.1 136.9, 723.6 136.9 Q 723.1 136.9, 722.8 137.1 Q 722.5 137.2, 722.3 137.7 L 721.6 137.4 \" fill=\"#0000FF\"/>\n<path class=\"atom-6\" d=\"M 751.6 93.6 Q 751.7 93.7, 752.2 93.8 Q 752.6 94.0, 753.0 94.1 Q 753.5 94.2, 753.9 94.2 Q 754.8 94.2, 755.3 93.8 Q 755.8 93.4, 755.8 92.7 Q 755.8 92.2, 755.5 91.9 Q 755.3 91.6, 754.9 91.4 Q 754.5 91.3, 753.9 91.1 Q 753.1 90.8, 752.6 90.6 Q 752.2 90.4, 751.8 89.9 Q 751.5 89.4, 751.5 88.6 Q 751.5 87.5, 752.2 86.8 Q 753.0 86.1, 754.5 86.1 Q 755.6 86.1, 756.7 86.6 L 756.4 87.6 Q 755.4 87.1, 754.6 87.1 Q 753.7 87.1, 753.2 87.5 Q 752.7 87.9, 752.8 88.5 Q 752.8 89.0, 753.0 89.2 Q 753.2 89.5, 753.6 89.7 Q 754.0 89.9, 754.6 90.0 Q 755.4 90.3, 755.9 90.6 Q 756.3 90.8, 756.7 91.3 Q 757.0 91.8, 757.0 92.7 Q 757.0 93.9, 756.2 94.6 Q 755.4 95.3, 754.0 95.3 Q 753.2 95.3, 752.6 95.1 Q 752.0 94.9, 751.3 94.6 L 751.6 93.6 \" fill=\"#CCCC00\"/>\n<path class=\"atom-6\" d=\"M 758.2 86.1 L 759.5 86.1 L 759.5 89.9 L 764.0 89.9 L 764.0 86.1 L 765.2 86.1 L 765.2 95.0 L 764.0 95.0 L 764.0 90.9 L 759.5 90.9 L 759.5 95.0 L 758.2 95.0 L 758.2 86.1 \" fill=\"#CCCC00\"/>\n</svg>"
          },
          "metadata": {},
          "execution_count": 16
        }
      ],
      "source": [
        "smiles_list = ['C(C(=O)O)N', 'N[C@@H](CC1=CC=CC=C1)C(O)=O', 'O=C([C@H](CC1=CNC=N1)N)O', 'C([C@@H](C(=O)O)N)S']\n",
        "mol_list = []\n",
        "for smiles in smiles_list:\n",
        "  mol = Chem.MolFromSmiles(smiles)\n",
        "  mol_list.append(mol)\n",
        "img = Draw.MolsToGridImage(mol_list, molsPerRow=4)\n",
        "img"
      ]
    },
    {
      "cell_type": "code",
      "execution_count": null,
      "metadata": {
        "colab": {
          "base_uri": "https://localhost:8080/",
          "height": 172
        },
        "id": "W10VtY-sYldO",
        "outputId": "062e6c27-d2cb-4eb4-bdb7-08386c0bb8dc"
      },
      "outputs": [
        {
          "output_type": "execute_result",
          "data": {
            "text/plain": [
              "<rdkit.Chem.rdchem.Mol at 0x7f1aea84c490>"
            ],
            "text/html": [
              "<?xml version='1.0' encoding='iso-8859-1'?>\n",
              "<svg version='1.1' baseProfile='full'\n",
              "              xmlns='http://www.w3.org/2000/svg'\n",
              "                      xmlns:rdkit='http://www.rdkit.org/xml'\n",
              "                      xmlns:xlink='http://www.w3.org/1999/xlink'\n",
              "                  xml:space='preserve'\n",
              "width='450px' height='150px' viewBox='0 0 450 150'>\n",
              "<!-- END OF HEADER -->\n",
              "<rect style='opacity:1.0;fill:#FFFFFF;stroke:none' width='450.0' height='150.0' x='0.0' y='0.0'> </rect>\n",
              "<path class='bond-0 atom-0 atom-1' d='M 197.8,131.9 L 263.7,93.9' style='fill:none;fill-rule:evenodd;stroke:#000000;stroke-width:2.0px;stroke-linecap:butt;stroke-linejoin:miter;stroke-opacity:1' />\n",
              "<path class='bond-1 atom-1 atom-2' d='M 269.4,97.2 L 269.4,64.3' style='fill:none;fill-rule:evenodd;stroke:#000000;stroke-width:2.0px;stroke-linecap:butt;stroke-linejoin:miter;stroke-opacity:1' />\n",
              "<path class='bond-1 atom-1 atom-2' d='M 269.4,64.3 L 269.4,31.5' style='fill:none;fill-rule:evenodd;stroke:#FF0000;stroke-width:2.0px;stroke-linecap:butt;stroke-linejoin:miter;stroke-opacity:1' />\n",
              "<path class='bond-1 atom-1 atom-2' d='M 258.0,97.2 L 258.0,64.3' style='fill:none;fill-rule:evenodd;stroke:#000000;stroke-width:2.0px;stroke-linecap:butt;stroke-linejoin:miter;stroke-opacity:1' />\n",
              "<path class='bond-1 atom-1 atom-2' d='M 258.0,64.3 L 258.0,31.5' style='fill:none;fill-rule:evenodd;stroke:#FF0000;stroke-width:2.0px;stroke-linecap:butt;stroke-linejoin:miter;stroke-opacity:1' />\n",
              "<path class='bond-2 atom-1 atom-3' d='M 263.7,93.9 L 290.5,109.3' style='fill:none;fill-rule:evenodd;stroke:#000000;stroke-width:2.0px;stroke-linecap:butt;stroke-linejoin:miter;stroke-opacity:1' />\n",
              "<path class='bond-2 atom-1 atom-3' d='M 290.5,109.3 L 317.3,124.8' style='fill:none;fill-rule:evenodd;stroke:#FF0000;stroke-width:2.0px;stroke-linecap:butt;stroke-linejoin:miter;stroke-opacity:1' />\n",
              "<path class='bond-3 atom-0 atom-4' d='M 197.8,131.9 L 170.1,116.0' style='fill:none;fill-rule:evenodd;stroke:#000000;stroke-width:2.0px;stroke-linecap:butt;stroke-linejoin:miter;stroke-opacity:1' />\n",
              "<path class='bond-3 atom-0 atom-4' d='M 170.1,116.0 L 142.5,100.0' style='fill:none;fill-rule:evenodd;stroke:#0000FF;stroke-width:2.0px;stroke-linecap:butt;stroke-linejoin:miter;stroke-opacity:1' />\n",
              "<path d='M 201.1,130.0 L 197.8,131.9 L 196.4,131.1' style='fill:none;stroke:#000000;stroke-width:2.0px;stroke-linecap:butt;stroke-linejoin:miter;stroke-opacity:1;' />\n",
              "<path d='M 260.4,95.8 L 263.7,93.9 L 265.1,94.6' style='fill:none;stroke:#000000;stroke-width:2.0px;stroke-linecap:butt;stroke-linejoin:miter;stroke-opacity:1;' />\n",
              "<path class='atom-2' d='M 253.8 17.8\n",
              "Q 253.8 12.6, 256.4 9.7\n",
              "Q 258.9 6.8, 263.7 6.8\n",
              "Q 268.5 6.8, 271.1 9.7\n",
              "Q 273.6 12.6, 273.6 17.8\n",
              "Q 273.6 23.0, 271.0 26.0\n",
              "Q 268.4 29.0, 263.7 29.0\n",
              "Q 259.0 29.0, 256.4 26.0\n",
              "Q 253.8 23.1, 253.8 17.8\n",
              "M 263.7 26.5\n",
              "Q 267.0 26.5, 268.8 24.3\n",
              "Q 270.6 22.1, 270.6 17.8\n",
              "Q 270.6 13.5, 268.8 11.4\n",
              "Q 267.0 9.3, 263.7 9.3\n",
              "Q 260.4 9.3, 258.6 11.4\n",
              "Q 256.9 13.5, 256.9 17.8\n",
              "Q 256.9 22.1, 258.6 24.3\n",
              "Q 260.4 26.5, 263.7 26.5\n",
              "' fill='#FF0000'/>\n",
              "<path class='atom-3' d='M 319.8 132.0\n",
              "Q 319.8 126.8, 322.3 123.9\n",
              "Q 324.9 121.0, 329.7 121.0\n",
              "Q 334.4 121.0, 337.0 123.9\n",
              "Q 339.6 126.8, 339.6 132.0\n",
              "Q 339.6 137.2, 337.0 140.2\n",
              "Q 334.4 143.2, 329.7 143.2\n",
              "Q 324.9 143.2, 322.3 140.2\n",
              "Q 319.8 137.3, 319.8 132.0\n",
              "M 329.7 140.7\n",
              "Q 333.0 140.7, 334.7 138.6\n",
              "Q 336.5 136.3, 336.5 132.0\n",
              "Q 336.5 127.8, 334.7 125.6\n",
              "Q 333.0 123.5, 329.7 123.5\n",
              "Q 326.4 123.5, 324.6 125.6\n",
              "Q 322.8 127.7, 322.8 132.0\n",
              "Q 322.8 136.4, 324.6 138.6\n",
              "Q 326.4 140.7, 329.7 140.7\n",
              "' fill='#FF0000'/>\n",
              "<path class='atom-3' d='M 342.9 121.3\n",
              "L 345.8 121.3\n",
              "L 345.8 130.5\n",
              "L 356.9 130.5\n",
              "L 356.9 121.3\n",
              "L 359.8 121.3\n",
              "L 359.8 142.8\n",
              "L 356.9 142.8\n",
              "L 356.9 132.9\n",
              "L 345.8 132.9\n",
              "L 345.8 142.8\n",
              "L 342.9 142.8\n",
              "L 342.9 121.3\n",
              "' fill='#FF0000'/>\n",
              "<path class='atom-4' d='M 90.2 83.1\n",
              "L 93.1 83.1\n",
              "L 93.1 92.3\n",
              "L 104.2 92.3\n",
              "L 104.2 83.1\n",
              "L 107.1 83.1\n",
              "L 107.1 104.7\n",
              "L 104.2 104.7\n",
              "L 104.2 94.7\n",
              "L 93.1 94.7\n",
              "L 93.1 104.7\n",
              "L 90.2 104.7\n",
              "L 90.2 83.1\n",
              "' fill='#0000FF'/>\n",
              "<path class='atom-4' d='M 111.3 103.9\n",
              "Q 111.8 102.5, 113.1 101.8\n",
              "Q 114.3 101.0, 116.0 101.0\n",
              "Q 118.2 101.0, 119.4 102.2\n",
              "Q 120.6 103.4, 120.6 105.4\n",
              "Q 120.6 107.6, 119.0 109.5\n",
              "Q 117.5 111.5, 114.3 113.8\n",
              "L 120.9 113.8\n",
              "L 120.9 115.4\n",
              "L 111.3 115.4\n",
              "L 111.3 114.1\n",
              "Q 113.9 112.2, 115.5 110.8\n",
              "Q 117.1 109.4, 117.8 108.1\n",
              "Q 118.6 106.9, 118.6 105.5\n",
              "Q 118.6 104.2, 117.9 103.4\n",
              "Q 117.2 102.6, 116.0 102.6\n",
              "Q 114.9 102.6, 114.1 103.1\n",
              "Q 113.4 103.6, 112.8 104.6\n",
              "L 111.3 103.9\n",
              "' fill='#0000FF'/>\n",
              "<path class='atom-4' d='M 127.1 83.1\n",
              "L 134.1 94.5\n",
              "Q 134.8 95.6, 136.0 97.7\n",
              "Q 137.1 99.7, 137.1 99.8\n",
              "L 137.1 83.1\n",
              "L 140.0 83.1\n",
              "L 140.0 104.7\n",
              "L 137.1 104.7\n",
              "L 129.5 92.2\n",
              "Q 128.6 90.7, 127.6 89.0\n",
              "Q 126.7 87.4, 126.5 86.8\n",
              "L 126.5 104.7\n",
              "L 123.6 104.7\n",
              "L 123.6 83.1\n",
              "L 127.1 83.1\n",
              "' fill='#0000FF'/>\n",
              "</svg>\n"
            ],
            "image/svg+xml": "<?xml version='1.0' encoding='iso-8859-1'?>\n<svg version='1.1' baseProfile='full'\n              xmlns='http://www.w3.org/2000/svg'\n                      xmlns:rdkit='http://www.rdkit.org/xml'\n                      xmlns:xlink='http://www.w3.org/1999/xlink'\n                  xml:space='preserve'\nwidth='450px' height='150px' viewBox='0 0 450 150'>\n<!-- END OF HEADER -->\n<rect style='opacity:1.0;fill:#FFFFFF;stroke:none' width='450.0' height='150.0' x='0.0' y='0.0'> </rect>\n<path class='bond-0 atom-0 atom-1' d='M 197.8,131.9 L 263.7,93.9' style='fill:none;fill-rule:evenodd;stroke:#000000;stroke-width:2.0px;stroke-linecap:butt;stroke-linejoin:miter;stroke-opacity:1' />\n<path class='bond-1 atom-1 atom-2' d='M 269.4,97.2 L 269.4,64.3' style='fill:none;fill-rule:evenodd;stroke:#000000;stroke-width:2.0px;stroke-linecap:butt;stroke-linejoin:miter;stroke-opacity:1' />\n<path class='bond-1 atom-1 atom-2' d='M 269.4,64.3 L 269.4,31.5' style='fill:none;fill-rule:evenodd;stroke:#FF0000;stroke-width:2.0px;stroke-linecap:butt;stroke-linejoin:miter;stroke-opacity:1' />\n<path class='bond-1 atom-1 atom-2' d='M 258.0,97.2 L 258.0,64.3' style='fill:none;fill-rule:evenodd;stroke:#000000;stroke-width:2.0px;stroke-linecap:butt;stroke-linejoin:miter;stroke-opacity:1' />\n<path class='bond-1 atom-1 atom-2' d='M 258.0,64.3 L 258.0,31.5' style='fill:none;fill-rule:evenodd;stroke:#FF0000;stroke-width:2.0px;stroke-linecap:butt;stroke-linejoin:miter;stroke-opacity:1' />\n<path class='bond-2 atom-1 atom-3' d='M 263.7,93.9 L 290.5,109.3' style='fill:none;fill-rule:evenodd;stroke:#000000;stroke-width:2.0px;stroke-linecap:butt;stroke-linejoin:miter;stroke-opacity:1' />\n<path class='bond-2 atom-1 atom-3' d='M 290.5,109.3 L 317.3,124.8' style='fill:none;fill-rule:evenodd;stroke:#FF0000;stroke-width:2.0px;stroke-linecap:butt;stroke-linejoin:miter;stroke-opacity:1' />\n<path class='bond-3 atom-0 atom-4' d='M 197.8,131.9 L 170.1,116.0' style='fill:none;fill-rule:evenodd;stroke:#000000;stroke-width:2.0px;stroke-linecap:butt;stroke-linejoin:miter;stroke-opacity:1' />\n<path class='bond-3 atom-0 atom-4' d='M 170.1,116.0 L 142.5,100.0' style='fill:none;fill-rule:evenodd;stroke:#0000FF;stroke-width:2.0px;stroke-linecap:butt;stroke-linejoin:miter;stroke-opacity:1' />\n<path d='M 201.1,130.0 L 197.8,131.9 L 196.4,131.1' style='fill:none;stroke:#000000;stroke-width:2.0px;stroke-linecap:butt;stroke-linejoin:miter;stroke-opacity:1;' />\n<path d='M 260.4,95.8 L 263.7,93.9 L 265.1,94.6' style='fill:none;stroke:#000000;stroke-width:2.0px;stroke-linecap:butt;stroke-linejoin:miter;stroke-opacity:1;' />\n<path class='atom-2' d='M 253.8 17.8\nQ 253.8 12.6, 256.4 9.7\nQ 258.9 6.8, 263.7 6.8\nQ 268.5 6.8, 271.1 9.7\nQ 273.6 12.6, 273.6 17.8\nQ 273.6 23.0, 271.0 26.0\nQ 268.4 29.0, 263.7 29.0\nQ 259.0 29.0, 256.4 26.0\nQ 253.8 23.1, 253.8 17.8\nM 263.7 26.5\nQ 267.0 26.5, 268.8 24.3\nQ 270.6 22.1, 270.6 17.8\nQ 270.6 13.5, 268.8 11.4\nQ 267.0 9.3, 263.7 9.3\nQ 260.4 9.3, 258.6 11.4\nQ 256.9 13.5, 256.9 17.8\nQ 256.9 22.1, 258.6 24.3\nQ 260.4 26.5, 263.7 26.5\n' fill='#FF0000'/>\n<path class='atom-3' d='M 319.8 132.0\nQ 319.8 126.8, 322.3 123.9\nQ 324.9 121.0, 329.7 121.0\nQ 334.4 121.0, 337.0 123.9\nQ 339.6 126.8, 339.6 132.0\nQ 339.6 137.2, 337.0 140.2\nQ 334.4 143.2, 329.7 143.2\nQ 324.9 143.2, 322.3 140.2\nQ 319.8 137.3, 319.8 132.0\nM 329.7 140.7\nQ 333.0 140.7, 334.7 138.6\nQ 336.5 136.3, 336.5 132.0\nQ 336.5 127.8, 334.7 125.6\nQ 333.0 123.5, 329.7 123.5\nQ 326.4 123.5, 324.6 125.6\nQ 322.8 127.7, 322.8 132.0\nQ 322.8 136.4, 324.6 138.6\nQ 326.4 140.7, 329.7 140.7\n' fill='#FF0000'/>\n<path class='atom-3' d='M 342.9 121.3\nL 345.8 121.3\nL 345.8 130.5\nL 356.9 130.5\nL 356.9 121.3\nL 359.8 121.3\nL 359.8 142.8\nL 356.9 142.8\nL 356.9 132.9\nL 345.8 132.9\nL 345.8 142.8\nL 342.9 142.8\nL 342.9 121.3\n' fill='#FF0000'/>\n<path class='atom-4' d='M 90.2 83.1\nL 93.1 83.1\nL 93.1 92.3\nL 104.2 92.3\nL 104.2 83.1\nL 107.1 83.1\nL 107.1 104.7\nL 104.2 104.7\nL 104.2 94.7\nL 93.1 94.7\nL 93.1 104.7\nL 90.2 104.7\nL 90.2 83.1\n' fill='#0000FF'/>\n<path class='atom-4' d='M 111.3 103.9\nQ 111.8 102.5, 113.1 101.8\nQ 114.3 101.0, 116.0 101.0\nQ 118.2 101.0, 119.4 102.2\nQ 120.6 103.4, 120.6 105.4\nQ 120.6 107.6, 119.0 109.5\nQ 117.5 111.5, 114.3 113.8\nL 120.9 113.8\nL 120.9 115.4\nL 111.3 115.4\nL 111.3 114.1\nQ 113.9 112.2, 115.5 110.8\nQ 117.1 109.4, 117.8 108.1\nQ 118.6 106.9, 118.6 105.5\nQ 118.6 104.2, 117.9 103.4\nQ 117.2 102.6, 116.0 102.6\nQ 114.9 102.6, 114.1 103.1\nQ 113.4 103.6, 112.8 104.6\nL 111.3 103.9\n' fill='#0000FF'/>\n<path class='atom-4' d='M 127.1 83.1\nL 134.1 94.5\nQ 134.8 95.6, 136.0 97.7\nQ 137.1 99.7, 137.1 99.8\nL 137.1 83.1\nL 140.0 83.1\nL 140.0 104.7\nL 137.1 104.7\nL 129.5 92.2\nQ 128.6 90.7, 127.6 89.0\nQ 126.7 87.4, 126.5 86.8\nL 126.5 104.7\nL 123.6 104.7\nL 123.6 83.1\nL 127.1 83.1\n' fill='#0000FF'/>\n</svg>\n",
            "image/png": "[encoded data removed]"
          },
          "metadata": {},
          "execution_count": 17
        }
      ],
      "source": [
        "glycine = mol_list[0]\n",
        "glycine"
      ]
    },
    {
      "cell_type": "markdown",
      "metadata": {
        "id": "3IJAEzxVNavg"
      },
      "source": [
        "# Fingerprint\n",
        "\n",
        "- MorganFingerprint를 얻고 값이 1인 위치를 찾는다\n",
        "- GetMorganFingerprintAsBitVect() 함수 사용"
      ]
    },
    {
      "cell_type": "code",
      "execution_count": null,
      "metadata": {
        "colab": {
          "base_uri": "https://localhost:8080/"
        },
        "id": "BhOGpfU7Y3tY",
        "outputId": "83bda1ed-ab47-40f3-9cbc-324922622f05"
      },
      "outputs": [
        {
          "output_type": "stream",
          "name": "stdout",
          "text": [
            "<rdkit.DataStructs.cDataStructs.ExplicitBitVect object at 0x7f1a24e09490>\n",
            "[0. 0. 0. 0. 0. 0. 0. 0. 0. 0. 0. 0. 0. 0. 0. 0. 0. 0. 0. 0. 0. 0. 0. 0.\n",
            " 0. 0. 0. 1. 0. 0.]\n",
            "(array([ 27,  80, 147, 389, 650, 713, 807, 893, 966, 981]),)\n"
          ]
        }
      ],
      "source": [
        "bi= {}\n",
        "fp = AllChem.GetMorganFingerprintAsBitVect(glycine, 2, nBits=1024, bitInfo=bi)\n",
        "print(fp)\n",
        "fp_arr = np.zeros((1,)) \n",
        "\n",
        "DataStructs.ConvertToNumpyArray(fp,fp_arr)\n",
        "print(fp_arr[:30])\n",
        "print(np.nonzero(fp_arr))"
      ]
    },
    {
      "cell_type": "code",
      "execution_count": null,
      "metadata": {
        "colab": {
          "base_uri": "https://localhost:8080/"
        },
        "id": "SRm1M_kWPBTu",
        "outputId": "71eb038d-156e-414e-f425-b3bf7924875d"
      },
      "outputs": [
        {
          "output_type": "stream",
          "name": "stdout",
          "text": [
            "<class 'rdkit.DataStructs.cDataStructs.ExplicitBitVect'>\n",
            "<class 'numpy.ndarray'>\n",
            "1024\n"
          ]
        }
      ],
      "source": [
        "print(type(fp))\n",
        "print(type(fp_arr))\n",
        "print(len(fp))"
      ]
    },
    {
      "cell_type": "markdown",
      "metadata": {
        "id": "U4Lbus3yPinQ"
      },
      "source": [
        "## Fingerprint 비트 정보 보기\n",
        "- GetOnBits() 함수 사용"
      ]
    },
    {
      "cell_type": "code",
      "execution_count": null,
      "metadata": {
        "colab": {
          "base_uri": "https://localhost:8080/",
          "height": 472
        },
        "id": "ui0pgIplZaGA",
        "outputId": "5a7dc8b4-bc42-4b0d-a366-df52361c93b7"
      },
      "outputs": [
        {
          "output_type": "execute_result",
          "data": {
            "text/plain": [
              "<IPython.core.display.SVG object>"
            ],
            "image/svg+xml": "<svg baseProfile=\"full\" height=\"450px\" version=\"1.1\" viewBox=\"0 0 600 450\" width=\"600px\" xml:space=\"preserve\" xmlns=\"http://www.w3.org/2000/svg\" xmlns:rdkit=\"http://www.rdkit.org/xml\" xmlns:xlink=\"http://www.w3.org/1999/xlink\">\n<!-- END OF HEADER -->\n<rect height=\"450.0\" style=\"opacity:1.0;fill:#FFFFFF;stroke:none\" width=\"600.0\" x=\"0.0\" y=\"0.0\"> </rect>\n<ellipse class=\"atom-0\" cx=\"67.6\" cy=\"91.5\" rx=\"7.7\" ry=\"7.7\" style=\"fill:#9999E5;fill-rule:evenodd;stroke:#9999E5;stroke-width:1.0px;stroke-linecap:butt;stroke-linejoin:miter;stroke-opacity:1\"/>\n<path class=\"bond-0 atom-0 atom-1\" d=\"M 67.6,91.5 L 100.9,72.2\" style=\"fill:none;fill-rule:evenodd;stroke:#000000;stroke-width:2.0px;stroke-linecap:butt;stroke-linejoin:miter;stroke-opacity:1\"/>\n<path class=\"bond-1 atom-1 atom-2\" d=\"M 103.8,73.9 L 103.8,34.4\" style=\"fill:none;fill-rule:evenodd;stroke:#E5E5E5;stroke-width:2.1px;stroke-linecap:butt;stroke-linejoin:miter;stroke-opacity:1\"/>\n<path class=\"bond-1 atom-1 atom-2\" d=\"M 98.0,73.9 L 98.0,34.4\" style=\"fill:none;fill-rule:evenodd;stroke:#E5E5E5;stroke-width:2.1px;stroke-linecap:butt;stroke-linejoin:miter;stroke-opacity:1\"/>\n<path class=\"bond-2 atom-1 atom-3\" d=\"M 100.9,72.2 L 130.4,89.2\" style=\"fill:none;fill-rule:evenodd;stroke:#E5E5E5;stroke-width:2.1px;stroke-linecap:butt;stroke-linejoin:miter;stroke-opacity:1\"/>\n<path class=\"bond-3 atom-0 atom-4\" d=\"M 67.6,91.5 L 53.6,83.4\" style=\"fill:none;fill-rule:evenodd;stroke:#000000;stroke-width:2.0px;stroke-linecap:butt;stroke-linejoin:miter;stroke-opacity:1\"/>\n<path class=\"bond-3 atom-0 atom-4\" d=\"M 53.6,83.4 L 39.6,75.3\" style=\"fill:none;fill-rule:evenodd;stroke:#0000FF;stroke-width:2.0px;stroke-linecap:butt;stroke-linejoin:miter;stroke-opacity:1\"/>\n<path d=\"M 69.2,90.5 L 67.6,91.5 L 66.9,91.1\" style=\"fill:none;stroke:#000000;stroke-width:2.0px;stroke-linecap:butt;stroke-linejoin:miter;stroke-opacity:1;\"/>\n<path d=\"M 100.1,72.7 L 100.9,72.2 L 101.7,72.6\" style=\"fill:none;stroke:#000000;stroke-width:2.0px;stroke-linecap:butt;stroke-linejoin:miter;stroke-opacity:1;\"/>\n<path class=\"atom-2\" d=\"M 98.9 32.5 L 100.5 30.8 L 98.3 30.4 L 98.7 29.3 L 100.6 30.3 L 100.3 28.2 L 101.5 28.1 L 101.2 30.3 L 103.2 29.4 L 103.5 30.4 L 101.3 30.8 L 102.9 32.4 L 101.9 33.1 L 100.9 31.1 L 99.8 33.1 L 98.9 32.5 \" fill=\"#191919\"/>\n<path class=\"atom-3\" d=\"M 132.2 90.2 L 133.8 88.6 L 131.7 88.2 L 132.0 87.1 L 134.0 88.1 L 133.7 85.9 L 134.8 85.9 L 134.5 88.1 L 136.5 87.1 L 136.9 88.2 L 134.7 88.6 L 136.2 90.2 L 135.3 90.9 L 134.2 88.9 L 133.2 90.9 L 132.2 90.2 \" fill=\"#191919\"/>\n<path class=\"atom-4\" d=\"M 13.1 66.7 L 14.6 66.7 L 14.6 71.4 L 20.2 71.4 L 20.2 66.7 L 21.7 66.7 L 21.7 77.7 L 20.2 77.7 L 20.2 72.6 L 14.6 72.6 L 14.6 77.7 L 13.1 77.7 L 13.1 66.7 \" fill=\"#0000FF\"/>\n<path class=\"atom-4\" d=\"M 23.8 77.3 Q 24.1 76.6, 24.7 76.2 Q 25.3 75.8, 26.2 75.8 Q 27.3 75.8, 27.9 76.4 Q 28.5 77.0, 28.5 78.1 Q 28.5 79.1, 27.7 80.1 Q 27.0 81.1, 25.3 82.3 L 28.6 82.3 L 28.6 83.1 L 23.8 83.1 L 23.8 82.4 Q 25.1 81.5, 25.9 80.8 Q 26.7 80.0, 27.1 79.4 Q 27.5 78.8, 27.5 78.1 Q 27.5 77.4, 27.2 77.0 Q 26.8 76.6, 26.2 76.6 Q 25.6 76.6, 25.3 76.9 Q 24.9 77.1, 24.6 77.6 L 23.8 77.3 \" fill=\"#0000FF\"/>\n<path class=\"atom-4\" d=\"M 31.8 66.7 L 35.4 72.5 Q 35.7 73.1, 36.3 74.1 Q 36.9 75.2, 36.9 75.2 L 36.9 66.7 L 38.3 66.7 L 38.3 77.7 L 36.8 77.7 L 33.0 71.3 Q 32.6 70.6, 32.1 69.7 Q 31.6 68.9, 31.5 68.6 L 31.5 77.7 L 30.1 77.7 L 30.1 66.7 L 31.8 66.7 \" fill=\"#0000FF\"/>\n<path class=\"legend\" d=\"M 66.7 137.2 Q 67.2 136.2, 68.1 135.6 Q 69.1 135.0, 70.5 135.0 Q 72.1 135.0, 73.1 135.9 Q 74.0 136.8, 74.0 138.4 Q 74.0 140.1, 72.8 141.6 Q 71.6 143.2, 69.1 145.0 L 74.2 145.0 L 74.2 146.2 L 66.7 146.2 L 66.7 145.2 Q 68.8 143.7, 70.0 142.6 Q 71.3 141.5, 71.9 140.5 Q 72.5 139.5, 72.5 138.5 Q 72.5 137.5, 71.9 136.9 Q 71.4 136.3, 70.5 136.3 Q 69.6 136.3, 69.0 136.6 Q 68.4 137.0, 67.9 137.8 L 66.7 137.2 \" fill=\"#000000\"/>\n<path class=\"legend\" d=\"M 81.7 136.4 L 75.9 136.4 L 75.9 135.1 L 83.3 135.1 L 83.3 136.2 L 78.8 146.2 L 77.3 146.2 L 81.7 136.4 \" fill=\"#000000\"/>\n<ellipse class=\"atom-0\" cx=\"225.0\" cy=\"72.2\" rx=\"7.7\" ry=\"7.7\" style=\"fill:#9999E5;fill-rule:evenodd;stroke:#9999E5;stroke-width:1.0px;stroke-linecap:butt;stroke-linejoin:miter;stroke-opacity:1\"/>\n<path class=\"bond-0 atom-0 atom-1\" d=\"M 225.0,72.2 L 257.1,53.7\" style=\"fill:none;fill-rule:evenodd;stroke:#E5E5E5;stroke-width:2.1px;stroke-linecap:butt;stroke-linejoin:miter;stroke-opacity:1\"/>\n<path class=\"bond-1 atom-0 atom-2\" d=\"M 225.0,72.2 L 192.9,53.7\" style=\"fill:none;fill-rule:evenodd;stroke:#E5E5E5;stroke-width:2.1px;stroke-linecap:butt;stroke-linejoin:miter;stroke-opacity:1\"/>\n<path d=\"M 226.6,71.3 L 225.0,72.2 L 223.4,71.3\" style=\"fill:none;stroke:#E5E5E5;stroke-width:2.1px;stroke-linecap:butt;stroke-linejoin:miter;stroke-opacity:1;\"/>\n<path class=\"atom-1\" d=\"M 256.3 51.7 L 257.9 50.1 L 255.8 49.7 L 256.1 48.6 L 258.1 49.6 L 257.8 47.4 L 258.9 47.4 L 258.6 49.5 L 260.6 48.6 L 260.9 49.7 L 258.8 50.1 L 260.3 51.7 L 259.4 52.4 L 258.3 50.4 L 257.2 52.4 L 256.3 51.7 \" fill=\"#191919\"/>\n<path class=\"atom-2\" d=\"M 189.6 51.7 L 191.2 50.1 L 189.1 49.7 L 189.4 48.6 L 191.3 49.6 L 191.1 47.4 L 192.2 47.4 L 191.9 49.5 L 193.9 48.6 L 194.2 49.7 L 192.1 50.1 L 193.6 51.7 L 192.7 52.4 L 191.6 50.4 L 190.5 52.4 L 189.6 51.7 \" fill=\"#191919\"/>\n<path class=\"legend\" d=\"M 221.8 140.3 Q 222.8 140.7, 223.4 141.4 Q 224.0 142.0, 224.0 143.1 Q 224.0 144.0, 223.5 144.7 Q 223.0 145.5, 222.1 145.9 Q 221.3 146.2, 220.2 146.2 Q 218.3 146.2, 217.3 145.4 Q 216.2 144.6, 216.2 143.1 Q 216.2 142.2, 216.7 141.5 Q 217.2 140.8, 218.1 140.3 Q 217.4 139.9, 217.0 139.3 Q 216.6 138.7, 216.6 137.8 Q 216.6 136.5, 217.6 135.8 Q 218.5 135.0, 220.1 135.0 Q 221.7 135.0, 222.6 135.8 Q 223.6 136.5, 223.6 137.8 Q 223.6 138.6, 223.1 139.2 Q 222.7 139.8, 221.8 140.3 M 220.1 136.2 Q 219.2 136.2, 218.7 136.6 Q 218.2 137.0, 218.2 137.8 Q 218.2 138.4, 218.5 138.8 Q 218.9 139.1, 219.3 139.4 Q 219.8 139.6, 220.8 139.9 Q 221.5 139.4, 221.7 138.9 Q 222.0 138.4, 222.0 137.8 Q 222.0 137.0, 221.5 136.6 Q 221.0 136.2, 220.1 136.2 M 220.2 145.1 Q 221.2 145.1, 221.8 144.5 Q 222.4 144.0, 222.4 143.1 Q 222.4 142.5, 222.1 142.1 Q 221.8 141.7, 221.3 141.5 Q 220.8 141.3, 219.9 141.0 L 219.2 140.8 Q 218.5 141.3, 218.1 141.8 Q 217.8 142.4, 217.8 143.1 Q 217.8 144.0, 218.4 144.5 Q 219.1 145.1, 220.2 145.1 \" fill=\"#000000\"/>\n<path class=\"legend\" d=\"M 229.8 146.2 Q 227.7 146.2, 226.7 144.7 Q 225.7 143.2, 225.7 140.6 Q 225.7 137.9, 226.7 136.5 Q 227.7 135.0, 229.8 135.0 Q 231.8 135.0, 232.8 136.5 Q 233.8 137.9, 233.8 140.6 Q 233.8 143.2, 232.8 144.7 Q 231.8 146.2, 229.8 146.2 M 229.8 145.0 Q 230.9 145.0, 231.6 143.9 Q 232.2 142.8, 232.2 140.6 Q 232.2 138.4, 231.6 137.3 Q 230.9 136.2, 229.8 136.2 Q 228.6 136.2, 227.9 137.3 Q 227.3 138.4, 227.3 140.6 Q 227.3 142.8, 227.9 143.9 Q 228.6 145.0, 229.8 145.0 \" fill=\"#000000\"/>\n<ellipse class=\"atom-1\" cx=\"367.6\" cy=\"60.9\" rx=\"7.7\" ry=\"7.7\" style=\"fill:#9999E5;fill-rule:evenodd;stroke:#9999E5;stroke-width:1.0px;stroke-linecap:butt;stroke-linejoin:miter;stroke-opacity:1\"/>\n<path class=\"bond-0 atom-0 atom-1\" d=\"M 397.1,77.9 L 373.0,64.0\" style=\"fill:none;fill-rule:evenodd;stroke:#E5E5E5;stroke-width:2.1px;stroke-linecap:butt;stroke-linejoin:miter;stroke-opacity:1\"/>\n<path class=\"atom-0\" d=\"M 398.9 78.9 L 400.5 77.3 L 398.3 76.9 L 398.7 75.8 L 400.6 76.7 L 400.3 74.6 L 401.5 74.6 L 401.2 76.7 L 403.2 75.8 L 403.5 76.9 L 401.3 77.3 L 402.9 78.9 L 401.9 79.6 L 400.9 77.5 L 399.8 79.6 L 398.9 78.9 \" fill=\"#191919\"/>\n<path class=\"atom-1\" d=\"M 346.5 55.4 L 348.0 55.4 L 348.0 60.1 L 353.6 60.1 L 353.6 55.4 L 355.0 55.4 L 355.0 66.3 L 353.6 66.3 L 353.6 61.3 L 348.0 61.3 L 348.0 66.3 L 346.5 66.3 L 346.5 55.4 \" fill=\"#0000FF\"/>\n<path class=\"atom-1\" d=\"M 357.2 65.9 Q 357.4 65.3, 358.1 64.9 Q 358.7 64.5, 359.6 64.5 Q 360.7 64.5, 361.3 65.1 Q 361.9 65.7, 361.9 66.7 Q 361.9 67.8, 361.1 68.8 Q 360.3 69.8, 358.7 71.0 L 362.0 71.0 L 362.0 71.8 L 357.2 71.8 L 357.2 71.1 Q 358.5 70.1, 359.3 69.4 Q 360.1 68.7, 360.5 68.1 Q 360.9 67.4, 360.9 66.8 Q 360.9 66.1, 360.5 65.7 Q 360.2 65.3, 359.6 65.3 Q 359.0 65.3, 358.6 65.5 Q 358.2 65.8, 357.9 66.3 L 357.2 65.9 \" fill=\"#0000FF\"/>\n<path class=\"atom-1\" d=\"M 365.1 55.4 L 368.7 61.2 Q 369.1 61.8, 369.6 62.8 Q 370.2 63.8, 370.2 63.9 L 370.2 55.4 L 371.7 55.4 L 371.7 66.3 L 370.2 66.3 L 366.4 60.0 Q 365.9 59.3, 365.4 58.4 Q 365.0 57.6, 364.8 57.3 L 364.8 66.3 L 363.4 66.3 L 363.4 55.4 L 365.1 55.4 \" fill=\"#0000FF\"/>\n<path class=\"legend\" d=\"M 362.7 145.0 L 365.2 145.0 L 365.2 136.6 L 362.5 137.5 L 362.1 136.5 L 365.6 135.0 L 366.7 135.2 L 366.7 145.0 L 368.9 145.0 L 368.9 146.2 L 362.7 146.2 L 362.7 145.0 \" fill=\"#000000\"/>\n<path class=\"legend\" d=\"M 377.6 142.4 L 378.9 142.4 L 378.9 143.7 L 377.6 143.7 L 377.6 146.2 L 376.1 146.2 L 376.1 143.7 L 370.3 143.7 L 370.3 142.7 L 375.2 135.1 L 377.6 135.1 L 377.6 142.4 M 372.1 142.4 L 376.1 142.4 L 376.1 136.1 L 372.1 142.4 \" fill=\"#000000\"/>\n<path class=\"legend\" d=\"M 386.3 136.3 L 380.4 136.3 L 380.4 135.1 L 387.9 135.1 L 387.9 136.2 L 383.4 146.2 L 381.8 146.2 L 386.3 136.3 \" fill=\"#000000\"/>\n<ellipse class=\"atom-3\" cx=\"551.9\" cy=\"91.5\" rx=\"7.7\" ry=\"7.7\" style=\"fill:#9999E5;fill-rule:evenodd;stroke:#9999E5;stroke-width:1.0px;stroke-linecap:butt;stroke-linejoin:miter;stroke-opacity:1\"/>\n<path class=\"bond-0 atom-0 atom-1\" d=\"M 489.1,89.2 L 518.6,72.2\" style=\"fill:none;fill-rule:evenodd;stroke:#E5E5E5;stroke-width:2.1px;stroke-linecap:butt;stroke-linejoin:miter;stroke-opacity:1\"/>\n<path class=\"bond-1 atom-1 atom-2\" d=\"M 521.5,73.9 L 521.5,34.4\" style=\"fill:none;fill-rule:evenodd;stroke:#E5E5E5;stroke-width:2.1px;stroke-linecap:butt;stroke-linejoin:miter;stroke-opacity:1\"/>\n<path class=\"bond-1 atom-1 atom-2\" d=\"M 515.7,73.9 L 515.7,34.4\" style=\"fill:none;fill-rule:evenodd;stroke:#E5E5E5;stroke-width:2.1px;stroke-linecap:butt;stroke-linejoin:miter;stroke-opacity:1\"/>\n<path class=\"bond-2 atom-1 atom-3\" d=\"M 518.6,72.2 L 532.1,80.0\" style=\"fill:none;fill-rule:evenodd;stroke:#000000;stroke-width:2.0px;stroke-linecap:butt;stroke-linejoin:miter;stroke-opacity:1\"/>\n<path class=\"bond-2 atom-1 atom-3\" d=\"M 532.1,80.0 L 545.7,87.8\" style=\"fill:none;fill-rule:evenodd;stroke:#FF0000;stroke-width:2.0px;stroke-linecap:butt;stroke-linejoin:miter;stroke-opacity:1\"/>\n<path d=\"M 517.8,72.6 L 518.6,72.2 L 518.9,72.4\" style=\"fill:none;stroke:#E5E5E5;stroke-width:2.1px;stroke-linecap:butt;stroke-linejoin:miter;stroke-opacity:1;\"/>\n<path class=\"atom-0\" d=\"M 483.2 90.2 L 484.8 88.6 L 482.6 88.2 L 483.0 87.1 L 484.9 88.1 L 484.7 85.9 L 485.8 85.9 L 485.5 88.1 L 487.5 87.1 L 487.8 88.2 L 485.7 88.6 L 487.2 90.2 L 486.3 90.9 L 485.2 88.9 L 484.1 90.9 L 483.2 90.2 \" fill=\"#191919\"/>\n<path class=\"atom-2\" d=\"M 516.5 32.5 L 518.1 30.8 L 516.0 30.4 L 516.3 29.3 L 518.3 30.3 L 518.0 28.2 L 519.2 28.1 L 518.8 30.3 L 520.8 29.4 L 521.2 30.4 L 519.0 30.8 L 520.6 32.4 L 519.6 33.1 L 518.5 31.1 L 517.5 33.1 L 516.5 32.5 \" fill=\"#191919\"/>\n<path class=\"atom-3\" d=\"M 546.9 91.5 Q 546.9 88.9, 548.2 87.4 Q 549.5 85.9, 551.9 85.9 Q 554.4 85.9, 555.7 87.4 Q 557.0 88.9, 557.0 91.5 Q 557.0 94.1, 555.6 95.6 Q 554.3 97.1, 551.9 97.1 Q 549.5 97.1, 548.2 95.6 Q 546.9 94.2, 546.9 91.5 M 551.9 95.9 Q 553.6 95.9, 554.5 94.8 Q 555.4 93.7, 555.4 91.5 Q 555.4 89.3, 554.5 88.3 Q 553.6 87.2, 551.9 87.2 Q 550.3 87.2, 549.4 88.3 Q 548.5 89.3, 548.5 91.5 Q 548.5 93.7, 549.4 94.8 Q 550.3 95.9, 551.9 95.9 \" fill=\"#FF0000\"/>\n<path class=\"atom-3\" d=\"M 558.6 86.1 L 560.1 86.1 L 560.1 90.7 L 565.7 90.7 L 565.7 86.1 L 567.2 86.1 L 567.2 97.0 L 565.7 97.0 L 565.7 91.9 L 560.1 91.9 L 560.1 97.0 L 558.6 97.0 L 558.6 86.1 \" fill=\"#FF0000\"/>\n<path class=\"legend\" d=\"M 517.2 140.3 Q 518.3 140.6, 518.8 141.3 Q 519.3 142.0, 519.3 143.1 Q 519.3 144.0, 518.8 144.7 Q 518.4 145.5, 517.5 145.9 Q 516.7 146.2, 515.6 146.2 Q 514.4 146.2, 513.5 145.8 Q 512.6 145.4, 511.9 144.6 L 512.8 143.7 Q 513.5 144.4, 514.1 144.7 Q 514.6 145.0, 515.6 145.0 Q 516.5 145.0, 517.2 144.5 Q 517.8 143.9, 517.8 143.1 Q 517.8 142.0, 517.1 141.5 Q 516.5 141.0, 515.2 141.0 L 514.4 141.0 L 514.4 139.8 L 515.1 139.8 Q 516.3 139.8, 516.9 139.3 Q 517.5 138.8, 517.5 137.8 Q 517.5 137.1, 517.0 136.7 Q 516.5 136.2, 515.6 136.2 Q 514.7 136.2, 514.1 136.6 Q 513.5 136.9, 513.1 137.7 L 512.0 137.1 Q 512.4 136.2, 513.3 135.6 Q 514.3 135.0, 515.6 135.0 Q 517.2 135.0, 518.1 135.8 Q 519.1 136.5, 519.1 137.8 Q 519.1 138.7, 518.6 139.3 Q 518.1 140.0, 517.2 140.3 \" fill=\"#000000\"/>\n<path class=\"legend\" d=\"M 526.6 140.3 Q 527.6 140.7, 528.2 141.4 Q 528.7 142.0, 528.7 143.1 Q 528.7 144.0, 528.2 144.7 Q 527.8 145.5, 526.9 145.9 Q 526.0 146.2, 524.9 146.2 Q 523.1 146.2, 522.0 145.4 Q 521.0 144.6, 521.0 143.1 Q 521.0 142.2, 521.4 141.5 Q 521.9 140.8, 522.9 140.3 Q 522.2 139.9, 521.8 139.3 Q 521.4 138.7, 521.4 137.8 Q 521.4 136.5, 522.3 135.8 Q 523.3 135.0, 524.9 135.0 Q 526.4 135.0, 527.4 135.8 Q 528.3 136.5, 528.3 137.8 Q 528.3 138.6, 527.9 139.2 Q 527.4 139.8, 526.6 140.3 M 524.9 136.2 Q 523.9 136.2, 523.4 136.6 Q 522.9 137.0, 522.9 137.8 Q 522.9 138.4, 523.3 138.8 Q 523.6 139.1, 524.1 139.4 Q 524.6 139.6, 525.5 139.9 Q 526.2 139.4, 526.5 138.9 Q 526.8 138.4, 526.8 137.8 Q 526.8 137.0, 526.3 136.6 Q 525.8 136.2, 524.9 136.2 M 524.9 145.1 Q 525.9 145.1, 526.6 144.5 Q 527.2 144.0, 527.2 143.1 Q 527.2 142.5, 526.9 142.1 Q 526.5 141.7, 526.0 141.5 Q 525.6 141.3, 524.7 141.0 L 524.0 140.8 Q 523.2 141.3, 522.9 141.8 Q 522.5 142.4, 522.5 143.1 Q 522.5 144.0, 523.2 144.5 Q 523.8 145.1, 524.9 145.1 \" fill=\"#000000\"/>\n<path class=\"legend\" d=\"M 534.1 135.0 Q 536.1 135.0, 537.1 136.3 Q 538.1 137.6, 538.1 140.3 Q 538.1 143.2, 536.8 144.7 Q 535.6 146.2, 533.3 146.2 Q 532.6 146.2, 532.0 146.1 Q 531.5 145.9, 530.9 145.6 L 531.5 144.5 Q 532.3 145.0, 533.3 145.0 Q 534.8 145.0, 535.6 144.0 Q 536.4 143.0, 536.5 140.9 Q 535.9 141.4, 535.2 141.7 Q 534.5 142.0, 533.8 142.0 Q 532.8 142.0, 532.1 141.6 Q 531.3 141.1, 530.9 140.4 Q 530.5 139.6, 530.5 138.7 Q 530.5 137.6, 530.9 136.8 Q 531.4 135.9, 532.2 135.5 Q 533.1 135.0, 534.1 135.0 M 532.0 138.6 Q 532.0 139.6, 532.6 140.2 Q 533.1 140.7, 534.1 140.7 Q 534.7 140.7, 535.4 140.5 Q 536.0 140.2, 536.5 139.7 Q 536.4 137.9, 535.9 137.1 Q 535.3 136.3, 534.1 136.3 Q 533.5 136.3, 533.0 136.6 Q 532.6 136.9, 532.3 137.4 Q 532.0 138.0, 532.0 138.6 \" fill=\"#000000\"/>\n<ellipse class=\"atom-1\" cx=\"69.8\" cy=\"201.3\" rx=\"7.7\" ry=\"7.7\" style=\"fill:#9999E5;fill-rule:evenodd;stroke:#9999E5;stroke-width:1.0px;stroke-linecap:butt;stroke-linejoin:miter;stroke-opacity:1\"/>\n<path class=\"bond-0 atom-0 atom-1\" d=\"M 66.9,233.0 L 66.9,208.2\" style=\"fill:none;fill-rule:evenodd;stroke:#E5E5E5;stroke-width:2.1px;stroke-linecap:butt;stroke-linejoin:miter;stroke-opacity:1\"/>\n<path class=\"bond-0 atom-0 atom-1\" d=\"M 72.7,233.0 L 72.7,208.2\" style=\"fill:none;fill-rule:evenodd;stroke:#E5E5E5;stroke-width:2.1px;stroke-linecap:butt;stroke-linejoin:miter;stroke-opacity:1\"/>\n<path class=\"atom-0\" d=\"M 67.7 238.6 L 69.3 236.9 L 67.2 236.5 L 67.5 235.4 L 69.5 236.4 L 69.2 234.3 L 70.4 234.2 L 70.1 236.4 L 72.0 235.5 L 72.4 236.5 L 70.2 236.9 L 71.8 238.6 L 70.8 239.2 L 69.8 237.2 L 68.7 239.2 L 67.7 238.6 \" fill=\"#191919\"/>\n<path class=\"atom-1\" d=\"M 64.8 201.3 Q 64.8 198.7, 66.1 197.2 Q 67.4 195.8, 69.8 195.8 Q 72.2 195.8, 73.5 197.2 Q 74.8 198.7, 74.8 201.3 Q 74.8 204.0, 73.5 205.5 Q 72.2 207.0, 69.8 207.0 Q 67.4 207.0, 66.1 205.5 Q 64.8 204.0, 64.8 201.3 M 69.8 205.7 Q 71.5 205.7, 72.4 204.6 Q 73.3 203.5, 73.3 201.3 Q 73.3 199.2, 72.4 198.1 Q 71.5 197.0, 69.8 197.0 Q 68.1 197.0, 67.2 198.1 Q 66.3 199.2, 66.3 201.3 Q 66.3 203.5, 67.2 204.6 Q 68.1 205.7, 69.8 205.7 \" fill=\"#FF0000\"/>\n<path class=\"legend\" d=\"M 66.2 289.3 Q 67.1 289.3, 67.9 289.7 Q 68.7 290.1, 69.1 290.9 Q 69.5 291.6, 69.5 292.6 Q 69.5 293.7, 69.0 294.5 Q 68.5 295.3, 67.7 295.8 Q 66.9 296.2, 65.8 296.2 Q 63.8 296.2, 62.8 294.9 Q 61.9 293.6, 61.9 291.0 Q 61.9 288.0, 63.1 286.5 Q 64.3 285.0, 66.7 285.0 Q 67.3 285.0, 67.9 285.2 Q 68.5 285.3, 69.1 285.6 L 68.5 286.7 Q 67.6 286.2, 66.7 286.2 Q 65.1 286.2, 64.3 287.3 Q 63.5 288.2, 63.4 290.3 Q 64.0 289.8, 64.7 289.5 Q 65.4 289.3, 66.2 289.3 M 65.8 295.0 Q 66.4 295.0, 66.9 294.7 Q 67.4 294.4, 67.7 293.8 Q 67.9 293.3, 67.9 292.6 Q 67.9 291.6, 67.4 291.1 Q 66.9 290.5, 65.9 290.5 Q 65.2 290.5, 64.6 290.8 Q 63.9 291.0, 63.4 291.5 Q 63.5 293.3, 64.1 294.2 Q 64.6 295.0, 65.8 295.0 \" fill=\"#000000\"/>\n<path class=\"legend\" d=\"M 75.1 289.2 Q 76.1 289.2, 76.9 289.7 Q 77.7 290.1, 78.1 290.8 Q 78.6 291.6, 78.6 292.6 Q 78.6 293.8, 78.0 294.6 Q 77.5 295.4, 76.6 295.8 Q 75.7 296.2, 74.6 296.2 Q 73.6 296.2, 72.7 295.9 Q 71.8 295.5, 71.1 294.8 L 72.1 293.8 Q 72.6 294.4, 73.3 294.7 Q 74.0 295.0, 74.7 295.0 Q 75.7 295.0, 76.3 294.4 Q 77.0 293.8, 77.0 292.7 Q 77.0 291.5, 76.3 291.0 Q 75.7 290.4, 74.6 290.4 Q 73.6 290.4, 72.6 290.8 L 71.7 290.4 L 72.2 285.1 L 77.9 285.1 L 77.7 286.4 L 73.5 286.4 L 73.2 289.6 Q 74.2 289.2, 75.1 289.2 \" fill=\"#000000\"/>\n<path class=\"legend\" d=\"M 84.1 296.2 Q 82.1 296.2, 81.1 294.8 Q 80.1 293.3, 80.1 290.6 Q 80.1 288.0, 81.1 286.5 Q 82.1 285.0, 84.1 285.0 Q 86.1 285.0, 87.1 286.5 Q 88.1 288.0, 88.1 290.6 Q 88.1 293.3, 87.1 294.8 Q 86.1 296.2, 84.1 296.2 M 84.1 295.0 Q 85.3 295.0, 85.9 293.9 Q 86.6 292.8, 86.6 290.6 Q 86.6 288.4, 85.9 287.3 Q 85.3 286.2, 84.1 286.2 Q 82.9 286.2, 82.3 287.3 Q 81.6 288.4, 81.6 290.6 Q 81.6 292.8, 82.3 293.9 Q 82.9 295.0, 84.1 295.0 \" fill=\"#000000\"/>\n<ellipse class=\"atom-1\" cx=\"235.3\" cy=\"227.0\" rx=\"7.7\" ry=\"7.7\" style=\"fill:#9999E5;fill-rule:evenodd;stroke:#9999E5;stroke-width:1.0px;stroke-linecap:butt;stroke-linejoin:miter;stroke-opacity:1\"/>\n<path class=\"bond-0 atom-0 atom-1\" d=\"M 202.0,246.3 L 235.3,227.0\" style=\"fill:none;fill-rule:evenodd;stroke:#000000;stroke-width:2.0px;stroke-linecap:butt;stroke-linejoin:miter;stroke-opacity:1\"/>\n<path class=\"bond-1 atom-1 atom-2\" d=\"M 238.2,228.7 L 238.2,212.1\" style=\"fill:none;fill-rule:evenodd;stroke:#000000;stroke-width:2.0px;stroke-linecap:butt;stroke-linejoin:miter;stroke-opacity:1\"/>\n<path class=\"bond-1 atom-1 atom-2\" d=\"M 238.2,212.1 L 238.2,195.5\" style=\"fill:none;fill-rule:evenodd;stroke:#FF0000;stroke-width:2.0px;stroke-linecap:butt;stroke-linejoin:miter;stroke-opacity:1\"/>\n<path class=\"bond-1 atom-1 atom-2\" d=\"M 232.5,228.7 L 232.5,212.1\" style=\"fill:none;fill-rule:evenodd;stroke:#000000;stroke-width:2.0px;stroke-linecap:butt;stroke-linejoin:miter;stroke-opacity:1\"/>\n<path class=\"bond-1 atom-1 atom-2\" d=\"M 232.5,212.1 L 232.5,195.5\" style=\"fill:none;fill-rule:evenodd;stroke:#FF0000;stroke-width:2.0px;stroke-linecap:butt;stroke-linejoin:miter;stroke-opacity:1\"/>\n<path class=\"bond-2 atom-1 atom-3\" d=\"M 235.3,227.0 L 248.9,234.9\" style=\"fill:none;fill-rule:evenodd;stroke:#000000;stroke-width:2.0px;stroke-linecap:butt;stroke-linejoin:miter;stroke-opacity:1\"/>\n<path class=\"bond-2 atom-1 atom-3\" d=\"M 248.9,234.9 L 262.4,242.7\" style=\"fill:none;fill-rule:evenodd;stroke:#FF0000;stroke-width:2.0px;stroke-linecap:butt;stroke-linejoin:miter;stroke-opacity:1\"/>\n<path class=\"bond-3 atom-0 atom-4\" d=\"M 202.0,246.3 L 169.9,227.8\" style=\"fill:none;fill-rule:evenodd;stroke:#E5E5E5;stroke-width:2.1px;stroke-linecap:butt;stroke-linejoin:miter;stroke-opacity:1\"/>\n<path d=\"M 202.8,245.8 L 202.0,246.3 L 201.2,245.8\" style=\"fill:none;stroke:#000000;stroke-width:2.0px;stroke-linecap:butt;stroke-linejoin:miter;stroke-opacity:1;\"/>\n<path d=\"M 233.7,228.0 L 235.3,227.0 L 236.0,227.4\" style=\"fill:none;stroke:#000000;stroke-width:2.0px;stroke-linecap:butt;stroke-linejoin:miter;stroke-opacity:1;\"/>\n<path class=\"atom-2\" d=\"M 230.3 188.6 Q 230.3 185.9, 231.6 184.5 Q 232.9 183.0, 235.3 183.0 Q 237.8 183.0, 239.1 184.5 Q 240.4 185.9, 240.4 188.6 Q 240.4 191.2, 239.0 192.7 Q 237.7 194.2, 235.3 194.2 Q 232.9 194.2, 231.6 192.7 Q 230.3 191.2, 230.3 188.6 M 235.3 193.0 Q 237.0 193.0, 237.9 191.9 Q 238.8 190.7, 238.8 188.6 Q 238.8 186.4, 237.9 185.3 Q 237.0 184.2, 235.3 184.2 Q 233.7 184.2, 232.8 185.3 Q 231.9 186.4, 231.9 188.6 Q 231.9 190.8, 232.8 191.9 Q 233.7 193.0, 235.3 193.0 \" fill=\"#FF0000\"/>\n<path class=\"atom-3\" d=\"M 263.7 246.3 Q 263.7 243.7, 265.0 242.3 Q 266.3 240.8, 268.7 240.8 Q 271.1 240.8, 272.4 242.3 Q 273.7 243.7, 273.7 246.3 Q 273.7 249.0, 272.4 250.5 Q 271.1 252.0, 268.7 252.0 Q 266.3 252.0, 265.0 250.5 Q 263.7 249.0, 263.7 246.3 M 268.7 250.8 Q 270.4 250.8, 271.3 249.6 Q 272.2 248.5, 272.2 246.3 Q 272.2 244.2, 271.3 243.1 Q 270.4 242.0, 268.7 242.0 Q 267.0 242.0, 266.1 243.1 Q 265.2 244.2, 265.2 246.3 Q 265.2 248.5, 266.1 249.6 Q 267.0 250.8, 268.7 250.8 \" fill=\"#FF0000\"/>\n<path class=\"atom-3\" d=\"M 275.4 240.9 L 276.9 240.9 L 276.9 245.5 L 282.5 245.5 L 282.5 240.9 L 283.9 240.9 L 283.9 251.8 L 282.5 251.8 L 282.5 246.8 L 276.9 246.8 L 276.9 251.8 L 275.4 251.8 L 275.4 240.9 \" fill=\"#FF0000\"/>\n<path class=\"atom-4\" d=\"M 166.6 225.8 L 168.2 224.2 L 166.1 223.8 L 166.4 222.7 L 168.3 223.7 L 168.1 221.5 L 169.2 221.5 L 168.9 223.6 L 170.9 222.7 L 171.2 223.8 L 169.1 224.2 L 170.6 225.8 L 169.7 226.5 L 168.6 224.5 L 167.5 226.5 L 166.6 225.8 \" fill=\"#191919\"/>\n<path class=\"legend\" d=\"M 218.9 286.4 L 213.1 286.4 L 213.1 285.1 L 220.4 285.1 L 220.4 286.2 L 216.0 296.1 L 214.5 296.1 L 218.9 286.4 \" fill=\"#000000\"/>\n<path class=\"legend\" d=\"M 222.1 294.9 L 224.6 294.9 L 224.6 286.7 L 221.9 287.5 L 221.5 286.6 L 224.9 285.1 L 226.0 285.2 L 226.0 294.9 L 228.2 294.9 L 228.2 296.1 L 222.1 296.1 L 222.1 294.9 \" fill=\"#000000\"/>\n<path class=\"legend\" d=\"M 234.8 290.3 Q 235.9 290.6, 236.4 291.3 Q 236.9 292.0, 236.9 293.1 Q 236.9 294.0, 236.4 294.7 Q 236.0 295.5, 235.1 295.9 Q 234.3 296.2, 233.1 296.2 Q 232.0 296.2, 231.1 295.8 Q 230.2 295.4, 229.5 294.6 L 230.4 293.7 Q 231.1 294.4, 231.7 294.7 Q 232.2 295.0, 233.1 295.0 Q 234.1 295.0, 234.7 294.5 Q 235.3 293.9, 235.3 293.1 Q 235.3 292.0, 234.7 291.5 Q 234.1 291.0, 232.7 291.0 L 232.0 291.0 L 232.0 289.8 L 232.7 289.8 Q 233.8 289.8, 234.5 289.3 Q 235.1 288.8, 235.1 287.8 Q 235.1 287.1, 234.6 286.7 Q 234.1 286.2, 233.2 286.2 Q 232.2 286.2, 231.7 286.6 Q 231.1 286.9, 230.7 287.7 L 229.6 287.1 Q 230.0 286.2, 230.9 285.6 Q 231.9 285.0, 233.2 285.0 Q 234.8 285.0, 235.7 285.8 Q 236.7 286.5, 236.7 287.8 Q 236.7 288.7, 236.2 289.3 Q 235.7 290.0, 234.8 290.3 \" fill=\"#000000\"/>\n<ellipse class=\"atom-1\" cx=\"375.0\" cy=\"230.2\" rx=\"7.7\" ry=\"7.7\" style=\"fill:#9999E5;fill-rule:evenodd;stroke:#9999E5;stroke-width:1.0px;stroke-linecap:butt;stroke-linejoin:miter;stroke-opacity:1\"/>\n<path class=\"bond-0 atom-0 atom-1\" d=\"M 345.5,247.2 L 375.0,230.2\" style=\"fill:none;fill-rule:evenodd;stroke:#E5E5E5;stroke-width:2.1px;stroke-linecap:butt;stroke-linejoin:miter;stroke-opacity:1\"/>\n<path class=\"bond-1 atom-1 atom-2\" d=\"M 377.9,231.8 L 377.9,192.4\" style=\"fill:none;fill-rule:evenodd;stroke:#E5E5E5;stroke-width:2.1px;stroke-linecap:butt;stroke-linejoin:miter;stroke-opacity:1\"/>\n<path class=\"bond-1 atom-1 atom-2\" d=\"M 372.1,231.8 L 372.1,192.4\" style=\"fill:none;fill-rule:evenodd;stroke:#E5E5E5;stroke-width:2.1px;stroke-linecap:butt;stroke-linejoin:miter;stroke-opacity:1\"/>\n<path class=\"bond-2 atom-1 atom-3\" d=\"M 375.0,230.2 L 404.5,247.2\" style=\"fill:none;fill-rule:evenodd;stroke:#E5E5E5;stroke-width:2.1px;stroke-linecap:butt;stroke-linejoin:miter;stroke-opacity:1\"/>\n<path d=\"M 373.5,231.0 L 375.0,230.2 L 376.5,231.0\" style=\"fill:none;stroke:#E5E5E5;stroke-width:2.1px;stroke-linecap:butt;stroke-linejoin:miter;stroke-opacity:1;\"/>\n<path class=\"atom-0\" d=\"M 339.6 248.2 L 341.2 246.6 L 339.1 246.2 L 339.4 245.1 L 341.3 246.0 L 341.1 243.9 L 342.2 243.9 L 341.9 246.0 L 343.9 245.1 L 344.2 246.2 L 342.1 246.6 L 343.6 248.2 L 342.7 248.9 L 341.6 246.9 L 340.5 248.9 L 339.6 248.2 \" fill=\"#191919\"/>\n<path class=\"atom-2\" d=\"M 372.9 190.4 L 374.5 188.8 L 372.4 188.4 L 372.7 187.3 L 374.7 188.3 L 374.4 186.1 L 375.6 186.1 L 375.3 188.3 L 377.2 187.3 L 377.6 188.4 L 375.4 188.8 L 377.0 190.4 L 376.0 191.1 L 375.0 189.1 L 373.9 191.1 L 372.9 190.4 \" fill=\"#191919\"/>\n<path class=\"atom-3\" d=\"M 406.3 248.2 L 407.9 246.6 L 405.8 246.2 L 406.1 245.1 L 408.1 246.0 L 407.8 243.9 L 408.9 243.9 L 408.6 246.0 L 410.6 245.1 L 410.9 246.2 L 408.8 246.6 L 410.3 248.2 L 409.4 248.9 L 408.3 246.9 L 407.2 248.9 L 406.3 248.2 \" fill=\"#191919\"/>\n<path class=\"legend\" d=\"M 367.3 290.3 Q 368.3 290.7, 368.9 291.4 Q 369.5 292.0, 369.5 293.1 Q 369.5 294.0, 369.0 294.7 Q 368.5 295.5, 367.6 295.9 Q 366.8 296.2, 365.6 296.2 Q 363.8 296.2, 362.8 295.4 Q 361.7 294.6, 361.7 293.1 Q 361.7 292.2, 362.2 291.5 Q 362.6 290.8, 363.6 290.3 Q 362.9 289.9, 362.5 289.3 Q 362.1 288.7, 362.1 287.8 Q 362.1 286.5, 363.0 285.8 Q 364.0 285.0, 365.6 285.0 Q 367.2 285.0, 368.1 285.8 Q 369.1 286.5, 369.1 287.8 Q 369.1 288.6, 368.6 289.2 Q 368.2 289.8, 367.3 290.3 M 365.6 286.2 Q 364.7 286.2, 364.2 286.6 Q 363.7 287.0, 363.7 287.8 Q 363.7 288.4, 364.0 288.8 Q 364.3 289.1, 364.8 289.4 Q 365.3 289.6, 366.3 289.9 Q 366.9 289.4, 367.2 288.9 Q 367.5 288.4, 367.5 287.8 Q 367.5 287.0, 367.0 286.6 Q 366.5 286.2, 365.6 286.2 M 365.6 295.1 Q 366.7 295.1, 367.3 294.5 Q 367.9 294.0, 367.9 293.1 Q 367.9 292.5, 367.6 292.1 Q 367.3 291.7, 366.8 291.5 Q 366.3 291.3, 365.4 291.0 L 364.7 290.8 Q 363.9 291.3, 363.6 291.8 Q 363.3 292.4, 363.3 293.1 Q 363.3 294.0, 363.9 294.5 Q 364.6 295.1, 365.6 295.1 \" fill=\"#000000\"/>\n<path class=\"legend\" d=\"M 375.2 296.2 Q 373.2 296.2, 372.2 294.7 Q 371.2 293.2, 371.2 290.6 Q 371.2 287.9, 372.2 286.5 Q 373.2 285.0, 375.2 285.0 Q 377.2 285.0, 378.2 286.5 Q 379.2 287.9, 379.2 290.6 Q 379.2 293.2, 378.2 294.7 Q 377.2 296.2, 375.2 296.2 M 375.2 295.0 Q 376.4 295.0, 377.0 293.9 Q 377.7 292.8, 377.7 290.6 Q 377.7 288.4, 377.0 287.3 Q 376.4 286.2, 375.2 286.2 Q 374.0 286.2, 373.4 287.3 Q 372.8 288.4, 372.8 290.6 Q 372.8 292.8, 373.4 293.9 Q 374.0 295.0, 375.2 295.0 \" fill=\"#000000\"/>\n<path class=\"legend\" d=\"M 386.8 286.4 L 381.0 286.4 L 381.0 285.1 L 388.3 285.1 L 388.3 286.2 L 383.9 296.1 L 382.4 296.1 L 386.8 286.4 \" fill=\"#000000\"/>\n<ellipse class=\"atom-2\" cx=\"525.0\" cy=\"191.6\" rx=\"7.7\" ry=\"7.7\" style=\"fill:#9999E5;fill-rule:evenodd;stroke:#9999E5;stroke-width:1.0px;stroke-linecap:butt;stroke-linejoin:miter;stroke-opacity:1\"/>\n<path class=\"bond-0 atom-0 atom-1\" d=\"M 495.5,247.2 L 525.0,230.2\" style=\"fill:none;fill-rule:evenodd;stroke:#E5E5E5;stroke-width:2.1px;stroke-linecap:butt;stroke-linejoin:miter;stroke-opacity:1\"/>\n<path class=\"bond-1 atom-1 atom-2\" d=\"M 527.9,231.8 L 527.9,215.2\" style=\"fill:none;fill-rule:evenodd;stroke:#000000;stroke-width:2.0px;stroke-linecap:butt;stroke-linejoin:miter;stroke-opacity:1\"/>\n<path class=\"bond-1 atom-1 atom-2\" d=\"M 527.9,215.2 L 527.9,198.6\" style=\"fill:none;fill-rule:evenodd;stroke:#FF0000;stroke-width:2.0px;stroke-linecap:butt;stroke-linejoin:miter;stroke-opacity:1\"/>\n<path class=\"bond-1 atom-1 atom-2\" d=\"M 522.1,231.8 L 522.1,215.2\" style=\"fill:none;fill-rule:evenodd;stroke:#000000;stroke-width:2.0px;stroke-linecap:butt;stroke-linejoin:miter;stroke-opacity:1\"/>\n<path class=\"bond-1 atom-1 atom-2\" d=\"M 522.1,215.2 L 522.1,198.6\" style=\"fill:none;fill-rule:evenodd;stroke:#FF0000;stroke-width:2.0px;stroke-linecap:butt;stroke-linejoin:miter;stroke-opacity:1\"/>\n<path class=\"bond-2 atom-1 atom-3\" d=\"M 525.0,230.2 L 554.5,247.2\" style=\"fill:none;fill-rule:evenodd;stroke:#E5E5E5;stroke-width:2.1px;stroke-linecap:butt;stroke-linejoin:miter;stroke-opacity:1\"/>\n<path d=\"M 523.5,231.0 L 525.0,230.2 L 526.5,231.0\" style=\"fill:none;stroke:#E5E5E5;stroke-width:2.1px;stroke-linecap:butt;stroke-linejoin:miter;stroke-opacity:1;\"/>\n<path class=\"atom-0\" d=\"M 489.6 248.2 L 491.2 246.6 L 489.1 246.1 L 489.4 245.0 L 491.3 246.0 L 491.1 243.9 L 492.2 243.9 L 491.9 246.0 L 493.9 245.1 L 494.2 246.1 L 492.1 246.5 L 493.6 248.2 L 492.7 248.9 L 491.6 246.8 L 490.5 248.9 L 489.6 248.2 \" fill=\"#191919\"/>\n<path class=\"atom-2\" d=\"M 520.0 191.7 Q 520.0 189.1, 521.3 187.6 Q 522.6 186.1, 525.0 186.1 Q 527.4 186.1, 528.7 187.6 Q 530.0 189.1, 530.0 191.7 Q 530.0 194.3, 528.7 195.8 Q 527.4 197.3, 525.0 197.3 Q 522.6 197.3, 521.3 195.8 Q 520.0 194.3, 520.0 191.7 M 525.0 196.1 Q 526.7 196.1, 527.6 195.0 Q 528.5 193.9, 528.5 191.7 Q 528.5 189.5, 527.6 188.5 Q 526.7 187.4, 525.0 187.4 Q 523.3 187.4, 522.4 188.4 Q 521.5 189.5, 521.5 191.7 Q 521.5 193.9, 522.4 195.0 Q 523.3 196.1, 525.0 196.1 \" fill=\"#FF0000\"/>\n<path class=\"atom-3\" d=\"M 556.3 248.2 L 557.9 246.6 L 555.8 246.1 L 556.1 245.0 L 558.1 246.0 L 557.8 243.9 L 558.9 243.9 L 558.6 246.0 L 560.6 245.1 L 560.9 246.1 L 558.8 246.5 L 560.3 248.2 L 559.4 248.9 L 558.3 246.8 L 557.2 248.9 L 556.3 248.2 \" fill=\"#191919\"/>\n<path class=\"legend\" d=\"M 517.5 290.3 Q 518.5 290.7, 519.0 291.4 Q 519.6 292.0, 519.6 293.1 Q 519.6 294.0, 519.1 294.7 Q 518.6 295.5, 517.8 295.9 Q 516.9 296.2, 515.8 296.2 Q 514.0 296.2, 512.9 295.4 Q 511.9 294.6, 511.9 293.1 Q 511.9 292.2, 512.3 291.5 Q 512.8 290.8, 513.8 290.3 Q 513.0 289.9, 512.7 289.3 Q 512.3 288.7, 512.3 287.8 Q 512.3 286.5, 513.2 285.8 Q 514.1 285.0, 515.7 285.0 Q 517.3 285.0, 518.3 285.8 Q 519.2 286.5, 519.2 287.8 Q 519.2 288.6, 518.8 289.2 Q 518.3 289.8, 517.5 290.3 M 515.7 286.2 Q 514.8 286.2, 514.3 286.6 Q 513.8 287.0, 513.8 287.8 Q 513.8 288.4, 514.2 288.8 Q 514.5 289.1, 515.0 289.4 Q 515.5 289.6, 516.4 289.9 Q 517.1 289.4, 517.4 288.9 Q 517.7 288.4, 517.7 287.8 Q 517.7 287.0, 517.1 286.6 Q 516.6 286.2, 515.7 286.2 M 515.8 295.1 Q 516.8 295.1, 517.4 294.5 Q 518.1 294.0, 518.1 293.1 Q 518.1 292.5, 517.7 292.1 Q 517.4 291.7, 516.9 291.5 Q 516.4 291.3, 515.6 291.0 L 514.9 290.8 Q 514.1 291.3, 513.8 291.8 Q 513.4 292.4, 513.4 293.1 Q 513.4 294.0, 514.1 294.5 Q 514.7 295.1, 515.8 295.1 \" fill=\"#000000\"/>\n<path class=\"legend\" d=\"M 525.0 285.0 Q 527.0 285.0, 528.0 286.3 Q 529.0 287.6, 529.0 290.3 Q 529.0 293.2, 527.7 294.7 Q 526.5 296.2, 524.2 296.2 Q 523.5 296.2, 522.9 296.1 Q 522.3 295.9, 521.8 295.6 L 522.4 294.5 Q 523.2 295.0, 524.2 295.0 Q 525.7 295.0, 526.5 294.0 Q 527.3 293.0, 527.4 290.9 Q 526.8 291.4, 526.1 291.7 Q 525.4 292.0, 524.7 292.0 Q 523.7 292.0, 522.9 291.6 Q 522.2 291.1, 521.8 290.4 Q 521.3 289.6, 521.3 288.7 Q 521.3 287.6, 521.8 286.8 Q 522.3 285.9, 523.1 285.5 Q 524.0 285.0, 525.0 285.0 M 522.9 288.6 Q 522.9 289.6, 523.4 290.2 Q 524.0 290.7, 524.9 290.7 Q 525.6 290.7, 526.3 290.5 Q 526.9 290.2, 527.4 289.7 Q 527.3 287.9, 526.8 287.1 Q 526.2 286.3, 525.0 286.3 Q 524.4 286.3, 523.9 286.6 Q 523.5 286.9, 523.2 287.4 Q 522.9 288.0, 522.9 288.6 \" fill=\"#000000\"/>\n<path class=\"legend\" d=\"M 536.0 290.3 Q 537.1 290.6, 537.6 291.3 Q 538.1 292.0, 538.1 293.1 Q 538.1 294.0, 537.7 294.7 Q 537.2 295.5, 536.4 295.9 Q 535.5 296.2, 534.4 296.2 Q 533.2 296.2, 532.3 295.8 Q 531.5 295.4, 530.8 294.6 L 531.6 293.7 Q 532.3 294.4, 532.9 294.7 Q 533.5 295.0, 534.4 295.0 Q 535.4 295.0, 536.0 294.5 Q 536.6 293.9, 536.6 293.1 Q 536.6 292.0, 536.0 291.5 Q 535.3 291.0, 534.0 291.0 L 533.2 291.0 L 533.2 289.8 L 533.9 289.8 Q 535.1 289.8, 535.7 289.3 Q 536.4 288.8, 536.4 287.8 Q 536.4 287.1, 535.8 286.7 Q 535.3 286.2, 534.4 286.2 Q 533.5 286.2, 532.9 286.6 Q 532.4 286.9, 531.9 287.7 L 530.9 287.1 Q 531.2 286.2, 532.2 285.6 Q 533.1 285.0, 534.4 285.0 Q 536.0 285.0, 537.0 285.8 Q 537.9 286.5, 537.9 287.8 Q 537.9 288.7, 537.4 289.3 Q 536.9 290.0, 536.0 290.3 \" fill=\"#000000\"/>\n<ellipse class=\"atom-0\" cx=\"61.2\" cy=\"391.4\" rx=\"7.7\" ry=\"7.7\" style=\"fill:#9999E5;fill-rule:evenodd;stroke:#9999E5;stroke-width:1.0px;stroke-linecap:butt;stroke-linejoin:miter;stroke-opacity:1\"/>\n<path class=\"bond-0 atom-0 atom-1\" d=\"M 61.2,391.4 L 94.6,372.2\" style=\"fill:none;fill-rule:evenodd;stroke:#000000;stroke-width:2.0px;stroke-linecap:butt;stroke-linejoin:miter;stroke-opacity:1\"/>\n<path class=\"bond-1 atom-1 atom-2\" d=\"M 97.5,373.9 L 97.5,357.2\" style=\"fill:none;fill-rule:evenodd;stroke:#000000;stroke-width:2.0px;stroke-linecap:butt;stroke-linejoin:miter;stroke-opacity:1\"/>\n<path class=\"bond-1 atom-1 atom-2\" d=\"M 97.5,357.2 L 97.5,340.6\" style=\"fill:none;fill-rule:evenodd;stroke:#FF0000;stroke-width:2.0px;stroke-linecap:butt;stroke-linejoin:miter;stroke-opacity:1\"/>\n<path class=\"bond-1 atom-1 atom-2\" d=\"M 91.7,373.9 L 91.7,357.2\" style=\"fill:none;fill-rule:evenodd;stroke:#000000;stroke-width:2.0px;stroke-linecap:butt;stroke-linejoin:miter;stroke-opacity:1\"/>\n<path class=\"bond-1 atom-1 atom-2\" d=\"M 91.7,357.2 L 91.7,340.6\" style=\"fill:none;fill-rule:evenodd;stroke:#FF0000;stroke-width:2.0px;stroke-linecap:butt;stroke-linejoin:miter;stroke-opacity:1\"/>\n<path class=\"bond-2 atom-1 atom-3\" d=\"M 94.6,372.2 L 108.1,380.0\" style=\"fill:none;fill-rule:evenodd;stroke:#000000;stroke-width:2.0px;stroke-linecap:butt;stroke-linejoin:miter;stroke-opacity:1\"/>\n<path class=\"bond-2 atom-1 atom-3\" d=\"M 108.1,380.0 L 121.7,387.8\" style=\"fill:none;fill-rule:evenodd;stroke:#FF0000;stroke-width:2.0px;stroke-linecap:butt;stroke-linejoin:miter;stroke-opacity:1\"/>\n<path class=\"bond-3 atom-0 atom-4\" d=\"M 61.2,391.4 L 47.3,383.4\" style=\"fill:none;fill-rule:evenodd;stroke:#000000;stroke-width:2.0px;stroke-linecap:butt;stroke-linejoin:miter;stroke-opacity:1\"/>\n<path class=\"bond-3 atom-0 atom-4\" d=\"M 47.3,383.4 L 33.3,375.3\" style=\"fill:none;fill-rule:evenodd;stroke:#0000FF;stroke-width:2.0px;stroke-linecap:butt;stroke-linejoin:miter;stroke-opacity:1\"/>\n<path d=\"M 62.9,390.5 L 61.2,391.4 L 60.5,391.0\" style=\"fill:none;stroke:#000000;stroke-width:2.0px;stroke-linecap:butt;stroke-linejoin:miter;stroke-opacity:1;\"/>\n<path d=\"M 92.9,373.1 L 94.6,372.2 L 95.3,372.6\" style=\"fill:none;stroke:#000000;stroke-width:2.0px;stroke-linecap:butt;stroke-linejoin:miter;stroke-opacity:1;\"/>\n<path class=\"atom-2\" d=\"M 89.6 333.7 Q 89.6 331.1, 90.9 329.6 Q 92.2 328.2, 94.6 328.2 Q 97.0 328.2, 98.3 329.6 Q 99.6 331.1, 99.6 333.7 Q 99.6 336.3, 98.3 337.9 Q 97.0 339.4, 94.6 339.4 Q 92.2 339.4, 90.9 337.9 Q 89.6 336.4, 89.6 333.7 M 94.6 338.1 Q 96.2 338.1, 97.1 337.0 Q 98.1 335.9, 98.1 333.7 Q 98.1 331.6, 97.1 330.5 Q 96.2 329.4, 94.6 329.4 Q 92.9 329.4, 92.0 330.5 Q 91.1 331.5, 91.1 333.7 Q 91.1 335.9, 92.0 337.0 Q 92.9 338.1, 94.6 338.1 \" fill=\"#FF0000\"/>\n<path class=\"atom-3\" d=\"M 122.9 391.5 Q 122.9 388.9, 124.2 387.4 Q 125.5 385.9, 127.9 385.9 Q 130.4 385.9, 131.7 387.4 Q 132.9 388.9, 132.9 391.5 Q 132.9 394.1, 131.6 395.6 Q 130.3 397.1, 127.9 397.1 Q 125.5 397.1, 124.2 395.6 Q 122.9 394.1, 122.9 391.5 M 127.9 395.9 Q 129.6 395.9, 130.5 394.8 Q 131.4 393.7, 131.4 391.5 Q 131.4 389.3, 130.5 388.3 Q 129.6 387.2, 127.9 387.2 Q 126.3 387.2, 125.4 388.2 Q 124.5 389.3, 124.5 391.5 Q 124.5 393.7, 125.4 394.8 Q 126.3 395.9, 127.9 395.9 \" fill=\"#FF0000\"/>\n<path class=\"atom-3\" d=\"M 134.6 386.0 L 136.1 386.0 L 136.1 390.7 L 141.7 390.7 L 141.7 386.0 L 143.2 386.0 L 143.2 397.0 L 141.7 397.0 L 141.7 391.9 L 136.1 391.9 L 136.1 397.0 L 134.6 397.0 L 134.6 386.0 \" fill=\"#FF0000\"/>\n<path class=\"atom-4\" d=\"M 6.8 366.7 L 8.3 366.7 L 8.3 371.4 L 13.9 371.4 L 13.9 366.7 L 15.4 366.7 L 15.4 377.6 L 13.9 377.6 L 13.9 372.6 L 8.3 372.6 L 8.3 377.6 L 6.8 377.6 L 6.8 366.7 \" fill=\"#0000FF\"/>\n<path class=\"atom-4\" d=\"M 17.5 377.3 Q 17.8 376.6, 18.4 376.2 Q 19.0 375.8, 19.9 375.8 Q 21.0 375.8, 21.6 376.4 Q 22.2 377.0, 22.2 378.0 Q 22.2 379.1, 21.4 380.1 Q 20.6 381.1, 19.0 382.3 L 22.3 382.3 L 22.3 383.1 L 17.5 383.1 L 17.5 382.4 Q 18.8 381.5, 19.6 380.7 Q 20.4 380.0, 20.8 379.4 Q 21.2 378.7, 21.2 378.1 Q 21.2 377.4, 20.8 377.0 Q 20.5 376.6, 19.9 376.6 Q 19.3 376.6, 18.9 376.9 Q 18.5 377.1, 18.3 377.6 L 17.5 377.3 \" fill=\"#0000FF\"/>\n<path class=\"atom-4\" d=\"M 25.5 366.7 L 29.0 372.5 Q 29.4 373.1, 30.0 374.1 Q 30.5 375.1, 30.6 375.2 L 30.6 366.7 L 32.0 366.7 L 32.0 377.6 L 30.5 377.6 L 26.7 371.3 Q 26.2 370.6, 25.8 369.7 Q 25.3 368.9, 25.2 368.6 L 25.2 377.6 L 23.7 377.6 L 23.7 366.7 L 25.5 366.7 \" fill=\"#0000FF\"/>\n<path class=\"legend\" d=\"M 65.5 435.0 Q 67.5 435.0, 68.5 436.3 Q 69.5 437.7, 69.5 440.3 Q 69.5 443.2, 68.2 444.7 Q 67.0 446.2, 64.7 446.2 Q 64.0 446.2, 63.4 446.1 Q 62.8 445.9, 62.3 445.6 L 62.9 444.6 Q 63.7 445.0, 64.7 445.0 Q 66.2 445.0, 67.0 444.0 Q 67.8 443.0, 67.9 440.9 Q 67.3 441.4, 66.6 441.7 Q 65.9 442.0, 65.2 442.0 Q 64.2 442.0, 63.4 441.6 Q 62.7 441.2, 62.3 440.4 Q 61.8 439.6, 61.8 438.7 Q 61.8 437.6, 62.3 436.8 Q 62.8 435.9, 63.6 435.5 Q 64.5 435.0, 65.5 435.0 M 63.4 438.7 Q 63.4 439.6, 63.9 440.2 Q 64.5 440.7, 65.4 440.7 Q 66.1 440.7, 66.8 440.5 Q 67.4 440.2, 67.9 439.7 Q 67.8 437.9, 67.3 437.1 Q 66.7 436.3, 65.5 436.3 Q 64.9 436.3, 64.4 436.6 Q 64.0 436.9, 63.7 437.4 Q 63.4 438.0, 63.4 438.7 \" fill=\"#000000\"/>\n<path class=\"legend\" d=\"M 75.6 439.3 Q 76.6 439.3, 77.3 439.7 Q 78.1 440.1, 78.5 440.9 Q 78.9 441.6, 78.9 442.6 Q 78.9 443.7, 78.4 444.5 Q 78.0 445.3, 77.1 445.8 Q 76.3 446.2, 75.2 446.2 Q 73.3 446.2, 72.3 444.9 Q 71.3 443.6, 71.3 441.0 Q 71.3 438.0, 72.5 436.5 Q 73.7 435.0, 76.1 435.0 Q 76.8 435.0, 77.3 435.2 Q 77.9 435.3, 78.5 435.6 L 77.9 436.7 Q 77.1 436.2, 76.1 436.2 Q 74.5 436.2, 73.7 437.3 Q 72.9 438.2, 72.9 440.3 Q 73.4 439.8, 74.1 439.5 Q 74.8 439.3, 75.6 439.3 M 75.2 445.0 Q 75.8 445.0, 76.3 444.7 Q 76.8 444.4, 77.1 443.8 Q 77.4 443.3, 77.4 442.6 Q 77.4 441.6, 76.8 441.1 Q 76.3 440.5, 75.3 440.5 Q 74.6 440.5, 74.0 440.8 Q 73.3 441.0, 72.9 441.5 Q 72.9 443.3, 73.5 444.2 Q 74.1 445.0, 75.2 445.0 \" fill=\"#000000\"/>\n<path class=\"legend\" d=\"M 84.8 439.3 Q 85.8 439.3, 86.6 439.7 Q 87.3 440.1, 87.7 440.9 Q 88.2 441.6, 88.2 442.6 Q 88.2 443.7, 87.7 444.5 Q 87.2 445.3, 86.4 445.8 Q 85.5 446.2, 84.5 446.2 Q 82.5 446.2, 81.5 444.9 Q 80.5 443.6, 80.5 441.0 Q 80.5 438.0, 81.7 436.5 Q 83.0 435.0, 85.3 435.0 Q 86.0 435.0, 86.6 435.2 Q 87.2 435.3, 87.7 435.6 L 87.1 436.7 Q 86.3 436.2, 85.3 436.2 Q 83.8 436.2, 83.0 437.3 Q 82.2 438.2, 82.1 440.3 Q 82.7 439.8, 83.4 439.5 Q 84.1 439.3, 84.8 439.3 M 84.5 445.0 Q 85.1 445.0, 85.6 444.7 Q 86.0 444.4, 86.3 443.8 Q 86.6 443.3, 86.6 442.6 Q 86.6 441.6, 86.1 441.1 Q 85.5 440.5, 84.6 440.5 Q 83.9 440.5, 83.2 440.8 Q 82.6 441.0, 82.1 441.5 Q 82.2 443.3, 82.7 444.2 Q 83.3 445.0, 84.5 445.0 \" fill=\"#000000\"/>\n<ellipse class=\"atom-2\" cx=\"200.9\" cy=\"360.6\" rx=\"7.7\" ry=\"7.7\" style=\"fill:#9999E5;fill-rule:evenodd;stroke:#9999E5;stroke-width:1.0px;stroke-linecap:butt;stroke-linejoin:miter;stroke-opacity:1\"/>\n<path class=\"bond-0 atom-0 atom-1\" d=\"M 234.2,379.9 L 266.4,361.4\" style=\"fill:none;fill-rule:evenodd;stroke:#E5E5E5;stroke-width:2.1px;stroke-linecap:butt;stroke-linejoin:miter;stroke-opacity:1\"/>\n<path class=\"bond-1 atom-0 atom-2\" d=\"M 234.2,379.9 L 220.3,371.8\" style=\"fill:none;fill-rule:evenodd;stroke:#000000;stroke-width:2.0px;stroke-linecap:butt;stroke-linejoin:miter;stroke-opacity:1\"/>\n<path class=\"bond-1 atom-0 atom-2\" d=\"M 220.3,371.8 L 206.3,363.8\" style=\"fill:none;fill-rule:evenodd;stroke:#0000FF;stroke-width:2.0px;stroke-linecap:butt;stroke-linejoin:miter;stroke-opacity:1\"/>\n<path d=\"M 235.0,379.4 L 234.2,379.9 L 233.9,379.7\" style=\"fill:none;stroke:#E5E5E5;stroke-width:2.1px;stroke-linecap:butt;stroke-linejoin:miter;stroke-opacity:1;\"/>\n<path class=\"atom-1\" d=\"M 265.5 359.4 L 267.1 357.8 L 265.0 357.4 L 265.3 356.3 L 267.3 357.3 L 267.0 355.1 L 268.2 355.1 L 267.8 357.2 L 269.8 356.3 L 270.2 357.4 L 268.0 357.8 L 269.6 359.4 L 268.6 360.1 L 267.6 358.1 L 266.5 360.1 L 265.5 359.4 \" fill=\"#191919\"/>\n<path class=\"atom-2\" d=\"M 179.8 355.2 L 181.3 355.2 L 181.3 359.8 L 186.9 359.8 L 186.9 355.2 L 188.4 355.2 L 188.4 366.1 L 186.9 366.1 L 186.9 361.1 L 181.3 361.1 L 181.3 366.1 L 179.8 366.1 L 179.8 355.2 \" fill=\"#0000FF\"/>\n<path class=\"atom-2\" d=\"M 190.5 365.7 Q 190.8 365.0, 191.4 364.7 Q 192.0 364.3, 192.9 364.3 Q 194.0 364.3, 194.6 364.9 Q 195.2 365.5, 195.2 366.5 Q 195.2 367.6, 194.4 368.6 Q 193.6 369.6, 192.0 370.7 L 195.3 370.7 L 195.3 371.6 L 190.5 371.6 L 190.5 370.9 Q 191.8 369.9, 192.6 369.2 Q 193.4 368.5, 193.8 367.9 Q 194.2 367.2, 194.2 366.5 Q 194.2 365.9, 193.8 365.5 Q 193.5 365.1, 192.9 365.1 Q 192.3 365.1, 191.9 365.3 Q 191.5 365.6, 191.3 366.1 L 190.5 365.7 \" fill=\"#0000FF\"/>\n<path class=\"atom-2\" d=\"M 198.5 355.2 L 202.0 361.0 Q 202.4 361.5, 203.0 362.6 Q 203.5 363.6, 203.6 363.7 L 203.6 355.2 L 205.0 355.2 L 205.0 366.1 L 203.5 366.1 L 199.7 359.8 Q 199.2 359.0, 198.8 358.2 Q 198.3 357.3, 198.2 357.1 L 198.2 366.1 L 196.7 366.1 L 196.7 355.2 L 198.5 355.2 \" fill=\"#0000FF\"/>\n<path class=\"legend\" d=\"M 216.0 435.0 Q 217.9 435.0, 218.9 436.3 Q 219.9 437.6, 219.9 440.3 Q 219.9 443.2, 218.7 444.7 Q 217.4 446.2, 215.1 446.2 Q 214.4 446.2, 213.8 446.1 Q 213.3 445.9, 212.7 445.6 L 213.3 444.5 Q 214.1 445.0, 215.1 445.0 Q 216.6 445.0, 217.4 444.0 Q 218.2 443.0, 218.3 440.9 Q 217.8 441.4, 217.0 441.7 Q 216.3 442.0, 215.6 442.0 Q 214.6 442.0, 213.9 441.6 Q 213.1 441.1, 212.7 440.4 Q 212.3 439.6, 212.3 438.7 Q 212.3 437.6, 212.7 436.8 Q 213.2 435.9, 214.0 435.5 Q 214.9 435.0, 216.0 435.0 M 213.8 438.6 Q 213.8 439.6, 214.4 440.2 Q 214.9 440.7, 215.9 440.7 Q 216.5 440.7, 217.2 440.5 Q 217.8 440.2, 218.3 439.7 Q 218.2 437.9, 217.7 437.1 Q 217.1 436.3, 215.9 436.3 Q 215.3 436.3, 214.9 436.6 Q 214.4 436.9, 214.1 437.4 Q 213.8 438.0, 213.8 438.6 \" fill=\"#000000\"/>\n<path class=\"legend\" d=\"M 227.3 440.3 Q 228.3 440.7, 228.8 441.4 Q 229.4 442.0, 229.4 443.1 Q 229.4 444.0, 228.9 444.7 Q 228.4 445.5, 227.6 445.9 Q 226.7 446.2, 225.6 446.2 Q 223.8 446.2, 222.7 445.4 Q 221.7 444.6, 221.7 443.1 Q 221.7 442.2, 222.1 441.5 Q 222.6 440.8, 223.6 440.3 Q 222.8 439.9, 222.5 439.3 Q 222.1 438.7, 222.1 437.8 Q 222.1 436.5, 223.0 435.8 Q 223.9 435.0, 225.5 435.0 Q 227.1 435.0, 228.1 435.8 Q 229.0 436.5, 229.0 437.8 Q 229.0 438.6, 228.6 439.2 Q 228.1 439.8, 227.3 440.3 M 225.5 436.2 Q 224.6 436.2, 224.1 436.6 Q 223.6 437.0, 223.6 437.8 Q 223.6 438.4, 224.0 438.8 Q 224.3 439.1, 224.8 439.4 Q 225.3 439.6, 226.2 439.9 Q 226.9 439.4, 227.2 438.9 Q 227.5 438.4, 227.5 437.8 Q 227.5 437.0, 226.9 436.6 Q 226.4 436.2, 225.5 436.2 M 225.6 445.1 Q 226.6 445.1, 227.2 444.5 Q 227.9 444.0, 227.9 443.1 Q 227.9 442.5, 227.5 442.1 Q 227.2 441.7, 226.7 441.5 Q 226.2 441.3, 225.4 441.0 L 224.7 440.8 Q 223.9 441.3, 223.6 441.8 Q 223.2 442.4, 223.2 443.1 Q 223.2 444.0, 223.9 444.5 Q 224.5 445.1, 225.6 445.1 \" fill=\"#000000\"/>\n<path class=\"legend\" d=\"M 231.7 444.9 L 234.1 444.9 L 234.1 436.7 L 231.5 437.5 L 231.1 436.6 L 234.5 435.1 L 235.6 435.2 L 235.6 444.9 L 237.7 444.9 L 237.7 446.1 L 231.7 446.1 L 231.7 444.9 \" fill=\"#000000\"/>\n</svg>"
          },
          "metadata": {},
          "execution_count": 20
        }
      ],
      "source": [
        "points = [(glycine, x, bi) for x in fp.GetOnBits()]\n",
        "Draw.DrawMorganBits(points, molsPerRow=4, legends = [str(x) for x in fp.GetOnBits()])"
      ]
    },
    {
      "cell_type": "markdown",
      "metadata": {
        "id": "Wza1DtYWmwOG"
      },
      "source": [
        "## 두 분자의 유사도 비교\n",
        "- fingerprint를 사용하여 두 분자의 특성이 얼마나 비슷한지를 파악한다\n",
        "- Tanimoto Similarity는 두 분자의 fingerprint 들의 겹치는 정도를 측정한다 (교집합/합집합)\n",
        "\n",
        "- glycine, cysteine 비교"
      ]
    },
    {
      "cell_type": "markdown",
      "metadata": {
        "id": "1f2glO7ayBLZ"
      },
      "source": [
        "<img src=\"https://github.com/StillWork/image/blob/main/%E1%84%89%E1%85%B3%E1%84%8F%E1%85%B3%E1%84%85%E1%85%B5%E1%86%AB%E1%84%89%E1%85%A3%E1%86%BA%202022-11-24%20%E1%84%8B%E1%85%A9%E1%84%8C%E1%85%A5%E1%86%AB%2012.05.25.png?raw=1\" width= 300 align='left'>"
      ]
    },
    {
      "cell_type": "code",
      "execution_count": null,
      "metadata": {
        "colab": {
          "base_uri": "https://localhost:8080/",
          "height": 222
        },
        "id": "mXfk0G9CZljt",
        "outputId": "45513a3a-5171-4f39-d1ff-0878d6a471e1"
      },
      "outputs": [
        {
          "output_type": "execute_result",
          "data": {
            "text/plain": [
              "<IPython.core.display.SVG object>"
            ],
            "image/svg+xml": "<svg baseProfile=\"full\" height=\"200px\" version=\"1.1\" viewBox=\"0 0 800 200\" width=\"800px\" xml:space=\"preserve\" xmlns=\"http://www.w3.org/2000/svg\" xmlns:rdkit=\"http://www.rdkit.org/xml\" xmlns:xlink=\"http://www.w3.org/1999/xlink\">\n<!-- END OF HEADER -->\n<rect height=\"200.0\" style=\"opacity:1.0;fill:#FFFFFF;stroke:none\" width=\"800.0\" x=\"0.0\" y=\"0.0\"> </rect>\n<path class=\"bond-0 atom-0 atom-1\" d=\"M 84.3,132.8 L 122.3,110.9\" style=\"fill:none;fill-rule:evenodd;stroke:#000000;stroke-width:2.0px;stroke-linecap:butt;stroke-linejoin:miter;stroke-opacity:1\"/>\n<path class=\"bond-1 atom-1 atom-2\" d=\"M 125.6,112.8 L 125.6,93.8\" style=\"fill:none;fill-rule:evenodd;stroke:#000000;stroke-width:2.0px;stroke-linecap:butt;stroke-linejoin:miter;stroke-opacity:1\"/>\n<path class=\"bond-1 atom-1 atom-2\" d=\"M 125.6,93.8 L 125.6,74.9\" style=\"fill:none;fill-rule:evenodd;stroke:#FF0000;stroke-width:2.0px;stroke-linecap:butt;stroke-linejoin:miter;stroke-opacity:1\"/>\n<path class=\"bond-1 atom-1 atom-2\" d=\"M 119.0,112.8 L 119.0,93.8\" style=\"fill:none;fill-rule:evenodd;stroke:#000000;stroke-width:2.0px;stroke-linecap:butt;stroke-linejoin:miter;stroke-opacity:1\"/>\n<path class=\"bond-1 atom-1 atom-2\" d=\"M 119.0,93.8 L 119.0,74.9\" style=\"fill:none;fill-rule:evenodd;stroke:#FF0000;stroke-width:2.0px;stroke-linecap:butt;stroke-linejoin:miter;stroke-opacity:1\"/>\n<path class=\"bond-2 atom-1 atom-3\" d=\"M 122.3,110.9 L 137.8,119.8\" style=\"fill:none;fill-rule:evenodd;stroke:#000000;stroke-width:2.0px;stroke-linecap:butt;stroke-linejoin:miter;stroke-opacity:1\"/>\n<path class=\"bond-2 atom-1 atom-3\" d=\"M 137.8,119.8 L 153.2,128.7\" style=\"fill:none;fill-rule:evenodd;stroke:#FF0000;stroke-width:2.0px;stroke-linecap:butt;stroke-linejoin:miter;stroke-opacity:1\"/>\n<path class=\"bond-3 atom-0 atom-4\" d=\"M 84.3,132.8 L 68.4,123.6\" style=\"fill:none;fill-rule:evenodd;stroke:#000000;stroke-width:2.0px;stroke-linecap:butt;stroke-linejoin:miter;stroke-opacity:1\"/>\n<path class=\"bond-3 atom-0 atom-4\" d=\"M 68.4,123.6 L 52.4,114.4\" style=\"fill:none;fill-rule:evenodd;stroke:#0000FF;stroke-width:2.0px;stroke-linecap:butt;stroke-linejoin:miter;stroke-opacity:1\"/>\n<path d=\"M 86.2,131.7 L 84.3,132.8 L 83.5,132.4\" style=\"fill:none;stroke:#000000;stroke-width:2.0px;stroke-linecap:butt;stroke-linejoin:miter;stroke-opacity:1;\"/>\n<path d=\"M 120.4,112.0 L 122.3,110.9 L 123.1,111.3\" style=\"fill:none;stroke:#000000;stroke-width:2.0px;stroke-linecap:butt;stroke-linejoin:miter;stroke-opacity:1;\"/>\n<path class=\"atom-2\" d=\"M 116.6 67.0 Q 116.6 64.0, 118.1 62.4 Q 119.6 60.7, 122.3 60.7 Q 125.1 60.7, 126.6 62.4 Q 128.0 64.0, 128.0 67.0 Q 128.0 70.0, 126.5 71.8 Q 125.0 73.5, 122.3 73.5 Q 119.6 73.5, 118.1 71.8 Q 116.6 70.0, 116.6 67.0 M 122.3 72.0 Q 124.2 72.0, 125.2 70.8 Q 126.3 69.5, 126.3 67.0 Q 126.3 64.6, 125.2 63.3 Q 124.2 62.1, 122.3 62.1 Q 120.4 62.1, 119.4 63.3 Q 118.4 64.6, 118.4 67.0 Q 118.4 69.5, 119.4 70.8 Q 120.4 72.0, 122.3 72.0 \" fill=\"#FF0000\"/>\n<path class=\"atom-3\" d=\"M 154.6 132.9 Q 154.6 129.9, 156.1 128.2 Q 157.6 126.5, 160.3 126.5 Q 163.1 126.5, 164.6 128.2 Q 166.1 129.9, 166.1 132.9 Q 166.1 135.9, 164.6 137.6 Q 163.1 139.3, 160.3 139.3 Q 157.6 139.3, 156.1 137.6 Q 154.6 135.9, 154.6 132.9 M 160.3 137.9 Q 162.2 137.9, 163.3 136.6 Q 164.3 135.4, 164.3 132.9 Q 164.3 130.4, 163.3 129.2 Q 162.2 128.0, 160.3 128.0 Q 158.5 128.0, 157.4 129.2 Q 156.4 130.4, 156.4 132.9 Q 156.4 135.4, 157.4 136.6 Q 158.5 137.9, 160.3 137.9 \" fill=\"#FF0000\"/>\n<path class=\"atom-3\" d=\"M 168.0 126.7 L 169.7 126.7 L 169.7 132.0 L 176.0 132.0 L 176.0 126.7 L 177.7 126.7 L 177.7 139.1 L 176.0 139.1 L 176.0 133.4 L 169.7 133.4 L 169.7 139.1 L 168.0 139.1 L 168.0 126.7 \" fill=\"#FF0000\"/>\n<path class=\"atom-4\" d=\"M 22.3 104.7 L 24.0 104.7 L 24.0 109.9 L 30.3 109.9 L 30.3 104.7 L 32.0 104.7 L 32.0 117.1 L 30.3 117.1 L 30.3 111.4 L 24.0 111.4 L 24.0 117.1 L 22.3 117.1 L 22.3 104.7 \" fill=\"#0000FF\"/>\n<path class=\"atom-4\" d=\"M 34.4 116.7 Q 34.7 115.9, 35.5 115.5 Q 36.2 115.0, 37.2 115.0 Q 38.4 115.0, 39.1 115.7 Q 39.8 116.4, 39.8 117.6 Q 39.8 118.8, 38.9 119.9 Q 38.0 121.0, 36.2 122.4 L 39.9 122.4 L 39.9 123.3 L 34.4 123.3 L 34.4 122.5 Q 36.0 121.4, 36.9 120.6 Q 37.8 119.8, 38.2 119.1 Q 38.7 118.4, 38.7 117.6 Q 38.7 116.8, 38.3 116.4 Q 37.9 115.9, 37.2 115.9 Q 36.5 115.9, 36.1 116.2 Q 35.6 116.5, 35.3 117.1 L 34.4 116.7 \" fill=\"#0000FF\"/>\n<path class=\"atom-4\" d=\"M 43.5 104.7 L 47.6 111.2 Q 48.0 111.9, 48.7 113.1 Q 49.3 114.3, 49.3 114.3 L 49.3 104.7 L 51.0 104.7 L 51.0 117.1 L 49.3 117.1 L 44.9 109.9 Q 44.4 109.1, 43.9 108.1 Q 43.3 107.1, 43.2 106.8 L 43.2 117.1 L 41.6 117.1 L 41.6 104.7 L 43.5 104.7 \" fill=\"#0000FF\"/>\n<path class=\"bond-0 atom-0 atom-1\" d=\"M 333.6,73.7 L 301.3,103.5\" style=\"fill:none;fill-rule:evenodd;stroke:#000000;stroke-width:2.0px;stroke-linecap:butt;stroke-linejoin:miter;stroke-opacity:1\"/>\n<path class=\"bond-1 atom-1 atom-2\" d=\"M 301.3,103.5 L 259.4,90.4\" style=\"fill:none;fill-rule:evenodd;stroke:#000000;stroke-width:2.0px;stroke-linecap:butt;stroke-linejoin:miter;stroke-opacity:1\"/>\n<path class=\"bond-2 atom-2 atom-3\" d=\"M 263.0,91.5 L 258.9,73.1\" style=\"fill:none;fill-rule:evenodd;stroke:#000000;stroke-width:2.0px;stroke-linecap:butt;stroke-linejoin:miter;stroke-opacity:1\"/>\n<path class=\"bond-2 atom-2 atom-3\" d=\"M 258.9,73.1 L 254.8,54.7\" style=\"fill:none;fill-rule:evenodd;stroke:#FF0000;stroke-width:2.0px;stroke-linecap:butt;stroke-linejoin:miter;stroke-opacity:1\"/>\n<path class=\"bond-2 atom-2 atom-3\" d=\"M 256.6,93.0 L 252.5,74.6\" style=\"fill:none;fill-rule:evenodd;stroke:#000000;stroke-width:2.0px;stroke-linecap:butt;stroke-linejoin:miter;stroke-opacity:1\"/>\n<path class=\"bond-2 atom-2 atom-3\" d=\"M 252.5,74.6 L 248.3,56.2\" style=\"fill:none;fill-rule:evenodd;stroke:#FF0000;stroke-width:2.0px;stroke-linecap:butt;stroke-linejoin:miter;stroke-opacity:1\"/>\n<path class=\"bond-3 atom-2 atom-4\" d=\"M 259.4,90.4 L 246.8,102.0\" style=\"fill:none;fill-rule:evenodd;stroke:#000000;stroke-width:2.0px;stroke-linecap:butt;stroke-linejoin:miter;stroke-opacity:1\"/>\n<path class=\"bond-3 atom-2 atom-4\" d=\"M 246.8,102.0 L 234.2,113.5\" style=\"fill:none;fill-rule:evenodd;stroke:#FF0000;stroke-width:2.0px;stroke-linecap:butt;stroke-linejoin:miter;stroke-opacity:1\"/>\n<path class=\"bond-4 atom-1 atom-5\" d=\"M 302.4,106.8 L 301.7,106.9\" style=\"fill:none;fill-rule:evenodd;stroke:#000000;stroke-width:1.0px;stroke-linecap:butt;stroke-linejoin:miter;stroke-opacity:1\"/>\n<path class=\"bond-4 atom-1 atom-5\" d=\"M 303.4,110.1 L 302.2,110.4\" style=\"fill:none;fill-rule:evenodd;stroke:#000000;stroke-width:1.0px;stroke-linecap:butt;stroke-linejoin:miter;stroke-opacity:1\"/>\n<path class=\"bond-4 atom-1 atom-5\" d=\"M 304.5,113.4 L 302.6,113.8\" style=\"fill:none;fill-rule:evenodd;stroke:#000000;stroke-width:1.0px;stroke-linecap:butt;stroke-linejoin:miter;stroke-opacity:1\"/>\n<path class=\"bond-4 atom-1 atom-5\" d=\"M 305.6,116.7 L 303.0,117.3\" style=\"fill:none;fill-rule:evenodd;stroke:#000000;stroke-width:1.0px;stroke-linecap:butt;stroke-linejoin:miter;stroke-opacity:1\"/>\n<path class=\"bond-4 atom-1 atom-5\" d=\"M 306.7,120.0 L 303.5,120.7\" style=\"fill:none;fill-rule:evenodd;stroke:#000000;stroke-width:1.0px;stroke-linecap:butt;stroke-linejoin:miter;stroke-opacity:1\"/>\n<path class=\"bond-4 atom-1 atom-5\" d=\"M 307.7,123.3 L 303.9,124.1\" style=\"fill:none;fill-rule:evenodd;stroke:#0000FF;stroke-width:1.0px;stroke-linecap:butt;stroke-linejoin:miter;stroke-opacity:1\"/>\n<path class=\"bond-4 atom-1 atom-5\" d=\"M 308.8,126.6 L 304.3,127.6\" style=\"fill:none;fill-rule:evenodd;stroke:#0000FF;stroke-width:1.0px;stroke-linecap:butt;stroke-linejoin:miter;stroke-opacity:1\"/>\n<path class=\"bond-4 atom-1 atom-5\" d=\"M 309.9,129.9 L 304.8,131.0\" style=\"fill:none;fill-rule:evenodd;stroke:#0000FF;stroke-width:1.0px;stroke-linecap:butt;stroke-linejoin:miter;stroke-opacity:1\"/>\n<path class=\"bond-4 atom-1 atom-5\" d=\"M 311.0,133.2 L 305.2,134.5\" style=\"fill:none;fill-rule:evenodd;stroke:#0000FF;stroke-width:1.0px;stroke-linecap:butt;stroke-linejoin:miter;stroke-opacity:1\"/>\n<path class=\"bond-4 atom-1 atom-5\" d=\"M 312.1,136.5 L 305.6,137.9\" style=\"fill:none;fill-rule:evenodd;stroke:#0000FF;stroke-width:1.0px;stroke-linecap:butt;stroke-linejoin:miter;stroke-opacity:1\"/>\n<path class=\"bond-5 atom-0 atom-6\" d=\"M 333.6,73.7 L 351.8,79.4\" style=\"fill:none;fill-rule:evenodd;stroke:#000000;stroke-width:2.0px;stroke-linecap:butt;stroke-linejoin:miter;stroke-opacity:1\"/>\n<path class=\"bond-5 atom-0 atom-6\" d=\"M 351.8,79.4 L 370.0,85.1\" style=\"fill:none;fill-rule:evenodd;stroke:#CCCC00;stroke-width:2.0px;stroke-linecap:butt;stroke-linejoin:miter;stroke-opacity:1\"/>\n<path d=\"M 332.0,75.2 L 333.6,73.7 L 334.5,74.0\" style=\"fill:none;stroke:#000000;stroke-width:2.0px;stroke-linecap:butt;stroke-linejoin:miter;stroke-opacity:1;\"/>\n<path d=\"M 302.9,102.0 L 301.3,103.5 L 299.2,102.8\" style=\"fill:none;stroke:#000000;stroke-width:2.0px;stroke-linecap:butt;stroke-linejoin:miter;stroke-opacity:1;\"/>\n<path d=\"M 261.5,91.0 L 259.4,90.4 L 258.7,91.0\" style=\"fill:none;stroke:#000000;stroke-width:2.0px;stroke-linecap:butt;stroke-linejoin:miter;stroke-opacity:1;\"/>\n<path class=\"atom-3\" d=\"M 244.1 47.6 Q 244.1 44.6, 245.5 42.9 Q 247.0 41.2, 249.8 41.2 Q 252.5 41.2, 254.0 42.9 Q 255.5 44.6, 255.5 47.6 Q 255.5 50.6, 254.0 52.3 Q 252.5 54.0, 249.8 54.0 Q 247.0 54.0, 245.5 52.3 Q 244.1 50.6, 244.1 47.6 M 249.8 52.6 Q 251.7 52.6, 252.7 51.3 Q 253.7 50.1, 253.7 47.6 Q 253.7 45.1, 252.7 43.9 Q 251.7 42.7, 249.8 42.7 Q 247.9 42.7, 246.8 43.9 Q 245.8 45.1, 245.8 47.6 Q 245.8 50.1, 246.8 51.3 Q 247.9 52.6, 249.8 52.6 \" fill=\"#FF0000\"/>\n<path class=\"atom-4\" d=\"M 209.1 114.0 L 210.8 114.0 L 210.8 119.3 L 217.1 119.3 L 217.1 114.0 L 218.8 114.0 L 218.8 126.4 L 217.1 126.4 L 217.1 120.7 L 210.8 120.7 L 210.8 126.4 L 209.1 126.4 L 209.1 114.0 \" fill=\"#FF0000\"/>\n<path class=\"atom-4\" d=\"M 221.4 120.2 Q 221.4 117.2, 222.8 115.5 Q 224.3 113.8, 227.1 113.8 Q 229.8 113.8, 231.3 115.5 Q 232.8 117.2, 232.8 120.2 Q 232.8 123.2, 231.3 124.9 Q 229.8 126.6, 227.1 126.6 Q 224.3 126.6, 222.8 124.9 Q 221.4 123.2, 221.4 120.2 M 227.1 125.2 Q 229.0 125.2, 230.0 123.9 Q 231.0 122.6, 231.0 120.2 Q 231.0 117.7, 230.0 116.5 Q 229.0 115.2, 227.1 115.2 Q 225.2 115.2, 224.1 116.5 Q 223.1 117.7, 223.1 120.2 Q 223.1 122.7, 224.1 123.9 Q 225.2 125.2, 227.1 125.2 \" fill=\"#FF0000\"/>\n<path class=\"atom-5\" d=\"M 308.1 140.1 L 312.2 146.7 Q 312.6 147.3, 313.3 148.5 Q 313.9 149.7, 314.0 149.8 L 314.0 140.1 L 315.6 140.1 L 315.6 152.5 L 313.9 152.5 L 309.5 145.3 Q 309.0 144.5, 308.5 143.5 Q 307.9 142.6, 307.8 142.3 L 307.8 152.5 L 306.2 152.5 L 306.2 140.1 L 308.1 140.1 \" fill=\"#0000FF\"/>\n<path class=\"atom-5\" d=\"M 318.0 140.1 L 319.7 140.1 L 319.7 145.4 L 326.0 145.4 L 326.0 140.1 L 327.7 140.1 L 327.7 152.5 L 326.0 152.5 L 326.0 146.8 L 319.7 146.8 L 319.7 152.5 L 318.0 152.5 L 318.0 140.1 \" fill=\"#0000FF\"/>\n<path class=\"atom-5\" d=\"M 330.1 152.1 Q 330.4 151.3, 331.2 150.9 Q 331.9 150.5, 332.9 150.5 Q 334.1 150.5, 334.8 151.1 Q 335.5 151.8, 335.5 153.0 Q 335.5 154.2, 334.6 155.3 Q 333.7 156.5, 331.9 157.8 L 335.6 157.8 L 335.6 158.8 L 330.1 158.8 L 330.1 158.0 Q 331.7 156.9, 332.6 156.1 Q 333.5 155.3, 333.9 154.5 Q 334.4 153.8, 334.4 153.0 Q 334.4 152.3, 334.0 151.8 Q 333.6 151.4, 332.9 151.4 Q 332.2 151.4, 331.8 151.6 Q 331.3 151.9, 331.0 152.5 L 330.1 152.1 \" fill=\"#0000FF\"/>\n<path class=\"atom-6\" d=\"M 372.0 91.1 Q 372.1 91.2, 372.7 91.4 Q 373.3 91.7, 373.9 91.8 Q 374.6 92.0, 375.2 92.0 Q 376.4 92.0, 377.0 91.4 Q 377.7 90.8, 377.7 89.8 Q 377.7 89.1, 377.4 88.7 Q 377.0 88.3, 376.5 88.1 Q 376.0 87.8, 375.1 87.6 Q 374.0 87.2, 373.3 86.9 Q 372.7 86.6, 372.2 85.9 Q 371.8 85.3, 371.8 84.1 Q 371.8 82.6, 372.8 81.6 Q 373.9 80.6, 376.0 80.6 Q 377.4 80.6, 379.1 81.3 L 378.7 82.7 Q 377.2 82.1, 376.0 82.1 Q 374.8 82.1, 374.2 82.6 Q 373.5 83.1, 373.5 83.9 Q 373.5 84.6, 373.8 85.0 Q 374.2 85.4, 374.7 85.6 Q 375.2 85.9, 376.0 86.1 Q 377.2 86.5, 377.8 86.8 Q 378.5 87.2, 379.0 87.9 Q 379.5 88.6, 379.5 89.8 Q 379.5 91.5, 378.3 92.5 Q 377.2 93.4, 375.3 93.4 Q 374.1 93.4, 373.3 93.1 Q 372.5 92.9, 371.5 92.5 L 372.0 91.1 \" fill=\"#CCCC00\"/>\n<path class=\"atom-6\" d=\"M 381.2 80.6 L 382.9 80.6 L 382.9 85.9 L 389.2 85.9 L 389.2 80.6 L 390.9 80.6 L 390.9 93.0 L 389.2 93.0 L 389.2 87.3 L 382.9 87.3 L 382.9 93.0 L 381.2 93.0 L 381.2 80.6 \" fill=\"#CCCC00\"/>\n</svg>"
          },
          "metadata": {},
          "execution_count": 22
        }
      ],
      "source": [
        "cysteine = mol_list[3]\n",
        "img = Draw.MolsToGridImage([glycine, cysteine], molsPerRow=4)\n",
        "img"
      ]
    },
    {
      "cell_type": "code",
      "execution_count": null,
      "metadata": {
        "colab": {
          "base_uri": "https://localhost:8080/"
        },
        "id": "mHcFdGABafHJ",
        "outputId": "3e2fc53e-f2a7-4a24-a75b-ba95836cba76"
      },
      "outputs": [
        {
          "output_type": "stream",
          "name": "stdout",
          "text": [
            "cysteine [1, 48, 80, 147, 229, 321, 389, 403, 435, 650, 786, 807, 820, 825, 893, 902]\n",
            "glycine [27, 80, 147, 389, 650, 713, 807, 893, 966, 981]\n"
          ]
        }
      ],
      "source": [
        "fp2 = AllChem.GetMorganFingerprintAsBitVect(cysteine, 2, nBits=1024, bitInfo=bi)\n",
        "print('cysteine',list(fp2.GetOnBits()))\n",
        "print('glycine',list(fp.GetOnBits()))"
      ]
    },
    {
      "cell_type": "code",
      "execution_count": null,
      "metadata": {
        "colab": {
          "base_uri": "https://localhost:8080/"
        },
        "id": "yOOGczX6awue",
        "outputId": "776c4ee9-5b6c-4f07-d68d-9780acd18ad2"
      },
      "outputs": [
        {
          "output_type": "stream",
          "name": "stdout",
          "text": [
            "{389, 807, 650, 80, 147, 893}\n",
            "{1, 321, 389, 902, 966, 713, 650, 80, 786, 147, 403, 981, 27, 229, 807, 48, 435, 820, 825, 893}\n",
            "0.3\n",
            "0.3\n"
          ]
        }
      ],
      "source": [
        "common = set(fp2.GetOnBits()) & set(fp.GetOnBits())\n",
        "combined = set(fp2.GetOnBits()) | set(fp.GetOnBits())\n",
        "print(common)\n",
        "print(combined)\n",
        "\n",
        "# 직접 계산\n",
        "print(len(common)/len(combined))\n",
        "\n",
        "# TanimotoSimilarity()를 사용하는 방법\n",
        "print(DataStructs.TanimotoSimilarity(fp, fp2))"
      ]
    },
    {
      "cell_type": "markdown",
      "metadata": {
        "id": "1MV78TuVYXve"
      },
      "source": [
        "# Deepchem 을 이용한 특성 선택\n",
        "\n",
        "- deepchem이 제공하는 Dataset을 로드하면서 바로 특성을 선택할 수 있다\n",
        "- featurizer의 옵션은 다음과 같다\n",
        " - 'ECFP', 'GraphConv', 'Weave', 'smiles2img' 등을 선택할 수 있다\n",
        "\n",
        "\n"
      ]
    },
    {
      "cell_type": "code",
      "execution_count": null,
      "metadata": {
        "id": "-sskFJlMyBLZ"
      },
      "outputs": [],
      "source": [
        "tasks, datasets, transformers = dc.molnet.load_delaney(featurizer='ECFP')\n",
        "train_dataset, valid_dataset, test_dataset = datasets"
      ]
    },
    {
      "cell_type": "code",
      "execution_count": null,
      "metadata": {
        "id": "_-FD0YMxyBLa",
        "outputId": "4a8820c5-ebd0-4ca7-f3e9-a836ae3f2d71",
        "colab": {
          "base_uri": "https://localhost:8080/"
        }
      },
      "outputs": [
        {
          "output_type": "execute_result",
          "data": {
            "text/plain": [
              "array([[0., 0., 0., ..., 0., 0., 0.],\n",
              "       [0., 0., 0., ..., 0., 0., 0.],\n",
              "       [0., 0., 0., ..., 0., 0., 0.],\n",
              "       ...,\n",
              "       [0., 0., 0., ..., 0., 0., 0.],\n",
              "       [0., 0., 1., ..., 0., 0., 0.],\n",
              "       [0., 0., 1., ..., 0., 0., 0.]])"
            ]
          },
          "metadata": {},
          "execution_count": 28
        }
      ],
      "source": [
        "train_dataset.X"
      ]
    },
    {
      "cell_type": "code",
      "source": [
        "train_dataset.X.shape"
      ],
      "metadata": {
        "id": "WGB2kwHty4Qt",
        "outputId": "a28d19a0-782e-48cf-f733-6d7e448f529f",
        "colab": {
          "base_uri": "https://localhost:8080/"
        }
      },
      "execution_count": null,
      "outputs": [
        {
          "output_type": "execute_result",
          "data": {
            "text/plain": [
              "(902, 1024)"
            ]
          },
          "metadata": {},
          "execution_count": 39
        }
      ]
    }
  ],
  "metadata": {
    "accelerator": "GPU",
    "colab": {
      "provenance": [],
      "toc_visible": true,
      "include_colab_link": true
    },
    "gpuClass": "standard",
    "kernelspec": {
      "display_name": "Python 3",
      "language": "python",
      "name": "python3"
    },
    "language_info": {
      "codemirror_mode": {
        "name": "ipython",
        "version": 3
      },
      "file_extension": ".py",
      "mimetype": "text/x-python",
      "name": "python",
      "nbconvert_exporter": "python",
      "pygments_lexer": "ipython3",
      "version": "3.8.8"
    },
    "toc": {
      "base_numbering": 1,
      "nav_menu": {},
      "number_sections": false,
      "sideBar": true,
      "skip_h1_title": false,
      "title_cell": "Table of Contents",
      "title_sidebar": "Contents",
      "toc_cell": false,
      "toc_position": {
        "height": "calc(100% - 180px)",
        "left": "10px",
        "top": "150px",
        "width": "256px"
      },
      "toc_section_display": true,
      "toc_window_display": true
    }
  },
  "nbformat": 4,
  "nbformat_minor": 0
}