{
  "cells": [
    {
      "cell_type": "markdown",
      "metadata": {
        "id": "view-in-github",
        "colab_type": "text"
      },
      "source": [
        "<a href=\"https://colab.research.google.com/github/StillWork/AIDD-LAIDD/blob/main/z4_DeepLearning.ipynb\" target=\"_parent\"><img src=\"https://colab.research.google.com/assets/colab-badge.svg\" alt=\"Open In Colab\"/></a>"
      ]
    },
    {
      "cell_type": "markdown",
      "metadata": {
        "id": "JIe7bYJMtrfN"
      },
      "source": [
        "# 딥러닝 이해\n",
        "\n",
        "- MLP(Multi Layer Perceptron)와 CNN(Convolution Neural Network) 이해"
      ]
    },
    {
      "cell_type": "markdown",
      "metadata": {
        "id": "AJOmkVM7x6HW"
      },
      "source": [
        "## 딥러닝 모델 유형"
      ]
    },
    {
      "cell_type": "markdown",
      "metadata": {
        "id": "QW86qoXEx6HX"
      },
      "source": [
        " <img src=\"https://github.com/StillWork/image/blob/main/%E1%84%89%E1%85%B3%E1%84%8F%E1%85%B3%E1%84%85%E1%85%B5%E1%86%AB%E1%84%89%E1%85%A3%E1%86%BA%202022-11-22%20%E1%84%8B%E1%85%A9%E1%84%92%E1%85%AE%202.55.58.png?raw=1\" align=\"left\">"
      ]
    },
    {
      "cell_type": "markdown",
      "metadata": {
        "id": "Vu1Nfe4Sx6HX"
      },
      "source": [
        "## 신경망의 특징\n",
        "- 60년대부터 가능성을 연구하였으나 오랫동안 성과를 내지 못했다\n",
        " - 학습이 어렵고, 계산량이 많고, 과대적합이 많고, 블랙박스 동작\n",
        " - 지금은 이러한 문제들이, 데이터의 증가, 알고리즘의 발달(공개 SW), 하드웨어 계산능력의 증대로 해결되었다\n",
        "- small 데이터에 대해서는 전통적인 머신러닝 모델 (RF, SVM 등)을 사용해도 과대적합도 적게 발생하고 잘 동작했다\n",
        "- 2012년 Imagenet 경진대회에서 CNN 기반의 신경망이 매우 우수한 성적을 내면서 딥러닝 모델이 확산되었다\n",
        "- 자연어 처리분야에서는 2014년 word2vec(단어 임베딩)의 도입으로 성능이 크게 향상되었다\n",
        " - 비슷한 의미를 갖는 단어는 비슷한 표현형을 갖게 함\n",
        " - 자연어 처리에서는 초기에는 RNN을 사용했으나 현재는 Transformer를 사용한다"
      ]
    },
    {
      "cell_type": "markdown",
      "metadata": {
        "id": "M1gqzdVGx6HX"
      },
      "source": [
        "## Feature Learning \n",
        "\n",
        "- Feature Engineering은 사람이 전문성을 가지고 중요한 특성을 만드는 것이고, Feature Learning은 신경망이 학습을 통해서 스스로 머신러닝에 필요한 특성을 만들어내는 것이다\n",
        "- 아래 그림에서 좌측은 Feature Engineering, 우측은 Feature Learning을 나타냈다"
      ]
    },
    {
      "cell_type": "markdown",
      "metadata": {
        "id": "lpBlccVmx6HX"
      },
      "source": [
        "<img src=\"https://github.com/StillWork/image/blob/main/%E1%84%89%E1%85%B3%E1%84%8F%E1%85%B3%E1%84%85%E1%85%B5%E1%86%AB%E1%84%89%E1%85%A3%E1%86%BA%202022-11-22%20%E1%84%8B%E1%85%A9%E1%84%92%E1%85%AE%205.15.35.png?raw=1\"  align=\"left\">"
      ]
    },
    {
      "cell_type": "markdown",
      "metadata": {
        "id": "Ma29thy4x6HY"
      },
      "source": [
        "<img src=\"https://github.com/StillWork/image/blob/main/%E1%84%89%E1%85%B3%E1%84%8F%E1%85%B3%E1%84%85%E1%85%B5%E1%86%AB%E1%84%89%E1%85%A3%E1%86%BA%202022-11-22%20%E1%84%8B%E1%85%A9%E1%84%92%E1%85%AE%205.16.20.png?raw=1\"  align=\"left\">"
      ]
    },
    {
      "cell_type": "markdown",
      "metadata": {
        "id": "Z2mfllzhx6HY"
      },
      "source": [
        "## 신약개발에 신경망 도입\n",
        "- 2012년 Merck Molecular Activity Challenge 대회에서 신경망 모델이 RF 모델보다 월등히 높은 성능을 냈다\n",
        " - 15개의 태스크에 대해 바이오 활동성을 예측하는 문제\n",
        " - 이후 QSAR, 분자의 특성 예측, ADME 예측 등 신약개발에 신경망이 적극 도입되기 시작했다"
      ]
    },
    {
      "cell_type": "markdown",
      "metadata": {
        "id": "X2d9W4skx6HY"
      },
      "source": [
        "# import"
      ]
    },
    {
      "cell_type": "code",
      "source": [
        "!pip install deepchem"
      ],
      "metadata": {
        "colab": {
          "base_uri": "https://localhost:8080/"
        },
        "id": "wraFYGop4xYt",
        "outputId": "4cbf5db9-f15e-4809-a15b-2cc68adf97ed"
      },
      "execution_count": 4,
      "outputs": [
        {
          "output_type": "stream",
          "name": "stdout",
          "text": [
            "Looking in indexes: https://pypi.org/simple, https://us-python.pkg.dev/colab-wheels/public/simple/\n",
            "Collecting deepchem\n",
            "  Downloading deepchem-2.6.1-py3-none-any.whl (608 kB)\n",
            "\u001b[K     |████████████████████████████████| 608 kB 32.4 MB/s \n",
            "\u001b[?25hCollecting rdkit-pypi\n",
            "  Downloading rdkit_pypi-2022.9.2-cp37-cp37m-manylinux_2_17_x86_64.manylinux2014_x86_64.whl (29.1 MB)\n",
            "\u001b[K     |████████████████████████████████| 29.1 MB 1.4 MB/s \n",
            "\u001b[?25hRequirement already satisfied: joblib in /usr/local/lib/python3.7/dist-packages (from deepchem) (1.2.0)\n",
            "Requirement already satisfied: scikit-learn in /usr/local/lib/python3.7/dist-packages (from deepchem) (1.0.2)\n",
            "Requirement already satisfied: pandas in /usr/local/lib/python3.7/dist-packages (from deepchem) (1.3.5)\n",
            "Requirement already satisfied: scipy in /usr/local/lib/python3.7/dist-packages (from deepchem) (1.7.3)\n",
            "Requirement already satisfied: numpy>=1.21 in /usr/local/lib/python3.7/dist-packages (from deepchem) (1.21.6)\n",
            "Requirement already satisfied: pytz>=2017.3 in /usr/local/lib/python3.7/dist-packages (from pandas->deepchem) (2022.6)\n",
            "Requirement already satisfied: python-dateutil>=2.7.3 in /usr/local/lib/python3.7/dist-packages (from pandas->deepchem) (2.8.2)\n",
            "Requirement already satisfied: six>=1.5 in /usr/local/lib/python3.7/dist-packages (from python-dateutil>=2.7.3->pandas->deepchem) (1.15.0)\n",
            "Requirement already satisfied: Pillow in /usr/local/lib/python3.7/dist-packages (from rdkit-pypi->deepchem) (7.1.2)\n",
            "Requirement already satisfied: threadpoolctl>=2.0.0 in /usr/local/lib/python3.7/dist-packages (from scikit-learn->deepchem) (3.1.0)\n",
            "Installing collected packages: rdkit-pypi, deepchem\n",
            "Successfully installed deepchem-2.6.1 rdkit-pypi-2022.9.2\n"
          ]
        }
      ]
    },
    {
      "cell_type": "code",
      "execution_count": 5,
      "metadata": {
        "id": "racEBTb_ZzV7"
      },
      "outputs": [],
      "source": [
        "import deepchem as dc\n",
        "import numpy as np\n",
        "import matplotlib.pyplot as plt\n",
        "import keras\n",
        "%matplotlib inline\n",
        "%config InlineBackend.figure_format = 'retina'"
      ]
    },
    {
      "cell_type": "code",
      "execution_count": 2,
      "metadata": {
        "id": "-AQRftuEqGqx"
      },
      "outputs": [],
      "source": [
        "from keras.datasets import mnist\n",
        "from keras.utils.np_utils import to_categorical\n",
        "from keras import layers\n",
        "from keras import models"
      ]
    },
    {
      "cell_type": "markdown",
      "metadata": {
        "id": "QfaI7ialx6HZ"
      },
      "source": [
        "# MLP\n",
        "- Multi Layer Perceptron\n",
        "\n",
        "<img src=\"https://github.com/StillWork/image/blob/main/%E1%84%89%E1%85%B3%E1%84%8F%E1%85%B3%E1%84%85%E1%85%B5%E1%86%AB%E1%84%89%E1%85%A3%E1%86%BA%202022-11-21%20%E1%84%8B%E1%85%A9%E1%84%92%E1%85%AE%2011.48.10.png?raw=1\" width=\"600\"  align=\"left\">"
      ]
    },
    {
      "cell_type": "markdown",
      "metadata": {
        "id": "0gARJPr-azq8"
      },
      "source": [
        "## Fringerprint를 사용한 독성 예측 예\n",
        "\n",
        "- MLP 모델을 사용 (한개의 히든 계층 사용)\n",
        "- 12개의 이진 분류 태스크를 수행\n",
        "- auc와 accuracy를 측정"
      ]
    },
    {
      "cell_type": "code",
      "execution_count": 6,
      "metadata": {
        "colab": {
          "base_uri": "https://localhost:8080/"
        },
        "id": "C9Ik94rNYW6r",
        "outputId": "61d32104-b21e-4a1d-9d9b-fb4b02a2d72c"
      },
      "outputs": [
        {
          "output_type": "stream",
          "name": "stdout",
          "text": [
            "<DiskDataset X.shape: (6264, 1024), y.shape: (6264, 12), w.shape: (6264, 12), task_names: ['NR-AR' 'NR-AR-LBD' 'NR-AhR' ... 'SR-HSE' 'SR-MMP' 'SR-p53']>\n"
          ]
        }
      ],
      "source": [
        "tasks, datasets, transformers = dc.molnet.load_tox21(featurizer='ECFP')\n",
        "train_dataset, valid_dataset, test_dataset = datasets\n",
        "print(train_dataset)"
      ]
    },
    {
      "cell_type": "code",
      "source": [
        "tasks"
      ],
      "metadata": {
        "colab": {
          "base_uri": "https://localhost:8080/"
        },
        "id": "8iQGjDid4_o8",
        "outputId": "96824f37-16fa-447f-c10f-c2d7c4dd10db"
      },
      "execution_count": 7,
      "outputs": [
        {
          "output_type": "execute_result",
          "data": {
            "text/plain": [
              "['NR-AR',\n",
              " 'NR-AR-LBD',\n",
              " 'NR-AhR',\n",
              " 'NR-Aromatase',\n",
              " 'NR-ER',\n",
              " 'NR-ER-LBD',\n",
              " 'NR-PPAR-gamma',\n",
              " 'SR-ARE',\n",
              " 'SR-ATAD5',\n",
              " 'SR-HSE',\n",
              " 'SR-MMP',\n",
              " 'SR-p53']"
            ]
          },
          "metadata": {},
          "execution_count": 7
        }
      ]
    },
    {
      "cell_type": "code",
      "execution_count": 9,
      "metadata": {
        "colab": {
          "base_uri": "https://localhost:8080/"
        },
        "id": "M7X7-AgoZP3a",
        "outputId": "d1ff9c1b-48cf-440b-a61f-1ede8b52bb24"
      },
      "outputs": [
        {
          "output_type": "execute_result",
          "data": {
            "text/plain": [
              "(6264, 1024)"
            ]
          },
          "metadata": {},
          "execution_count": 9
        }
      ],
      "source": [
        "train_dataset.X.shape"
      ]
    },
    {
      "cell_type": "code",
      "source": [
        "train_dataset.y.shape"
      ],
      "metadata": {
        "colab": {
          "base_uri": "https://localhost:8080/"
        },
        "id": "HFDd95q-5IeT",
        "outputId": "494ecff7-08b6-4bb7-dc2e-894058200704"
      },
      "execution_count": 10,
      "outputs": [
        {
          "output_type": "execute_result",
          "data": {
            "text/plain": [
              "(6264, 12)"
            ]
          },
          "metadata": {},
          "execution_count": 10
        }
      ]
    },
    {
      "cell_type": "code",
      "source": [
        "train_dataset.w"
      ],
      "metadata": {
        "colab": {
          "base_uri": "https://localhost:8080/"
        },
        "id": "_rUEkW2l5Lqd",
        "outputId": "5739861c-86f9-4b99-bb24-0b15e158e059"
      },
      "execution_count": 11,
      "outputs": [
        {
          "output_type": "execute_result",
          "data": {
            "text/plain": [
              "array([[1.04502242, 1.03632599, 1.12502653, ..., 1.05576503, 1.17464996,\n",
              "        1.05288369],\n",
              "       [1.04502242, 1.03632599, 1.12502653, ..., 1.05576503, 1.17464996,\n",
              "        1.05288369],\n",
              "       [1.04502242, 1.03632599, 1.12502653, ..., 1.05576503, 0.        ,\n",
              "        1.05288369],\n",
              "       ...,\n",
              "       [1.04502242, 0.        , 1.12502653, ..., 1.05576503, 6.7257384 ,\n",
              "        1.05288369],\n",
              "       [1.04502242, 1.03632599, 1.12502653, ..., 1.05576503, 6.7257384 ,\n",
              "        1.05288369],\n",
              "       [1.04502242, 1.03632599, 1.12502653, ..., 0.        , 1.17464996,\n",
              "        1.05288369]])"
            ]
          },
          "metadata": {},
          "execution_count": 11
        }
      ]
    },
    {
      "cell_type": "markdown",
      "metadata": {
        "id": "qw8uIFgjYz5C"
      },
      "source": [
        "- `y`의 모양이 (6264, 12)이며 이는 12가지의 멀티태스크가 있음을 나타낸다\n",
        "- w (가중치)의 의미\n",
        " - 이 값이 0이면 결측치를 나타낸다. 해당 샘플에 대해서는 손실함수나 성능평가 시에 무시하도록 한다\n",
        " - 이 값은 대부분의 경우 1 또는 1 근처의 값을 갖는다\n",
        " - 이 값은 각 태스크별로 레이블 분포의 불균형을 보완하기 위해서 사용된다\n",
        " - 12개 태스크가 균등하게 성능에 기여하도록 조정하는데 사용된다.\n"
      ]
    },
    {
      "cell_type": "markdown",
      "metadata": {
        "id": "G5zfj2VJx6Ha"
      },
      "source": [
        "## 모델 구현 및 성능 평가\n",
        "\n",
        "- MLP를 구형하기 위해서 deepchem이 제공하는 MultitaskClassifier()를 사용한다"
      ]
    },
    {
      "cell_type": "code",
      "execution_count": 12,
      "metadata": {
        "colab": {
          "base_uri": "https://localhost:8080/"
        },
        "id": "_eZnfRblRJsK",
        "outputId": "ebaa7fae-d79a-4ed1-a69e-7297a23063d0",
        "scrolled": false
      },
      "outputs": [
        {
          "output_type": "stream",
          "name": "stdout",
          "text": [
            "training set score: {'roc_auc_score': 0.9744991919677557, 'accuracy_score': 0.9198329076202638}\n",
            "test set score: {'roc_auc_score': 0.6722453354772858, 'accuracy_score': 0.8363095238095238}\n"
          ]
        }
      ],
      "source": [
        "model = dc.models.MultitaskClassifier(n_tasks=12, n_features=1024, layer_sizes=[1000])\n",
        "model.fit(train_dataset, nb_epoch=20)\n",
        "metric1 = dc.metrics.Metric(dc.metrics.roc_auc_score)\n",
        "metric2 = dc.metrics.Metric(dc.metrics.accuracy_score)\n",
        "print('training set score:', model.evaluate(train_dataset, [metric1, metric2], transformers))\n",
        "print('test set score:', model.evaluate(test_dataset, [metric1, metric2], transformers))"
      ]
    },
    {
      "cell_type": "markdown",
      "metadata": {
        "id": "-oPlmQczx6Ha"
      },
      "source": [
        "# CNN\n",
        "\n",
        "- MNIST 숫자 이미지를 판독하는 문제\n",
        "- MNIST 데이터\n",
        "\n",
        "<img src=\"https://github.com/StillWork/image/blob/main/%E1%84%89%E1%85%B3%E1%84%8F%E1%85%B3%E1%84%85%E1%85%B5%E1%86%AB%E1%84%89%E1%85%A3%E1%86%BA%202022-11-21%20%E1%84%8B%E1%85%A9%E1%84%92%E1%85%AE%2011.58.30.png?raw=1\" width=\"700\"  align=\"left\">\n"
      ]
    },
    {
      "cell_type": "markdown",
      "metadata": {
        "id": "kClZt27sx6Hb"
      },
      "source": [
        "## 데이터 전처리\n",
        "\n",
        "- 데이터 다운로드"
      ]
    },
    {
      "cell_type": "code",
      "execution_count": 13,
      "metadata": {
        "colab": {
          "base_uri": "https://localhost:8080/",
          "height": 337
        },
        "id": "vRUwM8gvqToI",
        "outputId": "8fb8f176-2976-4a06-bf70-a2e194372730"
      },
      "outputs": [
        {
          "output_type": "stream",
          "name": "stdout",
          "text": [
            "Downloading data from https://storage.googleapis.com/tensorflow/tf-keras-datasets/mnist.npz\n",
            "11490434/11490434 [==============================] - 2s 0us/step\n"
          ]
        },
        {
          "output_type": "execute_result",
          "data": {
            "text/plain": [
              "<function matplotlib.pyplot.show(*args, **kw)>"
            ]
          },
          "metadata": {},
          "execution_count": 13
        },
        {
          "output_type": "display_data",
          "data": {
            "text/plain": [
              "<Figure size 432x288 with 1 Axes>"
            ],
            "image/png": "[encoded data removed]"
          },
          "metadata": {
            "image/png": {
              "width": 251,
              "height": 248
            },
            "needs_background": "light"
          }
        }
      ],
      "source": [
        "(train_images, train_labels), (test_images, test_labels) = mnist.load_data()\n",
        "plt.imshow(train_images[0], cmap=plt.cm.binary)\n",
        "plt.show"
      ]
    },
    {
      "cell_type": "code",
      "execution_count": 14,
      "metadata": {
        "colab": {
          "base_uri": "https://localhost:8080/"
        },
        "id": "vTWfRgN5ZzV_",
        "outputId": "51ab14cb-7042-4b62-828e-2e6083d40142"
      },
      "outputs": [
        {
          "output_type": "execute_result",
          "data": {
            "text/plain": [
              "(60000, 28, 28)"
            ]
          },
          "metadata": {},
          "execution_count": 14
        }
      ],
      "source": [
        "train_images.shape"
      ]
    },
    {
      "cell_type": "code",
      "execution_count": 15,
      "metadata": {
        "colab": {
          "base_uri": "https://localhost:8080/"
        },
        "id": "C_a3kWryZzV_",
        "outputId": "ec67aeae-9b9f-4e40-a754-08e7e0535a1f"
      },
      "outputs": [
        {
          "output_type": "execute_result",
          "data": {
            "text/plain": [
              "array([5, 0, 4], dtype=uint8)"
            ]
          },
          "metadata": {},
          "execution_count": 15
        }
      ],
      "source": [
        "train_labels[:3]"
      ]
    },
    {
      "cell_type": "markdown",
      "metadata": {
        "id": "QOnFB6R-x6Hb"
      },
      "source": [
        "## input 데이터 reshape\n",
        "\n",
        "- CNN의 입력은 (sample, shape(28x28), feature)과 같은 모양으로 만들어주어야 2차원 데이터인지 알 수 있다\n",
        " - 맨 앞은 샘플을 구분하고, 맨 뒤는 feature를 구분하는데 사용하며 중간이 모양을 보고 2차원인지 알 수 있다\n",
        " - (샘플, 행, 열, 특성)\n"
      ]
    },
    {
      "cell_type": "code",
      "execution_count": 20,
      "metadata": {
        "id": "-uSV7hakZzWC"
      },
      "outputs": [],
      "source": [
        "X_train_cnn = train_images.reshape(-1,28,28,1)/255.\n",
        "X_test_cnn = test_images.reshape(-1,28,28,1)/255.\n",
        "\n",
        "y_train_cat = to_categorical(train_labels)\n",
        "y_test_cat = to_categorical(test_labels)"
      ]
    },
    {
      "cell_type": "code",
      "source": [
        "y_train_cat[:3]"
      ],
      "metadata": {
        "colab": {
          "base_uri": "https://localhost:8080/"
        },
        "id": "mU4XigO_5uB7",
        "outputId": "e90dc39f-08ce-44cf-844c-edfc1e37d5f8"
      },
      "execution_count": 21,
      "outputs": [
        {
          "output_type": "execute_result",
          "data": {
            "text/plain": [
              "array([[0., 0., 0., 0., 0., 1., 0., 0., 0., 0.],\n",
              "       [1., 0., 0., 0., 0., 0., 0., 0., 0., 0.],\n",
              "       [0., 0., 0., 0., 1., 0., 0., 0., 0., 0.]], dtype=float32)"
            ]
          },
          "metadata": {},
          "execution_count": 21
        }
      ]
    },
    {
      "cell_type": "markdown",
      "metadata": {
        "id": "44tLYKCwtYc-"
      },
      "source": [
        "## 모델 구현\n"
      ]
    },
    {
      "cell_type": "markdown",
      "metadata": {
        "id": "HWC58O6Px6Hb"
      },
      "source": [
        "<img src=\"https://github.com/StillWork/image/blob/main/%E1%84%89%E1%85%B3%E1%84%8F%E1%85%B3%E1%84%85%E1%85%B5%E1%86%AB%E1%84%89%E1%85%A3%E1%86%BA%202022-11-23%20%E1%84%8B%E1%85%A9%E1%84%8C%E1%85%A5%E1%86%AB%209.40.48.png?raw=1\" align=\"left\">"
      ]
    },
    {
      "cell_type": "code",
      "execution_count": 22,
      "metadata": {
        "colab": {
          "base_uri": "https://localhost:8080/"
        },
        "id": "ZF7JkSQvrYAj",
        "outputId": "e6c77b6e-8110-4a91-9624-70a6c85e106a"
      },
      "outputs": [
        {
          "output_type": "stream",
          "name": "stdout",
          "text": [
            "Model: \"sequential\"\n",
            "_________________________________________________________________\n",
            " Layer (type)                Output Shape              Param #   \n",
            "=================================================================\n",
            " conv2d (Conv2D)             (None, 28, 28, 32)        320       \n",
            "                                                                 \n",
            " max_pooling2d (MaxPooling2D  (None, 14, 14, 32)       0         \n",
            " )                                                               \n",
            "                                                                 \n",
            " conv2d_1 (Conv2D)           (None, 14, 14, 32)        9248      \n",
            "                                                                 \n",
            " max_pooling2d_1 (MaxPooling  (None, 7, 7, 32)         0         \n",
            " 2D)                                                             \n",
            "                                                                 \n",
            " conv2d_2 (Conv2D)           (None, 7, 7, 64)          18496     \n",
            "                                                                 \n",
            " max_pooling2d_2 (MaxPooling  (None, 3, 3, 64)         0         \n",
            " 2D)                                                             \n",
            "                                                                 \n",
            " conv2d_3 (Conv2D)           (None, 3, 3, 64)          36928     \n",
            "                                                                 \n",
            " flatten (Flatten)           (None, 576)               0         \n",
            "                                                                 \n",
            " dense (Dense)               (None, 128)               73856     \n",
            "                                                                 \n",
            " dense_1 (Dense)             (None, 10)                1290      \n",
            "                                                                 \n",
            "=================================================================\n",
            "Total params: 140,138\n",
            "Trainable params: 140,138\n",
            "Non-trainable params: 0\n",
            "_________________________________________________________________\n"
          ]
        }
      ],
      "source": [
        "from keras import layers\n",
        "from keras import models\n",
        "\n",
        "model_cnn = models.Sequential()\n",
        "model_cnn.add(layers.Conv2D(32, (3,3), activation='relu', \n",
        "                    padding=\"same\", input_shape = (28, 28,1)))\n",
        "model_cnn.add(layers.MaxPooling2D((2,2)))\n",
        "model_cnn.add(layers.Conv2D(32, (3,3), \n",
        "                    padding=\"same\", activation='relu'))\n",
        "model_cnn.add(layers.MaxPooling2D((2,2)))\n",
        "model_cnn.add(layers.Conv2D(64, (3,3), \n",
        "                    padding=\"same\", activation='relu'))\n",
        "model_cnn.add(layers.MaxPooling2D((2,2)))\n",
        "model_cnn.add(layers.Conv2D(64, (3,3), \n",
        "                    padding=\"same\", activation='relu'))\n",
        "\n",
        "model_cnn.add(layers.Flatten())\n",
        "model_cnn.add(layers.Dense(128, activation='relu'))\n",
        "model_cnn.add(layers.Dense(10, activation='softmax'))\n",
        "\n",
        "model_cnn.summary()   "
      ]
    },
    {
      "cell_type": "code",
      "execution_count": 24,
      "metadata": {
        "colab": {
          "base_uri": "https://localhost:8080/"
        },
        "id": "_ikkdb8qsx6d",
        "outputId": "5d4390b3-8ef0-4655-cca7-df66b3c5ec68"
      },
      "outputs": [
        {
          "output_type": "stream",
          "name": "stdout",
          "text": [
            "Epoch 1/3\n",
            "2400/2400 [==============================] - 16s 6ms/step - loss: 0.0310 - accuracy: 0.9909 - val_loss: 0.0412 - val_accuracy: 0.9889\n",
            "Epoch 2/3\n",
            "2400/2400 [==============================] - 11s 4ms/step - loss: 0.0225 - accuracy: 0.9927 - val_loss: 0.0537 - val_accuracy: 0.9847\n",
            "Epoch 3/3\n",
            "2400/2400 [==============================] - 11s 4ms/step - loss: 0.0185 - accuracy: 0.9941 - val_loss: 0.0554 - val_accuracy: 0.9861\n"
          ]
        }
      ],
      "source": [
        "callbacks_list = [keras.callbacks.EarlyStopping(monitor='val_accuracy', patience=3)]\n",
        "\n",
        "model_cnn.compile(loss='categorical_crossentropy',\n",
        "                optimizer='adam', metrics=['accuracy'])\n",
        "\n",
        "# 최적화 알고리즘으로 'adam'과 'rmsprop'이 널리 사용된다\n",
        "h = model_cnn.fit(X_train_cnn,\n",
        "                      y_train_cat,\n",
        "                      batch_size=20,\n",
        "                      epochs=3,\n",
        "                      callbacks=callbacks_list,\n",
        "                      validation_split=0.2,\n",
        "                      verbose=1)"
      ]
    },
    {
      "cell_type": "code",
      "execution_count": 27,
      "metadata": {
        "colab": {
          "base_uri": "https://localhost:8080/"
        },
        "id": "H4MhJEoUvCm0",
        "outputId": "65e0d380-cbab-4225-9dce-e92b5f0d9e4c"
      },
      "outputs": [
        {
          "output_type": "stream",
          "name": "stdout",
          "text": [
            "313/313 [==============================] - 1s 3ms/step - loss: 0.0619 - accuracy: 0.9859\n",
            "test_acc =  0.9858999848365784\n"
          ]
        }
      ],
      "source": [
        "test_loss, test_acc = model_cnn.evaluate(X_test_cnn, y_test_cat)\n",
        "print('test_acc = ',test_acc)"
      ]
    }
  ],
  "metadata": {
    "accelerator": "GPU",
    "colab": {
      "provenance": [],
      "toc_visible": true,
      "include_colab_link": true
    },
    "kernelspec": {
      "display_name": "Python 3",
      "language": "python",
      "name": "python3"
    },
    "language_info": {
      "codemirror_mode": {
        "name": "ipython",
        "version": 3
      },
      "file_extension": ".py",
      "mimetype": "text/x-python",
      "name": "python",
      "nbconvert_exporter": "python",
      "pygments_lexer": "ipython3",
      "version": "3.8.8"
    },
    "toc": {
      "base_numbering": 1,
      "nav_menu": {},
      "number_sections": false,
      "sideBar": true,
      "skip_h1_title": false,
      "title_cell": "Table of Contents",
      "title_sidebar": "Contents",
      "toc_cell": false,
      "toc_position": {
        "height": "calc(100% - 180px)",
        "left": "10px",
        "top": "150px",
        "width": "204.8px"
      },
      "toc_section_display": true,
      "toc_window_display": true
    }
  },
  "nbformat": 4,
  "nbformat_minor": 0
}