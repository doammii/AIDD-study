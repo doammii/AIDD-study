{
  "nbformat": 4,
  "nbformat_minor": 0,
  "metadata": {
    "colab": {
      "provenance": []
    },
    "kernelspec": {
      "name": "python3",
      "display_name": "Python 3"
    },
    "language_info": {
      "name": "python"
    }
  },
  "cells": [
    {
      "cell_type": "code",
      "source": [
        "from google.colab import drive\n",
        "drive.mount('/content/drive')"
      ],
      "metadata": {
        "colab": {
          "base_uri": "https://localhost:8080/"
        },
        "id": "ET6vPBjL1BOh",
        "outputId": "7b75c98b-d3a1-439e-90d5-24c3478532a0"
      },
      "execution_count": null,
      "outputs": [
        {
          "output_type": "stream",
          "name": "stdout",
          "text": [
            "Mounted at /content/drive\n"
          ]
        }
      ]
    },
    {
      "cell_type": "code",
      "execution_count": null,
      "metadata": {
        "id": "tHL6WOmOwfz3"
      },
      "outputs": [],
      "source": [
        "import numpy as np\n",
        "import pandas as pd\n",
        "from sklearn.model_selection import KFold\n",
        "from sklearn.ensemble import RandomForestRegressor"
      ]
    },
    {
      "cell_type": "code",
      "source": [
        "# SMILES 전처리\n",
        "from rdkit import Chem\n",
        "\n",
        "df = pd.read_csv(\"/content/drive/MyDrive/train.csv\")\n",
        "df['MOL'] = df['SMILES'].apply(lambda x: Chem.MolFromSmiles(x))"
      ],
      "metadata": {
        "id": "PiGZa8nFZhSm"
      },
      "execution_count": null,
      "outputs": []
    },
    {
      "cell_type": "code",
      "source": [
        "# seed\n",
        "seed = 42\n",
        "\n",
        "# define rmse\n",
        "rmse = lambda x, y: np.mean((x - y) ** 2) ** 0.5\n",
        "\n",
        "# features and targets\n",
        "features = [\"AlogP\", \"Molecular_Weight\", \"Num_H_Acceptors\", \"Num_H_Donors\", \"Num_RotatableBonds\", \"LogD\", \"Molecular_PolarSurfaceArea\"]\n",
        "mlm_target = \"MLM\"\n",
        "hlm_target = \"HLM\"\n",
        "\n",
        "# load data\n",
        "df = pd.read_csv(\"./train.csv\")\n",
        "df[\"AlogP\"] = np.where(pd.isna(df[\"AlogP\"]), df[\"LogD\"], df[\"AlogP\"])"
      ],
      "metadata": {
        "id": "EqS_Cf4Hw0sk"
      },
      "execution_count": null,
      "outputs": []
    },
    {
      "cell_type": "code",
      "source": [
        "# train\n",
        "scores = []\n",
        "reg_mlms = []\n",
        "reg_hlms = []\n",
        "kf = KFold(n_splits = 10, random_state = seed, shuffle = True)\n",
        "for i, (train_index, valid_index) in enumerate(kf.split(df)):\n",
        "    df_train = df.iloc[train_index]\n",
        "    df_valid = df.iloc[valid_index]\n",
        "\n",
        "    x_train = df_train[features].values\n",
        "    y_mlm_train = df_train[mlm_target].values\n",
        "    y_hlm_train = df_train[hlm_target].values\n",
        "\n",
        "    x_valid = df_valid[features].values\n",
        "    y_mlm_valid = df_valid[mlm_target].values\n",
        "    y_hlm_valid = df_valid[hlm_target].values\n",
        "\n",
        "    reg_mlm = RandomForestRegressor(random_state = seed)\n",
        "    reg_mlm.fit(x_train, y_mlm_train)\n",
        "    p_mlm = reg_mlm.predict(x_valid)\n",
        "\n",
        "    reg_hlm = RandomForestRegressor(random_state = seed)\n",
        "    reg_hlm.fit(x_train, y_hlm_train)\n",
        "    p_hlm = reg_hlm.predict(x_valid)\n",
        "\n",
        "    score = 0.5 * rmse(y_mlm_valid, p_mlm) + 0.5 * rmse(y_hlm_valid, p_hlm)\n",
        "\n",
        "    reg_mlms.append(reg_mlm)\n",
        "    reg_hlms.append(reg_hlm)\n",
        "    scores.append(score)\n",
        "    print(f\"Fold {i+1:2d}: {score:.5f}\")\n",
        "\n",
        "print(f\"CV score: {np.mean(scores):.5f}\")"
      ],
      "metadata": {
        "colab": {
          "base_uri": "https://localhost:8080/"
        },
        "id": "T7Eh7Uy0xGr6",
        "outputId": "4dd04a8e-0c98-488d-e31e-93ae1e5a0e87"
      },
      "execution_count": null,
      "outputs": [
        {
          "output_type": "stream",
          "name": "stdout",
          "text": [
            "Fold  1: 34.16658\n",
            "Fold  2: 34.03305\n",
            "Fold  3: 33.21484\n",
            "Fold  4: 34.63931\n",
            "Fold  5: 32.44617\n",
            "Fold  6: 33.18904\n",
            "Fold  7: 31.83381\n",
            "Fold  8: 31.91317\n",
            "Fold  9: 31.68066\n",
            "Fold 10: 33.10630\n",
            "CV score: 33.02229\n"
          ]
        }
      ]
    }
  ]
}